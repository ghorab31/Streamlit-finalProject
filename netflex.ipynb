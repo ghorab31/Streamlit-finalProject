{
 "cells": [
  {
   "cell_type": "markdown",
   "id": "4f51643a",
   "metadata": {},
   "source": [
    "## importing necessary libaries "
   ]
  },
  {
   "cell_type": "code",
   "execution_count": 104,
   "id": "9ba1fab2",
   "metadata": {},
   "outputs": [],
   "source": [
    "import pandas as pd\n",
    "import plotly.express as px \n",
    "import re\n",
    "\n"
   ]
  },
  {
   "cell_type": "markdown",
   "id": "f2f492aa",
   "metadata": {},
   "source": [
    "## Data Loading"
   ]
  },
  {
   "cell_type": "code",
   "execution_count": 105,
   "id": "075bbdc7",
   "metadata": {},
   "outputs": [
    {
     "data": {
      "application/vnd.microsoft.datawrangler.viewer.v0+json": {
       "columns": [
        {
         "name": "index",
         "rawType": "int64",
         "type": "integer"
        },
        {
         "name": "show_id",
         "rawType": "object",
         "type": "string"
        },
        {
         "name": "type",
         "rawType": "object",
         "type": "string"
        },
        {
         "name": "title",
         "rawType": "object",
         "type": "string"
        },
        {
         "name": "director",
         "rawType": "object",
         "type": "unknown"
        },
        {
         "name": "cast",
         "rawType": "object",
         "type": "unknown"
        },
        {
         "name": "country",
         "rawType": "object",
         "type": "unknown"
        },
        {
         "name": "date_added",
         "rawType": "object",
         "type": "string"
        },
        {
         "name": "release_year",
         "rawType": "int64",
         "type": "integer"
        },
        {
         "name": "rating",
         "rawType": "object",
         "type": "string"
        },
        {
         "name": "duration",
         "rawType": "object",
         "type": "string"
        },
        {
         "name": "listed_in",
         "rawType": "object",
         "type": "string"
        },
        {
         "name": "description",
         "rawType": "object",
         "type": "string"
        }
       ],
       "ref": "e940c8e0-2d8e-4490-a3ca-5c9bcbe1caac",
       "rows": [
        [
         "0",
         "s1",
         "Movie",
         "Dick Johnson Is Dead",
         "Kirsten Johnson",
         null,
         "United States",
         "September 25, 2021",
         "2020",
         "PG-13",
         "90 min",
         "Documentaries",
         "As her father nears the end of his life, filmmaker Kirsten Johnson stages his death in inventive and comical ways to help them both face the inevitable."
        ],
        [
         "1",
         "s2",
         "TV Show",
         "Blood & Water",
         null,
         "Ama Qamata, Khosi Ngema, Gail Mabalane, Thabang Molaba, Dillon Windvogel, Natasha Thahane, Arno Greeff, Xolile Tshabalala, Getmore Sithole, Cindy Mahlangu, Ryle De Morny, Greteli Fincham, Sello Maake Ka-Ncube, Odwa Gwanya, Mekaila Mathys, Sandi Schultz, Duane Williams, Shamilla Miller, Patrick Mofokeng",
         "South Africa",
         "September 24, 2021",
         "2021",
         "TV-MA",
         "2 Seasons",
         "International TV Shows, TV Dramas, TV Mysteries",
         "After crossing paths at a party, a Cape Town teen sets out to prove whether a private-school swimming star is her sister who was abducted at birth."
        ],
        [
         "2",
         "s3",
         "TV Show",
         "Ganglands",
         "Julien Leclercq",
         "Sami Bouajila, Tracy Gotoas, Samuel Jouy, Nabiha Akkari, Sofia Lesaffre, Salim Kechiouche, Noureddine Farihi, Geert Van Rampelberg, Bakary Diombera",
         null,
         "September 24, 2021",
         "2021",
         "TV-MA",
         "1 Season",
         "Crime TV Shows, International TV Shows, TV Action & Adventure",
         "To protect his family from a powerful drug lord, skilled thief Mehdi and his expert team of robbers are pulled into a violent and deadly turf war."
        ],
        [
         "3",
         "s4",
         "TV Show",
         "Jailbirds New Orleans",
         null,
         null,
         null,
         "September 24, 2021",
         "2021",
         "TV-MA",
         "1 Season",
         "Docuseries, Reality TV",
         "Feuds, flirtations and toilet talk go down among the incarcerated women at the Orleans Justice Center in New Orleans on this gritty reality series."
        ],
        [
         "4",
         "s5",
         "TV Show",
         "Kota Factory",
         null,
         "Mayur More, Jitendra Kumar, Ranjan Raj, Alam Khan, Ahsaas Channa, Revathi Pillai, Urvi Singh, Arun Kumar",
         "India",
         "September 24, 2021",
         "2021",
         "TV-MA",
         "2 Seasons",
         "International TV Shows, Romantic TV Shows, TV Comedies",
         "In a city of coaching centers known to train India’s finest collegiate minds, an earnest but unexceptional student and his friends navigate campus life."
        ]
       ],
       "shape": {
        "columns": 12,
        "rows": 5
       }
      },
      "text/html": [
       "<div>\n",
       "<style scoped>\n",
       "    .dataframe tbody tr th:only-of-type {\n",
       "        vertical-align: middle;\n",
       "    }\n",
       "\n",
       "    .dataframe tbody tr th {\n",
       "        vertical-align: top;\n",
       "    }\n",
       "\n",
       "    .dataframe thead th {\n",
       "        text-align: right;\n",
       "    }\n",
       "</style>\n",
       "<table border=\"1\" class=\"dataframe\">\n",
       "  <thead>\n",
       "    <tr style=\"text-align: right;\">\n",
       "      <th></th>\n",
       "      <th>show_id</th>\n",
       "      <th>type</th>\n",
       "      <th>title</th>\n",
       "      <th>director</th>\n",
       "      <th>cast</th>\n",
       "      <th>country</th>\n",
       "      <th>date_added</th>\n",
       "      <th>release_year</th>\n",
       "      <th>rating</th>\n",
       "      <th>duration</th>\n",
       "      <th>listed_in</th>\n",
       "      <th>description</th>\n",
       "    </tr>\n",
       "  </thead>\n",
       "  <tbody>\n",
       "    <tr>\n",
       "      <th>0</th>\n",
       "      <td>s1</td>\n",
       "      <td>Movie</td>\n",
       "      <td>Dick Johnson Is Dead</td>\n",
       "      <td>Kirsten Johnson</td>\n",
       "      <td>NaN</td>\n",
       "      <td>United States</td>\n",
       "      <td>September 25, 2021</td>\n",
       "      <td>2020</td>\n",
       "      <td>PG-13</td>\n",
       "      <td>90 min</td>\n",
       "      <td>Documentaries</td>\n",
       "      <td>As her father nears the end of his life, filmm...</td>\n",
       "    </tr>\n",
       "    <tr>\n",
       "      <th>1</th>\n",
       "      <td>s2</td>\n",
       "      <td>TV Show</td>\n",
       "      <td>Blood &amp; Water</td>\n",
       "      <td>NaN</td>\n",
       "      <td>Ama Qamata, Khosi Ngema, Gail Mabalane, Thaban...</td>\n",
       "      <td>South Africa</td>\n",
       "      <td>September 24, 2021</td>\n",
       "      <td>2021</td>\n",
       "      <td>TV-MA</td>\n",
       "      <td>2 Seasons</td>\n",
       "      <td>International TV Shows, TV Dramas, TV Mysteries</td>\n",
       "      <td>After crossing paths at a party, a Cape Town t...</td>\n",
       "    </tr>\n",
       "    <tr>\n",
       "      <th>2</th>\n",
       "      <td>s3</td>\n",
       "      <td>TV Show</td>\n",
       "      <td>Ganglands</td>\n",
       "      <td>Julien Leclercq</td>\n",
       "      <td>Sami Bouajila, Tracy Gotoas, Samuel Jouy, Nabi...</td>\n",
       "      <td>NaN</td>\n",
       "      <td>September 24, 2021</td>\n",
       "      <td>2021</td>\n",
       "      <td>TV-MA</td>\n",
       "      <td>1 Season</td>\n",
       "      <td>Crime TV Shows, International TV Shows, TV Act...</td>\n",
       "      <td>To protect his family from a powerful drug lor...</td>\n",
       "    </tr>\n",
       "    <tr>\n",
       "      <th>3</th>\n",
       "      <td>s4</td>\n",
       "      <td>TV Show</td>\n",
       "      <td>Jailbirds New Orleans</td>\n",
       "      <td>NaN</td>\n",
       "      <td>NaN</td>\n",
       "      <td>NaN</td>\n",
       "      <td>September 24, 2021</td>\n",
       "      <td>2021</td>\n",
       "      <td>TV-MA</td>\n",
       "      <td>1 Season</td>\n",
       "      <td>Docuseries, Reality TV</td>\n",
       "      <td>Feuds, flirtations and toilet talk go down amo...</td>\n",
       "    </tr>\n",
       "    <tr>\n",
       "      <th>4</th>\n",
       "      <td>s5</td>\n",
       "      <td>TV Show</td>\n",
       "      <td>Kota Factory</td>\n",
       "      <td>NaN</td>\n",
       "      <td>Mayur More, Jitendra Kumar, Ranjan Raj, Alam K...</td>\n",
       "      <td>India</td>\n",
       "      <td>September 24, 2021</td>\n",
       "      <td>2021</td>\n",
       "      <td>TV-MA</td>\n",
       "      <td>2 Seasons</td>\n",
       "      <td>International TV Shows, Romantic TV Shows, TV ...</td>\n",
       "      <td>In a city of coaching centers known to train I...</td>\n",
       "    </tr>\n",
       "  </tbody>\n",
       "</table>\n",
       "</div>"
      ],
      "text/plain": [
       "  show_id     type                  title         director  \\\n",
       "0      s1    Movie   Dick Johnson Is Dead  Kirsten Johnson   \n",
       "1      s2  TV Show          Blood & Water              NaN   \n",
       "2      s3  TV Show              Ganglands  Julien Leclercq   \n",
       "3      s4  TV Show  Jailbirds New Orleans              NaN   \n",
       "4      s5  TV Show           Kota Factory              NaN   \n",
       "\n",
       "                                                cast        country  \\\n",
       "0                                                NaN  United States   \n",
       "1  Ama Qamata, Khosi Ngema, Gail Mabalane, Thaban...   South Africa   \n",
       "2  Sami Bouajila, Tracy Gotoas, Samuel Jouy, Nabi...            NaN   \n",
       "3                                                NaN            NaN   \n",
       "4  Mayur More, Jitendra Kumar, Ranjan Raj, Alam K...          India   \n",
       "\n",
       "           date_added  release_year rating   duration  \\\n",
       "0  September 25, 2021          2020  PG-13     90 min   \n",
       "1  September 24, 2021          2021  TV-MA  2 Seasons   \n",
       "2  September 24, 2021          2021  TV-MA   1 Season   \n",
       "3  September 24, 2021          2021  TV-MA   1 Season   \n",
       "4  September 24, 2021          2021  TV-MA  2 Seasons   \n",
       "\n",
       "                                           listed_in  \\\n",
       "0                                      Documentaries   \n",
       "1    International TV Shows, TV Dramas, TV Mysteries   \n",
       "2  Crime TV Shows, International TV Shows, TV Act...   \n",
       "3                             Docuseries, Reality TV   \n",
       "4  International TV Shows, Romantic TV Shows, TV ...   \n",
       "\n",
       "                                         description  \n",
       "0  As her father nears the end of his life, filmm...  \n",
       "1  After crossing paths at a party, a Cape Town t...  \n",
       "2  To protect his family from a powerful drug lor...  \n",
       "3  Feuds, flirtations and toilet talk go down amo...  \n",
       "4  In a city of coaching centers known to train I...  "
      ]
     },
     "execution_count": 105,
     "metadata": {},
     "output_type": "execute_result"
    }
   ],
   "source": [
    "df=pd.read_csv('netflix_titles.csv')\n",
    "df.head()"
   ]
  },
  {
   "cell_type": "markdown",
   "id": "1814c1e8",
   "metadata": {},
   "source": [
    "## Data Exploartion"
   ]
  },
  {
   "cell_type": "code",
   "execution_count": 106,
   "id": "23918052",
   "metadata": {},
   "outputs": [
    {
     "name": "stdout",
     "output_type": "stream",
     "text": [
      "<class 'pandas.core.frame.DataFrame'>\n",
      "RangeIndex: 8807 entries, 0 to 8806\n",
      "Data columns (total 12 columns):\n",
      " #   Column        Non-Null Count  Dtype \n",
      "---  ------        --------------  ----- \n",
      " 0   show_id       8807 non-null   object\n",
      " 1   type          8807 non-null   object\n",
      " 2   title         8807 non-null   object\n",
      " 3   director      6173 non-null   object\n",
      " 4   cast          7982 non-null   object\n",
      " 5   country       7976 non-null   object\n",
      " 6   date_added    8797 non-null   object\n",
      " 7   release_year  8807 non-null   int64 \n",
      " 8   rating        8803 non-null   object\n",
      " 9   duration      8804 non-null   object\n",
      " 10  listed_in     8807 non-null   object\n",
      " 11  description   8807 non-null   object\n",
      "dtypes: int64(1), object(11)\n",
      "memory usage: 825.8+ KB\n"
     ]
    }
   ],
   "source": [
    "df.info() #checking Data Types"
   ]
  },
  {
   "cell_type": "code",
   "execution_count": 107,
   "id": "67a11791",
   "metadata": {},
   "outputs": [
    {
     "data": {
      "application/vnd.microsoft.datawrangler.viewer.v0+json": {
       "columns": [
        {
         "name": "index",
         "rawType": "object",
         "type": "string"
        },
        {
         "name": "show_id",
         "rawType": "object",
         "type": "unknown"
        },
        {
         "name": "type",
         "rawType": "object",
         "type": "unknown"
        },
        {
         "name": "title",
         "rawType": "object",
         "type": "unknown"
        },
        {
         "name": "director",
         "rawType": "object",
         "type": "unknown"
        },
        {
         "name": "cast",
         "rawType": "object",
         "type": "unknown"
        },
        {
         "name": "country",
         "rawType": "object",
         "type": "unknown"
        },
        {
         "name": "date_added",
         "rawType": "object",
         "type": "unknown"
        },
        {
         "name": "rating",
         "rawType": "object",
         "type": "unknown"
        },
        {
         "name": "duration",
         "rawType": "object",
         "type": "unknown"
        },
        {
         "name": "listed_in",
         "rawType": "object",
         "type": "unknown"
        },
        {
         "name": "description",
         "rawType": "object",
         "type": "unknown"
        }
       ],
       "ref": "2bfc51f3-0cf7-4290-adff-6f944f4fbcc3",
       "rows": [
        [
         "count",
         "8807",
         "8807",
         "8807",
         "6173",
         "7982",
         "7976",
         "8797",
         "8803",
         "8804",
         "8807",
         "8807"
        ],
        [
         "unique",
         "8807",
         "2",
         "8807",
         "4528",
         "7692",
         "748",
         "1767",
         "17",
         "220",
         "514",
         "8775"
        ],
        [
         "top",
         "s8807",
         "Movie",
         "Zubaan",
         "Rajiv Chilaka",
         "David Attenborough",
         "United States",
         "January 1, 2020",
         "TV-MA",
         "1 Season",
         "Dramas, International Movies",
         "Paranormal activity at a lush, abandoned property alarms a group eager to redevelop the site, but the eerie events may not be as unearthly as they think."
        ],
        [
         "freq",
         "1",
         "6131",
         "1",
         "19",
         "19",
         "2818",
         "109",
         "3207",
         "1793",
         "362",
         "4"
        ]
       ],
       "shape": {
        "columns": 11,
        "rows": 4
       }
      },
      "text/html": [
       "<div>\n",
       "<style scoped>\n",
       "    .dataframe tbody tr th:only-of-type {\n",
       "        vertical-align: middle;\n",
       "    }\n",
       "\n",
       "    .dataframe tbody tr th {\n",
       "        vertical-align: top;\n",
       "    }\n",
       "\n",
       "    .dataframe thead th {\n",
       "        text-align: right;\n",
       "    }\n",
       "</style>\n",
       "<table border=\"1\" class=\"dataframe\">\n",
       "  <thead>\n",
       "    <tr style=\"text-align: right;\">\n",
       "      <th></th>\n",
       "      <th>show_id</th>\n",
       "      <th>type</th>\n",
       "      <th>title</th>\n",
       "      <th>director</th>\n",
       "      <th>cast</th>\n",
       "      <th>country</th>\n",
       "      <th>date_added</th>\n",
       "      <th>rating</th>\n",
       "      <th>duration</th>\n",
       "      <th>listed_in</th>\n",
       "      <th>description</th>\n",
       "    </tr>\n",
       "  </thead>\n",
       "  <tbody>\n",
       "    <tr>\n",
       "      <th>count</th>\n",
       "      <td>8807</td>\n",
       "      <td>8807</td>\n",
       "      <td>8807</td>\n",
       "      <td>6173</td>\n",
       "      <td>7982</td>\n",
       "      <td>7976</td>\n",
       "      <td>8797</td>\n",
       "      <td>8803</td>\n",
       "      <td>8804</td>\n",
       "      <td>8807</td>\n",
       "      <td>8807</td>\n",
       "    </tr>\n",
       "    <tr>\n",
       "      <th>unique</th>\n",
       "      <td>8807</td>\n",
       "      <td>2</td>\n",
       "      <td>8807</td>\n",
       "      <td>4528</td>\n",
       "      <td>7692</td>\n",
       "      <td>748</td>\n",
       "      <td>1767</td>\n",
       "      <td>17</td>\n",
       "      <td>220</td>\n",
       "      <td>514</td>\n",
       "      <td>8775</td>\n",
       "    </tr>\n",
       "    <tr>\n",
       "      <th>top</th>\n",
       "      <td>s8807</td>\n",
       "      <td>Movie</td>\n",
       "      <td>Zubaan</td>\n",
       "      <td>Rajiv Chilaka</td>\n",
       "      <td>David Attenborough</td>\n",
       "      <td>United States</td>\n",
       "      <td>January 1, 2020</td>\n",
       "      <td>TV-MA</td>\n",
       "      <td>1 Season</td>\n",
       "      <td>Dramas, International Movies</td>\n",
       "      <td>Paranormal activity at a lush, abandoned prope...</td>\n",
       "    </tr>\n",
       "    <tr>\n",
       "      <th>freq</th>\n",
       "      <td>1</td>\n",
       "      <td>6131</td>\n",
       "      <td>1</td>\n",
       "      <td>19</td>\n",
       "      <td>19</td>\n",
       "      <td>2818</td>\n",
       "      <td>109</td>\n",
       "      <td>3207</td>\n",
       "      <td>1793</td>\n",
       "      <td>362</td>\n",
       "      <td>4</td>\n",
       "    </tr>\n",
       "  </tbody>\n",
       "</table>\n",
       "</div>"
      ],
      "text/plain": [
       "       show_id   type   title       director                cast  \\\n",
       "count     8807   8807    8807           6173                7982   \n",
       "unique    8807      2    8807           4528                7692   \n",
       "top      s8807  Movie  Zubaan  Rajiv Chilaka  David Attenborough   \n",
       "freq         1   6131       1             19                  19   \n",
       "\n",
       "              country       date_added rating  duration  \\\n",
       "count            7976             8797   8803      8804   \n",
       "unique            748             1767     17       220   \n",
       "top     United States  January 1, 2020  TV-MA  1 Season   \n",
       "freq             2818              109   3207      1793   \n",
       "\n",
       "                           listed_in  \\\n",
       "count                           8807   \n",
       "unique                           514   \n",
       "top     Dramas, International Movies   \n",
       "freq                             362   \n",
       "\n",
       "                                              description  \n",
       "count                                                8807  \n",
       "unique                                               8775  \n",
       "top     Paranormal activity at a lush, abandoned prope...  \n",
       "freq                                                    4  "
      ]
     },
     "execution_count": 107,
     "metadata": {},
     "output_type": "execute_result"
    }
   ],
   "source": [
    "df.describe(include='object')"
   ]
  },
  {
   "cell_type": "code",
   "execution_count": 108,
   "id": "26b66a1c",
   "metadata": {},
   "outputs": [
    {
     "data": {
      "text/plain": [
       "np.int64(0)"
      ]
     },
     "execution_count": 108,
     "metadata": {},
     "output_type": "execute_result"
    }
   ],
   "source": [
    "df.duplicated().sum()"
   ]
  },
  {
   "cell_type": "markdown",
   "id": "c3ed7509",
   "metadata": {},
   "source": [
    "### missing values found in director, cast,country,,duration,rating"
   ]
  },
  {
   "cell_type": "code",
   "execution_count": 109,
   "id": "489e4d3a",
   "metadata": {},
   "outputs": [
    {
     "data": {
      "application/vnd.microsoft.datawrangler.viewer.v0+json": {
       "columns": [
        {
         "name": "index",
         "rawType": "object",
         "type": "string"
        },
        {
         "name": "0",
         "rawType": "float64",
         "type": "float"
        }
       ],
       "ref": "ebac4460-a840-4511-8e71-2e880cdd2a31",
       "rows": [
        [
         "show_id",
         "0.0"
        ],
        [
         "type",
         "0.0"
        ],
        [
         "title",
         "0.0"
        ],
        [
         "director",
         "29.909999999999997"
        ],
        [
         "cast",
         "9.370000000000001"
        ],
        [
         "country",
         "9.44"
        ],
        [
         "date_added",
         "0.11"
        ],
        [
         "release_year",
         "0.0"
        ],
        [
         "rating",
         "0.05"
        ],
        [
         "duration",
         "0.03"
        ],
        [
         "listed_in",
         "0.0"
        ],
        [
         "description",
         "0.0"
        ]
       ],
       "shape": {
        "columns": 1,
        "rows": 12
       }
      },
      "text/plain": [
       "show_id          0.00\n",
       "type             0.00\n",
       "title            0.00\n",
       "director        29.91\n",
       "cast             9.37\n",
       "country          9.44\n",
       "date_added       0.11\n",
       "release_year     0.00\n",
       "rating           0.05\n",
       "duration         0.03\n",
       "listed_in        0.00\n",
       "description      0.00\n",
       "dtype: float64"
      ]
     },
     "execution_count": 109,
     "metadata": {},
     "output_type": "execute_result"
    }
   ],
   "source": [
    "df.isna().mean().round(4)*100 "
   ]
  },
  {
   "cell_type": "code",
   "execution_count": 110,
   "id": "83f1d7df",
   "metadata": {},
   "outputs": [],
   "source": [
    "categorical=df.drop(['release_year','date_added','description','show_id'],axis=1).select_dtypes(include=object)"
   ]
  },
  {
   "cell_type": "code",
   "execution_count": 111,
   "id": "7baf3c28",
   "metadata": {},
   "outputs": [
    {
     "name": "stdout",
     "output_type": "stream",
     "text": [
      "type ['Movie' 'TV Show'] \n",
      "\n",
      "title ['Dick Johnson Is Dead' 'Blood & Water' 'Ganglands' ... 'Zombieland'\n",
      " 'Zoom' 'Zubaan'] \n",
      "\n",
      "director ['Kirsten Johnson' nan 'Julien Leclercq' ... 'Majid Al Ansari'\n",
      " 'Peter Hewitt' 'Mozez Singh'] \n",
      "\n",
      "cast [nan\n",
      " 'Ama Qamata, Khosi Ngema, Gail Mabalane, Thabang Molaba, Dillon Windvogel, Natasha Thahane, Arno Greeff, Xolile Tshabalala, Getmore Sithole, Cindy Mahlangu, Ryle De Morny, Greteli Fincham, Sello Maake Ka-Ncube, Odwa Gwanya, Mekaila Mathys, Sandi Schultz, Duane Williams, Shamilla Miller, Patrick Mofokeng'\n",
      " 'Sami Bouajila, Tracy Gotoas, Samuel Jouy, Nabiha Akkari, Sofia Lesaffre, Salim Kechiouche, Noureddine Farihi, Geert Van Rampelberg, Bakary Diombera'\n",
      " ...\n",
      " 'Jesse Eisenberg, Woody Harrelson, Emma Stone, Abigail Breslin, Amber Heard, Bill Murray, Derek Graf'\n",
      " 'Tim Allen, Courteney Cox, Chevy Chase, Kate Mara, Ryan Newman, Michael Cassidy, Spencer Breslin, Rip Torn, Kevin Zegers'\n",
      " 'Vicky Kaushal, Sarah-Jane Dias, Raaghav Chanana, Manish Chaudhary, Meghna Malik, Malkeet Rauni, Anita Shabdish, Chittaranjan Tripathy'] \n",
      "\n",
      "country ['United States' 'South Africa' nan 'India'\n",
      " 'United States, Ghana, Burkina Faso, United Kingdom, Germany, Ethiopia'\n",
      " 'United Kingdom' 'Germany, Czech Republic' 'Mexico' 'Turkey' 'Australia'\n",
      " 'United States, India, France' 'Finland' 'China, Canada, United States'\n",
      " 'South Africa, United States, Japan' 'Nigeria' 'Japan'\n",
      " 'Spain, United States' 'France' 'Belgium' 'United Kingdom, United States'\n",
      " 'United States, United Kingdom' 'France, United States' 'South Korea'\n",
      " 'Spain' 'United States, Singapore' 'United Kingdom, Australia, France'\n",
      " 'United Kingdom, Australia, France, United States'\n",
      " 'United States, Canada' 'Germany, United States'\n",
      " 'South Africa, United States' 'United States, Mexico'\n",
      " 'United States, Italy, France, Japan'\n",
      " 'United States, Italy, Romania, United Kingdom'\n",
      " 'Australia, United States' 'Argentina, Venezuela'\n",
      " 'United States, United Kingdom, Canada' 'China, Hong Kong' 'Russia'\n",
      " 'Canada' 'Hong Kong' 'United States, China, Hong Kong'\n",
      " 'Italy, United States' 'United States, Germany'\n",
      " 'United Kingdom, Canada, United States' ', South Korea' 'Ireland'\n",
      " 'India, Nepal' 'New Zealand, Australia, France, United States' 'Italy'\n",
      " 'Italy, Brazil, Greece' 'Argentina' 'Jordan' 'Colombia'\n",
      " 'United States, Japan' 'Belgium, United Kingdom'\n",
      " 'Switzerland, United Kingdom, Australia' 'Israel, United States'\n",
      " 'Canada, United States' 'Brazil' 'Argentina, Spain' 'Taiwan'\n",
      " 'United States, Nigeria' 'Bulgaria, United States'\n",
      " 'Spain, United Kingdom, United States' 'United States, China'\n",
      " 'United States, France' 'Spain, France, United Kingdom, United States'\n",
      " ', France, Algeria' 'Poland' 'Germany'\n",
      " 'France, Israel, Germany, United States, United Kingdom' 'New Zealand'\n",
      " 'Saudi Arabia' 'Thailand' 'Indonesia' 'Egypt, Denmark, Germany'\n",
      " 'United States, Switzerland' 'Hong Kong, Canada, United States'\n",
      " 'Kuwait, United States' 'France, Canada, United States, Spain'\n",
      " 'France, Netherlands, Singapore' 'France, Belgium'\n",
      " 'Ireland, United States, United Kingdom' 'Egypt' 'Malaysia' 'Israel'\n",
      " 'Australia, New Zealand' 'United Kingdom, Germany' 'Belgium, Netherlands'\n",
      " 'South Korea, Czech Republic' 'Australia, Germany' 'Vietnam'\n",
      " 'United Kingdom, Belgium' 'United Kingdom, Australia, United States'\n",
      " 'France, Japan, United States'\n",
      " 'United Kingdom, Germany, Spain, United States'\n",
      " 'United Kingdom, United States, France, Italy'\n",
      " 'United States, Germany, Canada'\n",
      " 'United States, France, Italy, United Kingdom'\n",
      " 'United States, United Kingdom, Germany, Hungary'\n",
      " 'United States, New Zealand' 'Sweden' 'China' 'Lebanon' 'Romania'\n",
      " 'Finland, Germany' 'Lebanon, Syria' 'Philippines' 'Iceland' 'Denmark'\n",
      " 'United States, India' 'Philippines, Singapore, Indonesia'\n",
      " 'China, United States, Canada' 'Lebanon, United Arab Emirates'\n",
      " 'Canada, United States, Denmark' 'United Arab Emirates'\n",
      " 'Mexico, France, Colombia' 'Netherlands' 'Germany, United States, France'\n",
      " 'United States, Bulgaria'\n",
      " 'United Kingdom, France, Germany, United States' 'Norway, Denmark'\n",
      " 'Syria, France, Lebanon, Qatar' 'United States, Czech Republic'\n",
      " 'Mauritius' 'Canada, South Africa' 'Austria' 'Mexico, Brazil'\n",
      " 'Germany, France' 'Mexico, United States'\n",
      " 'United Kingdom, France, Spain, United States' 'United States, Australia'\n",
      " 'United States, United Kingdom, France' 'United States, Russia'\n",
      " 'United States, United Kingdom, New Zealand' 'Australia, United Kingdom'\n",
      " 'Canada, Nigeria, United States'\n",
      " 'France, United States, United Kingdom, Canada' 'France, United Kingdom'\n",
      " 'India, United Kingdom' 'Canada, United States, Mexico'\n",
      " 'United Kingdom, Germany, United States'\n",
      " 'Czech Republic, United Kingdom, United States' 'China, United Kingdom'\n",
      " 'Italy, United Kingdom' 'China, Taiwan'\n",
      " 'United States, Brazil, Japan, Spain, India'\n",
      " 'United States, China, United Kingdom' 'Cameroon'\n",
      " 'Lebanon, Palestine, Denmark, Qatar' 'Japan, United States'\n",
      " 'Uruguay, Germany' 'Egypt, Saudi Arabia'\n",
      " 'United Kingdom, France, Poland, Germany, United States'\n",
      " 'Ireland, Switzerland, United Kingdom, France, United States'\n",
      " 'United Kingdom, South Africa, France'\n",
      " 'Ireland, United Kingdom, France, Germany' 'Russia, United States'\n",
      " 'United Kingdom, United States, France' 'United Kingdom,'\n",
      " 'United States, India, United Kingdom' 'Kenya' 'Spain, Argentina'\n",
      " 'India, United Kingdom, France, Qatar' 'Belgium, France'\n",
      " 'Argentina, Chile' 'United States, Thailand' 'Chile, Brazil'\n",
      " 'United States, Colombia' 'Canada, United States, United Kingdom'\n",
      " 'Uruguay' 'Luxembourg' 'United States, Cambodia, Romania' 'Bangladesh'\n",
      " 'Spain, Belgium, United States'\n",
      " 'United Kingdom, United States, Australia'\n",
      " 'Canada, United States, France' 'Portugal, United States'\n",
      " 'Portugal, Spain' 'India, United States' 'United Kingdom, Ireland'\n",
      " 'United Kingdom, Spain, United States' 'Hungary, United States'\n",
      " 'United States, South Korea' 'Canada, United States, Cayman Islands'\n",
      " 'India, France' 'France, Canada' 'Canada, Hungary, United States'\n",
      " 'Norway' 'Canada, United Kingdom, United States'\n",
      " 'United Kingdom, Germany, France, United States' 'Denmark, United States'\n",
      " 'Senegal' 'France, Algeria'\n",
      " 'United Kingdom, Finland, Germany, United States, Australia, Japan, France, Ireland'\n",
      " 'Philippines, Canada, United Kingdom, United States'\n",
      " 'Ireland, France, Iceland, United States, Mexico, Belgium, United Kingdom, Hong Kong'\n",
      " 'Singapore' 'Kuwait' 'United States, France, Serbia'\n",
      " 'United States, Italy' 'Spain, Italy'\n",
      " 'United States, Ireland, United Kingdom, India'\n",
      " 'United Kingdom, Singapore' 'Hong Kong, United States'\n",
      " 'United States, Malta, France, United Kingdom'\n",
      " 'United States, China, Canada' 'Canada, United States, Ireland'\n",
      " 'Lebanon, Canada, France' 'Japan, Canada, United States'\n",
      " 'Spain, France, Canada' 'Denmark, Singapore, Canada, United States'\n",
      " 'United States, France, Denmark' 'United States, China, Colombia'\n",
      " 'Spain, Thailand, United States' 'Mexico, Spain'\n",
      " 'Ireland, Luxembourg, Belgium' 'China, United States' 'Canada, Belgium'\n",
      " 'Canada, United Kingdom'\n",
      " 'Lebanon, United Arab Emirates, France, Switzerland, Germany'\n",
      " 'France, Belgium, Italy' 'Lebanon, United States, United Arab Emirates'\n",
      " 'Lebanon, France' 'France, Lebanon' 'France, Lebanon, United Kingdom'\n",
      " 'France, Norway, Lebanon, Belgium'\n",
      " 'Sweden, Czech Republic, United Kingdom, Denmark, Netherlands'\n",
      " 'United States, United Kingdom, India' 'Indonesia, Netherlands'\n",
      " 'Turkey, South Korea' 'Serbia, United States' 'Namibia'\n",
      " 'United Kingdom, Kenya' 'United Kingdom, France, Germany, Spain'\n",
      " 'United Kingdom, France, United States, Belgium, Luxembourg, China, Germany'\n",
      " 'Thailand, United States' 'United States, France, Canada, Belgium'\n",
      " 'United Kingdom, China' 'Germany, China, United Kingdom'\n",
      " 'Australia, New Zealand, United States'\n",
      " 'Hong Kong, Iceland, United States' 'France, Australia, Germany'\n",
      " 'United States, Belgium, Canada, France' 'South Africa, Angola'\n",
      " 'United States, Philippines'\n",
      " 'United States, United Kingdom, Canada, China'\n",
      " 'United States, Canada, United Kingdom' 'Turkey, United States'\n",
      " 'Peru, Germany, Norway' 'Mozambique' 'Brazil, France'\n",
      " 'China, Spain, South Korea, United States' 'Spain, Germany'\n",
      " 'Hong Kong, China' 'France, Belgium, Luxembourg, Cambodia,'\n",
      " 'United Kingdom, Australia' 'Belarus' 'Indonesia, United Kingdom'\n",
      " 'Switzerland, France, Belgium, United States' 'Ghana'\n",
      " 'Spain, France, Canada, United States' 'Chile, Italy'\n",
      " 'United Kingdom, Nigeria' 'Chile' 'France, Egypt' 'Egypt, France'\n",
      " 'France, Brazil, Spain, Belgium' 'Egypt, Algeria'\n",
      " 'Canada, South Korea, United States' 'Nigeria, United Kingdom'\n",
      " 'United States, France, Canada' 'Poland, United States'\n",
      " 'United Arab Emirates, Jordan, Lebanon, Saudi Arabia'\n",
      " 'United States, Mexico, Spain, Malta'\n",
      " 'Saudi Arabia, United Arab Emirates' 'Zimbabwe'\n",
      " 'United Kingdom, Germany, United Arab Emirates, New Zealand'\n",
      " 'Romania, United States' 'Canada, Nigeria'\n",
      " 'Saudi Arabia, Netherlands, Germany, Jordan, United Arab Emirates, United States'\n",
      " 'United Kingdom, Spain' 'Finland, France'\n",
      " 'United Kingdom, Germany, United States, France'\n",
      " 'India, United Kingdom, China, Canada, Japan, South Korea, United States'\n",
      " 'Italy, United Kingdom, France' 'United States, Mexico, Colombia'\n",
      " 'Turkey, India' 'Italy, Turkey' 'United Kingdom, United States, Japan'\n",
      " 'France, Belgium, United States' 'Puerto Rico, United States, Colombia'\n",
      " 'Uruguay, Argentina' 'United States, United Kingdom, Japan'\n",
      " 'United States, Argentina' 'United Kingdom, Italy'\n",
      " 'Ireland, United Kingdom'\n",
      " 'United Kingdom, France, Belgium, Canada, United States'\n",
      " 'Netherlands, Germany, Denmark, United Kingdom' 'Hungary'\n",
      " 'Austria, Germany' 'Taiwan, China'\n",
      " 'United Kingdom, United States, Ireland' 'South Korea, United States'\n",
      " 'Brazil, United Kingdom' 'Pakistan, United States'\n",
      " 'Romania, France, Switzerland, Germany' 'Romania, United Kingdom'\n",
      " 'France, Malta, United States' 'Cyprus'\n",
      " 'United Kingdom, France, Belgium, Ireland, United States'\n",
      " 'United States, Norway, Canada' 'Kenya, United States'\n",
      " 'France, South Korea, Japan, United States' 'Taiwan, Malaysia'\n",
      " 'Uruguay, Argentina, Germany, Spain'\n",
      " 'United States, United Kingdom, France, Germany, Japan'\n",
      " 'United States, France, Japan' 'United Kingdom, France, United States'\n",
      " 'Spain, France, United States' 'Indonesia, South Korea, Singapore'\n",
      " 'United States, Spain' 'Netherlands, Germany, Italy, Canada'\n",
      " 'Spain, Germany, Denmark, United States' 'Norway, Sweden'\n",
      " 'South Korea, Canada, United States, China' 'Argentina, Uruguay, Serbia'\n",
      " 'France, Japan' 'Mauritius, South Africa' 'United States, Poland'\n",
      " 'United Kingdom, United States, Germany, Denmark, Belgium, Japan'\n",
      " 'India, Germany' 'India, United Kingdom, Canada, United States'\n",
      " 'Philippines, United States' 'Romania, Bulgaria, Hungary'\n",
      " 'Uruguay, Guatemala' 'France, Senegal, Belgium' 'United Kingdom, Canada'\n",
      " 'Mexico, United States, Spain, Colombia' 'Canada, Norway'\n",
      " 'Singapore, United States' 'Finland, Germany, Belgium'\n",
      " 'United Kingdom, France' 'United States, Chile'\n",
      " 'United Kingdom, Japan, United States' 'Spain, United Kingdom'\n",
      " 'Argentina, United States, Mexico' 'United States, South Korea, Japan'\n",
      " 'Canada, Australia' 'United Kingdom, Hungary, Australia' 'Italy, Belgium'\n",
      " 'United States, United Kingdom, Germany' 'Switzerland'\n",
      " 'Singapore, Malaysia'\n",
      " 'France, Belgium, Luxembourg, Romania, Canada, United States'\n",
      " 'South Africa, Nigeria' 'Spain, France' 'United Kingdom, Hong Kong'\n",
      " 'Pakistan' 'Brazil, United States'\n",
      " 'Denmark, Brazil, France, Portugal, Sweden' 'India, Turkey'\n",
      " 'Malaysia, Singapore, Hong Kong' 'Philippines, Singapore'\n",
      " 'Australia, Canada' 'Taiwan, China, France, United States'\n",
      " 'Germany, Italy' 'Colombia, Peru, United Kingdom'\n",
      " 'Thailand, China, United States' 'Argentina, United States'\n",
      " 'Sweden, United States' 'Uruguay, Spain, Mexico'\n",
      " 'France, Luxembourg, Canada' 'Denmark, Spain' 'Chile, Argentina'\n",
      " 'United Kingdom, Belgium, Sweden' 'Canada, Brazil' 'Italy, France'\n",
      " 'Canada, Germany' 'Pakistan, United Arab Emirates' 'Ghana, United States'\n",
      " 'Mexico, Finland' 'United Arab Emirates, United Kingdom, India'\n",
      " 'Netherlands, Belgium' 'United States, Taiwan'\n",
      " 'Austria, Iraq, United States' 'United Kingdom, Malawi'\n",
      " 'Paraguay, Argentina' 'United Kingdom, Russia, United States'\n",
      " 'India, Pakistan' 'Indonesia, Singapore' 'Spain, Belgium'\n",
      " 'Iceland, Sweden, Belgium' 'Croatia' 'Uruguay, Argentina, Spain'\n",
      " 'United Kingdom, Ireland, United States'\n",
      " 'Canada, Germany, France, United States' 'United Kingdom, Japan'\n",
      " 'Norway, Denmark, Netherlands, Sweden' 'Hong Kong, China, United States'\n",
      " 'Ireland, Canada' 'Italy, Switzerland, France, Germany'\n",
      " 'Mexico, Netherlands' 'United States, Sweden' 'Germany, France, Russia'\n",
      " 'France, Iran, United States' 'United Kingdom, India'\n",
      " 'Russia, Poland, Serbia' 'Spain, Portugal' 'Peru' 'Mexico, Argentina'\n",
      " 'United Kingdom, Canada, United States, Cayman Islands'\n",
      " 'Indonesia, United States'\n",
      " 'United States, Israel, United Kingdom, Canada'\n",
      " 'Norway, Iceland, United States' 'Czech Republic, United States'\n",
      " 'United Kingdom, India, United States' 'United Kingdom, West Germany'\n",
      " 'India, Australia' 'United States,'\n",
      " 'Belgium, United Kingdom, United States' 'India, Germany, Austria'\n",
      " 'United States, Brazil, South Korea, Mexico, Japan, Germany'\n",
      " 'Spain, Mexico' 'China, Japan' 'Argentina, France'\n",
      " 'China, United States, United Kingdom'\n",
      " 'France, Luxembourg, United States' 'China, United States, Australia'\n",
      " 'Colombia, Mexico' 'United States, Canada, Ireland' 'Chile, Peru'\n",
      " 'Argentina, Italy' 'Canada, Japan, United States'\n",
      " 'United Kingdom, Canada, United States, Germany'\n",
      " 'Italy, Switzerland, Albania, Poland' 'United States, Japan, Canada'\n",
      " 'Cambodia' 'Italy, United States, Argentina'\n",
      " 'Saudi Arabia, Syria, Egypt, Lebanon, Kuwait'\n",
      " 'United States, Canada, Indonesia, United Kingdom, China, Singapore'\n",
      " 'Spain, Colombia'\n",
      " 'United Kingdom, South Africa, Australia, United States' 'Bulgaria'\n",
      " 'Argentina, Brazil, France, Poland, Germany, Denmark'\n",
      " 'United Kingdom, Spain, United States, Germany' 'Philippines, Qatar'\n",
      " 'Netherlands, Belgium, Germany, Jordan'\n",
      " 'United Arab Emirates, United States' 'Norway, Germany, Sweden'\n",
      " 'South Korea, China' 'Georgia' 'Soviet Union, India'\n",
      " 'Australia, United Arab Emirates' 'Canada, Germany, South Africa'\n",
      " 'South Korea, China, United States' 'India, Soviet Union' 'India, Mexico'\n",
      " 'Georgia, Germany, France' 'United Arab Emirates, Romania'\n",
      " 'India, Malaysia' 'Germany, Jordan, Netherlands'\n",
      " 'Turkey, France, Germany, Poland' 'Greece, United States'\n",
      " 'France, United Kingdom, United States' 'Norway, Germany'\n",
      " 'France, Morocco' 'Cambodia, United States' 'United States, Denmark'\n",
      " 'United States, Colombia, Mexico'\n",
      " 'United Kingdom, Italy, Israel, Peru, United States'\n",
      " 'Argentina, Uruguay, Spain, France'\n",
      " 'United Kingdom, France, United States, Belgium'\n",
      " 'France, Canada, China, Cambodia'\n",
      " 'United Kingdom, France, Belgium, United States' 'Chile, France'\n",
      " 'Netherlands, United States' 'France, United Kingdom, India'\n",
      " 'Czech Republic, Slovakia' 'Singapore, France' 'Spain, Switzerland'\n",
      " 'United States, Australia, China' 'South Africa, United States, Germany'\n",
      " 'United States, United Kingdom, Australia' 'Spain, Italy, Argentina'\n",
      " 'Chile, Spain, Argentina, Germany' 'West Germany'\n",
      " 'Austria, Czech Republic' 'Lebanon, Qatar'\n",
      " 'United Kingdom, Jordan, Qatar, Iran' 'France, South Korea, Japan'\n",
      " 'Israel, Germany, France' 'Canada, Japan, Netherlands'\n",
      " 'United States, Hungary' 'France, Germany' 'France, Qatar'\n",
      " 'United Kingdom, Germany, Canada' 'Ireland, South Africa'\n",
      " 'Chile, United States, France' 'Belgium, France, Netherlands'\n",
      " 'United Kingdom, Ukraine, United States'\n",
      " 'Germany, Australia, France, China' 'Norway, United States'\n",
      " 'United States, Bermuda, Ecuador'\n",
      " 'United States, Hungary, Ireland, Canada'\n",
      " 'United Kingdom, Egypt, United States'\n",
      " 'United States, France, United Kingdom' 'Spain, Mexico, France'\n",
      " 'United States, South Africa' 'Hong Kong, China, Singapore'\n",
      " 'South Africa, China, United States' 'Denmark, France, Poland'\n",
      " 'New Zealand, United Kingdom' 'Netherlands, Denmark, South Africa'\n",
      " 'Iran, France' 'United Kingdom, United States, France, Germany'\n",
      " 'Australia, France' 'Ireland, United Kingdom, United States'\n",
      " 'United Kingdom, France, Germany' 'Canada, Luxembourg'\n",
      " 'Brazil, Netherlands, United States, Colombia, Austria, Germany'\n",
      " 'France, Canada, Belgium' 'Canada, France'\n",
      " 'Bulgaria, United States, Spain, Canada' 'Sweden, Netherlands'\n",
      " 'France, United States, Mexico'\n",
      " 'Australia, United Kingdom, United Arab Emirates, Canada'\n",
      " 'Australia, Armenia, Japan, Jordan, Mexico, Mongolia, New Zealand, Philippines, South Africa, Sweden, United States, Uruguay'\n",
      " 'India, Iran' 'France, Belgium, Spain'\n",
      " 'Denmark, Sweden, Israel, United States' 'United States, Iceland'\n",
      " 'United Kingdom, Russia' 'United States, Israel, Italy, South Africa'\n",
      " 'Netherlands, Denmark, France, Germany' 'South Korea, Japan'\n",
      " 'United Kingdom, Pakistan' 'France, New Zealand'\n",
      " 'United Kingdom, Czech Republic, United States, Germany, Bahamas'\n",
      " 'China, Germany, India, United States' 'Germany, Sri Lanka'\n",
      " 'United States, India, Bangladesh' 'United States, Canada, France'\n",
      " 'Brazil, France, Germany' 'Germany, United States, Hong Kong, Singapore'\n",
      " 'France, Germany, Switzerland'\n",
      " 'Germany, France, Luxembourg, United Kingdom, United States'\n",
      " 'United Kingdom, Canada, Italy' 'Czech Republic, France'\n",
      " 'Taiwan, Hong Kong, United States, China' 'Germany, Australia'\n",
      " 'United Kingdom, Poland, United States' 'Denmark, Zimbabwe'\n",
      " 'United Kingdom, South Africa' 'Finland, Sweden, Norway, Latvia, Germany'\n",
      " 'South Africa, United States, New Zealand, Canada'\n",
      " 'United States, Italy, United Kingdom, Liechtenstein'\n",
      " 'Denmark, France, Belgium, Italy, Netherlands, United States, United Kingdom'\n",
      " 'United States, Australia, Mexico'\n",
      " 'United Kingdom, Czech Republic, Germany, United States'\n",
      " 'France, China, Japan, United States' 'United States, South Korea, China'\n",
      " 'Germany, Belgium' 'Pakistan, Norway, United States'\n",
      " 'United States, Canada, Belgium, United Kingdom' 'Venezuela'\n",
      " 'Canada, France, Italy, Morocco, United States' 'Canada, Spain, France'\n",
      " 'United States, Indonesia' 'Spain, France, Italy'\n",
      " 'United Arab Emirates, United States, United Kingdom'\n",
      " 'United Kingdom, Israel, Russia' 'Spain, Cuba' 'United States, Brazil'\n",
      " 'United States, France, Mexico' 'United States, Nicaragua'\n",
      " 'United Kingdom, United States, Spain, Germany, Greece, Canada'\n",
      " 'Italy, Canada, France' 'United Kingdom, Denmark, Canada, Croatia'\n",
      " 'Italy, Germany' 'United States, France, United Kingdom, Japan'\n",
      " 'United States, United Kingdom, Denmark, Sweden'\n",
      " 'United States, United Kingdom, Italy'\n",
      " 'United States, France, Canada, Spain' 'Russia, United States, China'\n",
      " 'United States, Canada, Germany' 'Ireland, United States'\n",
      " 'United States, United Arab Emirates' 'United States, Ireland'\n",
      " 'Ireland, United Kingdom, Italy, United States' 'Poland,'\n",
      " 'Slovenia, Croatia, Germany, Czech Republic, Qatar'\n",
      " 'Canada, United Kingdom, Netherlands' 'United States, Spain, Germany'\n",
      " 'India, Japan' 'China, South Korea, United States'\n",
      " 'United Kingdom, France, Belgium' 'Canada, Ireland, United States'\n",
      " 'United Kingdom, United States, Dominican Republic'\n",
      " 'United States, Senegal' 'Germany, United Kingdom, United States'\n",
      " 'South Africa, Germany, Netherlands, France'\n",
      " 'Canada, United States, United Kingdom, France, Luxembourg'\n",
      " 'Ireland, United States, France' 'Germany, United States, Canada'\n",
      " 'United Kingdom, Germany, Canada, United States'\n",
      " 'United States, France, Canada, Lebanon, Qatar'\n",
      " 'Netherlands, Belgium, United Kingdom, United States'\n",
      " 'France, Belgium, China, United States' 'United States, Chile, Israel'\n",
      " 'United Kingdom, Norway, Denmark, Germany, Sweden'\n",
      " 'Norway, Denmark, Sweden' 'China, India, Nepal'\n",
      " 'Colombia, Mexico, United States' 'United Kingdom, South Korea'\n",
      " 'Denmark, China' 'United States, Greece, Brazil' 'South Korea, France'\n",
      " 'United States, Australia, Samoa, United Kingdom'\n",
      " 'Germany, United Kingdom' 'Argentina, Chile, Peru' 'Turkey, Azerbaijan'\n",
      " 'Poland, West Germany' 'Germany, United States, Sweden' 'Canada, Spain'\n",
      " 'United States, Cambodia' 'United States, Greece'\n",
      " 'Norway, United Kingdom, France, Ireland' 'United Kingdom, Poland'\n",
      " 'Israel, Sweden, Germany, Netherlands' 'Switzerland, France'\n",
      " 'Italy, India' 'United States, Botswana'\n",
      " 'Chile, Argentina, France, Spain, United States'\n",
      " 'United States, India, South Korea, China'\n",
      " 'Denmark, Germany, Belgium, United Kingdom, France'\n",
      " 'Denmark, Germany, Belgium, United Kingdom, France, Sweden'\n",
      " 'France, Switzerland, Spain, United States, United Arab Emirates'\n",
      " 'Brazil, India, China, United States'\n",
      " 'Denmark, France, United States, Sweden' 'Australia, Iraq'\n",
      " 'China, Morocco, Hong Kong' 'Canada, United States, Germany'\n",
      " 'United Kingdom, Thailand' 'Venezuela, Colombia'\n",
      " 'Colombia, United States' 'France, Germany, Czech Republic, Belgium'\n",
      " 'Switzerland, Vatican City, Italy, Germany, France'\n",
      " 'Portugal, France, Poland, United States'\n",
      " 'United States, New Zealand, Japan'\n",
      " 'United States, Netherlands, Japan, France' 'India, Switzerland'\n",
      " 'Canada, India' 'United States, Morocco' 'Singapore, Japan, France'\n",
      " 'Canada, Mexico, Germany, South Africa'\n",
      " 'United Kingdom, United States, Canada'\n",
      " 'Germany, France, United States, Canada, United Kingdom'\n",
      " 'United States, Uruguay' 'India, Canada'\n",
      " 'Ireland, Canada, United Kingdom, United States'\n",
      " 'United States, Germany, Australia' 'Australia, France, Ireland'\n",
      " 'Australia, India' 'United States, United Kingdom, Canada, Japan'\n",
      " 'Sweden, United Kingdom, Finland' 'Hong Kong, Taiwan'\n",
      " 'United States, United Kingdom, Spain, South Korea' 'Guatemala' 'Ukraine'\n",
      " 'Italy, South Africa, West Germany, Australia, United States'\n",
      " 'United States, Germany, United Kingdom, Australia'\n",
      " 'Italy, France, Switzerland' 'Canada, France, United States'\n",
      " 'Switzerland, United States' 'Thailand, Canada, United States'\n",
      " 'China, Hong Kong, United States' 'United Kingdom, New Zealand'\n",
      " 'Czech Republic, United Kingdom, France'\n",
      " 'Australia, United Kingdom, Canada' 'Jamaica, United States'\n",
      " 'Australia, United Kingdom, United States, New Zealand, Italy, France'\n",
      " 'France, United States, Canada'\n",
      " 'United Kingdom, France, Canada, Belgium, United States'\n",
      " 'Denmark, United Kingdom, Sweden' 'United States, Hong Kong'\n",
      " 'United States, Kazakhstan'\n",
      " 'Argentina, France, United States, Germany, Qatar'\n",
      " 'United States, Germany, United Kingdom'\n",
      " 'United States, Germany, United Kingdom, Italy'\n",
      " 'United States, New Zealand, United Kingdom' 'Finland, United States'\n",
      " 'Spain, France, Uruguay' 'France, Canada, United States'\n",
      " 'United States, Canada, China'\n",
      " 'Ireland, Canada, Luxembourg, United States, United Kingdom, Philippines, India'\n",
      " 'United States, Czech Republic, United Kingdom' 'Israel, Germany'\n",
      " 'Mexico, France'\n",
      " 'Israel, Germany, Poland, Luxembourg, Belgium, France, United States'\n",
      " 'Austria, United States' 'United Kingdom, Lithuania'\n",
      " 'United States, Greece, United Kingdom'\n",
      " 'United Kingdom, China, United States, India'\n",
      " 'United States, Sweden, Norway' 'United Kingdom, United States, Morocco'\n",
      " 'United States, United Kingdom, Morocco' 'Spain, Canada, United States'\n",
      " 'United States, India, United Arab Emirates'\n",
      " 'United Kingdom, Canada, France, United States' 'India, Germany, France'\n",
      " 'Belgium, Ireland, Netherlands, Germany, Afghanistan'\n",
      " 'France, Canada, Italy, United States, China'\n",
      " 'Ireland, United Kingdom, Greece, France, Netherlands'\n",
      " 'Denmark, Indonesia, Finland, Norway, United Kingdom, Israel, France, United States, Germany, Netherlands'\n",
      " 'New Zealand, United States'\n",
      " 'United States, Australia, South Africa, United Kingdom'\n",
      " 'United States, Germany, Mexico'\n",
      " 'Somalia, Kenya, Sudan, South Africa, United States'\n",
      " 'United States, Canada, Japan, Panama' 'United Kingdom, Spain, Belgium'\n",
      " 'Serbia, South Korea, Slovenia'\n",
      " 'Denmark, United Kingdom, South Africa, Sweden, Belgium'\n",
      " 'Germany, Canada, United States'\n",
      " 'Ireland, Canada, United States, United Kingdom'\n",
      " 'New Zealand, United Kingdom, Australia'\n",
      " 'United Kingdom, Australia, Canada, United States'\n",
      " 'Germany, United States, Italy' 'United States, Venezuela'\n",
      " 'United Kingdom, Canada, Japan'\n",
      " 'United Kingdom, United States, Czech Republic'\n",
      " 'United Kingdom, China, United States' 'United Kingdom, Brazil, Germany'\n",
      " 'United Kingdom, Namibia, South Africa, Zimbabwe, United States'\n",
      " 'Canada, United States, India, United Kingdom'\n",
      " 'Switzerland, United Kingdom, United States'\n",
      " 'United Kingdom, India, Sweden'\n",
      " 'United States, Brazil, India, Uganda, China'\n",
      " 'Peru, United States, United Kingdom'\n",
      " 'Germany, United States, United Kingdom, Canada'\n",
      " 'Canada, India, Thailand, United States, United Arab Emirates'\n",
      " 'United States, East Germany, West Germany'\n",
      " 'France, Netherlands, South Africa, Finland'\n",
      " 'Egypt, Austria, United States' 'Russia, Spain'\n",
      " 'Croatia, Slovenia, Serbia, Montenegro' 'Japan, Canada'\n",
      " 'United States, France, South Korea, Indonesia'\n",
      " 'United Arab Emirates, Jordan'] \n",
      "\n",
      "rating ['PG-13' 'TV-MA' 'PG' 'TV-14' 'TV-PG' 'TV-Y' 'TV-Y7' 'R' 'TV-G' 'G'\n",
      " 'NC-17' '74 min' '84 min' '66 min' 'NR' nan 'TV-Y7-FV' 'UR'] \n",
      "\n",
      "duration ['90 min' '2 Seasons' '1 Season' '91 min' '125 min' '9 Seasons' '104 min'\n",
      " '127 min' '4 Seasons' '67 min' '94 min' '5 Seasons' '161 min' '61 min'\n",
      " '166 min' '147 min' '103 min' '97 min' '106 min' '111 min' '3 Seasons'\n",
      " '110 min' '105 min' '96 min' '124 min' '116 min' '98 min' '23 min'\n",
      " '115 min' '122 min' '99 min' '88 min' '100 min' '6 Seasons' '102 min'\n",
      " '93 min' '95 min' '85 min' '83 min' '113 min' '13 min' '182 min' '48 min'\n",
      " '145 min' '87 min' '92 min' '80 min' '117 min' '128 min' '119 min'\n",
      " '143 min' '114 min' '118 min' '108 min' '63 min' '121 min' '142 min'\n",
      " '154 min' '120 min' '82 min' '109 min' '101 min' '86 min' '229 min'\n",
      " '76 min' '89 min' '156 min' '112 min' '107 min' '129 min' '135 min'\n",
      " '136 min' '165 min' '150 min' '133 min' '70 min' '84 min' '140 min'\n",
      " '78 min' '7 Seasons' '64 min' '59 min' '139 min' '69 min' '148 min'\n",
      " '189 min' '141 min' '130 min' '138 min' '81 min' '132 min' '10 Seasons'\n",
      " '123 min' '65 min' '68 min' '66 min' '62 min' '74 min' '131 min' '39 min'\n",
      " '46 min' '38 min' '8 Seasons' '17 Seasons' '126 min' '155 min' '159 min'\n",
      " '137 min' '12 min' '273 min' '36 min' '34 min' '77 min' '60 min' '49 min'\n",
      " '58 min' '72 min' '204 min' '212 min' '25 min' '73 min' '29 min' '47 min'\n",
      " '32 min' '35 min' '71 min' '149 min' '33 min' '15 min' '54 min' '224 min'\n",
      " '162 min' '37 min' '75 min' '79 min' '55 min' '158 min' '164 min'\n",
      " '173 min' '181 min' '185 min' '21 min' '24 min' '51 min' '151 min'\n",
      " '42 min' '22 min' '134 min' '177 min' '13 Seasons' '52 min' '14 min'\n",
      " '53 min' '8 min' '57 min' '28 min' '50 min' '9 min' '26 min' '45 min'\n",
      " '171 min' '27 min' '44 min' '146 min' '20 min' '157 min' '17 min'\n",
      " '203 min' '41 min' '30 min' '194 min' '15 Seasons' '233 min' '237 min'\n",
      " '230 min' '195 min' '253 min' '152 min' '190 min' '160 min' '208 min'\n",
      " '180 min' '144 min' '5 min' '174 min' '170 min' '192 min' '209 min'\n",
      " '187 min' '172 min' '16 min' '186 min' '11 min' '193 min' '176 min'\n",
      " '56 min' '169 min' '40 min' '10 min' '3 min' '168 min' '312 min'\n",
      " '153 min' '214 min' '31 min' '163 min' '19 min' '12 Seasons' nan\n",
      " '179 min' '11 Seasons' '43 min' '200 min' '196 min' '167 min' '178 min'\n",
      " '228 min' '18 min' '205 min' '201 min' '191 min'] \n",
      "\n",
      "listed_in ['Documentaries' 'International TV Shows, TV Dramas, TV Mysteries'\n",
      " 'Crime TV Shows, International TV Shows, TV Action & Adventure'\n",
      " 'Docuseries, Reality TV'\n",
      " 'International TV Shows, Romantic TV Shows, TV Comedies'\n",
      " 'TV Dramas, TV Horror, TV Mysteries' 'Children & Family Movies'\n",
      " 'Dramas, Independent Movies, International Movies'\n",
      " 'British TV Shows, Reality TV' 'Comedies, Dramas'\n",
      " 'Crime TV Shows, Docuseries, International TV Shows'\n",
      " 'Dramas, International Movies' 'Children & Family Movies, Comedies'\n",
      " 'British TV Shows, Crime TV Shows, Docuseries' 'TV Comedies, TV Dramas'\n",
      " 'Documentaries, International Movies'\n",
      " 'Crime TV Shows, Spanish-Language TV Shows, TV Dramas' 'Thrillers'\n",
      " 'International TV Shows, Spanish-Language TV Shows, TV Action & Adventure'\n",
      " 'International TV Shows, TV Action & Adventure, TV Dramas'\n",
      " 'Comedies, International Movies'\n",
      " 'Comedies, International Movies, Romantic Movies'\n",
      " 'Docuseries, International TV Shows, Reality TV'\n",
      " 'Comedies, International Movies, Music & Musicals' 'Comedies'\n",
      " 'Horror Movies, Sci-Fi & Fantasy' 'TV Comedies'\n",
      " 'British TV Shows, International TV Shows, TV Comedies'\n",
      " 'International TV Shows, TV Dramas, TV Thrillers' \"Kids' TV\"\n",
      " 'Dramas, International Movies, Thrillers'\n",
      " 'Action & Adventure, Dramas, International Movies'\n",
      " \"Kids' TV, TV Comedies\" 'Action & Adventure, Dramas'\n",
      " \"Kids' TV, TV Sci-Fi & Fantasy\"\n",
      " 'Action & Adventure, Classic Movies, Dramas'\n",
      " 'Dramas, Horror Movies, Thrillers'\n",
      " 'Action & Adventure, Horror Movies, Thrillers' 'Action & Adventure'\n",
      " 'Dramas, Thrillers' 'International TV Shows, TV Dramas'\n",
      " 'International TV Shows, TV Dramas, TV Sci-Fi & Fantasy'\n",
      " 'Action & Adventure, Anime Features, International Movies' 'Reality TV'\n",
      " 'Docuseries, International TV Shows'\n",
      " 'Documentaries, International Movies, Sports Movies'\n",
      " 'International TV Shows, Reality TV, Romantic TV Shows'\n",
      " 'British TV Shows, Docuseries, International TV Shows'\n",
      " 'Anime Series, International TV Shows'\n",
      " 'Comedies, Dramas, International Movies'\n",
      " 'Crime TV Shows, TV Comedies, TV Dramas'\n",
      " 'Action & Adventure, Comedies, Dramas' \"Anime Series, Kids' TV\"\n",
      " 'International Movies, Thrillers' \"Kids' TV, Korean TV Shows\"\n",
      " 'Documentaries, Sports Movies' 'Sci-Fi & Fantasy, Thrillers'\n",
      " 'Dramas, International Movies, Romantic Movies'\n",
      " 'Documentaries, Music & Musicals'\n",
      " \"Kids' TV, TV Comedies, TV Sci-Fi & Fantasy\" \"British TV Shows, Kids' TV\"\n",
      " 'Docuseries, Science & Nature TV' 'Children & Family Movies, Dramas'\n",
      " \"Kids' TV, TV Dramas, Teen TV Shows\"\n",
      " 'Crime TV Shows, International TV Shows, Spanish-Language TV Shows'\n",
      " 'Docuseries, International TV Shows, Spanish-Language TV Shows' 'Dramas'\n",
      " 'Comedies, Romantic Movies' 'Dramas, Romantic Movies'\n",
      " 'Comedies, Dramas, Independent Movies'\n",
      " 'Crime TV Shows, TV Action & Adventure, TV Comedies'\n",
      " 'Children & Family Movies, Music & Musicals'\n",
      " 'Action & Adventure, Classic Movies, Cult Movies'\n",
      " 'International TV Shows, TV Action & Adventure, TV Comedies'\n",
      " 'Action & Adventure, Sci-Fi & Fantasy' 'Action & Adventure, Comedies'\n",
      " 'Classic Movies, Comedies, Dramas' 'Comedies, Cult Movies'\n",
      " 'Comedies, Cult Movies, Music & Musicals' 'Comedies, Music & Musicals'\n",
      " 'TV Shows' 'Action & Adventure, International Movies'\n",
      " 'Anime Series, International TV Shows, Teen TV Shows'\n",
      " 'Action & Adventure, Children & Family Movies, Cult Movies'\n",
      " 'Comedies, Dramas, Romantic Movies'\n",
      " 'Comedies, Cult Movies, Sci-Fi & Fantasy' 'Classic Movies, Dramas'\n",
      " 'Action & Adventure, Children & Family Movies, Comedies'\n",
      " 'Dramas, Faith & Spirituality' 'Documentaries, LGBTQ Movies'\n",
      " 'Action & Adventure, Classic Movies' 'Docuseries'\n",
      " 'International TV Shows, TV Comedies' 'Dramas, Independent Movies'\n",
      " 'Action & Adventure, Comedies, International Movies'\n",
      " 'International TV Shows, Spanish-Language TV Shows, TV Dramas'\n",
      " 'Crime TV Shows, International TV Shows, TV Dramas'\n",
      " 'Action & Adventure, Horror Movies, International Movies'\n",
      " 'Comedies, International Movies, Sci-Fi & Fantasy'\n",
      " 'Action & Adventure, International Movies, Music & Musicals'\n",
      " 'Dramas, International Movies, Music & Musicals'\n",
      " 'Horror Movies, International Movies' 'Reality TV, Teen TV Shows'\n",
      " 'Crime TV Shows, TV Dramas, TV Mysteries'\n",
      " 'International TV Shows, Reality TV'\n",
      " 'International TV Shows, TV Comedies, TV Dramas'\n",
      " 'Dramas, Independent Movies, Romantic Movies' 'Horror Movies'\n",
      " 'Documentaries, LGBTQ Movies, Sports Movies'\n",
      " 'Horror Movies, International Movies, Thrillers'\n",
      " 'Action & Adventure, Anime Features'\n",
      " 'TV Dramas, TV Mysteries, TV Sci-Fi & Fantasy'\n",
      " 'International TV Shows, Spanish-Language TV Shows, TV Comedies'\n",
      " 'Children & Family Movies, Comedies, Music & Musicals'\n",
      " 'Comedies, Independent Movies'\n",
      " 'Anime Series, International TV Shows, Romantic TV Shows'\n",
      " 'Classic Movies, Dramas, Independent Movies'\n",
      " 'International TV Shows, Romantic TV Shows, Spanish-Language TV Shows'\n",
      " 'International TV Shows, TV Dramas, Teen TV Shows' 'Stand-Up Comedy'\n",
      " 'Action & Adventure, Anime Features, Children & Family Movies'\n",
      " 'International TV Shows, Romantic TV Shows, TV Dramas'\n",
      " 'International Movies, Music & Musicals'\n",
      " 'TV Action & Adventure, TV Dramas, TV Mysteries'\n",
      " 'Horror Movies, Independent Movies, International Movies'\n",
      " 'Comedies, Cult Movies, International Movies'\n",
      " 'Classic Movies, Dramas, International Movies' 'Movies'\n",
      " 'Crime TV Shows, Docuseries'\n",
      " 'Children & Family Movies, Comedies, Sci-Fi & Fantasy'\n",
      " 'Anime Series, International TV Shows, TV Thrillers'\n",
      " 'Action & Adventure, Horror Movies, Sci-Fi & Fantasy'\n",
      " 'Classic Movies, Comedies, Cult Movies' 'TV Dramas, Teen TV Shows'\n",
      " 'Action & Adventure, Sci-Fi & Fantasy, Thrillers'\n",
      " 'Children & Family Movies, Comedies, Dramas' 'Dramas, Sports Movies'\n",
      " 'Action & Adventure, Dramas, Sci-Fi & Fantasy'\n",
      " 'Action & Adventure, Comedies, Cult Movies'\n",
      " 'Dramas, Independent Movies, Thrillers' 'TV Dramas, TV Sci-Fi & Fantasy'\n",
      " 'Action & Adventure, International Movies, Thrillers'\n",
      " 'British TV Shows, International TV Shows, Reality TV'\n",
      " 'TV Action & Adventure, TV Dramas, Teen TV Shows' 'Anime Series'\n",
      " 'Crime TV Shows, TV Action & Adventure, TV Sci-Fi & Fantasy'\n",
      " 'Crime TV Shows, International TV Shows, TV Comedies'\n",
      " 'Stand-Up Comedy & Talk Shows, TV Comedies'\n",
      " 'Classic & Cult TV, TV Action & Adventure, TV Dramas'\n",
      " 'Children & Family Movies, Sports Movies'\n",
      " 'TV Action & Adventure, TV Sci-Fi & Fantasy'\n",
      " 'Anime Series, Stand-Up Comedy & Talk Shows' 'TV Dramas'\n",
      " 'Anime Features, Children & Family Movies, International Movies'\n",
      " 'Classic & Cult TV, Crime TV Shows, International TV Shows'\n",
      " 'Crime TV Shows, International TV Shows, Romantic TV Shows'\n",
      " 'Horror Movies, LGBTQ Movies'\n",
      " 'Action & Adventure, Dramas, Romantic Movies'\n",
      " 'Documentaries, International Movies, Music & Musicals'\n",
      " 'TV Comedies, TV Dramas, Teen TV Shows'\n",
      " 'Children & Family Movies, Comedies, Sports Movies'\n",
      " 'Children & Family Movies, Dramas, International Movies'\n",
      " 'Comedies, Documentaries, International Movies'\n",
      " 'Romantic TV Shows, TV Dramas' 'Anime Series, TV Horror, TV Thrillers'\n",
      " 'International Movies, Romantic Movies'\n",
      " 'TV Action & Adventure, TV Dramas, TV Sci-Fi & Fantasy'\n",
      " \"Kids' TV, Korean TV Shows, TV Comedies\"\n",
      " 'British TV Shows, Crime TV Shows, International TV Shows'\n",
      " 'Crime TV Shows, TV Horror, TV Mysteries'\n",
      " 'Docuseries, International TV Shows, Science & Nature TV'\n",
      " 'British TV Shows, International TV Shows, TV Dramas'\n",
      " \"Kids' TV, TV Action & Adventure, TV Sci-Fi & Fantasy\"\n",
      " 'International Movies, Romantic Movies, Thrillers'\n",
      " 'Action & Adventure, Cult Movies, International Movies'\n",
      " 'Action & Adventure, Comedies, Sci-Fi & Fantasy'\n",
      " \"International TV Shows, Kids' TV, TV Mysteries\"\n",
      " 'Action & Adventure, Thrillers'\n",
      " 'Dramas, Faith & Spirituality, International Movies'\n",
      " 'Action & Adventure, Classic Movies, Comedies'\n",
      " 'Action & Adventure, Comedies, Sports Movies'\n",
      " 'Action & Adventure, Children & Family Movies, Classic Movies'\n",
      " 'Action & Adventure, Children & Family Movies, Dramas'\n",
      " 'Horror Movies, Thrillers' 'Action & Adventure, Romantic Movies'\n",
      " 'Dramas, Romantic Movies, Sci-Fi & Fantasy'\n",
      " 'Dramas, Music & Musicals, Romantic Movies'\n",
      " 'Anime Series, Crime TV Shows, International TV Shows'\n",
      " 'Reality TV, Romantic TV Shows'\n",
      " 'International Movies, Music & Musicals, Romantic Movies'\n",
      " 'Reality TV, TV Action & Adventure, TV Mysteries'\n",
      " 'Crime TV Shows, TV Dramas'\n",
      " 'International TV Shows, Reality TV, Spanish-Language TV Shows'\n",
      " 'Crime TV Shows, TV Dramas, TV Thrillers' 'British TV Shows, Docuseries'\n",
      " 'International TV Shows, Korean TV Shows, TV Comedies'\n",
      " 'Action & Adventure, Anime Features, Classic Movies'\n",
      " 'TV Action & Adventure, TV Dramas, TV Horror'\n",
      " 'Crime TV Shows, International TV Shows, TV Thrillers'\n",
      " 'Anime Series, Crime TV Shows, TV Horror' 'Anime Features, Documentaries'\n",
      " 'Comedies, Horror Movies'\n",
      " 'International TV Shows, Spanish-Language TV Shows, Stand-Up Comedy & Talk Shows'\n",
      " 'Children & Family Movies, Documentaries, International Movies'\n",
      " 'Romantic TV Shows, TV Comedies, TV Dramas'\n",
      " 'Dramas, Faith & Spirituality, Romantic Movies'\n",
      " 'Dramas, Independent Movies, LGBTQ Movies'\n",
      " 'Comedies, Independent Movies, LGBTQ Movies'\n",
      " 'Action & Adventure, Cult Movies, Sci-Fi & Fantasy'\n",
      " 'Cult Movies, Horror Movies' 'Action & Adventure, Dramas, Sports Movies'\n",
      " 'Anime Series, Romantic TV Shows, Teen TV Shows'\n",
      " 'Dramas, International Movies, LGBTQ Movies'\n",
      " 'Dramas, Romantic Movies, Thrillers'\n",
      " 'Children & Family Movies, Dramas, Faith & Spirituality'\n",
      " 'Dramas, International Movies, Sports Movies'\n",
      " 'Action & Adventure, Horror Movies'\n",
      " 'Documentaries, International Movies, LGBTQ Movies'\n",
      " 'Dramas, Independent Movies, Sci-Fi & Fantasy'\n",
      " 'Comedies, Independent Movies, International Movies'\n",
      " 'Reality TV, TV Horror, TV Thrillers'\n",
      " 'TV Action & Adventure, TV Horror, TV Sci-Fi & Fantasy'\n",
      " 'International TV Shows, TV Horror, TV Sci-Fi & Fantasy'\n",
      " 'Independent Movies, International Movies, Thrillers'\n",
      " 'Independent Movies, Thrillers' 'Documentaries, Dramas'\n",
      " 'Action & Adventure, Sports Movies'\n",
      " 'Dramas, International Movies, Sci-Fi & Fantasy'\n",
      " 'Comedies, Independent Movies, Romantic Movies'\n",
      " 'Horror Movies, Romantic Movies, Sci-Fi & Fantasy'\n",
      " 'International TV Shows, Stand-Up Comedy & Talk Shows'\n",
      " 'Action & Adventure, Anime Features, Horror Movies'\n",
      " 'Cult Movies, Dramas, Music & Musicals' 'TV Dramas, TV Thrillers'\n",
      " 'Crime TV Shows, International TV Shows, Korean TV Shows'\n",
      " 'TV Horror, TV Mysteries, TV Thrillers'\n",
      " 'Comedies, Horror Movies, International Movies'\n",
      " 'Crime TV Shows, Docuseries, TV Mysteries'\n",
      " 'Comedies, International Movies, Sports Movies'\n",
      " 'Classic Movies, Music & Musicals' 'Reality TV, TV Comedies, TV Horror'\n",
      " 'Children & Family Movies, Faith & Spirituality, Music & Musicals'\n",
      " 'International TV Shows, Korean TV Shows, Stand-Up Comedy & Talk Shows'\n",
      " 'Dramas, Music & Musicals'\n",
      " 'Docuseries, Science & Nature TV, TV Action & Adventure'\n",
      " \"British TV Shows, Kids' TV, TV Dramas\"\n",
      " 'International TV Shows, Korean TV Shows, Romantic TV Shows'\n",
      " 'Horror Movies, Independent Movies'\n",
      " \"Anime Series, Kids' TV, TV Action & Adventure\"\n",
      " 'Comedies, Dramas, Music & Musicals' 'TV Horror, Teen TV Shows'\n",
      " 'Comedies, LGBTQ Movies, Thrillers'\n",
      " 'Docuseries, Reality TV, Science & Nature TV'\n",
      " 'Crime TV Shows, Spanish-Language TV Shows, TV Action & Adventure'\n",
      " 'Romantic TV Shows, Teen TV Shows' 'TV Comedies, Teen TV Shows'\n",
      " 'Romantic TV Shows, TV Dramas, Teen TV Shows'\n",
      " 'Children & Family Movies, Sci-Fi & Fantasy'\n",
      " 'Romantic TV Shows, TV Action & Adventure, TV Dramas'\n",
      " 'Comedies, International Movies, LGBTQ Movies' 'Dramas, Sci-Fi & Fantasy'\n",
      " \"Kids' TV, TV Thrillers\"\n",
      " 'TV Action & Adventure, TV Comedies, TV Sci-Fi & Fantasy'\n",
      " 'British TV Shows, Romantic TV Shows, TV Dramas'\n",
      " 'Anime Series, International TV Shows, Spanish-Language TV Shows'\n",
      " 'Docuseries, TV Comedies' 'Comedies, Romantic Movies, Sports Movies'\n",
      " 'TV Action & Adventure, TV Comedies, TV Dramas'\n",
      " 'Children & Family Movies, Dramas, Sports Movies'\n",
      " 'Action & Adventure, Dramas, Independent Movies'\n",
      " 'Spanish-Language TV Shows, TV Dramas' 'Dramas, LGBTQ Movies'\n",
      " 'TV Horror, TV Mysteries, TV Sci-Fi & Fantasy'\n",
      " 'Action & Adventure, Dramas, Faith & Spirituality'\n",
      " 'International TV Shows, TV Mysteries, TV Thrillers'\n",
      " 'British TV Shows, Classic & Cult TV, International TV Shows'\n",
      " 'Action & Adventure, Comedies, Independent Movies' 'Music & Musicals'\n",
      " \"British TV Shows, Kids' TV, TV Comedies\"\n",
      " 'Docuseries, Spanish-Language TV Shows'\n",
      " 'Dramas, Independent Movies, Sports Movies'\n",
      " 'TV Dramas, TV Mysteries, TV Thrillers'\n",
      " 'Comedies, LGBTQ Movies, Music & Musicals'\n",
      " 'International TV Shows, TV Action & Adventure, TV Mysteries'\n",
      " \"Kids' TV, TV Comedies, Teen TV Shows\"\n",
      " 'International TV Shows, TV Dramas, TV Horror'\n",
      " 'Comedies, International Movies, Thrillers'\n",
      " 'Classic & Cult TV, TV Action & Adventure, TV Sci-Fi & Fantasy'\n",
      " 'International TV Shows, TV Horror, TV Mysteries'\n",
      " 'Children & Family Movies, Documentaries'\n",
      " 'Music & Musicals, Romantic Movies' 'Romantic Movies'\n",
      " 'Children & Family Movies, Classic Movies, Comedies'\n",
      " 'TV Action & Adventure, TV Dramas'\n",
      " 'Dramas, LGBTQ Movies, Romantic Movies'\n",
      " 'Children & Family Movies, Comedies, Romantic Movies'\n",
      " 'Comedies, Sports Movies' 'International Movies'\n",
      " 'International TV Shows, Romantic TV Shows, TV Mysteries'\n",
      " 'Stand-Up Comedy & Talk Shows'\n",
      " 'Action & Adventure, International Movies, Romantic Movies'\n",
      " 'Reality TV, TV Comedies' 'Cult Movies, Dramas, International Movies'\n",
      " \"Kids' TV, TV Dramas\"\n",
      " 'Crime TV Shows, International TV Shows, TV Mysteries'\n",
      " 'Action & Adventure, Sci-Fi & Fantasy, Sports Movies'\n",
      " 'TV Dramas, TV Sci-Fi & Fantasy, TV Thrillers'\n",
      " 'Romantic TV Shows, TV Dramas, TV Sci-Fi & Fantasy'\n",
      " 'Docuseries, TV Sci-Fi & Fantasy' 'Anime Features, International Movies'\n",
      " \"British TV Shows, Classic & Cult TV, Kids' TV\"\n",
      " 'British TV Shows, Reality TV, Romantic TV Shows'\n",
      " 'Documentaries, Faith & Spirituality, International Movies'\n",
      " \"Kids' TV, Reality TV, TV Dramas\" 'LGBTQ Movies, Thrillers'\n",
      " 'TV Action & Adventure, TV Mysteries, TV Sci-Fi & Fantasy'\n",
      " 'Reality TV, Science & Nature TV'\n",
      " \"Kids' TV, TV Action & Adventure, TV Comedies\"\n",
      " 'International TV Shows, Romantic TV Shows, TV Action & Adventure'\n",
      " 'Children & Family Movies, Dramas, Independent Movies'\n",
      " 'Comedies, Music & Musicals, Romantic Movies'\n",
      " 'International TV Shows, Korean TV Shows, Reality TV'\n",
      " 'Classic & Cult TV, TV Dramas, TV Sci-Fi & Fantasy'\n",
      " 'Anime Features, Children & Family Movies'\n",
      " 'Action & Adventure, International Movies, Sci-Fi & Fantasy'\n",
      " 'Crime TV Shows, TV Action & Adventure, TV Dramas'\n",
      " 'Classic & Cult TV, TV Action & Adventure, TV Horror'\n",
      " 'International TV Shows, Korean TV Shows, TV Dramas'\n",
      " 'International TV Shows, TV Action & Adventure, TV Horror'\n",
      " 'Action & Adventure, Comedies, Romantic Movies'\n",
      " 'International TV Shows, Korean TV Shows, TV Action & Adventure'\n",
      " \"Classic & Cult TV, Kids' TV, TV Action & Adventure\"\n",
      " 'Anime Series, International TV Shows, TV Horror'\n",
      " 'International TV Shows, Korean TV Shows, TV Horror'\n",
      " 'Children & Family Movies, Comedies, International Movies'\n",
      " 'International Movies, Sci-Fi & Fantasy'\n",
      " 'International Movies, Sci-Fi & Fantasy, Thrillers'\n",
      " 'Children & Family Movies, Dramas, Romantic Movies'\n",
      " 'Anime Series, Romantic TV Shows' 'Comedies, Dramas, LGBTQ Movies'\n",
      " 'British TV Shows, International TV Shows, TV Action & Adventure'\n",
      " 'Docuseries, Science & Nature TV, TV Comedies'\n",
      " 'International TV Shows, Stand-Up Comedy & Talk Shows, TV Comedies'\n",
      " 'Children & Family Movies, Dramas, Music & Musicals'\n",
      " 'Action & Adventure, Independent Movies, International Movies'\n",
      " 'Action & Adventure, Children & Family Movies, Sci-Fi & Fantasy'\n",
      " 'Horror Movies, Independent Movies, Sci-Fi & Fantasy'\n",
      " 'TV Dramas, TV Sci-Fi & Fantasy, Teen TV Shows'\n",
      " 'Anime Features, International Movies, Sci-Fi & Fantasy'\n",
      " 'Dramas, Independent Movies, Music & Musicals'\n",
      " \"Kids' TV, TV Comedies, TV Dramas\"\n",
      " 'Children & Family Movies, Documentaries, Sports Movies'\n",
      " 'Independent Movies, Sci-Fi & Fantasy, Thrillers'\n",
      " 'Anime Features, Music & Musicals, Sci-Fi & Fantasy'\n",
      " 'TV Comedies, TV Dramas, TV Sci-Fi & Fantasy'\n",
      " 'Crime TV Shows, TV Action & Adventure'\n",
      " 'Comedies, Faith & Spirituality, Romantic Movies'\n",
      " \"Kids' TV, TV Action & Adventure\"\n",
      " 'Action & Adventure, Independent Movies'\n",
      " 'International TV Shows, Reality TV, TV Comedies'\n",
      " 'Docuseries, Reality TV, Teen TV Shows'\n",
      " 'Crime TV Shows, International TV Shows, Reality TV'\n",
      " 'Anime Series, Teen TV Shows'\n",
      " 'Crime TV Shows, Romantic TV Shows, TV Dramas'\n",
      " 'Anime Features, Romantic Movies'\n",
      " 'Horror Movies, Sci-Fi & Fantasy, Thrillers'\n",
      " 'International TV Shows, TV Comedies, TV Sci-Fi & Fantasy'\n",
      " 'International TV Shows, Romantic TV Shows'\n",
      " 'Anime Features, Music & Musicals'\n",
      " 'Anime Features, International Movies, Romantic Movies'\n",
      " 'International TV Shows, Romantic TV Shows, Teen TV Shows'\n",
      " 'Docuseries, Stand-Up Comedy & Talk Shows'\n",
      " 'Horror Movies, Independent Movies, Thrillers'\n",
      " 'TV Action & Adventure, TV Comedies, TV Horror'\n",
      " 'Documentaries, Stand-Up Comedy' \"Kids' TV, Spanish-Language TV Shows\"\n",
      " \"British TV Shows, Kids' TV, TV Thrillers\"\n",
      " \"Kids' TV, TV Action & Adventure, TV Dramas\"\n",
      " 'Anime Series, Crime TV Shows' 'Dramas, Sci-Fi & Fantasy, Thrillers'\n",
      " 'TV Comedies, TV Dramas, TV Horror'\n",
      " 'Children & Family Movies, Comedies, LGBTQ Movies'\n",
      " 'International TV Shows, TV Action & Adventure, TV Sci-Fi & Fantasy'\n",
      " 'Docuseries, TV Dramas'\n",
      " 'Horror Movies, International Movies, Romantic Movies'\n",
      " 'Crime TV Shows, Docuseries, Science & Nature TV'\n",
      " 'International Movies, Music & Musicals, Thrillers'\n",
      " \"Kids' TV, Spanish-Language TV Shows, Teen TV Shows\"\n",
      " 'Comedies, Horror Movies, Independent Movies'\n",
      " 'Action & Adventure, International Movies, Sports Movies'\n",
      " 'Action & Adventure, Independent Movies, Sci-Fi & Fantasy'\n",
      " 'Horror Movies, LGBTQ Movies, Music & Musicals'\n",
      " 'Comedies, Music & Musicals, Sports Movies'\n",
      " 'TV Horror, TV Mysteries, Teen TV Shows' 'Romantic TV Shows, TV Comedies'\n",
      " \"Kids' TV, Reality TV, Science & Nature TV\"\n",
      " 'International Movies, Romantic Movies, Sci-Fi & Fantasy'\n",
      " 'TV Comedies, TV Horror, TV Thrillers' 'TV Action & Adventure'\n",
      " 'International TV Shows, Spanish-Language TV Shows, TV Horror'\n",
      " 'Crime TV Shows, TV Action & Adventure, TV Thrillers'\n",
      " 'Music & Musicals, Stand-Up Comedy' 'British TV Shows, TV Comedies'\n",
      " 'TV Comedies, TV Sci-Fi & Fantasy, Teen TV Shows'\n",
      " 'TV Comedies, TV Sci-Fi & Fantasy'\n",
      " 'Romantic TV Shows, Spanish-Language TV Shows, TV Comedies'\n",
      " 'Crime TV Shows, International TV Shows, TV Sci-Fi & Fantasy'\n",
      " 'British TV Shows, International TV Shows, Romantic TV Shows'\n",
      " \"Crime TV Shows, Kids' TV\"\n",
      " 'Horror Movies, International Movies, Sci-Fi & Fantasy'\n",
      " 'TV Comedies, TV Mysteries'\n",
      " 'Cult Movies, Horror Movies, Independent Movies'\n",
      " 'British TV Shows, Docuseries, TV Comedies' 'Comedies, Documentaries'\n",
      " 'Reality TV, Science & Nature TV, TV Action & Adventure'\n",
      " 'TV Comedies, TV Dramas, TV Mysteries'\n",
      " 'Crime TV Shows, TV Comedies, Teen TV Shows'\n",
      " \"Docuseries, Kids' TV, Science & Nature TV\"\n",
      " 'Reality TV, Spanish-Language TV Shows'\n",
      " 'Action & Adventure, Anime Features, Sci-Fi & Fantasy'\n",
      " \"Crime TV Shows, Kids' TV, TV Comedies\"\n",
      " 'Dramas, Faith & Spirituality, Independent Movies'\n",
      " 'Documentaries, Faith & Spirituality'\n",
      " 'British TV Shows, International TV Shows, Stand-Up Comedy & Talk Shows'\n",
      " 'Comedies, Dramas, Faith & Spirituality' 'Classic & Cult TV, TV Comedies'\n",
      " 'Dramas, Romantic Movies, Sports Movies'\n",
      " 'Stand-Up Comedy & Talk Shows, TV Mysteries, TV Sci-Fi & Fantasy'\n",
      " 'TV Sci-Fi & Fantasy, TV Thrillers'\n",
      " 'Comedies, Independent Movies, Music & Musicals'\n",
      " 'Comedies, Cult Movies, Independent Movies'\n",
      " 'Documentaries, Dramas, International Movies'\n",
      " 'British TV Shows, TV Horror, TV Thrillers'\n",
      " 'British TV Shows, Docuseries, Science & Nature TV'\n",
      " 'Children & Family Movies, Comedies, Cult Movies' 'Sports Movies'\n",
      " 'Sci-Fi & Fantasy' 'Comedies, LGBTQ Movies'\n",
      " 'Comedies, Independent Movies, Thrillers'\n",
      " 'Classic Movies, Cult Movies, Dramas'\n",
      " 'British TV Shows, TV Comedies, TV Dramas'\n",
      " 'Action & Adventure, Children & Family Movies, Independent Movies'\n",
      " 'Action & Adventure, Documentaries, International Movies'\n",
      " 'Children & Family Movies, Independent Movies'\n",
      " 'Comedies, Cult Movies, Dramas'\n",
      " 'International TV Shows, TV Horror, TV Thrillers'\n",
      " 'Classic Movies, Thrillers' 'Crime TV Shows, TV Dramas, TV Horror'\n",
      " 'British TV Shows, Docuseries, Reality TV'\n",
      " 'Documentaries, LGBTQ Movies, Music & Musicals'\n",
      " 'Classic Movies, Dramas, Romantic Movies'\n",
      " 'Crime TV Shows, Romantic TV Shows, Spanish-Language TV Shows'\n",
      " 'Classic Movies, Cult Movies, Horror Movies'\n",
      " 'Anime Series, Crime TV Shows, TV Thrillers'\n",
      " 'Children & Family Movies, Classic Movies'\n",
      " 'Classic Movies, Comedies, International Movies'\n",
      " 'Comedies, Sci-Fi & Fantasy' 'Action & Adventure, Cult Movies, Dramas'\n",
      " 'Documentaries, Faith & Spirituality, Music & Musicals'\n",
      " 'British TV Shows, Classic & Cult TV, TV Comedies'\n",
      " 'International Movies, Sports Movies' 'International TV Shows'\n",
      " \"Classic & Cult TV, Kids' TV, Spanish-Language TV Shows\"\n",
      " 'Romantic TV Shows, Spanish-Language TV Shows, TV Dramas'\n",
      " 'Children & Family Movies, Comedies, Faith & Spirituality'\n",
      " 'British TV Shows, Crime TV Shows, TV Dramas'\n",
      " 'Classic Movies, Dramas, Music & Musicals'\n",
      " 'Cult Movies, Horror Movies, Thrillers'\n",
      " 'Action & Adventure, Classic Movies, Sci-Fi & Fantasy'\n",
      " 'TV Action & Adventure, TV Comedies'\n",
      " 'Classic Movies, Comedies, Music & Musicals' 'Independent Movies'\n",
      " 'Documentaries, Horror Movies'\n",
      " 'Classic & Cult TV, TV Horror, TV Mysteries'\n",
      " 'Comedies, Faith & Spirituality, International Movies'\n",
      " 'Dramas, Horror Movies, Sci-Fi & Fantasy'\n",
      " 'British TV Shows, TV Dramas, TV Sci-Fi & Fantasy'\n",
      " 'Comedies, Cult Movies, Horror Movies'\n",
      " 'Comedies, Cult Movies, Sports Movies' 'Classic Movies, Documentaries'\n",
      " 'Action & Adventure, Faith & Spirituality, Sci-Fi & Fantasy'\n",
      " 'Action & Adventure, Children & Family Movies'\n",
      " 'International TV Shows, Reality TV, TV Action & Adventure'\n",
      " 'Docuseries, Science & Nature TV, TV Dramas' 'Anime Features'\n",
      " 'Action & Adventure, Horror Movies, Independent Movies'\n",
      " 'Action & Adventure, Classic Movies, International Movies'\n",
      " 'Cult Movies, Independent Movies, Thrillers'\n",
      " 'Crime TV Shows, TV Comedies'\n",
      " 'Classic Movies, Cult Movies, Documentaries'\n",
      " \"Classic & Cult TV, Kids' TV, TV Comedies\"\n",
      " 'Classic Movies, Dramas, LGBTQ Movies'\n",
      " 'Classic Movies, Dramas, Sports Movies' 'Action & Adventure, Cult Movies'\n",
      " 'Action & Adventure, Comedies, Music & Musicals'\n",
      " 'Classic Movies, Horror Movies, Thrillers'\n",
      " 'Classic Movies, Comedies, Independent Movies'\n",
      " 'Children & Family Movies, Classic Movies, Dramas'\n",
      " 'Dramas, Faith & Spirituality, Sports Movies'\n",
      " 'Classic Movies, Comedies, Romantic Movies'\n",
      " 'Dramas, Horror Movies, Music & Musicals'\n",
      " 'Classic Movies, Independent Movies, Thrillers'\n",
      " 'Children & Family Movies, Faith & Spirituality'\n",
      " 'Classic Movies, Comedies, Sports Movies'\n",
      " 'Comedies, Dramas, Sports Movies'\n",
      " 'Action & Adventure, Romantic Movies, Sci-Fi & Fantasy'\n",
      " 'Classic & Cult TV, TV Sci-Fi & Fantasy'\n",
      " 'Comedies, Cult Movies, LGBTQ Movies'\n",
      " 'Comedies, Horror Movies, Sci-Fi & Fantasy'\n",
      " 'Action & Adventure, Comedies, Horror Movies'\n",
      " 'Classic & Cult TV, Crime TV Shows, TV Dramas'\n",
      " 'Action & Adventure, Documentaries, Sports Movies'\n",
      " 'International Movies, LGBTQ Movies, Romantic Movies'\n",
      " 'Cult Movies, Dramas, Thrillers'] \n",
      "\n"
     ]
    }
   ],
   "source": [
    "for cat in categorical:\n",
    "   print(cat,df[cat].unique(),'\\n')"
   ]
  },
  {
   "cell_type": "code",
   "execution_count": 112,
   "id": "1bf0460d",
   "metadata": {},
   "outputs": [
    {
     "data": {
      "application/vnd.microsoft.datawrangler.viewer.v0+json": {
       "columns": [
        {
         "name": "cast",
         "rawType": "object",
         "type": "string"
        },
        {
         "name": "count",
         "rawType": "int64",
         "type": "integer"
        }
       ],
       "ref": "8c970b2b-5b76-4c0e-ae2d-2c85df4a8061",
       "rows": [
        [
         "David Attenborough",
         "19"
        ],
        [
         "Vatsal Dubey, Julie Tejwani, Rupa Bhimani, Jigna Bhardwaj, Rajesh Kava, Mousam, Swapnil",
         "14"
        ],
        [
         "Samuel West",
         "10"
        ],
        [
         "Jeff Dunham",
         "7"
        ],
        [
         "Michela Luci, Jamie Watson, Eric Peterson, Anna Claire Bartlam, Nicolas Aqui, Cory Doran, Julie Lemieux, Derek McGrath",
         "6"
        ],
        [
         "Kevin Hart",
         "6"
        ],
        [
         "David Spade, London Hughes, Fortune Feimster",
         "6"
        ],
        [
         "Craig Sechler",
         "6"
        ],
        [
         "Iliza Shlesinger",
         "5"
        ],
        [
         "Bill Burr",
         "5"
        ],
        [
         "Jim Gaffigan",
         "5"
        ],
        [
         "Tom Segura",
         "4"
        ],
        [
         "Bill Hicks",
         "4"
        ],
        [
         "Jerry Seinfeld",
         "4"
        ],
        [
         "Sam Kinison",
         "4"
        ],
        [
         "Mike Birbiglia",
         "4"
        ],
        [
         "Vir Das",
         "4"
        ],
        [
         "Jim Jefferies",
         "4"
        ],
        [
         "Michela Luci, Jamie Watson, Anna Claire Bartlam, Dante Zee, Eric Peterson",
         "4"
        ],
        [
         "Aishwarya Rajesh, Vidhu, Surya Ganapathy, Madhuri, Pavel Navageethan, Avantika Vandanapu",
         "4"
        ],
        [
         "Dave Chappelle",
         "4"
        ],
        [
         "Prabhas, Rana Daggubati, Anushka Shetty, Tamannaah Bhatia, Sathyaraj, Nassar, Ramya Krishnan, Sudeep",
         "4"
        ],
        [
         "Sonal Kaushal, Rupa Bhimani, Julie Tejwani, Sabina Malik, Jigna Bharadhwaj, Rajesh Kawa",
         "4"
        ],
        [
         "Damandeep Singh Baggan, Smita Malhotra, Baba Sehgal",
         "4"
        ],
        [
         "Jay O. Sanders",
         "4"
        ],
        [
         "Gabriel Iglesias",
         "3"
        ],
        [
         "Colin Quinn",
         "3"
        ],
        [
         "Chelsea Handler",
         "3"
        ],
        [
         "Jo Koy",
         "3"
        ],
        [
         "Bo Burnham",
         "3"
        ],
        [
         "Paco Ignacio Taibo II",
         "3"
        ],
        [
         "Samantha Ruth Prabhu, Lakshmi, Rajendraprasad, Naga Shourya, Rao Ramesh, Teja Sajja, Pragathi, Jagapathi Babu, Aishwarya, Urvashi",
         "3"
        ],
        [
         "Bob Ross",
         "3"
        ],
        [
         "Marc Maron",
         "3"
        ],
        [
         "Aziz Ansari",
         "3"
        ],
        [
         "Nadia Ramlee, Chio Su-Ping, Jeremy Linn, Marlon Dance-Hooi",
         "3"
        ],
        [
         "Chris D'Elia",
         "3"
        ],
        [
         "Derren Brown",
         "3"
        ],
        [
         "Katt Williams",
         "3"
        ],
        [
         "John Mulaney",
         "3"
        ],
        [
         "Prabhas, Rana Daggubati, Anushka Shetty, Tamannaah Bhatia, Sathyaraj, Ramya Krishnan, Nassar, Subbaraju",
         "3"
        ],
        [
         "Brian Regan",
         "3"
        ],
        [
         "Louis C.K.",
         "3"
        ],
        [
         "Morgan Freeman",
         "3"
        ],
        [
         "Taapsee Pannu, Vinodhini, Parvathi T, Ramya Subramanian, Sanchana Natarajan, Anish Kuruvilla, David Solomon Raja",
         "3"
        ],
        [
         "Russell Peters",
         "3"
        ],
        [
         "Sebastian Maniscalco",
         "3"
        ],
        [
         "Rachael Stirling",
         "3"
        ],
        [
         "Peter Coyote",
         "3"
        ],
        [
         "R. Kelly",
         "3"
        ]
       ],
       "shape": {
        "columns": 1,
        "rows": 7692
       }
      },
      "text/plain": [
       "cast\n",
       "David Attenborough                                                                                                                                             19\n",
       "Vatsal Dubey, Julie Tejwani, Rupa Bhimani, Jigna Bhardwaj, Rajesh Kava, Mousam, Swapnil                                                                        14\n",
       "Samuel West                                                                                                                                                    10\n",
       "Jeff Dunham                                                                                                                                                     7\n",
       "Michela Luci, Jamie Watson, Eric Peterson, Anna Claire Bartlam, Nicolas Aqui, Cory Doran, Julie Lemieux, Derek McGrath                                          6\n",
       "                                                                                                                                                               ..\n",
       "Ali Suliman, Saleh Bakri, Yasa, Ali Al-Jabri, Mansoor Alfeeli, Ahd                                                                                              1\n",
       "Mark Ruffalo, Jake Gyllenhaal, Robert Downey Jr., Anthony Edwards, Brian Cox, Elias Koteas, Donal Logue, John Carroll Lynch, Dermot Mulroney, Chloë Sevigny     1\n",
       "Jesse Eisenberg, Woody Harrelson, Emma Stone, Abigail Breslin, Amber Heard, Bill Murray, Derek Graf                                                             1\n",
       "Tim Allen, Courteney Cox, Chevy Chase, Kate Mara, Ryan Newman, Michael Cassidy, Spencer Breslin, Rip Torn, Kevin Zegers                                         1\n",
       "Logan Browning, Brandon P. Bell, DeRon Horton, Antoinette Robertson, John Patrick Amedori, Ashley Blaine Featherson, Marque Richardson, Giancarlo Esposito      1\n",
       "Name: count, Length: 7692, dtype: int64"
      ]
     },
     "execution_count": 112,
     "metadata": {},
     "output_type": "execute_result"
    }
   ],
   "source": [
    "df.cast.value_counts()"
   ]
  },
  {
   "cell_type": "code",
   "execution_count": 113,
   "id": "3f686da0",
   "metadata": {},
   "outputs": [
    {
     "data": {
      "application/vnd.microsoft.datawrangler.viewer.v0+json": {
       "columns": [
        {
         "name": "duration",
         "rawType": "object",
         "type": "string"
        },
        {
         "name": "count",
         "rawType": "int64",
         "type": "integer"
        }
       ],
       "ref": "c5ed5231-aea6-4691-a853-c3fd2fb8a7d2",
       "rows": [
        [
         "1 Season",
         "1793"
        ],
        [
         "2 Seasons",
         "425"
        ],
        [
         "3 Seasons",
         "199"
        ],
        [
         "90 min",
         "152"
        ],
        [
         "97 min",
         "146"
        ],
        [
         "94 min",
         "146"
        ],
        [
         "93 min",
         "146"
        ],
        [
         "91 min",
         "144"
        ],
        [
         "95 min",
         "137"
        ],
        [
         "96 min",
         "130"
        ],
        [
         "92 min",
         "129"
        ],
        [
         "102 min",
         "122"
        ],
        [
         "98 min",
         "120"
        ],
        [
         "99 min",
         "118"
        ],
        [
         "88 min",
         "116"
        ],
        [
         "101 min",
         "116"
        ],
        [
         "103 min",
         "114"
        ],
        [
         "106 min",
         "111"
        ],
        [
         "100 min",
         "108"
        ],
        [
         "89 min",
         "106"
        ],
        [
         "104 min",
         "104"
        ],
        [
         "86 min",
         "103"
        ],
        [
         "105 min",
         "101"
        ],
        [
         "87 min",
         "101"
        ],
        [
         "107 min",
         "98"
        ],
        [
         "110 min",
         "97"
        ],
        [
         "4 Seasons",
         "95"
        ],
        [
         "108 min",
         "87"
        ],
        [
         "116 min",
         "80"
        ],
        [
         "112 min",
         "74"
        ],
        [
         "85 min",
         "73"
        ],
        [
         "113 min",
         "69"
        ],
        [
         "109 min",
         "69"
        ],
        [
         "111 min",
         "68"
        ],
        [
         "84 min",
         "67"
        ],
        [
         "118 min",
         "65"
        ],
        [
         "5 Seasons",
         "65"
        ],
        [
         "83 min",
         "65"
        ],
        [
         "119 min",
         "63"
        ],
        [
         "81 min",
         "62"
        ],
        [
         "117 min",
         "61"
        ],
        [
         "115 min",
         "61"
        ],
        [
         "114 min",
         "56"
        ],
        [
         "120 min",
         "56"
        ],
        [
         "121 min",
         "54"
        ],
        [
         "124 min",
         "52"
        ],
        [
         "82 min",
         "52"
        ],
        [
         "127 min",
         "48"
        ],
        [
         "122 min",
         "45"
        ],
        [
         "78 min",
         "45"
        ]
       ],
       "shape": {
        "columns": 1,
        "rows": 220
       }
      },
      "text/plain": [
       "duration\n",
       "1 Season     1793\n",
       "2 Seasons     425\n",
       "3 Seasons     199\n",
       "90 min        152\n",
       "97 min        146\n",
       "             ... \n",
       "228 min         1\n",
       "18 min          1\n",
       "205 min         1\n",
       "201 min         1\n",
       "191 min         1\n",
       "Name: count, Length: 220, dtype: int64"
      ]
     },
     "execution_count": 113,
     "metadata": {},
     "output_type": "execute_result"
    }
   ],
   "source": [
    "df.duration.value_counts()"
   ]
  },
  {
   "cell_type": "markdown",
   "id": "3ad0bc59",
   "metadata": {},
   "source": [
    "## Data Cleaning "
   ]
  },
  {
   "cell_type": "markdown",
   "id": "ee324b34",
   "metadata": {},
   "source": [
    "# changing Date from obj to date"
   ]
  },
  {
   "cell_type": "markdown",
   "id": "d2950397",
   "metadata": {},
   "source": [
    "#there was spaces in the date not allowing proper conversion "
   ]
  },
  {
   "cell_type": "markdown",
   "id": "3b6c42fc",
   "metadata": {},
   "source": [
    "### %B for full month name, and thee date was may 29, 2019  for example so the format should follow the same criteria to transform --> so we add the B  and d before the comma as they are in togeether, stripped the spaces as there were inconsistency in the column some had spaces before and some had spaces after, so to all have the same format, and then this was able to change it "
   ]
  },
  {
   "cell_type": "code",
   "execution_count": 114,
   "id": "6862a123",
   "metadata": {},
   "outputs": [],
   "source": [
    "df.date_added=df.date_added.str.strip()\n",
    "df['date_added']=pd.to_datetime(df['date_added'],format=\"%B %d, %Y\")"
   ]
  },
  {
   "cell_type": "markdown",
   "id": "04d1144a",
   "metadata": {},
   "source": [
    "###  changing release year from int to object "
   ]
  },
  {
   "cell_type": "code",
   "execution_count": 115,
   "id": "d8e69051",
   "metadata": {},
   "outputs": [],
   "source": [
    "df.release_year=df.release_year.astype(object)"
   ]
  },
  {
   "cell_type": "code",
   "execution_count": 116,
   "id": "28d13545",
   "metadata": {},
   "outputs": [
    {
     "data": {
      "application/vnd.microsoft.datawrangler.viewer.v0+json": {
       "columns": [
        {
         "name": "country",
         "rawType": "object",
         "type": "string"
        },
        {
         "name": "count",
         "rawType": "int64",
         "type": "integer"
        }
       ],
       "ref": "f1bf1929-99b2-4309-bfda-60eefe418919",
       "rows": [
        [
         "United States",
         "2818"
        ],
        [
         "India",
         "972"
        ],
        [
         "United Kingdom",
         "419"
        ],
        [
         "Japan",
         "245"
        ],
        [
         "South Korea",
         "199"
        ],
        [
         "Canada",
         "181"
        ],
        [
         "Spain",
         "145"
        ],
        [
         "France",
         "124"
        ],
        [
         "Mexico",
         "110"
        ],
        [
         "Egypt",
         "106"
        ],
        [
         "Turkey",
         "105"
        ],
        [
         "Nigeria",
         "95"
        ],
        [
         "Australia",
         "87"
        ],
        [
         "Taiwan",
         "81"
        ],
        [
         "Indonesia",
         "79"
        ],
        [
         "Brazil",
         "77"
        ],
        [
         "Philippines",
         "75"
        ],
        [
         "United Kingdom, United States",
         "75"
        ],
        [
         "United States, Canada",
         "73"
        ],
        [
         "Germany",
         "67"
        ],
        [
         "China",
         "66"
        ],
        [
         "Thailand",
         "61"
        ],
        [
         "Argentina",
         "56"
        ],
        [
         "Hong Kong",
         "53"
        ],
        [
         "United States, United Kingdom",
         "47"
        ],
        [
         "Canada, United States",
         "45"
        ],
        [
         "Italy",
         "45"
        ],
        [
         "Colombia",
         "35"
        ],
        [
         "South Africa",
         "30"
        ],
        [
         "France, Belgium",
         "27"
        ],
        [
         "Poland",
         "24"
        ],
        [
         "Singapore",
         "23"
        ],
        [
         "Malaysia",
         "22"
        ],
        [
         "Netherlands",
         "19"
        ],
        [
         "Pakistan",
         "18"
        ],
        [
         "United States, Germany",
         "17"
        ],
        [
         "United States, France",
         "16"
        ],
        [
         "United States, Japan",
         "16"
        ],
        [
         "Hong Kong, China",
         "16"
        ],
        [
         "Lebanon",
         "15"
        ],
        [
         "Russia",
         "15"
        ],
        [
         "United Arab Emirates",
         "14"
        ],
        [
         "United States, Mexico",
         "14"
        ],
        [
         "China, Hong Kong",
         "14"
        ],
        [
         "Chile",
         "14"
        ],
        [
         "Sweden",
         "13"
        ],
        [
         "Israel",
         "13"
        ],
        [
         "Mexico, United States",
         "13"
        ],
        [
         "Germany, United States",
         "13"
        ],
        [
         "Australia, United States",
         "13"
        ]
       ],
       "shape": {
        "columns": 1,
        "rows": 748
       }
      },
      "text/plain": [
       "country\n",
       "United States                                    2818\n",
       "India                                             972\n",
       "United Kingdom                                    419\n",
       "Japan                                             245\n",
       "South Korea                                       199\n",
       "                                                 ... \n",
       "Russia, Spain                                       1\n",
       "Croatia, Slovenia, Serbia, Montenegro               1\n",
       "Japan, Canada                                       1\n",
       "United States, France, South Korea, Indonesia       1\n",
       "United Arab Emirates, Jordan                        1\n",
       "Name: count, Length: 748, dtype: int64"
      ]
     },
     "execution_count": 116,
     "metadata": {},
     "output_type": "execute_result"
    }
   ],
   "source": [
    "df.country.value_counts()"
   ]
  },
  {
   "cell_type": "code",
   "execution_count": 117,
   "id": "9ec82eb6",
   "metadata": {},
   "outputs": [
    {
     "data": {
      "application/vnd.microsoft.datawrangler.viewer.v0+json": {
       "columns": [
        {
         "name": "listed_in",
         "rawType": "object",
         "type": "string"
        },
        {
         "name": "count",
         "rawType": "int64",
         "type": "integer"
        }
       ],
       "ref": "eda835ba-4102-4580-b2d2-3036fba3f850",
       "rows": [
        [
         "Dramas, International Movies",
         "362"
        ],
        [
         "Documentaries",
         "359"
        ],
        [
         "Stand-Up Comedy",
         "334"
        ],
        [
         "Comedies, Dramas, International Movies",
         "274"
        ],
        [
         "Dramas, Independent Movies, International Movies",
         "252"
        ],
        [
         "Kids' TV",
         "220"
        ],
        [
         "Children & Family Movies",
         "215"
        ],
        [
         "Children & Family Movies, Comedies",
         "201"
        ],
        [
         "Documentaries, International Movies",
         "186"
        ],
        [
         "Dramas, International Movies, Romantic Movies",
         "180"
        ],
        [
         "Comedies, International Movies",
         "176"
        ],
        [
         "Comedies, International Movies, Romantic Movies",
         "152"
        ],
        [
         "Dramas",
         "138"
        ],
        [
         "Dramas, International Movies, Thrillers",
         "134"
        ],
        [
         "Action & Adventure, Dramas, International Movies",
         "132"
        ],
        [
         "Action & Adventure",
         "128"
        ],
        [
         "International TV Shows, TV Dramas",
         "121"
        ],
        [
         "Comedies, Dramas, Independent Movies",
         "116"
        ],
        [
         "Crime TV Shows, International TV Shows, TV Dramas",
         "110"
        ],
        [
         "Comedies",
         "110"
        ],
        [
         "Action & Adventure, International Movies",
         "101"
        ],
        [
         "Dramas, Independent Movies",
         "100"
        ],
        [
         "Kids' TV, TV Comedies",
         "99"
        ],
        [
         "Reality TV",
         "95"
        ],
        [
         "International TV Shows, Romantic TV Shows, TV Comedies",
         "94"
        ],
        [
         "International TV Shows, Romantic TV Shows, TV Dramas",
         "90"
        ],
        [
         "Anime Series, International TV Shows",
         "88"
        ],
        [
         "Docuseries",
         "85"
        ],
        [
         "Documentaries, Music & Musicals",
         "82"
        ],
        [
         "Dramas, Thrillers",
         "82"
        ],
        [
         "Comedies, Romantic Movies",
         "80"
        ],
        [
         "Action & Adventure, Comedies, International Movies",
         "70"
        ],
        [
         "TV Comedies",
         "69"
        ],
        [
         "International Movies, Thrillers",
         "67"
        ],
        [
         "Documentaries, Sports Movies",
         "65"
        ],
        [
         "International TV Shows, Korean TV Shows, Romantic TV Shows",
         "65"
        ],
        [
         "Thrillers",
         "65"
        ],
        [
         "Crime TV Shows, International TV Shows, Spanish-Language TV Shows",
         "62"
        ],
        [
         "Action & Adventure, Sci-Fi & Fantasy",
         "62"
        ],
        [
         "Horror Movies, International Movies",
         "57"
        ],
        [
         "Dramas, International Movies, Music & Musicals",
         "57"
        ],
        [
         "Movies",
         "57"
        ],
        [
         "Horror Movies",
         "55"
        ],
        [
         "Comedies, International Movies, Music & Musicals",
         "55"
        ],
        [
         "Horror Movies, Thrillers",
         "54"
        ],
        [
         "Dramas, Romantic Movies",
         "52"
        ],
        [
         "Action & Adventure, Comedies",
         "51"
        ],
        [
         "Crime TV Shows, Docuseries",
         "50"
        ],
        [
         "Horror Movies, International Movies, Thrillers",
         "45"
        ],
        [
         "Documentaries, International Movies, Sports Movies",
         "44"
        ]
       ],
       "shape": {
        "columns": 1,
        "rows": 514
       }
      },
      "text/plain": [
       "listed_in\n",
       "Dramas, International Movies                        362\n",
       "Documentaries                                       359\n",
       "Stand-Up Comedy                                     334\n",
       "Comedies, Dramas, International Movies              274\n",
       "Dramas, Independent Movies, International Movies    252\n",
       "                                                   ... \n",
       "Action & Adventure, Cult Movies                       1\n",
       "Action & Adventure, Comedies, Music & Musicals        1\n",
       "Classic Movies, Horror Movies, Thrillers              1\n",
       "Children & Family Movies, Classic Movies, Dramas      1\n",
       "Cult Movies, Dramas, Thrillers                        1\n",
       "Name: count, Length: 514, dtype: int64"
      ]
     },
     "execution_count": 117,
     "metadata": {},
     "output_type": "execute_result"
    }
   ],
   "source": [
    "df.listed_in.value_counts()"
   ]
  },
  {
   "cell_type": "code",
   "execution_count": 118,
   "id": "566701be",
   "metadata": {},
   "outputs": [
    {
     "data": {
      "application/vnd.microsoft.datawrangler.viewer.v0+json": {
       "columns": [
        {
         "name": "index",
         "rawType": "int64",
         "type": "integer"
        },
        {
         "name": "show_id",
         "rawType": "object",
         "type": "string"
        },
        {
         "name": "type",
         "rawType": "object",
         "type": "string"
        },
        {
         "name": "title",
         "rawType": "object",
         "type": "string"
        },
        {
         "name": "director",
         "rawType": "object",
         "type": "unknown"
        },
        {
         "name": "cast",
         "rawType": "object",
         "type": "unknown"
        },
        {
         "name": "country",
         "rawType": "object",
         "type": "unknown"
        },
        {
         "name": "date_added",
         "rawType": "datetime64[ns]",
         "type": "datetime"
        },
        {
         "name": "release_year",
         "rawType": "object",
         "type": "unknown"
        },
        {
         "name": "rating",
         "rawType": "object",
         "type": "string"
        },
        {
         "name": "duration",
         "rawType": "object",
         "type": "string"
        },
        {
         "name": "listed_in",
         "rawType": "object",
         "type": "string"
        },
        {
         "name": "description",
         "rawType": "object",
         "type": "string"
        }
       ],
       "ref": "65f7441b-ccd4-4590-bb4f-2a9b22d810f2",
       "rows": [
        [
         "9",
         "s10",
         "Movie",
         "The Starling",
         "Theodore Melfi",
         "Melissa McCarthy, Chris O'Dowd, Kevin Kline, Timothy Olyphant, Daveed Diggs, Skyler Gisondo, Laura Harrier, Rosalind Chao, Kimberly Quinn, Loretta Devine, Ravi Kapoor",
         "United States",
         "2021-09-24 00:00:00",
         "2021",
         "PG-13",
         "104 min",
         "Comedies, Dramas",
         "A woman adjusting to life after a loss contends with a feisty bird that's taken over her garden — and a husband who's struggling to find a way forward."
        ],
        [
         "27",
         "s28",
         "Movie",
         "Grown Ups",
         "Dennis Dugan",
         "Adam Sandler, Kevin James, Chris Rock, David Spade, Rob Schneider, Salma Hayek, Maria Bello, Maya Rudolph, Colin Quinn, Tim Meadows, Joyce Van Patten",
         "United States",
         "2021-09-20 00:00:00",
         "2010",
         "PG-13",
         "103 min",
         "Comedies",
         "Mourning the loss of their beloved junior high basketball coach, five middle-aged pals reunite at a lake house and rediscover the joys of being a kid."
        ],
        [
         "113",
         "s114",
         "Movie",
         "Afterlife of the Party",
         "Stephen Herek",
         "Victoria Justice, Midori Francis, Robyn Scott, Adam Garcia, Timothy Renouf, Gloria Garcia, Myfanwy Waring, Spencer Sutherland",
         null,
         "2021-09-02 00:00:00",
         "2021",
         "TV-PG",
         "110 min",
         "Comedies, Romantic Movies",
         "Cassie lives to party... until she dies in a freak accident. Now this social butterfly needs to right her wrongs on Earth if she wants to earn her wings."
        ],
        [
         "152",
         "s153",
         "Movie",
         "Janoskians: Untold and Untrue",
         "Brett Weiner",
         "Jai Brooks, Luke Brooks, James Yammouni, Daniel Sahyounie, Beau Brooks",
         "United States",
         "2021-09-01 00:00:00",
         "2016",
         "TV-MA",
         "88 min",
         "Comedies",
         "Follow the story of three Australian brothers and their two friends who became an international sensation by posting pranks and gags on YouTube."
        ],
        [
         "158",
         "s159",
         "Movie",
         "Love Don't Cost a Thing",
         "Troy Byer",
         "Nick Cannon, Christina Milian, Kenan Thompson, Kal Penn, Steve Harvey, Al Thompson, Ashley Monique Clark, Elimu Nelson, Nichole Robinson, Melissa Schuman",
         "United States",
         "2021-09-01 00:00:00",
         "2003",
         "PG-13",
         "101 min",
         "Comedies, Romantic Movies",
         "A nerdy teen tries to make himself cool by association when he convinces a popular cheerleader to pose as his girlfriend."
        ],
        [
         "163",
         "s164",
         "Movie",
         "My Boss's Daughter",
         "David Zucker",
         "Ashton Kutcher, Tara Reid, Jeffrey Tambor, Andy Richter, Michael Madsen, Jon Abrahams, David Koechner, Carmen Electra, Kenan Thompson, Terence Stamp, Molly Shannon",
         "United States",
         "2021-09-01 00:00:00",
         "2003",
         "R",
         "86 min",
         "Comedies, Romantic Movies",
         "A young man house-sits for his mean boss, hoping to use it as an opportunity to win the heart of the boss's daughter, on whom he's long had a crush."
        ],
        [
         "179",
         "s180",
         "Movie",
         "The Nutty Professor",
         "Tom Shadyac",
         "Eddie Murphy, Jada Pinkett Smith, James Coburn, Larry Miller, Dave Chappelle, John Ales, Patricia Wilson, Jamal Mixon",
         "United States",
         "2021-09-01 00:00:00",
         "1996",
         "PG-13",
         "95 min",
         "Comedies, Romantic Movies",
         "After being made fun of for his weight, a kind and brainy professor takes a dose of a revolutionary formula that changes more than just his appearance."
        ],
        [
         "180",
         "s181",
         "Movie",
         "The Nutty Professor II: The Klumps",
         "Peter Segal",
         "Eddie Murphy, Janet Jackson, Larry Miller, John Ales, Richard Gant, Anna Maria Horsford, Melinda McGraw, Jamal Mixon, Gabriel Williams, Chris Elliott",
         null,
         "2021-09-01 00:00:00",
         "2000",
         "PG-13",
         "107 min",
         "Comedies, Romantic Movies",
         "After getting engaged, Sherman Klump prepares for his big day. But his sinister alter ego Buddy Love threatens to ruin his wedding and reputation."
        ],
        [
         "182",
         "s183",
         "Movie",
         "Welcome Home Roscoe Jenkins",
         "Malcolm D. Lee",
         "Martin Lawrence, James Earl Jones, Joy Bryant, Margaret Avery, Mike Epps, Mo'Nique, Cedric the Entertainer, Nicole Ari Parker, Michael Clarke Duncan, Louis C.K.",
         "United States",
         "2021-09-01 00:00:00",
         "2008",
         "PG-13",
         "114 min",
         "Comedies",
         "R.J. travels to Georgia for his parents' 50th anniversary. But after pompously flaunting his Hollywood lifestyle, he must examine what he's become."
        ],
        [
         "196",
         "s197",
         "Movie",
         "He's All That",
         "Mark Waters",
         "Addison Rae, Tanner Buchanan, Rachael Leigh Cook, Madison Pettis, Isabella Crovetti, Matthew Lillard, Peyton Meyer, Annie Jacob, Myra Molloy, Kourtney Kardashian",
         null,
         "2021-08-27 00:00:00",
         "2021",
         "TV-14",
         "92 min",
         "Comedies, Romantic Movies",
         "An influencer specializing in makeovers bets she can transform an unpopular classmate into prom king in this remake of the teen classic \"She's All That.\""
        ],
        [
         "284",
         "s285",
         "Movie",
         "The Kissing Booth 3",
         "Vince Marcello",
         "Joey King, Joel Courtney, Jacob Elordi, Molly Ringwald, Taylor Zakhar Perez, Maisie Richardson-Sellers, Meganne Young, Stephen Jennings",
         "United Kingdom, United States",
         "2021-08-11 00:00:00",
         "2021",
         "TV-14",
         "114 min",
         "Comedies, Romantic Movies",
         "Determined to make the most of her final summer before college, Elle plans the ultimate bucket list as she navigates what comes next with Noah and Lee."
        ],
        [
         "337",
         "s338",
         "Movie",
         "Good Luck Chuck",
         "Mark Helfrich",
         "Dane Cook, Jessica Alba, Dan Fogler, Ellia English, Sasha Pieterse, Annie Wood, Lonny Ross, Chelan Simmons, Simone Bailly, Jodelle Ferland, Crystal Lowe, Troy Gentile, Georgia Craig, Michelle Harrison, Chiara Zanni",
         "United States, Canada",
         "2021-08-01 00:00:00",
         "2007",
         "R",
         "99 min",
         "Comedies, Romantic Movies",
         "Every time Chuck breaks up with a girlfriend, she ends up engaged to her next boyfriend. Soon, women are dating Chuck in hopes of meeting Mr. Right."
        ],
        [
         "342",
         "s343",
         "Movie",
         "Major Payne",
         "Nick Castle",
         "Damon Wayans, Karyn Parsons, William Hickey, Michael Ironside, Albert Hall, Ross Bickell, Orlando Brown, Peyton Chesson-Fohl, Steven Martini",
         "United States",
         "2021-08-01 00:00:00",
         "1995",
         "PG-13",
         "97 min",
         "Comedies",
         "A hardened Marine is given his marching orders and must now lead a disorderly group of mismatched cadets into a junior ROTC competition."
        ],
        [
         "348",
         "s349",
         "Movie",
         "Poms",
         "Zara Hayes",
         "Diane Keaton, Jacki Weaver, Pam Grier, Rhea Perlman, Celia Weston, Alisha Boe, Charlie Tahan",
         "United Kingdom, United States",
         "2021-08-01 00:00:00",
         "2019",
         "PG-13",
         "91 min",
         "Comedies",
         "After moving to a retirement community, loner Martha befriends a fun-loving neighbor and forms a cheerleading club for young-at-heart seniors."
        ],
        [
         "352",
         "s353",
         "Movie",
         "The Edge of Seventeen",
         "Kelly Fremon Craig",
         "Hailee Steinfeld, Woody Harrelson, Kyra Sedgwick, Haley Lu Richardson, Blake Jenner, Hayden Szeto, Alexander Calvert, Eric Keenleyside",
         "United States, China",
         "2021-08-01 00:00:00",
         "2016",
         "R",
         "105 min",
         "Comedies, Dramas",
         "A troubled teenager finds high school life even less bearable after she catches her childhood best friend hooking up with her popular older brother."
        ],
        [
         "360",
         "s361",
         "Movie",
         "Valentine's Day",
         "Garry Marshall",
         "Jessica Alba, Kathy Bates, Jessica Biel, Bradley Cooper, Eric Dane, Patrick Dempsey, Hector Elizondo, Jamie Foxx, Jennifer Garner, Topher Grace, Anne Hathaway, Ashton Kutcher, Queen Latifah, Taylor Lautner, George Lopez, Shirley MacLaine, Emma Roberts, Julia Roberts, Taylor Swift",
         "United States",
         "2021-08-01 00:00:00",
         "2010",
         "PG-13",
         "125 min",
         "Comedies, Romantic Movies",
         "The tripwires of modern love are exposed in a carousel involving relationships and the single life on the most romantic day of the year: February 14."
        ],
        [
         "375",
         "s376",
         "Movie",
         "Resort to Love",
         "Steven Tsuchida",
         "Christina Milian, Jay Pharoah, Sinqua Walls, Tymberlee Hill, Jeryl Prescott Gallien, Christiani Pitts, Karen Obilom, Alexander Hodge, T.J. Power, Sylvaine Strike, Kayne Lee Harrison",
         null,
         "2021-07-29 00:00:00",
         "2021",
         "TV-14",
         "102 min",
         "Comedies, Romantic Movies",
         "Reeling from a broken heart and career meltdown, a singer takes a gig at a swanky island resort — where her ex-fiancé happens to be getting married."
        ],
        [
         "562",
         "s563",
         "Movie",
         "Austin Powers: International Man of Mystery",
         "Jay Roach",
         "Mike Myers, Elizabeth Hurley, Michael York, Mimi Rogers, Robert Wagner, Seth Green, Fabiana Udenio, Mindy Sterling, Paul Dillon, Charles Napier, Will Ferrell",
         "United States",
         "2021-07-01 00:00:00",
         "1997",
         "PG-13",
         "90 min",
         "Comedies",
         "A swingin' fashion photographer by day and a groovy British secret agent by night, superspy Austin Powers must foil the sinister schemes of Dr. Evil."
        ],
        [
         "582",
         "s583",
         "Movie",
         "Mother's Day",
         "Garry Marshall",
         "Jennifer Aniston, Kate Hudson, Julia Roberts, Jason Sudeikis, Britt Robertson, Timothy Olyphant, Margo Martindale, Shay Mitchell, Jack Whitehall, Hector Elizondo, Jon Lovitz, Larry Miller, Cameron Esposito, Aasif Mandvi, Jennifer Garner, Sarah Chalke",
         "United States",
         "2021-07-01 00:00:00",
         "2016",
         "PG-13",
         "118 min",
         "Comedies, Dramas",
         "The trials and tribulations of several Atlanta moms (and one clueless widower dad) make it a Mother's Day to remember in this ensemble comedy."
        ],
        [
         "583",
         "s584",
         "Movie",
         "No Strings Attached",
         "Ivan Reitman",
         "Natalie Portman, Ashton Kutcher, Kevin Kline, Cary Elwes, Greta Gerwig, Lake Bell, Olivia Thirlby, Ludacris, Jake Johnson, Mindy Kaling, Talia Balsam",
         "United States, United Kingdom",
         "2021-07-01 00:00:00",
         "2011",
         "R",
         "109 min",
         "Comedies, Romantic Movies",
         "\"Friends with benefits\" Emma and Adam are fine with their open relationship ... until those pesky little things called feelings enter the picture."
        ],
        [
         "584",
         "s585",
         "Movie",
         "Not Another Teen Movie",
         "Joel Gallen",
         "Chyler Leigh, Chris Evans, Jaime Pressly, Eric Christian Olsen, Mia Kirshner, Deon Richmond, Eric Jungmann, Ron Lester, Cody McMains, Sam Huntington, Lacey Chabert, JoAnna Garcia Swisher, Samm Levine, Cerina Vincent",
         "United States",
         "2021-07-01 00:00:00",
         "2001",
         "R",
         "89 min",
         "Comedies",
         "On a bet, a gridiron hero at John Hughes High School sets out to turn a bespectacled artist into a prom queen in this outrageous parody."
        ],
        [
         "592",
         "s593",
         "Movie",
         "She's Out of My League",
         "Jim Field Smith",
         "Jay Baruchel, Alice Eve, T.J. Miller, Mike Vogel, Nate Torrence, Krysten Ritter, Geoff Stults, Lindsay Sloane, Andrew Daly, Jasika Nicole, Kyle Bornheimer",
         "United States",
         "2021-07-01 00:00:00",
         "2010",
         "R",
         "106 min",
         "Comedies, Romantic Movies",
         "Kirk's a 5. His new girlfriend Molly's a 10. No one knows what she sees in him, including Kirk. Will his raging insecurities ruin this budding romance?"
        ],
        [
         "644",
         "s645",
         "Movie",
         "Good on Paper",
         "Kimmy Gatewood",
         "Iliza Shlesinger, Ryan Hansen, Margaret Cho, Rebecca Rittenhouse, Matt McGorry, Tyler Cameron, Taylor Hill, Kimia Behpoornia, Rebecca Delgado Smith, Beth Dover",
         null,
         "2021-06-23 00:00:00",
         "2021",
         "TV-MA",
         "94 min",
         "Comedies, Romantic Movies",
         "After years of putting her career first, a stand-up comic meets a guy who seems perfect: smart, nice, successful... and possibly too good to be true."
        ],
        [
         "793",
         "s794",
         "Movie",
         "Fools Rush In",
         "Andy Tennant",
         "Matthew Perry, Salma Hayek, Jon Tenney, Carlos Gómez, Tomas Milian, Siobhan Fallon Hogan, John Bennett Perry, Stanley DeSantis, Suzanne Snyder, Anne Betancourt, Jill Clayburgh",
         "United States",
         "2021-06-02 00:00:00",
         "1997",
         "PG-13",
         "109 min",
         "Comedies, Romantic Movies",
         "When a one-night stand results in a pregnancy, two strangers with opposite personalities rush into marriage then must deal with the consequences."
        ],
        [
         "814",
         "s815",
         "Movie",
         "The Four Seasons",
         "Alan Alda",
         "Alan Alda, Carol Burnett, Len Cariou, Sandy Dennis, Rita Moreno, Jack Weston, Bess Armstrong, Elizabeth Alda, Beatrice Alda",
         "United States",
         "2021-06-02 00:00:00",
         "1981",
         "PG",
         "108 min",
         "Comedies, Romantic Movies",
         "Three middle-aged couples vacation together every season until one of the men ditches his wife for a younger woman, tilting the group's dynamics."
        ],
        [
         "888",
         "s889",
         "Movie",
         "The Upshaws - The Afterparty",
         null,
         "David Spade, London Hughes, Fortune Feimster, Wanda Sykes, Mike Epps, Kim Fields",
         null,
         "2021-05-14 00:00:00",
         "2021",
         "TV-14",
         "32 min",
         "Comedies",
         "The comedic dream team from \"The Upshaws\" discuss the hit series, share some anecdotes from their own upbringings and play a little swag-centric game."
        ],
        [
         "912",
         "s913",
         "Movie",
         "The Circle - The Afterparty",
         null,
         "David Spade, London Hughes, Fortune Feimster",
         null,
         "2021-05-07 00:00:00",
         "2021",
         "TV-14",
         "35 min",
         "Comedies",
         "Stars of \"The Circle\" drop by to discuss Season 2's big winner, some juicy behind-the-scenes gossip and their enduring friendships with one another."
        ],
        [
         "931",
         "s932",
         "Movie",
         "Fun with Dick & Jane",
         "Dean Parisot",
         "Jim Carrey, Téa Leoni, Alec Baldwin, Richard Jenkins, Angie Harmon, John Michael Higgins, Richard Burgi, Carlos Jacott, Aaron Michael Drozin, Gloria Garayua",
         "United States",
         "2021-05-01 00:00:00",
         "2005",
         "PG-13",
         "91 min",
         "Comedies",
         "After losing their high-paying corporate jobs, an upwardly mobile couple turns to robbing banks to maintain their standard of living."
        ],
        [
         "948",
         "s949",
         "Movie",
         "Swiped",
         "Ann Deborah Fishman",
         "Kendall Ryan Sanders, Noah Centineo, Nathan Gamble, Kristen Johnston, Leigh-Allyn Baker, Christian Hutcherson, Shelby Wulfert, Steve Daron, Kalani Hilliker, Maddy Curley, George Hamilton",
         "United States",
         "2021-05-01 00:00:00",
         "2018",
         "TV-14",
         "94 min",
         "Comedies",
         "When two college roommates develop a discreet hookup app, casual affairs – and complications – soon run rampant on campus."
        ],
        [
         "951",
         "s952",
         "Movie",
         "The Sweetest Thing",
         "Roger Kumble",
         "Cameron Diaz, Christina Applegate, Selma Blair, Thomas Jane, Jason Bateman, Parker Posey, Frank Grillo, Eddie McClintock, Lillian Adams, Johnny Messner",
         "United States",
         "2021-05-01 00:00:00",
         "2002",
         "R",
         "89 min",
         "Comedies, Romantic Movies",
         "After meeting her potential soul mate, a commitment-averse young woman hits the road with her best friend on a wild, raunchy misadventure to find him."
        ],
        [
         "1028",
         "s1029",
         "Movie",
         "Dad Stop Embarrassing Me - The Afterparty",
         null,
         "David Spade, London Hughes, Fortune Feimster, Jamie Foxx, David Alan Grier, Kyla-Drew, Porscha Coleman, Jonathan Kite, Corinne Foxx",
         null,
         "2021-04-16 00:00:00",
         "2021",
         "TV-14",
         "37 min",
         "Comedies",
         "Jamie Foxx, David Alan Grier and more from the cast of the family comedy discuss the show, humiliating family moments, bad BBQ dishes and sitcom openings."
        ],
        [
         "1083",
         "s1084",
         "Movie",
         "The Stand-In",
         "Jamie Babbit",
         "Drew Barrymore, Michael Zegen, T.J. Miller, Holland Taylor, Ellie Kemper, Andrew Rannells, Michelle Buteau",
         "United States",
         "2021-04-10 00:00:00",
         "2020",
         "R",
         "102 min",
         "Comedies",
         "Her career in shambles, a reclusive movie star hires her stand-in to go to rehab for her, not expecting how much the look-alike will relish the role."
        ],
        [
         "1102",
         "s1103",
         "Movie",
         "Accepted",
         "Steve Pink",
         "Justin Long, Jonah Hill, Adam Herschman, Columbus Short, Maria Thayer, Lewis Black, Blake Lively, Mark Derwin, Ann Cusack, Robin Lord Taylor, Hannah Marks, Anthony Heald",
         "United States",
         "2021-04-02 00:00:00",
         "2006",
         "PG-13",
         "93 min",
         "Comedies",
         "Rejected by every college he applied to, a high school senior invents a fake university that will fool his parents and help his fellow outcasts."
        ],
        [
         "1111",
         "s1112",
         "Movie",
         "Wild Child",
         "Nick Moore",
         "Emma Roberts, Kimberley Nixon, Juno Temple, Linzey Cocker, Sophie Wu, Alex Pettyfer, Georgia King, Natasha Richardson, Aidan Quinn, Lexi Ainsworth",
         "United States, United Kingdom, France",
         "2021-04-02 00:00:00",
         "2008",
         "PG-13",
         "98 min",
         "Comedies, Romantic Movies",
         "Accustomed to getting her way, a wealthy teenage girl from Los Angeles is sent to a strict boarding school in England to clean up her act."
        ],
        [
         "1121",
         "s1122",
         "Movie",
         "Legally Blonde",
         "Robert Luketic",
         "Reese Witherspoon, Luke Wilson, Selma Blair, Matthew Davis, Victor Garber, Jennifer Coolidge",
         "United States",
         "2021-04-01 00:00:00",
         "2001",
         "PG-13",
         "96 min",
         "Comedies, Romantic Movies",
         "When dazzling L.A. sorority girl Elle Woods gets dumped by her snobby boyfriend, she decides to win him back by following him to Harvard Law School."
        ],
        [
         "1144",
         "s1145",
         "Movie",
         "Yes Man",
         "Peyton Reed",
         "Jim Carrey, Zooey Deschanel, Bradley Cooper, John Michael Higgins, Rhys Darby, Danny Masterson, Fionnula Flanagan, Terence Stamp, Sasha Alexander, Molly Sims",
         "United States, United Kingdom",
         "2021-04-01 00:00:00",
         "2008",
         "PG-13",
         "104 min",
         "Comedies, Romantic Movies",
         "After a bitter divorce, a loan officer falls under the sway of a self-help guru who urges him to say yes to everything that comes his way for a year."
        ],
        [
         "1157",
         "s1158",
         "Movie",
         "Bad Trip",
         null,
         "Eric André, Lil Rel Howery, Tiffany Haddish, Michaela Conlin",
         "United States",
         "2021-03-26 00:00:00",
         "2021",
         "TV-MA",
         "87 min",
         "Comedies",
         "In this hidden-camera prank comedy, two best friends bond on a wild road trip to New York as they pull real people into their raunchy, raucous antics."
        ],
        [
         "1262",
         "s1263",
         "Movie",
         "Ginny & Georgia - The Afterparty",
         null,
         "David Spade, London Hughes, Fortune Feimster, Brianne Howey, Antonia Gentry, Jennifer Robertson, Sara Waisglass",
         null,
         "2021-02-26 00:00:00",
         "2021",
         "TV-MA",
         "35 min",
         "Comedies, Dramas",
         "Cast members of the hit Netflix show join the hosts to unpack the drama of Season 1, and Cristela Alonzo offers tips for being the new kid at school."
        ],
        [
         "1287",
         "s1288",
         "Movie",
         "Fate: The Winx Saga - The Afterparty",
         null,
         "David Spade, London Hughes, Fortune Feimster, Abigail Cowen, Hannah Van Der Westhuysen, Precious Mustapha, Eliot Salt, Elisha Applebaum",
         "United Kingdom",
         "2021-02-20 00:00:00",
         "2021",
         "TV-14",
         "36 min",
         "Comedies, Dramas",
         "Stars of the fiery hit discuss the show's magic, play trivia and chow down on hot wings. Then, Taylor Tomlinson shares how she would use fairy powers."
        ],
        [
         "1318",
         "s1319",
         "Movie",
         "To All The Boys: Always And Forever",
         "Michael Fimognari",
         "Lana Condor, Noah Centineo, Janel Parrish, Anna Cathcart, Ross Butler, Madeleine Arthur, Emilija Baranac, Trezzo Mahoro, Sarayu Blue, John Corbett, Kelcey Mawema, Sofia Black-D'Elia, Henry Thomas",
         "United States",
         "2021-02-12 00:00:00",
         "2021",
         "TV-14",
         "116 min",
         "Comedies, Romantic Movies",
         "Senior year of high school takes center stage as Lara Jean returns from a family trip to Korea and considers her college plans — with and without Peter."
        ],
        [
         "1333",
         "s1334",
         "Movie",
         "War Dogs",
         "Todd Phillips",
         "Jonah Hill, Miles Teller, Ana de Armas, Kevin Pollak, Bradley Cooper, Shaun Toub, Steve Lantz, Gregg Weiner, JB Blanc, Patrick St. Esprit",
         "United States, Cambodia, Romania",
         "2021-02-08 00:00:00",
         "2016",
         "R",
         "114 min",
         "Comedies, Dramas",
         "A massage therapist gets in over his head when he partners with a charismatic childhood pal in the lucrative but shady business of global arms dealing."
        ],
        [
         "1389",
         "s1390",
         "Movie",
         "Friendsgiving",
         "Nicol Paone",
         "Malin Akerman, Kat Dennings, Aisha Tyler, Jane Seymour, Jack Donnelly, Chelsea Peretti, Christine Taylor, Ryan Hansen, Deon Cole, Wanda Sykes",
         "United States",
         "2021-01-21 00:00:00",
         "2020",
         "R",
         "95 min",
         "Comedies",
         "A quiet holiday dinner among friends turns into a chaotic night of illicit activity and compromising situations when uninvited guests crash the party."
        ],
        [
         "1446",
         "s1447",
         "Movie",
         "Bad Grandpa .5",
         "Jeff Tremaine",
         "Johnny Knoxville, Jackson Nicoll, Greg Harris, Georgina Cates, Kamber Hejlik, Jill Killington, Madison Davis, George Faughnan, Spike Jonze, Catherine Keener",
         "United States",
         "2021-01-01 00:00:00",
         "2014",
         "TV-MA",
         "87 min",
         "Comedies",
         "The geriatric antics of Irving Zisman continue in this next installment of the Jackass franchise, which features unused footage from the first film."
        ],
        [
         "1459",
         "s1460",
         "Movie",
         "Mean Girls 2",
         "Melanie Mayron",
         "Meaghan Martin, Maiara Walsh, Jennifer Stone, Nicole Gale Anderson, Claire Holt, Diego Boneta, Linden Ashby, Rhoda Griffis, Mike Pniewski, Patrick Johnson, Tim Meadows",
         "United States",
         "2021-01-01 00:00:00",
         "2011",
         "PG-13",
         "98 min",
         "Comedies",
         "The father of a high school pariah offers to pay another student's way through college if she makes friends with his outcast daughter."
        ],
        [
         "1486",
         "s1487",
         "Movie",
         "Death to 2020",
         "Al Campbell, Alice Mathias",
         "Samuel L. Jackson, Hugh Grant, Lisa Kudrow, Kumail Nanjiani, Tracey Ullman, Samson Kayo, Leslie Jones, Diane Morgan, Cristin Milioti, Joe Keery",
         "United States",
         "2020-12-27 00:00:00",
         "2020",
         "TV-MA",
         "71 min",
         "Comedies",
         "As the year we all want to end finally does, take a look back at 2020's mad glory in this comedic retrospective from the creators of \"Black Mirror.\""
        ],
        [
         "1504",
         "s1505",
         "Movie",
         "QLIMAX THE SOURCE",
         "Daan Jansen, Stijn Verlinde",
         "Michael Brons, Nigel Coppen, Thomas Velderman, Carlos Antunes, Marco Spronk, Willem Rebergen, Joshua Dutrieux, Bob van der Palen, Sefa Vlaarkamp",
         "Netherlands",
         "2020-12-22 00:00:00",
         "2020",
         "TV-14",
         "57 min",
         "Music & Musicals",
         "Seven priests. Six realms. One destiny. Begin an immersive audiovisual hardstyle trip into the mystical world of Qlimax — and become one with the sound."
        ],
        [
         "1510",
         "s1511",
         "Movie",
         "The Con Is On",
         "James Haslam",
         "Uma Thurman, Tim Roth, Alice Eve, Parker Posey, Maggie Q, Crispin Glover, Michael Sirow, Sofía Vergara, Stephen Fry, Sharon Maughan, Susan Traylor, Wilmer Calderon, Richard Reid, Ethan Cohn, Nathalie Love",
         "United States, United Kingdom",
         "2020-12-21 00:00:00",
         "2018",
         "R",
         "95 min",
         "Comedies",
         "Two wedded partners-in-crime flee from their massive debt to a deadly crime boss and hatch a jewel heist that could be their ticket to total freedom."
        ],
        [
         "1515",
         "s1516",
         "Movie",
         "Guest House",
         "Sam Macaroni",
         "Pauly Shore, Mike Castle, Aimee Teegarden, Billy Zane, Charlotte McKinney, Louis Ferrigno,  Jr., Erik Griffin, Bobby Lee, Punkie Johnson, Mikaela Hoover, Chris Kattan, Steve-O",
         "United States",
         "2020-12-18 00:00:00",
         "2020",
         "R",
         "84 min",
         "Comedies",
         "The only downside to a young couple’s new dream home — and fresh start — is the nightmare of the raucous houseguest in back who refuses to leave."
        ],
        [
         "1550",
         "s1551",
         "Movie",
         "A California Christmas",
         "Shaun Paul Piccinino",
         "Lauren Swickard, Josh Swickard, Ali Afshar, David Del Rio, Natalia Mann, Katelyn Epperly, Gunnar Anderson, Julie Lancaster, Amanda Detmer",
         "United States",
         "2020-12-14 00:00:00",
         "2020",
         "PG-13",
         "107 min",
         "Comedies, Romantic Movies",
         "With his carefree lifestyle on the line, a wealthy charmer poses as a ranch hand to get a hardworking farmer to sell her family’s land before Christmas."
        ],
        [
         "1553",
         "s1554",
         "Movie",
         "The Netflix Afterparty: The Best Shows of The Worst Year",
         null,
         "David Spade, London Hughes, Fortune Feimster",
         "United States",
         "2020-12-13 00:00:00",
         "2020",
         "TV-MA",
         "59 min",
         "Comedies",
         "David Spade, Fortune Feimster and London Hughes welcome guests from \"Tiger King,\" \"Emily in Paris,\" \"The Queen's Gambit\" and more. Plus: Kevin Hart."
        ]
       ],
       "shape": {
        "columns": 12,
        "rows": 232
       }
      },
      "text/html": [
       "<div>\n",
       "<style scoped>\n",
       "    .dataframe tbody tr th:only-of-type {\n",
       "        vertical-align: middle;\n",
       "    }\n",
       "\n",
       "    .dataframe tbody tr th {\n",
       "        vertical-align: top;\n",
       "    }\n",
       "\n",
       "    .dataframe thead th {\n",
       "        text-align: right;\n",
       "    }\n",
       "</style>\n",
       "<table border=\"1\" class=\"dataframe\">\n",
       "  <thead>\n",
       "    <tr style=\"text-align: right;\">\n",
       "      <th></th>\n",
       "      <th>show_id</th>\n",
       "      <th>type</th>\n",
       "      <th>title</th>\n",
       "      <th>director</th>\n",
       "      <th>cast</th>\n",
       "      <th>country</th>\n",
       "      <th>date_added</th>\n",
       "      <th>release_year</th>\n",
       "      <th>rating</th>\n",
       "      <th>duration</th>\n",
       "      <th>listed_in</th>\n",
       "      <th>description</th>\n",
       "    </tr>\n",
       "  </thead>\n",
       "  <tbody>\n",
       "    <tr>\n",
       "      <th>9</th>\n",
       "      <td>s10</td>\n",
       "      <td>Movie</td>\n",
       "      <td>The Starling</td>\n",
       "      <td>Theodore Melfi</td>\n",
       "      <td>Melissa McCarthy, Chris O'Dowd, Kevin Kline, T...</td>\n",
       "      <td>United States</td>\n",
       "      <td>2021-09-24</td>\n",
       "      <td>2021</td>\n",
       "      <td>PG-13</td>\n",
       "      <td>104 min</td>\n",
       "      <td>Comedies, Dramas</td>\n",
       "      <td>A woman adjusting to life after a loss contend...</td>\n",
       "    </tr>\n",
       "    <tr>\n",
       "      <th>27</th>\n",
       "      <td>s28</td>\n",
       "      <td>Movie</td>\n",
       "      <td>Grown Ups</td>\n",
       "      <td>Dennis Dugan</td>\n",
       "      <td>Adam Sandler, Kevin James, Chris Rock, David S...</td>\n",
       "      <td>United States</td>\n",
       "      <td>2021-09-20</td>\n",
       "      <td>2010</td>\n",
       "      <td>PG-13</td>\n",
       "      <td>103 min</td>\n",
       "      <td>Comedies</td>\n",
       "      <td>Mourning the loss of their beloved junior high...</td>\n",
       "    </tr>\n",
       "    <tr>\n",
       "      <th>113</th>\n",
       "      <td>s114</td>\n",
       "      <td>Movie</td>\n",
       "      <td>Afterlife of the Party</td>\n",
       "      <td>Stephen Herek</td>\n",
       "      <td>Victoria Justice, Midori Francis, Robyn Scott,...</td>\n",
       "      <td>NaN</td>\n",
       "      <td>2021-09-02</td>\n",
       "      <td>2021</td>\n",
       "      <td>TV-PG</td>\n",
       "      <td>110 min</td>\n",
       "      <td>Comedies, Romantic Movies</td>\n",
       "      <td>Cassie lives to party... until she dies in a f...</td>\n",
       "    </tr>\n",
       "    <tr>\n",
       "      <th>152</th>\n",
       "      <td>s153</td>\n",
       "      <td>Movie</td>\n",
       "      <td>Janoskians: Untold and Untrue</td>\n",
       "      <td>Brett Weiner</td>\n",
       "      <td>Jai Brooks, Luke Brooks, James Yammouni, Danie...</td>\n",
       "      <td>United States</td>\n",
       "      <td>2021-09-01</td>\n",
       "      <td>2016</td>\n",
       "      <td>TV-MA</td>\n",
       "      <td>88 min</td>\n",
       "      <td>Comedies</td>\n",
       "      <td>Follow the story of three Australian brothers ...</td>\n",
       "    </tr>\n",
       "    <tr>\n",
       "      <th>158</th>\n",
       "      <td>s159</td>\n",
       "      <td>Movie</td>\n",
       "      <td>Love Don't Cost a Thing</td>\n",
       "      <td>Troy Byer</td>\n",
       "      <td>Nick Cannon, Christina Milian, Kenan Thompson,...</td>\n",
       "      <td>United States</td>\n",
       "      <td>2021-09-01</td>\n",
       "      <td>2003</td>\n",
       "      <td>PG-13</td>\n",
       "      <td>101 min</td>\n",
       "      <td>Comedies, Romantic Movies</td>\n",
       "      <td>A nerdy teen tries to make himself cool by ass...</td>\n",
       "    </tr>\n",
       "    <tr>\n",
       "      <th>...</th>\n",
       "      <td>...</td>\n",
       "      <td>...</td>\n",
       "      <td>...</td>\n",
       "      <td>...</td>\n",
       "      <td>...</td>\n",
       "      <td>...</td>\n",
       "      <td>...</td>\n",
       "      <td>...</td>\n",
       "      <td>...</td>\n",
       "      <td>...</td>\n",
       "      <td>...</td>\n",
       "      <td>...</td>\n",
       "    </tr>\n",
       "    <tr>\n",
       "      <th>8536</th>\n",
       "      <td>s8537</td>\n",
       "      <td>Movie</td>\n",
       "      <td>The Trip to Spain</td>\n",
       "      <td>Michael Winterbottom</td>\n",
       "      <td>Steve Coogan, Rob Brydon, Marta Barrio, Claire...</td>\n",
       "      <td>United Kingdom</td>\n",
       "      <td>2017-12-12</td>\n",
       "      <td>2016</td>\n",
       "      <td>TV-MA</td>\n",
       "      <td>108 min</td>\n",
       "      <td>Comedies</td>\n",
       "      <td>Comedians Steve Coogan and Rob Brydon gorge on...</td>\n",
       "    </tr>\n",
       "    <tr>\n",
       "      <th>8542</th>\n",
       "      <td>s8543</td>\n",
       "      <td>Movie</td>\n",
       "      <td>The Ugly Truth</td>\n",
       "      <td>Robert Luketic</td>\n",
       "      <td>Katherine Heigl, Gerard Butler, Eric Winter, J...</td>\n",
       "      <td>United States</td>\n",
       "      <td>2019-04-25</td>\n",
       "      <td>2009</td>\n",
       "      <td>R</td>\n",
       "      <td>96 min</td>\n",
       "      <td>Comedies, Romantic Movies</td>\n",
       "      <td>A chauvinistic morning-show commentator tries ...</td>\n",
       "    </tr>\n",
       "    <tr>\n",
       "      <th>8608</th>\n",
       "      <td>s8609</td>\n",
       "      <td>Movie</td>\n",
       "      <td>Total Frat Movie</td>\n",
       "      <td>Warren P. Sonoda</td>\n",
       "      <td>Justin Deeley, Alex House, Steven Yaffee, Rebe...</td>\n",
       "      <td>United States</td>\n",
       "      <td>2016-12-19</td>\n",
       "      <td>2016</td>\n",
       "      <td>NR</td>\n",
       "      <td>94 min</td>\n",
       "      <td>Comedies</td>\n",
       "      <td>A disbanded fraternity tries to get their act ...</td>\n",
       "    </tr>\n",
       "    <tr>\n",
       "      <th>8730</th>\n",
       "      <td>s8731</td>\n",
       "      <td>Movie</td>\n",
       "      <td>Where's the Money</td>\n",
       "      <td>Scott Zabielski</td>\n",
       "      <td>Andrew Bachelor, Kat Graham, Mike Epps, Terry ...</td>\n",
       "      <td>United States</td>\n",
       "      <td>2018-01-22</td>\n",
       "      <td>2017</td>\n",
       "      <td>R</td>\n",
       "      <td>86 min</td>\n",
       "      <td>Comedies</td>\n",
       "      <td>Hunting for a stash of stolen money, a sharp-w...</td>\n",
       "    </tr>\n",
       "    <tr>\n",
       "      <th>8787</th>\n",
       "      <td>s8788</td>\n",
       "      <td>Movie</td>\n",
       "      <td>You Can’t Fight Christmas</td>\n",
       "      <td>Kenny Young</td>\n",
       "      <td>Brely Evans, Andra Fuller, Persia White, Porsc...</td>\n",
       "      <td>United States</td>\n",
       "      <td>2017-12-19</td>\n",
       "      <td>2017</td>\n",
       "      <td>TV-PG</td>\n",
       "      <td>85 min</td>\n",
       "      <td>Comedies, Romantic Movies</td>\n",
       "      <td>After stepping in to revitalize his family's h...</td>\n",
       "    </tr>\n",
       "  </tbody>\n",
       "</table>\n",
       "<p>232 rows × 12 columns</p>\n",
       "</div>"
      ],
      "text/plain": [
       "     show_id   type                          title              director  \\\n",
       "9        s10  Movie                   The Starling        Theodore Melfi   \n",
       "27       s28  Movie                      Grown Ups          Dennis Dugan   \n",
       "113     s114  Movie         Afterlife of the Party         Stephen Herek   \n",
       "152     s153  Movie  Janoskians: Untold and Untrue          Brett Weiner   \n",
       "158     s159  Movie        Love Don't Cost a Thing             Troy Byer   \n",
       "...      ...    ...                            ...                   ...   \n",
       "8536   s8537  Movie              The Trip to Spain  Michael Winterbottom   \n",
       "8542   s8543  Movie                 The Ugly Truth        Robert Luketic   \n",
       "8608   s8609  Movie               Total Frat Movie      Warren P. Sonoda   \n",
       "8730   s8731  Movie              Where's the Money       Scott Zabielski   \n",
       "8787   s8788  Movie      You Can’t Fight Christmas           Kenny Young   \n",
       "\n",
       "                                                   cast         country  \\\n",
       "9     Melissa McCarthy, Chris O'Dowd, Kevin Kline, T...   United States   \n",
       "27    Adam Sandler, Kevin James, Chris Rock, David S...   United States   \n",
       "113   Victoria Justice, Midori Francis, Robyn Scott,...             NaN   \n",
       "152   Jai Brooks, Luke Brooks, James Yammouni, Danie...   United States   \n",
       "158   Nick Cannon, Christina Milian, Kenan Thompson,...   United States   \n",
       "...                                                 ...             ...   \n",
       "8536  Steve Coogan, Rob Brydon, Marta Barrio, Claire...  United Kingdom   \n",
       "8542  Katherine Heigl, Gerard Butler, Eric Winter, J...   United States   \n",
       "8608  Justin Deeley, Alex House, Steven Yaffee, Rebe...   United States   \n",
       "8730  Andrew Bachelor, Kat Graham, Mike Epps, Terry ...   United States   \n",
       "8787  Brely Evans, Andra Fuller, Persia White, Porsc...   United States   \n",
       "\n",
       "     date_added release_year rating duration                  listed_in  \\\n",
       "9    2021-09-24         2021  PG-13  104 min           Comedies, Dramas   \n",
       "27   2021-09-20         2010  PG-13  103 min                   Comedies   \n",
       "113  2021-09-02         2021  TV-PG  110 min  Comedies, Romantic Movies   \n",
       "152  2021-09-01         2016  TV-MA   88 min                   Comedies   \n",
       "158  2021-09-01         2003  PG-13  101 min  Comedies, Romantic Movies   \n",
       "...         ...          ...    ...      ...                        ...   \n",
       "8536 2017-12-12         2016  TV-MA  108 min                   Comedies   \n",
       "8542 2019-04-25         2009      R   96 min  Comedies, Romantic Movies   \n",
       "8608 2016-12-19         2016     NR   94 min                   Comedies   \n",
       "8730 2018-01-22         2017      R   86 min                   Comedies   \n",
       "8787 2017-12-19         2017  TV-PG   85 min  Comedies, Romantic Movies   \n",
       "\n",
       "                                            description  \n",
       "9     A woman adjusting to life after a loss contend...  \n",
       "27    Mourning the loss of their beloved junior high...  \n",
       "113   Cassie lives to party... until she dies in a f...  \n",
       "152   Follow the story of three Australian brothers ...  \n",
       "158   A nerdy teen tries to make himself cool by ass...  \n",
       "...                                                 ...  \n",
       "8536  Comedians Steve Coogan and Rob Brydon gorge on...  \n",
       "8542  A chauvinistic morning-show commentator tries ...  \n",
       "8608  A disbanded fraternity tries to get their act ...  \n",
       "8730  Hunting for a stash of stolen money, a sharp-w...  \n",
       "8787  After stepping in to revitalize his family's h...  \n",
       "\n",
       "[232 rows x 12 columns]"
      ]
     },
     "execution_count": 118,
     "metadata": {},
     "output_type": "execute_result"
    }
   ],
   "source": [
    "df[\n",
    "    (df['type'] == \"Movie\") &\n",
    "    (df['listed_in'].isin([\n",
    "        'Comedies',\n",
    "        'International Movies',\n",
    "        'Music & Musicals',\n",
    "        'Comedies, Romantic Movies',\n",
    "        'Comedies, Dramas',\n",
    "        'International Movies'\n",
    "    ]))\n",
    "    \n",
    "]\n"
   ]
  },
  {
   "cell_type": "markdown",
   "id": "52dcc86b",
   "metadata": {},
   "source": [
    "### Replacing missing values"
   ]
  },
  {
   "cell_type": "code",
   "execution_count": 119,
   "id": "e6dbe44e",
   "metadata": {},
   "outputs": [],
   "source": [
    "df['director']=df['director'].fillna(\"Not identified\") "
   ]
  },
  {
   "cell_type": "code",
   "execution_count": 120,
   "id": "57039fcd",
   "metadata": {},
   "outputs": [
    {
     "data": {
      "text/plain": [
       "np.int64(0)"
      ]
     },
     "execution_count": 120,
     "metadata": {},
     "output_type": "execute_result"
    }
   ],
   "source": [
    "df.director.isna().sum()"
   ]
  },
  {
   "cell_type": "code",
   "execution_count": 121,
   "id": "18392104",
   "metadata": {},
   "outputs": [],
   "source": [
    "df['cast']=df['cast'].fillna(\"Not identified\") "
   ]
  },
  {
   "cell_type": "code",
   "execution_count": 122,
   "id": "33aa125c",
   "metadata": {},
   "outputs": [
    {
     "data": {
      "text/plain": [
       "np.int64(0)"
      ]
     },
     "execution_count": 122,
     "metadata": {},
     "output_type": "execute_result"
    }
   ],
   "source": [
    "df.director.isna().sum()"
   ]
  },
  {
   "cell_type": "code",
   "execution_count": 123,
   "id": "74f24cd6",
   "metadata": {},
   "outputs": [],
   "source": [
    "df['country'] = df['country'].fillna(\"Not identified\")\n"
   ]
  },
  {
   "cell_type": "code",
   "execution_count": 124,
   "id": "c9f9c74f",
   "metadata": {},
   "outputs": [
    {
     "data": {
      "application/vnd.microsoft.datawrangler.viewer.v0+json": {
       "columns": [
        {
         "name": "country",
         "rawType": "object",
         "type": "string"
        },
        {
         "name": "count",
         "rawType": "int64",
         "type": "integer"
        }
       ],
       "ref": "5d7133c5-fe61-4bc3-88e0-0a3723a83f56",
       "rows": [
        [
         "United States",
         "2818"
        ],
        [
         "India",
         "972"
        ],
        [
         "Not identified",
         "831"
        ],
        [
         "United Kingdom",
         "419"
        ],
        [
         "Japan",
         "245"
        ],
        [
         "South Korea",
         "199"
        ],
        [
         "Canada",
         "181"
        ],
        [
         "Spain",
         "145"
        ],
        [
         "France",
         "124"
        ],
        [
         "Mexico",
         "110"
        ],
        [
         "Egypt",
         "106"
        ],
        [
         "Turkey",
         "105"
        ],
        [
         "Nigeria",
         "95"
        ],
        [
         "Australia",
         "87"
        ],
        [
         "Taiwan",
         "81"
        ],
        [
         "Indonesia",
         "79"
        ],
        [
         "Brazil",
         "77"
        ],
        [
         "Philippines",
         "75"
        ],
        [
         "United Kingdom, United States",
         "75"
        ],
        [
         "United States, Canada",
         "73"
        ],
        [
         "Germany",
         "67"
        ],
        [
         "China",
         "66"
        ],
        [
         "Thailand",
         "61"
        ],
        [
         "Argentina",
         "56"
        ],
        [
         "Hong Kong",
         "53"
        ],
        [
         "United States, United Kingdom",
         "47"
        ],
        [
         "Italy",
         "45"
        ],
        [
         "Canada, United States",
         "45"
        ],
        [
         "Colombia",
         "35"
        ],
        [
         "South Africa",
         "30"
        ],
        [
         "France, Belgium",
         "27"
        ],
        [
         "Poland",
         "24"
        ],
        [
         "Singapore",
         "23"
        ],
        [
         "Malaysia",
         "22"
        ],
        [
         "Netherlands",
         "19"
        ],
        [
         "Pakistan",
         "18"
        ],
        [
         "United States, Germany",
         "17"
        ],
        [
         "United States, Japan",
         "16"
        ],
        [
         "United States, France",
         "16"
        ],
        [
         "Hong Kong, China",
         "16"
        ],
        [
         "Lebanon",
         "15"
        ],
        [
         "Russia",
         "15"
        ],
        [
         "United States, Mexico",
         "14"
        ],
        [
         "China, Hong Kong",
         "14"
        ],
        [
         "Chile",
         "14"
        ],
        [
         "United Arab Emirates",
         "14"
        ],
        [
         "Sweden",
         "13"
        ],
        [
         "Israel",
         "13"
        ],
        [
         "Denmark",
         "13"
        ],
        [
         "Mexico, United States",
         "13"
        ]
       ],
       "shape": {
        "columns": 1,
        "rows": 749
       }
      },
      "text/plain": [
       "country\n",
       "United States                                             2818\n",
       "India                                                      972\n",
       "Not identified                                             831\n",
       "United Kingdom                                             419\n",
       "Japan                                                      245\n",
       "                                                          ... \n",
       "Germany, Canada, United States                               1\n",
       "Denmark, United Kingdom, South Africa, Sweden, Belgium       1\n",
       "Serbia, South Korea, Slovenia                                1\n",
       "United Kingdom, Spain, Belgium                               1\n",
       "South Africa, United States, Japan                           1\n",
       "Name: count, Length: 749, dtype: int64"
      ]
     },
     "execution_count": 124,
     "metadata": {},
     "output_type": "execute_result"
    }
   ],
   "source": [
    "df['country'].value_counts()"
   ]
  },
  {
   "cell_type": "markdown",
   "id": "ef7f89a1",
   "metadata": {},
   "source": [
    "## Droping NA less than 5%"
   ]
  },
  {
   "cell_type": "code",
   "execution_count": 125,
   "id": "67899129",
   "metadata": {},
   "outputs": [],
   "source": [
    "droping=df[['date_added','rating','duration']].columns\n",
    "df=df.dropna(subset=droping)"
   ]
  },
  {
   "cell_type": "code",
   "execution_count": 126,
   "id": "3c0fa830",
   "metadata": {},
   "outputs": [
    {
     "name": "stdout",
     "output_type": "stream",
     "text": [
      "<class 'pandas.core.frame.DataFrame'>\n",
      "Index: 8790 entries, 0 to 8806\n",
      "Data columns (total 12 columns):\n",
      " #   Column        Non-Null Count  Dtype         \n",
      "---  ------        --------------  -----         \n",
      " 0   show_id       8790 non-null   object        \n",
      " 1   type          8790 non-null   object        \n",
      " 2   title         8790 non-null   object        \n",
      " 3   director      8790 non-null   object        \n",
      " 4   cast          8790 non-null   object        \n",
      " 5   country       8790 non-null   object        \n",
      " 6   date_added    8790 non-null   datetime64[ns]\n",
      " 7   release_year  8790 non-null   object        \n",
      " 8   rating        8790 non-null   object        \n",
      " 9   duration      8790 non-null   object        \n",
      " 10  listed_in     8790 non-null   object        \n",
      " 11  description   8790 non-null   object        \n",
      "dtypes: datetime64[ns](1), object(11)\n",
      "memory usage: 892.7+ KB\n"
     ]
    }
   ],
   "source": [
    "df.info( )"
   ]
  },
  {
   "cell_type": "markdown",
   "id": "9a734a35",
   "metadata": {},
   "source": [
    "## Feature Engineering "
   ]
  },
  {
   "cell_type": "markdown",
   "id": "950282ee",
   "metadata": {},
   "source": [
    "## Spliting the list in country into rows so can check analysis per country "
   ]
  },
  {
   "cell_type": "code",
   "execution_count": 127,
   "id": "eb790239",
   "metadata": {},
   "outputs": [
    {
     "data": {
      "application/vnd.microsoft.datawrangler.viewer.v0+json": {
       "columns": [
        {
         "name": "new",
         "rawType": "object",
         "type": "string"
        },
        {
         "name": "count",
         "rawType": "int64",
         "type": "integer"
        }
       ],
       "ref": "f1f2e9b2-9bde-4e0f-869b-22d0343ba7cd",
       "rows": [
        [
         "United States",
         "3681"
        ],
        [
         "India",
         "1046"
        ],
        [
         "Not identified",
         "829"
        ],
        [
         "United Kingdom",
         "805"
        ],
        [
         "Canada",
         "445"
        ],
        [
         "France",
         "393"
        ],
        [
         "Japan",
         "316"
        ],
        [
         "Spain",
         "232"
        ],
        [
         "South Korea",
         "231"
        ],
        [
         "Germany",
         "226"
        ],
        [
         "Mexico",
         "169"
        ],
        [
         "China",
         "162"
        ],
        [
         "Australia",
         "158"
        ],
        [
         "Egypt",
         "117"
        ],
        [
         "Turkey",
         "113"
        ],
        [
         "Hong Kong",
         "105"
        ],
        [
         "Nigeria",
         "103"
        ],
        [
         "Italy",
         "99"
        ],
        [
         "Brazil",
         "97"
        ],
        [
         "Argentina",
         "91"
        ],
        [
         "Belgium",
         "90"
        ],
        [
         "Indonesia",
         "90"
        ],
        [
         "Taiwan",
         "89"
        ],
        [
         "Philippines",
         "83"
        ],
        [
         "Thailand",
         "70"
        ],
        [
         "South Africa",
         "62"
        ],
        [
         "Colombia",
         "52"
        ],
        [
         "Netherlands",
         "50"
        ],
        [
         "Denmark",
         "48"
        ],
        [
         "Ireland",
         "46"
        ],
        [
         "Sweden",
         "42"
        ],
        [
         "Poland",
         "41"
        ],
        [
         "Singapore",
         "41"
        ],
        [
         "United Arab Emirates",
         "37"
        ],
        [
         "New Zealand",
         "33"
        ],
        [
         "Lebanon",
         "31"
        ],
        [
         "Norway",
         "30"
        ],
        [
         "Israel",
         "30"
        ],
        [
         "Chile",
         "29"
        ],
        [
         "Russia",
         "27"
        ],
        [
         "Malaysia",
         "26"
        ],
        [
         "Pakistan",
         "24"
        ],
        [
         "Czech Republic",
         "22"
        ],
        [
         "Switzerland",
         "19"
        ],
        [
         "Romania",
         "14"
        ],
        [
         "Uruguay",
         "14"
        ],
        [
         "Saudi Arabia",
         "13"
        ],
        [
         "Austria",
         "12"
        ],
        [
         "Luxembourg",
         "12"
        ],
        [
         "Finland",
         "11"
        ]
       ],
       "shape": {
        "columns": 1,
        "rows": 124
       }
      },
      "text/plain": [
       "new\n",
       "United States     3681\n",
       "India             1046\n",
       "Not identified     829\n",
       "United Kingdom     805\n",
       "Canada             445\n",
       "                  ... \n",
       "Sudan                1\n",
       "Panama               1\n",
       "Uganda               1\n",
       "East Germany         1\n",
       "Montenegro           1\n",
       "Name: count, Length: 124, dtype: int64"
      ]
     },
     "execution_count": 127,
     "metadata": {},
     "output_type": "execute_result"
    }
   ],
   "source": [
    "\n",
    "df['new'] = df['country'].str.split(',')\n",
    "\n",
    "df = df.explode('new')\n",
    "\n",
    "df['new'] = df['new'].str.strip()\n",
    "\n",
    "df = df.reset_index(drop=True)\n",
    "\n",
    "df.new.value_counts()"
   ]
  },
  {
   "cell_type": "markdown",
   "id": "b72c0c4c",
   "metadata": {},
   "source": [
    "## Splitting Categories so we can analayze per category"
   ]
  },
  {
   "cell_type": "code",
   "execution_count": 128,
   "id": "c8c3173d",
   "metadata": {},
   "outputs": [
    {
     "data": {
      "application/vnd.microsoft.datawrangler.viewer.v0+json": {
       "columns": [
        {
         "name": "category",
         "rawType": "object",
         "type": "string"
        },
        {
         "name": "count",
         "rawType": "int64",
         "type": "integer"
        }
       ],
       "ref": "df2d1c6d-dc24-4b1a-90b7-fe248ad0a6ed",
       "rows": [
        [
         "International Movies",
         "3513"
        ],
        [
         "Dramas",
         "3201"
        ],
        [
         "Comedies",
         "1981"
        ],
        [
         "International TV Shows",
         "1463"
        ],
        [
         "Action & Adventure",
         "1182"
        ],
        [
         "Documentaries",
         "1118"
        ],
        [
         "Independent Movies",
         "1040"
        ],
        [
         "TV Dramas",
         "851"
        ],
        [
         "Children & Family Movies",
         "845"
        ],
        [
         "Thrillers",
         "806"
        ],
        [
         "Romantic Movies",
         "722"
        ],
        [
         "TV Comedies",
         "622"
        ],
        [
         "Kids' TV",
         "593"
        ],
        [
         "Crime TV Shows",
         "540"
        ],
        [
         "Horror Movies",
         "458"
        ],
        [
         "Docuseries",
         "435"
        ],
        [
         "Music & Musicals",
         "429"
        ],
        [
         "Romantic TV Shows",
         "384"
        ],
        [
         "Sci-Fi & Fantasy",
         "380"
        ],
        [
         "Stand-Up Comedy",
         "344"
        ],
        [
         "British TV Shows",
         "305"
        ],
        [
         "Reality TV",
         "270"
        ],
        [
         "Sports Movies",
         "265"
        ],
        [
         "TV Action & Adventure",
         "203"
        ],
        [
         "Spanish-Language TV Shows",
         "201"
        ],
        [
         "Anime Series",
         "190"
        ],
        [
         "Korean TV Shows",
         "156"
        ],
        [
         "Classic Movies",
         "152"
        ],
        [
         "LGBTQ Movies",
         "116"
        ],
        [
         "TV Mysteries",
         "113"
        ],
        [
         "Science & Nature TV",
         "108"
        ],
        [
         "TV Sci-Fi & Fantasy",
         "100"
        ],
        [
         "Cult Movies",
         "93"
        ],
        [
         "Faith & Spirituality",
         "89"
        ],
        [
         "TV Horror",
         "86"
        ],
        [
         "Anime Features",
         "78"
        ],
        [
         "Teen TV Shows",
         "69"
        ],
        [
         "TV Thrillers",
         "66"
        ],
        [
         "Movies",
         "66"
        ],
        [
         "Stand-Up Comedy & Talk Shows",
         "56"
        ],
        [
         "Classic & Cult TV",
         "30"
        ],
        [
         "TV Shows",
         "16"
        ]
       ],
       "shape": {
        "columns": 1,
        "rows": 42
       }
      },
      "text/plain": [
       "category\n",
       "International Movies            3513\n",
       "Dramas                          3201\n",
       "Comedies                        1981\n",
       "International TV Shows          1463\n",
       "Action & Adventure              1182\n",
       "Documentaries                   1118\n",
       "Independent Movies              1040\n",
       "TV Dramas                        851\n",
       "Children & Family Movies         845\n",
       "Thrillers                        806\n",
       "Romantic Movies                  722\n",
       "TV Comedies                      622\n",
       "Kids' TV                         593\n",
       "Crime TV Shows                   540\n",
       "Horror Movies                    458\n",
       "Docuseries                       435\n",
       "Music & Musicals                 429\n",
       "Romantic TV Shows                384\n",
       "Sci-Fi & Fantasy                 380\n",
       "Stand-Up Comedy                  344\n",
       "British TV Shows                 305\n",
       "Reality TV                       270\n",
       "Sports Movies                    265\n",
       "TV Action & Adventure            203\n",
       "Spanish-Language TV Shows        201\n",
       "Anime Series                     190\n",
       "Korean TV Shows                  156\n",
       "Classic Movies                   152\n",
       "LGBTQ Movies                     116\n",
       "TV Mysteries                     113\n",
       "Science & Nature TV              108\n",
       "TV Sci-Fi & Fantasy              100\n",
       "Cult Movies                       93\n",
       "Faith & Spirituality              89\n",
       "TV Horror                         86\n",
       "Anime Features                    78\n",
       "Teen TV Shows                     69\n",
       "TV Thrillers                      66\n",
       "Movies                            66\n",
       "Stand-Up Comedy & Talk Shows      56\n",
       "Classic & Cult TV                 30\n",
       "TV Shows                          16\n",
       "Name: count, dtype: int64"
      ]
     },
     "execution_count": 128,
     "metadata": {},
     "output_type": "execute_result"
    }
   ],
   "source": [
    "\n",
    "df['category'] = df['listed_in'].str.split(',')\n",
    "\n",
    "df = df.explode('category')\n",
    "\n",
    "df['category'] = df['category'].str.strip()\n",
    "\n",
    "df = df.reset_index(drop=True)\n",
    "\n",
    "df.category.value_counts()"
   ]
  },
  {
   "cell_type": "markdown",
   "id": "c47be6a0",
   "metadata": {},
   "source": [
    "## Data analysis"
   ]
  },
  {
   "cell_type": "markdown",
   "id": "c5a62c48",
   "metadata": {},
   "source": []
  },
  {
   "cell_type": "code",
   "execution_count": 129,
   "id": "773a5465",
   "metadata": {},
   "outputs": [
    {
     "data": {
      "application/vnd.microsoft.datawrangler.viewer.v0+json": {
       "columns": [
        {
         "name": "index",
         "rawType": "int64",
         "type": "integer"
        },
        {
         "name": "new",
         "rawType": "object",
         "type": "string"
        },
        {
         "name": "listed_in",
         "rawType": "object",
         "type": "string"
        }
       ],
       "ref": "8dee1447-22dd-4c2a-960f-80975f8cd5d3",
       "rows": [
        [
         "0",
         "United States",
         "Documentaries"
        ],
        [
         "1",
         "South Africa",
         "International TV Shows, TV Dramas, TV Mysteries"
        ],
        [
         "2",
         "South Africa",
         "International TV Shows, TV Dramas, TV Mysteries"
        ],
        [
         "3",
         "South Africa",
         "International TV Shows, TV Dramas, TV Mysteries"
        ],
        [
         "4",
         "Not identified",
         "Crime TV Shows, International TV Shows, TV Action & Adventure"
        ],
        [
         "5",
         "Not identified",
         "Crime TV Shows, International TV Shows, TV Action & Adventure"
        ],
        [
         "6",
         "Not identified",
         "Crime TV Shows, International TV Shows, TV Action & Adventure"
        ],
        [
         "7",
         "Not identified",
         "Docuseries, Reality TV"
        ],
        [
         "8",
         "Not identified",
         "Docuseries, Reality TV"
        ],
        [
         "9",
         "India",
         "International TV Shows, Romantic TV Shows, TV Comedies"
        ],
        [
         "10",
         "India",
         "International TV Shows, Romantic TV Shows, TV Comedies"
        ],
        [
         "11",
         "India",
         "International TV Shows, Romantic TV Shows, TV Comedies"
        ],
        [
         "12",
         "Not identified",
         "TV Dramas, TV Horror, TV Mysteries"
        ],
        [
         "13",
         "Not identified",
         "TV Dramas, TV Horror, TV Mysteries"
        ],
        [
         "14",
         "Not identified",
         "TV Dramas, TV Horror, TV Mysteries"
        ],
        [
         "15",
         "Not identified",
         "Children & Family Movies"
        ],
        [
         "16",
         "United States",
         "Dramas, Independent Movies, International Movies"
        ],
        [
         "17",
         "United States",
         "Dramas, Independent Movies, International Movies"
        ],
        [
         "18",
         "United States",
         "Dramas, Independent Movies, International Movies"
        ],
        [
         "19",
         "Ghana",
         "Dramas, Independent Movies, International Movies"
        ],
        [
         "20",
         "Ghana",
         "Dramas, Independent Movies, International Movies"
        ],
        [
         "21",
         "Ghana",
         "Dramas, Independent Movies, International Movies"
        ],
        [
         "22",
         "Burkina Faso",
         "Dramas, Independent Movies, International Movies"
        ],
        [
         "23",
         "Burkina Faso",
         "Dramas, Independent Movies, International Movies"
        ],
        [
         "24",
         "Burkina Faso",
         "Dramas, Independent Movies, International Movies"
        ],
        [
         "25",
         "United Kingdom",
         "Dramas, Independent Movies, International Movies"
        ],
        [
         "26",
         "United Kingdom",
         "Dramas, Independent Movies, International Movies"
        ],
        [
         "27",
         "United Kingdom",
         "Dramas, Independent Movies, International Movies"
        ],
        [
         "28",
         "Germany",
         "Dramas, Independent Movies, International Movies"
        ],
        [
         "29",
         "Germany",
         "Dramas, Independent Movies, International Movies"
        ],
        [
         "30",
         "Germany",
         "Dramas, Independent Movies, International Movies"
        ],
        [
         "31",
         "Ethiopia",
         "Dramas, Independent Movies, International Movies"
        ],
        [
         "32",
         "Ethiopia",
         "Dramas, Independent Movies, International Movies"
        ],
        [
         "33",
         "Ethiopia",
         "Dramas, Independent Movies, International Movies"
        ],
        [
         "34",
         "United Kingdom",
         "British TV Shows, Reality TV"
        ],
        [
         "35",
         "United Kingdom",
         "British TV Shows, Reality TV"
        ],
        [
         "36",
         "United States",
         "Comedies, Dramas"
        ],
        [
         "37",
         "United States",
         "Comedies, Dramas"
        ],
        [
         "38",
         "Not identified",
         "Crime TV Shows, Docuseries, International TV Shows"
        ],
        [
         "39",
         "Not identified",
         "Crime TV Shows, Docuseries, International TV Shows"
        ],
        [
         "40",
         "Not identified",
         "Crime TV Shows, Docuseries, International TV Shows"
        ],
        [
         "41",
         "Not identified",
         "Crime TV Shows, International TV Shows, TV Action & Adventure"
        ],
        [
         "42",
         "Not identified",
         "Crime TV Shows, International TV Shows, TV Action & Adventure"
        ],
        [
         "43",
         "Not identified",
         "Crime TV Shows, International TV Shows, TV Action & Adventure"
        ],
        [
         "44",
         "Germany",
         "Dramas, International Movies"
        ],
        [
         "45",
         "Germany",
         "Dramas, International Movies"
        ],
        [
         "46",
         "Czech Republic",
         "Dramas, International Movies"
        ],
        [
         "47",
         "Czech Republic",
         "Dramas, International Movies"
        ],
        [
         "48",
         "Not identified",
         "Children & Family Movies, Comedies"
        ],
        [
         "49",
         "Not identified",
         "Children & Family Movies, Comedies"
        ]
       ],
       "shape": {
        "columns": 2,
        "rows": 23735
       }
      },
      "text/html": [
       "<div>\n",
       "<style scoped>\n",
       "    .dataframe tbody tr th:only-of-type {\n",
       "        vertical-align: middle;\n",
       "    }\n",
       "\n",
       "    .dataframe tbody tr th {\n",
       "        vertical-align: top;\n",
       "    }\n",
       "\n",
       "    .dataframe thead th {\n",
       "        text-align: right;\n",
       "    }\n",
       "</style>\n",
       "<table border=\"1\" class=\"dataframe\">\n",
       "  <thead>\n",
       "    <tr style=\"text-align: right;\">\n",
       "      <th></th>\n",
       "      <th>new</th>\n",
       "      <th>listed_in</th>\n",
       "    </tr>\n",
       "  </thead>\n",
       "  <tbody>\n",
       "    <tr>\n",
       "      <th>0</th>\n",
       "      <td>United States</td>\n",
       "      <td>Documentaries</td>\n",
       "    </tr>\n",
       "    <tr>\n",
       "      <th>1</th>\n",
       "      <td>South Africa</td>\n",
       "      <td>International TV Shows, TV Dramas, TV Mysteries</td>\n",
       "    </tr>\n",
       "    <tr>\n",
       "      <th>2</th>\n",
       "      <td>South Africa</td>\n",
       "      <td>International TV Shows, TV Dramas, TV Mysteries</td>\n",
       "    </tr>\n",
       "    <tr>\n",
       "      <th>3</th>\n",
       "      <td>South Africa</td>\n",
       "      <td>International TV Shows, TV Dramas, TV Mysteries</td>\n",
       "    </tr>\n",
       "    <tr>\n",
       "      <th>4</th>\n",
       "      <td>Not identified</td>\n",
       "      <td>Crime TV Shows, International TV Shows, TV Act...</td>\n",
       "    </tr>\n",
       "    <tr>\n",
       "      <th>...</th>\n",
       "      <td>...</td>\n",
       "      <td>...</td>\n",
       "    </tr>\n",
       "    <tr>\n",
       "      <th>23730</th>\n",
       "      <td>United States</td>\n",
       "      <td>Children &amp; Family Movies, Comedies</td>\n",
       "    </tr>\n",
       "    <tr>\n",
       "      <th>23731</th>\n",
       "      <td>United States</td>\n",
       "      <td>Children &amp; Family Movies, Comedies</td>\n",
       "    </tr>\n",
       "    <tr>\n",
       "      <th>23732</th>\n",
       "      <td>India</td>\n",
       "      <td>Dramas, International Movies, Music &amp; Musicals</td>\n",
       "    </tr>\n",
       "    <tr>\n",
       "      <th>23733</th>\n",
       "      <td>India</td>\n",
       "      <td>Dramas, International Movies, Music &amp; Musicals</td>\n",
       "    </tr>\n",
       "    <tr>\n",
       "      <th>23734</th>\n",
       "      <td>India</td>\n",
       "      <td>Dramas, International Movies, Music &amp; Musicals</td>\n",
       "    </tr>\n",
       "  </tbody>\n",
       "</table>\n",
       "<p>23735 rows × 2 columns</p>\n",
       "</div>"
      ],
      "text/plain": [
       "                  new                                          listed_in\n",
       "0       United States                                      Documentaries\n",
       "1        South Africa    International TV Shows, TV Dramas, TV Mysteries\n",
       "2        South Africa    International TV Shows, TV Dramas, TV Mysteries\n",
       "3        South Africa    International TV Shows, TV Dramas, TV Mysteries\n",
       "4      Not identified  Crime TV Shows, International TV Shows, TV Act...\n",
       "...               ...                                                ...\n",
       "23730   United States                 Children & Family Movies, Comedies\n",
       "23731   United States                 Children & Family Movies, Comedies\n",
       "23732           India     Dramas, International Movies, Music & Musicals\n",
       "23733           India     Dramas, International Movies, Music & Musicals\n",
       "23734           India     Dramas, International Movies, Music & Musicals\n",
       "\n",
       "[23735 rows x 2 columns]"
      ]
     },
     "execution_count": 129,
     "metadata": {},
     "output_type": "execute_result"
    }
   ],
   "source": [
    "df[['new','listed_in']]"
   ]
  },
  {
   "cell_type": "code",
   "execution_count": 130,
   "id": "e0fdb6b1",
   "metadata": {},
   "outputs": [
    {
     "data": {
      "application/vnd.microsoft.datawrangler.viewer.v0+json": {
       "columns": [
        {
         "name": "index",
         "rawType": "int64",
         "type": "integer"
        },
        {
         "name": "show_id",
         "rawType": "object",
         "type": "string"
        },
        {
         "name": "type",
         "rawType": "object",
         "type": "string"
        },
        {
         "name": "title",
         "rawType": "object",
         "type": "string"
        },
        {
         "name": "director",
         "rawType": "object",
         "type": "string"
        },
        {
         "name": "cast",
         "rawType": "object",
         "type": "string"
        },
        {
         "name": "country",
         "rawType": "object",
         "type": "string"
        },
        {
         "name": "date_added",
         "rawType": "datetime64[ns]",
         "type": "datetime"
        },
        {
         "name": "release_year",
         "rawType": "object",
         "type": "unknown"
        },
        {
         "name": "rating",
         "rawType": "object",
         "type": "string"
        },
        {
         "name": "duration",
         "rawType": "object",
         "type": "string"
        },
        {
         "name": "listed_in",
         "rawType": "object",
         "type": "string"
        },
        {
         "name": "description",
         "rawType": "object",
         "type": "string"
        },
        {
         "name": "new",
         "rawType": "object",
         "type": "string"
        },
        {
         "name": "category",
         "rawType": "object",
         "type": "string"
        }
       ],
       "ref": "f4487971-dfbb-46e6-9694-1e37a98f0514",
       "rows": [
        [
         "1",
         "s2",
         "TV Show",
         "Blood & Water",
         "Not identified",
         "Ama Qamata, Khosi Ngema, Gail Mabalane, Thabang Molaba, Dillon Windvogel, Natasha Thahane, Arno Greeff, Xolile Tshabalala, Getmore Sithole, Cindy Mahlangu, Ryle De Morny, Greteli Fincham, Sello Maake Ka-Ncube, Odwa Gwanya, Mekaila Mathys, Sandi Schultz, Duane Williams, Shamilla Miller, Patrick Mofokeng",
         "South Africa",
         "2021-09-24 00:00:00",
         "2021",
         "TV-MA",
         "2 Seasons",
         "International TV Shows, TV Dramas, TV Mysteries",
         "After crossing paths at a party, a Cape Town teen sets out to prove whether a private-school swimming star is her sister who was abducted at birth.",
         "South Africa",
         "International TV Shows"
        ],
        [
         "2",
         "s2",
         "TV Show",
         "Blood & Water",
         "Not identified",
         "Ama Qamata, Khosi Ngema, Gail Mabalane, Thabang Molaba, Dillon Windvogel, Natasha Thahane, Arno Greeff, Xolile Tshabalala, Getmore Sithole, Cindy Mahlangu, Ryle De Morny, Greteli Fincham, Sello Maake Ka-Ncube, Odwa Gwanya, Mekaila Mathys, Sandi Schultz, Duane Williams, Shamilla Miller, Patrick Mofokeng",
         "South Africa",
         "2021-09-24 00:00:00",
         "2021",
         "TV-MA",
         "2 Seasons",
         "International TV Shows, TV Dramas, TV Mysteries",
         "After crossing paths at a party, a Cape Town teen sets out to prove whether a private-school swimming star is her sister who was abducted at birth.",
         "South Africa",
         "TV Dramas"
        ],
        [
         "3",
         "s2",
         "TV Show",
         "Blood & Water",
         "Not identified",
         "Ama Qamata, Khosi Ngema, Gail Mabalane, Thabang Molaba, Dillon Windvogel, Natasha Thahane, Arno Greeff, Xolile Tshabalala, Getmore Sithole, Cindy Mahlangu, Ryle De Morny, Greteli Fincham, Sello Maake Ka-Ncube, Odwa Gwanya, Mekaila Mathys, Sandi Schultz, Duane Williams, Shamilla Miller, Patrick Mofokeng",
         "South Africa",
         "2021-09-24 00:00:00",
         "2021",
         "TV-MA",
         "2 Seasons",
         "International TV Shows, TV Dramas, TV Mysteries",
         "After crossing paths at a party, a Cape Town teen sets out to prove whether a private-school swimming star is her sister who was abducted at birth.",
         "South Africa",
         "TV Mysteries"
        ],
        [
         "4",
         "s3",
         "TV Show",
         "Ganglands",
         "Julien Leclercq",
         "Sami Bouajila, Tracy Gotoas, Samuel Jouy, Nabiha Akkari, Sofia Lesaffre, Salim Kechiouche, Noureddine Farihi, Geert Van Rampelberg, Bakary Diombera",
         "Not identified",
         "2021-09-24 00:00:00",
         "2021",
         "TV-MA",
         "1 Season",
         "Crime TV Shows, International TV Shows, TV Action & Adventure",
         "To protect his family from a powerful drug lord, skilled thief Mehdi and his expert team of robbers are pulled into a violent and deadly turf war.",
         "Not identified",
         "Crime TV Shows"
        ],
        [
         "5",
         "s3",
         "TV Show",
         "Ganglands",
         "Julien Leclercq",
         "Sami Bouajila, Tracy Gotoas, Samuel Jouy, Nabiha Akkari, Sofia Lesaffre, Salim Kechiouche, Noureddine Farihi, Geert Van Rampelberg, Bakary Diombera",
         "Not identified",
         "2021-09-24 00:00:00",
         "2021",
         "TV-MA",
         "1 Season",
         "Crime TV Shows, International TV Shows, TV Action & Adventure",
         "To protect his family from a powerful drug lord, skilled thief Mehdi and his expert team of robbers are pulled into a violent and deadly turf war.",
         "Not identified",
         "International TV Shows"
        ],
        [
         "6",
         "s3",
         "TV Show",
         "Ganglands",
         "Julien Leclercq",
         "Sami Bouajila, Tracy Gotoas, Samuel Jouy, Nabiha Akkari, Sofia Lesaffre, Salim Kechiouche, Noureddine Farihi, Geert Van Rampelberg, Bakary Diombera",
         "Not identified",
         "2021-09-24 00:00:00",
         "2021",
         "TV-MA",
         "1 Season",
         "Crime TV Shows, International TV Shows, TV Action & Adventure",
         "To protect his family from a powerful drug lord, skilled thief Mehdi and his expert team of robbers are pulled into a violent and deadly turf war.",
         "Not identified",
         "TV Action & Adventure"
        ],
        [
         "7",
         "s4",
         "TV Show",
         "Jailbirds New Orleans",
         "Not identified",
         "Not identified",
         "Not identified",
         "2021-09-24 00:00:00",
         "2021",
         "TV-MA",
         "1 Season",
         "Docuseries, Reality TV",
         "Feuds, flirtations and toilet talk go down among the incarcerated women at the Orleans Justice Center in New Orleans on this gritty reality series.",
         "Not identified",
         "Docuseries"
        ],
        [
         "8",
         "s4",
         "TV Show",
         "Jailbirds New Orleans",
         "Not identified",
         "Not identified",
         "Not identified",
         "2021-09-24 00:00:00",
         "2021",
         "TV-MA",
         "1 Season",
         "Docuseries, Reality TV",
         "Feuds, flirtations and toilet talk go down among the incarcerated women at the Orleans Justice Center in New Orleans on this gritty reality series.",
         "Not identified",
         "Reality TV"
        ],
        [
         "9",
         "s5",
         "TV Show",
         "Kota Factory",
         "Not identified",
         "Mayur More, Jitendra Kumar, Ranjan Raj, Alam Khan, Ahsaas Channa, Revathi Pillai, Urvi Singh, Arun Kumar",
         "India",
         "2021-09-24 00:00:00",
         "2021",
         "TV-MA",
         "2 Seasons",
         "International TV Shows, Romantic TV Shows, TV Comedies",
         "In a city of coaching centers known to train India’s finest collegiate minds, an earnest but unexceptional student and his friends navigate campus life.",
         "India",
         "International TV Shows"
        ],
        [
         "10",
         "s5",
         "TV Show",
         "Kota Factory",
         "Not identified",
         "Mayur More, Jitendra Kumar, Ranjan Raj, Alam Khan, Ahsaas Channa, Revathi Pillai, Urvi Singh, Arun Kumar",
         "India",
         "2021-09-24 00:00:00",
         "2021",
         "TV-MA",
         "2 Seasons",
         "International TV Shows, Romantic TV Shows, TV Comedies",
         "In a city of coaching centers known to train India’s finest collegiate minds, an earnest but unexceptional student and his friends navigate campus life.",
         "India",
         "Romantic TV Shows"
        ],
        [
         "11",
         "s5",
         "TV Show",
         "Kota Factory",
         "Not identified",
         "Mayur More, Jitendra Kumar, Ranjan Raj, Alam Khan, Ahsaas Channa, Revathi Pillai, Urvi Singh, Arun Kumar",
         "India",
         "2021-09-24 00:00:00",
         "2021",
         "TV-MA",
         "2 Seasons",
         "International TV Shows, Romantic TV Shows, TV Comedies",
         "In a city of coaching centers known to train India’s finest collegiate minds, an earnest but unexceptional student and his friends navigate campus life.",
         "India",
         "TV Comedies"
        ],
        [
         "12",
         "s6",
         "TV Show",
         "Midnight Mass",
         "Mike Flanagan",
         "Kate Siegel, Zach Gilford, Hamish Linklater, Henry Thomas, Kristin Lehman, Samantha Sloyan, Igby Rigney, Rahul Kohli, Annarah Cymone, Annabeth Gish, Alex Essoe, Rahul Abburi, Matt Biedel, Michael Trucco, Crystal Balint, Louis Oliver",
         "Not identified",
         "2021-09-24 00:00:00",
         "2021",
         "TV-MA",
         "1 Season",
         "TV Dramas, TV Horror, TV Mysteries",
         "The arrival of a charismatic young priest brings glorious miracles, ominous mysteries and renewed religious fervor to a dying town desperate to believe.",
         "Not identified",
         "TV Dramas"
        ],
        [
         "13",
         "s6",
         "TV Show",
         "Midnight Mass",
         "Mike Flanagan",
         "Kate Siegel, Zach Gilford, Hamish Linklater, Henry Thomas, Kristin Lehman, Samantha Sloyan, Igby Rigney, Rahul Kohli, Annarah Cymone, Annabeth Gish, Alex Essoe, Rahul Abburi, Matt Biedel, Michael Trucco, Crystal Balint, Louis Oliver",
         "Not identified",
         "2021-09-24 00:00:00",
         "2021",
         "TV-MA",
         "1 Season",
         "TV Dramas, TV Horror, TV Mysteries",
         "The arrival of a charismatic young priest brings glorious miracles, ominous mysteries and renewed religious fervor to a dying town desperate to believe.",
         "Not identified",
         "TV Horror"
        ],
        [
         "14",
         "s6",
         "TV Show",
         "Midnight Mass",
         "Mike Flanagan",
         "Kate Siegel, Zach Gilford, Hamish Linklater, Henry Thomas, Kristin Lehman, Samantha Sloyan, Igby Rigney, Rahul Kohli, Annarah Cymone, Annabeth Gish, Alex Essoe, Rahul Abburi, Matt Biedel, Michael Trucco, Crystal Balint, Louis Oliver",
         "Not identified",
         "2021-09-24 00:00:00",
         "2021",
         "TV-MA",
         "1 Season",
         "TV Dramas, TV Horror, TV Mysteries",
         "The arrival of a charismatic young priest brings glorious miracles, ominous mysteries and renewed religious fervor to a dying town desperate to believe.",
         "Not identified",
         "TV Mysteries"
        ],
        [
         "34",
         "s9",
         "TV Show",
         "The Great British Baking Show",
         "Andy Devonshire",
         "Mel Giedroyc, Sue Perkins, Mary Berry, Paul Hollywood",
         "United Kingdom",
         "2021-09-24 00:00:00",
         "2021",
         "TV-14",
         "9 Seasons",
         "British TV Shows, Reality TV",
         "A talented batch of amateur bakers face off in a 10-week competition, whipping up their best dishes in the hopes of being named the U.K.'s best.",
         "United Kingdom",
         "British TV Shows"
        ],
        [
         "35",
         "s9",
         "TV Show",
         "The Great British Baking Show",
         "Andy Devonshire",
         "Mel Giedroyc, Sue Perkins, Mary Berry, Paul Hollywood",
         "United Kingdom",
         "2021-09-24 00:00:00",
         "2021",
         "TV-14",
         "9 Seasons",
         "British TV Shows, Reality TV",
         "A talented batch of amateur bakers face off in a 10-week competition, whipping up their best dishes in the hopes of being named the U.K.'s best.",
         "United Kingdom",
         "Reality TV"
        ],
        [
         "38",
         "s11",
         "TV Show",
         "Vendetta: Truth, Lies and The Mafia",
         "Not identified",
         "Not identified",
         "Not identified",
         "2021-09-24 00:00:00",
         "2021",
         "TV-MA",
         "1 Season",
         "Crime TV Shows, Docuseries, International TV Shows",
         "Sicily boasts a bold \"Anti-Mafia\" coalition. But what happens when those trying to bring down organized crime are accused of being criminals themselves?",
         "Not identified",
         "Crime TV Shows"
        ],
        [
         "39",
         "s11",
         "TV Show",
         "Vendetta: Truth, Lies and The Mafia",
         "Not identified",
         "Not identified",
         "Not identified",
         "2021-09-24 00:00:00",
         "2021",
         "TV-MA",
         "1 Season",
         "Crime TV Shows, Docuseries, International TV Shows",
         "Sicily boasts a bold \"Anti-Mafia\" coalition. But what happens when those trying to bring down organized crime are accused of being criminals themselves?",
         "Not identified",
         "Docuseries"
        ],
        [
         "40",
         "s11",
         "TV Show",
         "Vendetta: Truth, Lies and The Mafia",
         "Not identified",
         "Not identified",
         "Not identified",
         "2021-09-24 00:00:00",
         "2021",
         "TV-MA",
         "1 Season",
         "Crime TV Shows, Docuseries, International TV Shows",
         "Sicily boasts a bold \"Anti-Mafia\" coalition. But what happens when those trying to bring down organized crime are accused of being criminals themselves?",
         "Not identified",
         "International TV Shows"
        ],
        [
         "41",
         "s12",
         "TV Show",
         "Bangkok Breaking",
         "Kongkiat Komesiri",
         "Sukollawat Kanarot, Sushar Manaying, Pavarit Mongkolpisit, Sahajak Boonthanakit, Suthipongse Thatphithakkul, Bhasaworn Bawronkirati, Daweerit Chullasapya, Waratthaya Wongchayaporn, Kittiphoom Wongpentak, Abhicha Thanachanun, Nophand Boonyai, Kittipong Khamsat, Arisara Wongchalee, Jaytiya Naiwattanakul, Pantipa Arunwattanachai, Panupan Jantanawong, Kungtap Saelim, Phumphat Chartsuriyakiat, Issara Veranitinunt, Keerati Sivakuae, Panjai Sirisuwan, Supranee Charoenpol, Suda Chuenban, Visaka Banhansupavat, Pitchatorn Santinatornkul",
         "Not identified",
         "2021-09-23 00:00:00",
         "2021",
         "TV-MA",
         "1 Season",
         "Crime TV Shows, International TV Shows, TV Action & Adventure",
         "Struggling to earn a living in Bangkok, a man joins an emergency rescue service and realizes he must unravel a citywide conspiracy.",
         "Not identified",
         "Crime TV Shows"
        ],
        [
         "42",
         "s12",
         "TV Show",
         "Bangkok Breaking",
         "Kongkiat Komesiri",
         "Sukollawat Kanarot, Sushar Manaying, Pavarit Mongkolpisit, Sahajak Boonthanakit, Suthipongse Thatphithakkul, Bhasaworn Bawronkirati, Daweerit Chullasapya, Waratthaya Wongchayaporn, Kittiphoom Wongpentak, Abhicha Thanachanun, Nophand Boonyai, Kittipong Khamsat, Arisara Wongchalee, Jaytiya Naiwattanakul, Pantipa Arunwattanachai, Panupan Jantanawong, Kungtap Saelim, Phumphat Chartsuriyakiat, Issara Veranitinunt, Keerati Sivakuae, Panjai Sirisuwan, Supranee Charoenpol, Suda Chuenban, Visaka Banhansupavat, Pitchatorn Santinatornkul",
         "Not identified",
         "2021-09-23 00:00:00",
         "2021",
         "TV-MA",
         "1 Season",
         "Crime TV Shows, International TV Shows, TV Action & Adventure",
         "Struggling to earn a living in Bangkok, a man joins an emergency rescue service and realizes he must unravel a citywide conspiracy.",
         "Not identified",
         "International TV Shows"
        ],
        [
         "43",
         "s12",
         "TV Show",
         "Bangkok Breaking",
         "Kongkiat Komesiri",
         "Sukollawat Kanarot, Sushar Manaying, Pavarit Mongkolpisit, Sahajak Boonthanakit, Suthipongse Thatphithakkul, Bhasaworn Bawronkirati, Daweerit Chullasapya, Waratthaya Wongchayaporn, Kittiphoom Wongpentak, Abhicha Thanachanun, Nophand Boonyai, Kittipong Khamsat, Arisara Wongchalee, Jaytiya Naiwattanakul, Pantipa Arunwattanachai, Panupan Jantanawong, Kungtap Saelim, Phumphat Chartsuriyakiat, Issara Veranitinunt, Keerati Sivakuae, Panjai Sirisuwan, Supranee Charoenpol, Suda Chuenban, Visaka Banhansupavat, Pitchatorn Santinatornkul",
         "Not identified",
         "2021-09-23 00:00:00",
         "2021",
         "TV-MA",
         "1 Season",
         "Crime TV Shows, International TV Shows, TV Action & Adventure",
         "Struggling to earn a living in Bangkok, a man joins an emergency rescue service and realizes he must unravel a citywide conspiracy.",
         "Not identified",
         "TV Action & Adventure"
        ],
        [
         "50",
         "s15",
         "TV Show",
         "Crime Stories: India Detectives",
         "Not identified",
         "Not identified",
         "Not identified",
         "2021-09-22 00:00:00",
         "2021",
         "TV-MA",
         "1 Season",
         "British TV Shows, Crime TV Shows, Docuseries",
         "Cameras following Bengaluru police on the job offer a rare glimpse into the complex and challenging inner workings of four major crime investigations.",
         "Not identified",
         "British TV Shows"
        ],
        [
         "51",
         "s15",
         "TV Show",
         "Crime Stories: India Detectives",
         "Not identified",
         "Not identified",
         "Not identified",
         "2021-09-22 00:00:00",
         "2021",
         "TV-MA",
         "1 Season",
         "British TV Shows, Crime TV Shows, Docuseries",
         "Cameras following Bengaluru police on the job offer a rare glimpse into the complex and challenging inner workings of four major crime investigations.",
         "Not identified",
         "Crime TV Shows"
        ],
        [
         "52",
         "s15",
         "TV Show",
         "Crime Stories: India Detectives",
         "Not identified",
         "Not identified",
         "Not identified",
         "2021-09-22 00:00:00",
         "2021",
         "TV-MA",
         "1 Season",
         "British TV Shows, Crime TV Shows, Docuseries",
         "Cameras following Bengaluru police on the job offer a rare glimpse into the complex and challenging inner workings of four major crime investigations.",
         "Not identified",
         "Docuseries"
        ],
        [
         "53",
         "s16",
         "TV Show",
         "Dear White People",
         "Not identified",
         "Logan Browning, Brandon P. Bell, DeRon Horton, Antoinette Robertson, John Patrick Amedori, Ashley Blaine Featherson, Marque Richardson, Giancarlo Esposito",
         "United States",
         "2021-09-22 00:00:00",
         "2021",
         "TV-MA",
         "4 Seasons",
         "TV Comedies, TV Dramas",
         "Students of color navigate the daily slights and slippery politics of life at an Ivy League college that's not nearly as \"post-racial\" as it thinks.",
         "United States",
         "TV Comedies"
        ],
        [
         "54",
         "s16",
         "TV Show",
         "Dear White People",
         "Not identified",
         "Logan Browning, Brandon P. Bell, DeRon Horton, Antoinette Robertson, John Patrick Amedori, Ashley Blaine Featherson, Marque Richardson, Giancarlo Esposito",
         "United States",
         "2021-09-22 00:00:00",
         "2021",
         "TV-MA",
         "4 Seasons",
         "TV Comedies, TV Dramas",
         "Students of color navigate the daily slights and slippery politics of life at an Ivy League college that's not nearly as \"post-racial\" as it thinks.",
         "United States",
         "TV Dramas"
        ],
        [
         "57",
         "s18",
         "TV Show",
         "Falsa identidad",
         "Not identified",
         "Luis Ernesto Franco, Camila Sodi, Sergio Goyri, Samadhi Zendejas, Eduardo Yáñez, Sonya Smith, Alejandro Camacho, Azela Robinson, Uriel del Toro, Géraldine Bazán, Gabriela Roel, Marcus Ornellas",
         "Mexico",
         "2021-09-22 00:00:00",
         "2020",
         "TV-MA",
         "2 Seasons",
         "Crime TV Shows, Spanish-Language TV Shows, TV Dramas",
         "Strangers Diego and Isabel flee their home in Mexico and pretend to be a married couple to escape his drug-dealing enemies and her abusive husband.",
         "Mexico",
         "Crime TV Shows"
        ],
        [
         "58",
         "s18",
         "TV Show",
         "Falsa identidad",
         "Not identified",
         "Luis Ernesto Franco, Camila Sodi, Sergio Goyri, Samadhi Zendejas, Eduardo Yáñez, Sonya Smith, Alejandro Camacho, Azela Robinson, Uriel del Toro, Géraldine Bazán, Gabriela Roel, Marcus Ornellas",
         "Mexico",
         "2021-09-22 00:00:00",
         "2020",
         "TV-MA",
         "2 Seasons",
         "Crime TV Shows, Spanish-Language TV Shows, TV Dramas",
         "Strangers Diego and Isabel flee their home in Mexico and pretend to be a married couple to escape his drug-dealing enemies and her abusive husband.",
         "Mexico",
         "Spanish-Language TV Shows"
        ],
        [
         "59",
         "s18",
         "TV Show",
         "Falsa identidad",
         "Not identified",
         "Luis Ernesto Franco, Camila Sodi, Sergio Goyri, Samadhi Zendejas, Eduardo Yáñez, Sonya Smith, Alejandro Camacho, Azela Robinson, Uriel del Toro, Géraldine Bazán, Gabriela Roel, Marcus Ornellas",
         "Mexico",
         "2021-09-22 00:00:00",
         "2020",
         "TV-MA",
         "2 Seasons",
         "Crime TV Shows, Spanish-Language TV Shows, TV Dramas",
         "Strangers Diego and Isabel flee their home in Mexico and pretend to be a married couple to escape his drug-dealing enemies and her abusive husband.",
         "Mexico",
         "TV Dramas"
        ],
        [
         "61",
         "s20",
         "TV Show",
         "Jaguar",
         "Not identified",
         "Blanca Suárez, Iván Marcos, Óscar Casas, Adrián Lastra, Francesc Garrido, Stefan Weinert, Julia Möller, Alicia Chojnowski",
         "Not identified",
         "2021-09-22 00:00:00",
         "2021",
         "TV-MA",
         "1 Season",
         "International TV Shows, Spanish-Language TV Shows, TV Action & Adventure",
         "In the 1960s, a Holocaust survivor joins a group of self-trained spies who seek justice against Nazis fleeing to Spain to hide after WWII.",
         "Not identified",
         "International TV Shows"
        ],
        [
         "62",
         "s20",
         "TV Show",
         "Jaguar",
         "Not identified",
         "Blanca Suárez, Iván Marcos, Óscar Casas, Adrián Lastra, Francesc Garrido, Stefan Weinert, Julia Möller, Alicia Chojnowski",
         "Not identified",
         "2021-09-22 00:00:00",
         "2021",
         "TV-MA",
         "1 Season",
         "International TV Shows, Spanish-Language TV Shows, TV Action & Adventure",
         "In the 1960s, a Holocaust survivor joins a group of self-trained spies who seek justice against Nazis fleeing to Spain to hide after WWII.",
         "Not identified",
         "Spanish-Language TV Shows"
        ],
        [
         "63",
         "s20",
         "TV Show",
         "Jaguar",
         "Not identified",
         "Blanca Suárez, Iván Marcos, Óscar Casas, Adrián Lastra, Francesc Garrido, Stefan Weinert, Julia Möller, Alicia Chojnowski",
         "Not identified",
         "2021-09-22 00:00:00",
         "2021",
         "TV-MA",
         "1 Season",
         "International TV Shows, Spanish-Language TV Shows, TV Action & Adventure",
         "In the 1960s, a Holocaust survivor joins a group of self-trained spies who seek justice against Nazis fleeing to Spain to hide after WWII.",
         "Not identified",
         "TV Action & Adventure"
        ],
        [
         "64",
         "s21",
         "TV Show",
         "Monsters Inside: The 24 Faces of Billy Milligan",
         "Olivier Megaton",
         "Not identified",
         "Not identified",
         "2021-09-22 00:00:00",
         "2021",
         "TV-14",
         "1 Season",
         "Crime TV Shows, Docuseries, International TV Shows",
         "In the late 1970s, an accused serial rapist claims multiple personalities control his behavior, setting off a legal odyssey that captivates America.",
         "Not identified",
         "Crime TV Shows"
        ],
        [
         "65",
         "s21",
         "TV Show",
         "Monsters Inside: The 24 Faces of Billy Milligan",
         "Olivier Megaton",
         "Not identified",
         "Not identified",
         "2021-09-22 00:00:00",
         "2021",
         "TV-14",
         "1 Season",
         "Crime TV Shows, Docuseries, International TV Shows",
         "In the late 1970s, an accused serial rapist claims multiple personalities control his behavior, setting off a legal odyssey that captivates America.",
         "Not identified",
         "Docuseries"
        ],
        [
         "66",
         "s21",
         "TV Show",
         "Monsters Inside: The 24 Faces of Billy Milligan",
         "Olivier Megaton",
         "Not identified",
         "Not identified",
         "2021-09-22 00:00:00",
         "2021",
         "TV-14",
         "1 Season",
         "Crime TV Shows, Docuseries, International TV Shows",
         "In the late 1970s, an accused serial rapist claims multiple personalities control his behavior, setting off a legal odyssey that captivates America.",
         "Not identified",
         "International TV Shows"
        ],
        [
         "67",
         "s22",
         "TV Show",
         "Resurrection: Ertugrul",
         "Not identified",
         "Engin Altan Düzyatan, Serdar Gökhan, Hülya Darcan, Kaan Taşaner, Esra Bilgiç, Osman Soykut, Serdar Deniz, Cengiz Coşkun, Reshad Strik, Hande Subaşı",
         "Turkey",
         "2021-09-22 00:00:00",
         "2018",
         "TV-14",
         "5 Seasons",
         "International TV Shows, TV Action & Adventure, TV Dramas",
         "When a good deed unwittingly endangers his clan, a 13th-century Turkish warrior agrees to fight a sultan's enemies in exchange for new tribal land.",
         "Turkey",
         "International TV Shows"
        ],
        [
         "68",
         "s22",
         "TV Show",
         "Resurrection: Ertugrul",
         "Not identified",
         "Engin Altan Düzyatan, Serdar Gökhan, Hülya Darcan, Kaan Taşaner, Esra Bilgiç, Osman Soykut, Serdar Deniz, Cengiz Coşkun, Reshad Strik, Hande Subaşı",
         "Turkey",
         "2021-09-22 00:00:00",
         "2018",
         "TV-14",
         "5 Seasons",
         "International TV Shows, TV Action & Adventure, TV Dramas",
         "When a good deed unwittingly endangers his clan, a 13th-century Turkish warrior agrees to fight a sultan's enemies in exchange for new tribal land.",
         "Turkey",
         "TV Action & Adventure"
        ],
        [
         "69",
         "s22",
         "TV Show",
         "Resurrection: Ertugrul",
         "Not identified",
         "Engin Altan Düzyatan, Serdar Gökhan, Hülya Darcan, Kaan Taşaner, Esra Bilgiç, Osman Soykut, Serdar Deniz, Cengiz Coşkun, Reshad Strik, Hande Subaşı",
         "Turkey",
         "2021-09-22 00:00:00",
         "2018",
         "TV-14",
         "5 Seasons",
         "International TV Shows, TV Action & Adventure, TV Dramas",
         "When a good deed unwittingly endangers his clan, a 13th-century Turkish warrior agrees to fight a sultan's enemies in exchange for new tribal land.",
         "Turkey",
         "TV Dramas"
        ],
        [
         "76",
         "s26",
         "TV Show",
         "Love on the Spectrum",
         "Not identified",
         "Brooke Satchwell",
         "Australia",
         "2021-09-21 00:00:00",
         "2021",
         "TV-14",
         "2 Seasons",
         "Docuseries, International TV Shows, Reality TV",
         "Finding love can be hard for anyone. For young adults on the autism spectrum, exploring the unpredictable world of dating is even more complicated.",
         "Australia",
         "Docuseries"
        ],
        [
         "77",
         "s26",
         "TV Show",
         "Love on the Spectrum",
         "Not identified",
         "Brooke Satchwell",
         "Australia",
         "2021-09-21 00:00:00",
         "2021",
         "TV-14",
         "2 Seasons",
         "Docuseries, International TV Shows, Reality TV",
         "Finding love can be hard for anyone. For young adults on the autism spectrum, exploring the unpredictable world of dating is even more complicated.",
         "Australia",
         "International TV Shows"
        ],
        [
         "78",
         "s26",
         "TV Show",
         "Love on the Spectrum",
         "Not identified",
         "Brooke Satchwell",
         "Australia",
         "2021-09-21 00:00:00",
         "2021",
         "TV-14",
         "2 Seasons",
         "Docuseries, International TV Shows, Reality TV",
         "Finding love can be hard for anyone. For young adults on the autism spectrum, exploring the unpredictable world of dating is even more complicated.",
         "Australia",
         "Reality TV"
        ],
        [
         "91",
         "s32",
         "TV Show",
         "Chicago Party Aunt",
         "Not identified",
         "Lauren Ash, Rory O'Malley, RuPaul Charles, Jill Talley, Ike Barinholtz, Jon Barinholtz, Matthew Craig, Bob Odenkirk, Mike Hagerty, Katie Rich, Chris Witaske",
         "Not identified",
         "2021-09-17 00:00:00",
         "2021",
         "TV-MA",
         "1 Season",
         "TV Comedies",
         "Chicago Party Aunt Diane is an idolized troublemaker with a talent for avoiding adulthood — and a soft spot for her soul-searching nephew.",
         "Not identified",
         "TV Comedies"
        ],
        [
         "92",
         "s33",
         "TV Show",
         "Sex Education",
         "Not identified",
         "Asa Butterfield, Gillian Anderson, Ncuti Gatwa, Emma Mackey, Connor Swindells, Kedar Williams-Stirling, Alistair Petrie",
         "United Kingdom",
         "2021-09-17 00:00:00",
         "2020",
         "TV-MA",
         "3 Seasons",
         "British TV Shows, International TV Shows, TV Comedies",
         "Insecure Otis has all the answers when it comes to sex advice, thanks to his therapist mom. So rebel Maeve proposes a school sex-therapy clinic.",
         "United Kingdom",
         "British TV Shows"
        ],
        [
         "93",
         "s33",
         "TV Show",
         "Sex Education",
         "Not identified",
         "Asa Butterfield, Gillian Anderson, Ncuti Gatwa, Emma Mackey, Connor Swindells, Kedar Williams-Stirling, Alistair Petrie",
         "United Kingdom",
         "2021-09-17 00:00:00",
         "2020",
         "TV-MA",
         "3 Seasons",
         "British TV Shows, International TV Shows, TV Comedies",
         "Insecure Otis has all the answers when it comes to sex advice, thanks to his therapist mom. So rebel Maeve proposes a school sex-therapy clinic.",
         "United Kingdom",
         "International TV Shows"
        ],
        [
         "94",
         "s33",
         "TV Show",
         "Sex Education",
         "Not identified",
         "Asa Butterfield, Gillian Anderson, Ncuti Gatwa, Emma Mackey, Connor Swindells, Kedar Williams-Stirling, Alistair Petrie",
         "United Kingdom",
         "2021-09-17 00:00:00",
         "2020",
         "TV-MA",
         "3 Seasons",
         "British TV Shows, International TV Shows, TV Comedies",
         "Insecure Otis has all the answers when it comes to sex advice, thanks to his therapist mom. So rebel Maeve proposes a school sex-therapy clinic.",
         "United Kingdom",
         "TV Comedies"
        ],
        [
         "95",
         "s34",
         "TV Show",
         "Squid Game",
         "Not identified",
         "Lee Jung-jae, Park Hae-soo, Wi Ha-jun, Oh Young-soo, Jung Ho-yeon, Heo Sung-tae, Kim Joo-ryoung, Tripathi Anupam, You Seong-joo, Lee You-mi",
         "Not identified",
         "2021-09-17 00:00:00",
         "2021",
         "TV-MA",
         "1 Season",
         "International TV Shows, TV Dramas, TV Thrillers",
         "Hundreds of cash-strapped players accept a strange invitation to compete in children's games. Inside, a tempting prize awaits — with deadly high stakes.",
         "Not identified",
         "International TV Shows"
        ],
        [
         "96",
         "s34",
         "TV Show",
         "Squid Game",
         "Not identified",
         "Lee Jung-jae, Park Hae-soo, Wi Ha-jun, Oh Young-soo, Jung Ho-yeon, Heo Sung-tae, Kim Joo-ryoung, Tripathi Anupam, You Seong-joo, Lee You-mi",
         "Not identified",
         "2021-09-17 00:00:00",
         "2021",
         "TV-MA",
         "1 Season",
         "International TV Shows, TV Dramas, TV Thrillers",
         "Hundreds of cash-strapped players accept a strange invitation to compete in children's games. Inside, a tempting prize awaits — with deadly high stakes.",
         "Not identified",
         "TV Dramas"
        ],
        [
         "97",
         "s34",
         "TV Show",
         "Squid Game",
         "Not identified",
         "Lee Jung-jae, Park Hae-soo, Wi Ha-jun, Oh Young-soo, Jung Ho-yeon, Heo Sung-tae, Kim Joo-ryoung, Tripathi Anupam, You Seong-joo, Lee You-mi",
         "Not identified",
         "2021-09-17 00:00:00",
         "2021",
         "TV-MA",
         "1 Season",
         "International TV Shows, TV Dramas, TV Thrillers",
         "Hundreds of cash-strapped players accept a strange invitation to compete in children's games. Inside, a tempting prize awaits — with deadly high stakes.",
         "Not identified",
         "TV Thrillers"
        ],
        [
         "98",
         "s35",
         "TV Show",
         "Tayo and Little Wizards",
         "Not identified",
         "Dami Lee, Jason Lee, Bommie Catherine Han, Jennifer Waescher, Nancy Kim",
         "Not identified",
         "2021-09-17 00:00:00",
         "2020",
         "TV-Y7",
         "1 Season",
         "Kids' TV",
         "Tayo speeds into an adventure when his friends get kidnapped by evil magicians invading their city in search of a magical gemstone.",
         "Not identified",
         "Kids' TV"
        ]
       ],
       "shape": {
        "columns": 14,
        "rows": 6857
       }
      },
      "text/html": [
       "<div>\n",
       "<style scoped>\n",
       "    .dataframe tbody tr th:only-of-type {\n",
       "        vertical-align: middle;\n",
       "    }\n",
       "\n",
       "    .dataframe tbody tr th {\n",
       "        vertical-align: top;\n",
       "    }\n",
       "\n",
       "    .dataframe thead th {\n",
       "        text-align: right;\n",
       "    }\n",
       "</style>\n",
       "<table border=\"1\" class=\"dataframe\">\n",
       "  <thead>\n",
       "    <tr style=\"text-align: right;\">\n",
       "      <th></th>\n",
       "      <th>show_id</th>\n",
       "      <th>type</th>\n",
       "      <th>title</th>\n",
       "      <th>director</th>\n",
       "      <th>cast</th>\n",
       "      <th>country</th>\n",
       "      <th>date_added</th>\n",
       "      <th>release_year</th>\n",
       "      <th>rating</th>\n",
       "      <th>duration</th>\n",
       "      <th>listed_in</th>\n",
       "      <th>description</th>\n",
       "      <th>new</th>\n",
       "      <th>category</th>\n",
       "    </tr>\n",
       "  </thead>\n",
       "  <tbody>\n",
       "    <tr>\n",
       "      <th>1</th>\n",
       "      <td>s2</td>\n",
       "      <td>TV Show</td>\n",
       "      <td>Blood &amp; Water</td>\n",
       "      <td>Not identified</td>\n",
       "      <td>Ama Qamata, Khosi Ngema, Gail Mabalane, Thaban...</td>\n",
       "      <td>South Africa</td>\n",
       "      <td>2021-09-24</td>\n",
       "      <td>2021</td>\n",
       "      <td>TV-MA</td>\n",
       "      <td>2 Seasons</td>\n",
       "      <td>International TV Shows, TV Dramas, TV Mysteries</td>\n",
       "      <td>After crossing paths at a party, a Cape Town t...</td>\n",
       "      <td>South Africa</td>\n",
       "      <td>International TV Shows</td>\n",
       "    </tr>\n",
       "    <tr>\n",
       "      <th>2</th>\n",
       "      <td>s2</td>\n",
       "      <td>TV Show</td>\n",
       "      <td>Blood &amp; Water</td>\n",
       "      <td>Not identified</td>\n",
       "      <td>Ama Qamata, Khosi Ngema, Gail Mabalane, Thaban...</td>\n",
       "      <td>South Africa</td>\n",
       "      <td>2021-09-24</td>\n",
       "      <td>2021</td>\n",
       "      <td>TV-MA</td>\n",
       "      <td>2 Seasons</td>\n",
       "      <td>International TV Shows, TV Dramas, TV Mysteries</td>\n",
       "      <td>After crossing paths at a party, a Cape Town t...</td>\n",
       "      <td>South Africa</td>\n",
       "      <td>TV Dramas</td>\n",
       "    </tr>\n",
       "    <tr>\n",
       "      <th>3</th>\n",
       "      <td>s2</td>\n",
       "      <td>TV Show</td>\n",
       "      <td>Blood &amp; Water</td>\n",
       "      <td>Not identified</td>\n",
       "      <td>Ama Qamata, Khosi Ngema, Gail Mabalane, Thaban...</td>\n",
       "      <td>South Africa</td>\n",
       "      <td>2021-09-24</td>\n",
       "      <td>2021</td>\n",
       "      <td>TV-MA</td>\n",
       "      <td>2 Seasons</td>\n",
       "      <td>International TV Shows, TV Dramas, TV Mysteries</td>\n",
       "      <td>After crossing paths at a party, a Cape Town t...</td>\n",
       "      <td>South Africa</td>\n",
       "      <td>TV Mysteries</td>\n",
       "    </tr>\n",
       "    <tr>\n",
       "      <th>4</th>\n",
       "      <td>s3</td>\n",
       "      <td>TV Show</td>\n",
       "      <td>Ganglands</td>\n",
       "      <td>Julien Leclercq</td>\n",
       "      <td>Sami Bouajila, Tracy Gotoas, Samuel Jouy, Nabi...</td>\n",
       "      <td>Not identified</td>\n",
       "      <td>2021-09-24</td>\n",
       "      <td>2021</td>\n",
       "      <td>TV-MA</td>\n",
       "      <td>1 Season</td>\n",
       "      <td>Crime TV Shows, International TV Shows, TV Act...</td>\n",
       "      <td>To protect his family from a powerful drug lor...</td>\n",
       "      <td>Not identified</td>\n",
       "      <td>Crime TV Shows</td>\n",
       "    </tr>\n",
       "    <tr>\n",
       "      <th>5</th>\n",
       "      <td>s3</td>\n",
       "      <td>TV Show</td>\n",
       "      <td>Ganglands</td>\n",
       "      <td>Julien Leclercq</td>\n",
       "      <td>Sami Bouajila, Tracy Gotoas, Samuel Jouy, Nabi...</td>\n",
       "      <td>Not identified</td>\n",
       "      <td>2021-09-24</td>\n",
       "      <td>2021</td>\n",
       "      <td>TV-MA</td>\n",
       "      <td>1 Season</td>\n",
       "      <td>Crime TV Shows, International TV Shows, TV Act...</td>\n",
       "      <td>To protect his family from a powerful drug lor...</td>\n",
       "      <td>Not identified</td>\n",
       "      <td>International TV Shows</td>\n",
       "    </tr>\n",
       "    <tr>\n",
       "      <th>...</th>\n",
       "      <td>...</td>\n",
       "      <td>...</td>\n",
       "      <td>...</td>\n",
       "      <td>...</td>\n",
       "      <td>...</td>\n",
       "      <td>...</td>\n",
       "      <td>...</td>\n",
       "      <td>...</td>\n",
       "      <td>...</td>\n",
       "      <td>...</td>\n",
       "      <td>...</td>\n",
       "      <td>...</td>\n",
       "      <td>...</td>\n",
       "      <td>...</td>\n",
       "    </tr>\n",
       "    <tr>\n",
       "      <th>23714</th>\n",
       "      <td>s8801</td>\n",
       "      <td>TV Show</td>\n",
       "      <td>Zindagi Gulzar Hai</td>\n",
       "      <td>Not identified</td>\n",
       "      <td>Sanam Saeed, Fawad Khan, Ayesha Omer, Mehreen ...</td>\n",
       "      <td>Pakistan</td>\n",
       "      <td>2016-12-15</td>\n",
       "      <td>2012</td>\n",
       "      <td>TV-PG</td>\n",
       "      <td>1 Season</td>\n",
       "      <td>International TV Shows, Romantic TV Shows, TV ...</td>\n",
       "      <td>Strong-willed, middle-class Kashaf and carefre...</td>\n",
       "      <td>Pakistan</td>\n",
       "      <td>Romantic TV Shows</td>\n",
       "    </tr>\n",
       "    <tr>\n",
       "      <th>23715</th>\n",
       "      <td>s8801</td>\n",
       "      <td>TV Show</td>\n",
       "      <td>Zindagi Gulzar Hai</td>\n",
       "      <td>Not identified</td>\n",
       "      <td>Sanam Saeed, Fawad Khan, Ayesha Omer, Mehreen ...</td>\n",
       "      <td>Pakistan</td>\n",
       "      <td>2016-12-15</td>\n",
       "      <td>2012</td>\n",
       "      <td>TV-PG</td>\n",
       "      <td>1 Season</td>\n",
       "      <td>International TV Shows, Romantic TV Shows, TV ...</td>\n",
       "      <td>Strong-willed, middle-class Kashaf and carefre...</td>\n",
       "      <td>Pakistan</td>\n",
       "      <td>TV Dramas</td>\n",
       "    </tr>\n",
       "    <tr>\n",
       "      <th>23725</th>\n",
       "      <td>s8804</td>\n",
       "      <td>TV Show</td>\n",
       "      <td>Zombie Dumb</td>\n",
       "      <td>Not identified</td>\n",
       "      <td>Not identified</td>\n",
       "      <td>Not identified</td>\n",
       "      <td>2019-07-01</td>\n",
       "      <td>2018</td>\n",
       "      <td>TV-Y7</td>\n",
       "      <td>2 Seasons</td>\n",
       "      <td>Kids' TV, Korean TV Shows, TV Comedies</td>\n",
       "      <td>While living alone in a spooky town, a young g...</td>\n",
       "      <td>Not identified</td>\n",
       "      <td>Kids' TV</td>\n",
       "    </tr>\n",
       "    <tr>\n",
       "      <th>23726</th>\n",
       "      <td>s8804</td>\n",
       "      <td>TV Show</td>\n",
       "      <td>Zombie Dumb</td>\n",
       "      <td>Not identified</td>\n",
       "      <td>Not identified</td>\n",
       "      <td>Not identified</td>\n",
       "      <td>2019-07-01</td>\n",
       "      <td>2018</td>\n",
       "      <td>TV-Y7</td>\n",
       "      <td>2 Seasons</td>\n",
       "      <td>Kids' TV, Korean TV Shows, TV Comedies</td>\n",
       "      <td>While living alone in a spooky town, a young g...</td>\n",
       "      <td>Not identified</td>\n",
       "      <td>Korean TV Shows</td>\n",
       "    </tr>\n",
       "    <tr>\n",
       "      <th>23727</th>\n",
       "      <td>s8804</td>\n",
       "      <td>TV Show</td>\n",
       "      <td>Zombie Dumb</td>\n",
       "      <td>Not identified</td>\n",
       "      <td>Not identified</td>\n",
       "      <td>Not identified</td>\n",
       "      <td>2019-07-01</td>\n",
       "      <td>2018</td>\n",
       "      <td>TV-Y7</td>\n",
       "      <td>2 Seasons</td>\n",
       "      <td>Kids' TV, Korean TV Shows, TV Comedies</td>\n",
       "      <td>While living alone in a spooky town, a young g...</td>\n",
       "      <td>Not identified</td>\n",
       "      <td>TV Comedies</td>\n",
       "    </tr>\n",
       "  </tbody>\n",
       "</table>\n",
       "<p>6857 rows × 14 columns</p>\n",
       "</div>"
      ],
      "text/plain": [
       "      show_id     type               title         director  \\\n",
       "1          s2  TV Show       Blood & Water   Not identified   \n",
       "2          s2  TV Show       Blood & Water   Not identified   \n",
       "3          s2  TV Show       Blood & Water   Not identified   \n",
       "4          s3  TV Show           Ganglands  Julien Leclercq   \n",
       "5          s3  TV Show           Ganglands  Julien Leclercq   \n",
       "...       ...      ...                 ...              ...   \n",
       "23714   s8801  TV Show  Zindagi Gulzar Hai   Not identified   \n",
       "23715   s8801  TV Show  Zindagi Gulzar Hai   Not identified   \n",
       "23725   s8804  TV Show         Zombie Dumb   Not identified   \n",
       "23726   s8804  TV Show         Zombie Dumb   Not identified   \n",
       "23727   s8804  TV Show         Zombie Dumb   Not identified   \n",
       "\n",
       "                                                    cast         country  \\\n",
       "1      Ama Qamata, Khosi Ngema, Gail Mabalane, Thaban...    South Africa   \n",
       "2      Ama Qamata, Khosi Ngema, Gail Mabalane, Thaban...    South Africa   \n",
       "3      Ama Qamata, Khosi Ngema, Gail Mabalane, Thaban...    South Africa   \n",
       "4      Sami Bouajila, Tracy Gotoas, Samuel Jouy, Nabi...  Not identified   \n",
       "5      Sami Bouajila, Tracy Gotoas, Samuel Jouy, Nabi...  Not identified   \n",
       "...                                                  ...             ...   \n",
       "23714  Sanam Saeed, Fawad Khan, Ayesha Omer, Mehreen ...        Pakistan   \n",
       "23715  Sanam Saeed, Fawad Khan, Ayesha Omer, Mehreen ...        Pakistan   \n",
       "23725                                     Not identified  Not identified   \n",
       "23726                                     Not identified  Not identified   \n",
       "23727                                     Not identified  Not identified   \n",
       "\n",
       "      date_added release_year rating   duration  \\\n",
       "1     2021-09-24         2021  TV-MA  2 Seasons   \n",
       "2     2021-09-24         2021  TV-MA  2 Seasons   \n",
       "3     2021-09-24         2021  TV-MA  2 Seasons   \n",
       "4     2021-09-24         2021  TV-MA   1 Season   \n",
       "5     2021-09-24         2021  TV-MA   1 Season   \n",
       "...          ...          ...    ...        ...   \n",
       "23714 2016-12-15         2012  TV-PG   1 Season   \n",
       "23715 2016-12-15         2012  TV-PG   1 Season   \n",
       "23725 2019-07-01         2018  TV-Y7  2 Seasons   \n",
       "23726 2019-07-01         2018  TV-Y7  2 Seasons   \n",
       "23727 2019-07-01         2018  TV-Y7  2 Seasons   \n",
       "\n",
       "                                               listed_in  \\\n",
       "1        International TV Shows, TV Dramas, TV Mysteries   \n",
       "2        International TV Shows, TV Dramas, TV Mysteries   \n",
       "3        International TV Shows, TV Dramas, TV Mysteries   \n",
       "4      Crime TV Shows, International TV Shows, TV Act...   \n",
       "5      Crime TV Shows, International TV Shows, TV Act...   \n",
       "...                                                  ...   \n",
       "23714  International TV Shows, Romantic TV Shows, TV ...   \n",
       "23715  International TV Shows, Romantic TV Shows, TV ...   \n",
       "23725             Kids' TV, Korean TV Shows, TV Comedies   \n",
       "23726             Kids' TV, Korean TV Shows, TV Comedies   \n",
       "23727             Kids' TV, Korean TV Shows, TV Comedies   \n",
       "\n",
       "                                             description             new  \\\n",
       "1      After crossing paths at a party, a Cape Town t...    South Africa   \n",
       "2      After crossing paths at a party, a Cape Town t...    South Africa   \n",
       "3      After crossing paths at a party, a Cape Town t...    South Africa   \n",
       "4      To protect his family from a powerful drug lor...  Not identified   \n",
       "5      To protect his family from a powerful drug lor...  Not identified   \n",
       "...                                                  ...             ...   \n",
       "23714  Strong-willed, middle-class Kashaf and carefre...        Pakistan   \n",
       "23715  Strong-willed, middle-class Kashaf and carefre...        Pakistan   \n",
       "23725  While living alone in a spooky town, a young g...  Not identified   \n",
       "23726  While living alone in a spooky town, a young g...  Not identified   \n",
       "23727  While living alone in a spooky town, a young g...  Not identified   \n",
       "\n",
       "                     category  \n",
       "1      International TV Shows  \n",
       "2                   TV Dramas  \n",
       "3                TV Mysteries  \n",
       "4              Crime TV Shows  \n",
       "5      International TV Shows  \n",
       "...                       ...  \n",
       "23714       Romantic TV Shows  \n",
       "23715               TV Dramas  \n",
       "23725                Kids' TV  \n",
       "23726         Korean TV Shows  \n",
       "23727             TV Comedies  \n",
       "\n",
       "[6857 rows x 14 columns]"
      ]
     },
     "execution_count": 130,
     "metadata": {},
     "output_type": "execute_result"
    }
   ],
   "source": [
    "series=df[df['duration'].str.contains('Season','Seasons')].copy()\n",
    "series"
   ]
  },
  {
   "cell_type": "code",
   "execution_count": 131,
   "id": "a03f7749",
   "metadata": {},
   "outputs": [],
   "source": [
    "movies=df[df['type']=='Movie'].copy()"
   ]
  },
  {
   "cell_type": "markdown",
   "id": "33b72cdc",
   "metadata": {},
   "source": [
    "## extracting the word season out to be able to be able to analaayze series with number of seasons "
   ]
  },
  {
   "cell_type": "code",
   "execution_count": 132,
   "id": "db992e89",
   "metadata": {},
   "outputs": [],
   "source": [
    "keywords = ['season', 'seasons']\n",
    "pattern = r'(\\d+)\\s+(season|seasons)'\n",
    "\n",
    "# Create a boolean mask: rows containing 'season' or 'seasons'\n",
    "series[['number_ofseasons','season_type']]= series['duration'].str.extract(pattern, flags=re.IGNORECASE)\n",
    "\n"
   ]
  },
  {
   "cell_type": "markdown",
   "id": "ebd0dd5b",
   "metadata": {},
   "source": [
    "# Extracting minutes out of duration to  get the minutes alone, \\d> represent numbers,'+' represents more than one number whe need "
   ]
  },
  {
   "cell_type": "code",
   "execution_count": 133,
   "id": "952459f1",
   "metadata": {},
   "outputs": [],
   "source": [
    "pattern=r'(\\d+)'\n",
    "movies['movies_minutes']=movies['duration'].str.extract(pattern,flags=re.IGNORECASE,expand=True)"
   ]
  },
  {
   "cell_type": "code",
   "execution_count": 134,
   "id": "547aef6b",
   "metadata": {},
   "outputs": [],
   "source": [
    "df.loc[movies.index, 'movies_minutes'] = movies['movies_minutes']\n",
    "df.loc[series.index, 'number_ofseasons'] = series['number_ofseasons']\n"
   ]
  },
  {
   "cell_type": "code",
   "execution_count": 135,
   "id": "6b76cc5c",
   "metadata": {},
   "outputs": [],
   "source": [
    "list=df['cast'].to_list()"
   ]
  },
  {
   "cell_type": "code",
   "execution_count": 136,
   "id": "5b6135af",
   "metadata": {},
   "outputs": [],
   "source": [
    "def count_cast(cast):\n",
    "    if cast!='Not identified':\n",
    "        return   len(cast)\n",
    "    else:\n",
    "         return  0\n",
    "df['count_cast']=df['cast'].apply(count_cast)"
   ]
  },
  {
   "cell_type": "code",
   "execution_count": 137,
   "id": "6255d92a",
   "metadata": {},
   "outputs": [
    {
     "data": {
      "application/vnd.microsoft.datawrangler.viewer.v0+json": {
       "columns": [
        {
         "name": "index",
         "rawType": "int64",
         "type": "integer"
        },
        {
         "name": "show_id",
         "rawType": "object",
         "type": "string"
        },
        {
         "name": "type",
         "rawType": "object",
         "type": "string"
        },
        {
         "name": "title",
         "rawType": "object",
         "type": "string"
        },
        {
         "name": "director",
         "rawType": "object",
         "type": "string"
        },
        {
         "name": "cast",
         "rawType": "object",
         "type": "string"
        },
        {
         "name": "country",
         "rawType": "object",
         "type": "string"
        },
        {
         "name": "date_added",
         "rawType": "datetime64[ns]",
         "type": "datetime"
        },
        {
         "name": "release_year",
         "rawType": "object",
         "type": "unknown"
        },
        {
         "name": "rating",
         "rawType": "object",
         "type": "string"
        },
        {
         "name": "duration",
         "rawType": "object",
         "type": "string"
        },
        {
         "name": "listed_in",
         "rawType": "object",
         "type": "string"
        },
        {
         "name": "description",
         "rawType": "object",
         "type": "string"
        },
        {
         "name": "new",
         "rawType": "object",
         "type": "string"
        },
        {
         "name": "category",
         "rawType": "object",
         "type": "string"
        },
        {
         "name": "movies_minutes",
         "rawType": "object",
         "type": "unknown"
        },
        {
         "name": "number_ofseasons",
         "rawType": "object",
         "type": "unknown"
        },
        {
         "name": "count_cast",
         "rawType": "int64",
         "type": "integer"
        }
       ],
       "ref": "0ca43d57-fc79-4f76-a9a6-02ef96e70364",
       "rows": [
        [
         "0",
         "s1",
         "Movie",
         "Dick Johnson Is Dead",
         "Kirsten Johnson",
         "Not identified",
         "United States",
         "2021-09-25 00:00:00",
         "2020",
         "PG-13",
         "90 min",
         "Documentaries",
         "As her father nears the end of his life, filmmaker Kirsten Johnson stages his death in inventive and comical ways to help them both face the inevitable.",
         "United States",
         "Documentaries",
         "90",
         null,
         "0"
        ],
        [
         "1",
         "s2",
         "TV Show",
         "Blood & Water",
         "Not identified",
         "Ama Qamata, Khosi Ngema, Gail Mabalane, Thabang Molaba, Dillon Windvogel, Natasha Thahane, Arno Greeff, Xolile Tshabalala, Getmore Sithole, Cindy Mahlangu, Ryle De Morny, Greteli Fincham, Sello Maake Ka-Ncube, Odwa Gwanya, Mekaila Mathys, Sandi Schultz, Duane Williams, Shamilla Miller, Patrick Mofokeng",
         "South Africa",
         "2021-09-24 00:00:00",
         "2021",
         "TV-MA",
         "2 Seasons",
         "International TV Shows, TV Dramas, TV Mysteries",
         "After crossing paths at a party, a Cape Town teen sets out to prove whether a private-school swimming star is her sister who was abducted at birth.",
         "South Africa",
         "International TV Shows",
         null,
         "2",
         "303"
        ],
        [
         "2",
         "s2",
         "TV Show",
         "Blood & Water",
         "Not identified",
         "Ama Qamata, Khosi Ngema, Gail Mabalane, Thabang Molaba, Dillon Windvogel, Natasha Thahane, Arno Greeff, Xolile Tshabalala, Getmore Sithole, Cindy Mahlangu, Ryle De Morny, Greteli Fincham, Sello Maake Ka-Ncube, Odwa Gwanya, Mekaila Mathys, Sandi Schultz, Duane Williams, Shamilla Miller, Patrick Mofokeng",
         "South Africa",
         "2021-09-24 00:00:00",
         "2021",
         "TV-MA",
         "2 Seasons",
         "International TV Shows, TV Dramas, TV Mysteries",
         "After crossing paths at a party, a Cape Town teen sets out to prove whether a private-school swimming star is her sister who was abducted at birth.",
         "South Africa",
         "TV Dramas",
         null,
         "2",
         "303"
        ],
        [
         "3",
         "s2",
         "TV Show",
         "Blood & Water",
         "Not identified",
         "Ama Qamata, Khosi Ngema, Gail Mabalane, Thabang Molaba, Dillon Windvogel, Natasha Thahane, Arno Greeff, Xolile Tshabalala, Getmore Sithole, Cindy Mahlangu, Ryle De Morny, Greteli Fincham, Sello Maake Ka-Ncube, Odwa Gwanya, Mekaila Mathys, Sandi Schultz, Duane Williams, Shamilla Miller, Patrick Mofokeng",
         "South Africa",
         "2021-09-24 00:00:00",
         "2021",
         "TV-MA",
         "2 Seasons",
         "International TV Shows, TV Dramas, TV Mysteries",
         "After crossing paths at a party, a Cape Town teen sets out to prove whether a private-school swimming star is her sister who was abducted at birth.",
         "South Africa",
         "TV Mysteries",
         null,
         "2",
         "303"
        ],
        [
         "4",
         "s3",
         "TV Show",
         "Ganglands",
         "Julien Leclercq",
         "Sami Bouajila, Tracy Gotoas, Samuel Jouy, Nabiha Akkari, Sofia Lesaffre, Salim Kechiouche, Noureddine Farihi, Geert Van Rampelberg, Bakary Diombera",
         "Not identified",
         "2021-09-24 00:00:00",
         "2021",
         "TV-MA",
         "1 Season",
         "Crime TV Shows, International TV Shows, TV Action & Adventure",
         "To protect his family from a powerful drug lord, skilled thief Mehdi and his expert team of robbers are pulled into a violent and deadly turf war.",
         "Not identified",
         "Crime TV Shows",
         null,
         "1",
         "147"
        ],
        [
         "5",
         "s3",
         "TV Show",
         "Ganglands",
         "Julien Leclercq",
         "Sami Bouajila, Tracy Gotoas, Samuel Jouy, Nabiha Akkari, Sofia Lesaffre, Salim Kechiouche, Noureddine Farihi, Geert Van Rampelberg, Bakary Diombera",
         "Not identified",
         "2021-09-24 00:00:00",
         "2021",
         "TV-MA",
         "1 Season",
         "Crime TV Shows, International TV Shows, TV Action & Adventure",
         "To protect his family from a powerful drug lord, skilled thief Mehdi and his expert team of robbers are pulled into a violent and deadly turf war.",
         "Not identified",
         "International TV Shows",
         null,
         "1",
         "147"
        ],
        [
         "6",
         "s3",
         "TV Show",
         "Ganglands",
         "Julien Leclercq",
         "Sami Bouajila, Tracy Gotoas, Samuel Jouy, Nabiha Akkari, Sofia Lesaffre, Salim Kechiouche, Noureddine Farihi, Geert Van Rampelberg, Bakary Diombera",
         "Not identified",
         "2021-09-24 00:00:00",
         "2021",
         "TV-MA",
         "1 Season",
         "Crime TV Shows, International TV Shows, TV Action & Adventure",
         "To protect his family from a powerful drug lord, skilled thief Mehdi and his expert team of robbers are pulled into a violent and deadly turf war.",
         "Not identified",
         "TV Action & Adventure",
         null,
         "1",
         "147"
        ],
        [
         "7",
         "s4",
         "TV Show",
         "Jailbirds New Orleans",
         "Not identified",
         "Not identified",
         "Not identified",
         "2021-09-24 00:00:00",
         "2021",
         "TV-MA",
         "1 Season",
         "Docuseries, Reality TV",
         "Feuds, flirtations and toilet talk go down among the incarcerated women at the Orleans Justice Center in New Orleans on this gritty reality series.",
         "Not identified",
         "Docuseries",
         null,
         "1",
         "0"
        ],
        [
         "8",
         "s4",
         "TV Show",
         "Jailbirds New Orleans",
         "Not identified",
         "Not identified",
         "Not identified",
         "2021-09-24 00:00:00",
         "2021",
         "TV-MA",
         "1 Season",
         "Docuseries, Reality TV",
         "Feuds, flirtations and toilet talk go down among the incarcerated women at the Orleans Justice Center in New Orleans on this gritty reality series.",
         "Not identified",
         "Reality TV",
         null,
         "1",
         "0"
        ],
        [
         "9",
         "s5",
         "TV Show",
         "Kota Factory",
         "Not identified",
         "Mayur More, Jitendra Kumar, Ranjan Raj, Alam Khan, Ahsaas Channa, Revathi Pillai, Urvi Singh, Arun Kumar",
         "India",
         "2021-09-24 00:00:00",
         "2021",
         "TV-MA",
         "2 Seasons",
         "International TV Shows, Romantic TV Shows, TV Comedies",
         "In a city of coaching centers known to train India’s finest collegiate minds, an earnest but unexceptional student and his friends navigate campus life.",
         "India",
         "International TV Shows",
         null,
         "2",
         "104"
        ],
        [
         "10",
         "s5",
         "TV Show",
         "Kota Factory",
         "Not identified",
         "Mayur More, Jitendra Kumar, Ranjan Raj, Alam Khan, Ahsaas Channa, Revathi Pillai, Urvi Singh, Arun Kumar",
         "India",
         "2021-09-24 00:00:00",
         "2021",
         "TV-MA",
         "2 Seasons",
         "International TV Shows, Romantic TV Shows, TV Comedies",
         "In a city of coaching centers known to train India’s finest collegiate minds, an earnest but unexceptional student and his friends navigate campus life.",
         "India",
         "Romantic TV Shows",
         null,
         "2",
         "104"
        ],
        [
         "11",
         "s5",
         "TV Show",
         "Kota Factory",
         "Not identified",
         "Mayur More, Jitendra Kumar, Ranjan Raj, Alam Khan, Ahsaas Channa, Revathi Pillai, Urvi Singh, Arun Kumar",
         "India",
         "2021-09-24 00:00:00",
         "2021",
         "TV-MA",
         "2 Seasons",
         "International TV Shows, Romantic TV Shows, TV Comedies",
         "In a city of coaching centers known to train India’s finest collegiate minds, an earnest but unexceptional student and his friends navigate campus life.",
         "India",
         "TV Comedies",
         null,
         "2",
         "104"
        ],
        [
         "12",
         "s6",
         "TV Show",
         "Midnight Mass",
         "Mike Flanagan",
         "Kate Siegel, Zach Gilford, Hamish Linklater, Henry Thomas, Kristin Lehman, Samantha Sloyan, Igby Rigney, Rahul Kohli, Annarah Cymone, Annabeth Gish, Alex Essoe, Rahul Abburi, Matt Biedel, Michael Trucco, Crystal Balint, Louis Oliver",
         "Not identified",
         "2021-09-24 00:00:00",
         "2021",
         "TV-MA",
         "1 Season",
         "TV Dramas, TV Horror, TV Mysteries",
         "The arrival of a charismatic young priest brings glorious miracles, ominous mysteries and renewed religious fervor to a dying town desperate to believe.",
         "Not identified",
         "TV Dramas",
         null,
         "1",
         "232"
        ],
        [
         "13",
         "s6",
         "TV Show",
         "Midnight Mass",
         "Mike Flanagan",
         "Kate Siegel, Zach Gilford, Hamish Linklater, Henry Thomas, Kristin Lehman, Samantha Sloyan, Igby Rigney, Rahul Kohli, Annarah Cymone, Annabeth Gish, Alex Essoe, Rahul Abburi, Matt Biedel, Michael Trucco, Crystal Balint, Louis Oliver",
         "Not identified",
         "2021-09-24 00:00:00",
         "2021",
         "TV-MA",
         "1 Season",
         "TV Dramas, TV Horror, TV Mysteries",
         "The arrival of a charismatic young priest brings glorious miracles, ominous mysteries and renewed religious fervor to a dying town desperate to believe.",
         "Not identified",
         "TV Horror",
         null,
         "1",
         "232"
        ],
        [
         "14",
         "s6",
         "TV Show",
         "Midnight Mass",
         "Mike Flanagan",
         "Kate Siegel, Zach Gilford, Hamish Linklater, Henry Thomas, Kristin Lehman, Samantha Sloyan, Igby Rigney, Rahul Kohli, Annarah Cymone, Annabeth Gish, Alex Essoe, Rahul Abburi, Matt Biedel, Michael Trucco, Crystal Balint, Louis Oliver",
         "Not identified",
         "2021-09-24 00:00:00",
         "2021",
         "TV-MA",
         "1 Season",
         "TV Dramas, TV Horror, TV Mysteries",
         "The arrival of a charismatic young priest brings glorious miracles, ominous mysteries and renewed religious fervor to a dying town desperate to believe.",
         "Not identified",
         "TV Mysteries",
         null,
         "1",
         "232"
        ],
        [
         "15",
         "s7",
         "Movie",
         "My Little Pony: A New Generation",
         "Robert Cullen, José Luis Ucha",
         "Vanessa Hudgens, Kimiko Glenn, James Marsden, Sofia Carson, Liza Koshy, Ken Jeong, Elizabeth Perkins, Jane Krakowski, Michael McKean, Phil LaMarr",
         "Not identified",
         "2021-09-24 00:00:00",
         "2021",
         "PG",
         "91 min",
         "Children & Family Movies",
         "Equestria's divided. But a bright-eyed hero believes Earth Ponies, Pegasi and Unicorns should be pals — and, hoof to heart, she’s determined to prove it.",
         "Not identified",
         "Children & Family Movies",
         "91",
         null,
         "145"
        ],
        [
         "16",
         "s8",
         "Movie",
         "Sankofa",
         "Haile Gerima",
         "Kofi Ghanaba, Oyafunmike Ogunlano, Alexandra Duah, Nick Medley, Mutabaruka, Afemo Omilami, Reggie Carter, Mzuri",
         "United States, Ghana, Burkina Faso, United Kingdom, Germany, Ethiopia",
         "2021-09-24 00:00:00",
         "1993",
         "TV-MA",
         "125 min",
         "Dramas, Independent Movies, International Movies",
         "On a photo shoot in Ghana, an American model slips back in time, becomes enslaved on a plantation and bears witness to the agony of her ancestral past.",
         "United States",
         "Dramas",
         "125",
         null,
         "111"
        ],
        [
         "17",
         "s8",
         "Movie",
         "Sankofa",
         "Haile Gerima",
         "Kofi Ghanaba, Oyafunmike Ogunlano, Alexandra Duah, Nick Medley, Mutabaruka, Afemo Omilami, Reggie Carter, Mzuri",
         "United States, Ghana, Burkina Faso, United Kingdom, Germany, Ethiopia",
         "2021-09-24 00:00:00",
         "1993",
         "TV-MA",
         "125 min",
         "Dramas, Independent Movies, International Movies",
         "On a photo shoot in Ghana, an American model slips back in time, becomes enslaved on a plantation and bears witness to the agony of her ancestral past.",
         "United States",
         "Independent Movies",
         "125",
         null,
         "111"
        ],
        [
         "18",
         "s8",
         "Movie",
         "Sankofa",
         "Haile Gerima",
         "Kofi Ghanaba, Oyafunmike Ogunlano, Alexandra Duah, Nick Medley, Mutabaruka, Afemo Omilami, Reggie Carter, Mzuri",
         "United States, Ghana, Burkina Faso, United Kingdom, Germany, Ethiopia",
         "2021-09-24 00:00:00",
         "1993",
         "TV-MA",
         "125 min",
         "Dramas, Independent Movies, International Movies",
         "On a photo shoot in Ghana, an American model slips back in time, becomes enslaved on a plantation and bears witness to the agony of her ancestral past.",
         "United States",
         "International Movies",
         "125",
         null,
         "111"
        ],
        [
         "19",
         "s8",
         "Movie",
         "Sankofa",
         "Haile Gerima",
         "Kofi Ghanaba, Oyafunmike Ogunlano, Alexandra Duah, Nick Medley, Mutabaruka, Afemo Omilami, Reggie Carter, Mzuri",
         "United States, Ghana, Burkina Faso, United Kingdom, Germany, Ethiopia",
         "2021-09-24 00:00:00",
         "1993",
         "TV-MA",
         "125 min",
         "Dramas, Independent Movies, International Movies",
         "On a photo shoot in Ghana, an American model slips back in time, becomes enslaved on a plantation and bears witness to the agony of her ancestral past.",
         "Ghana",
         "Dramas",
         "125",
         null,
         "111"
        ],
        [
         "20",
         "s8",
         "Movie",
         "Sankofa",
         "Haile Gerima",
         "Kofi Ghanaba, Oyafunmike Ogunlano, Alexandra Duah, Nick Medley, Mutabaruka, Afemo Omilami, Reggie Carter, Mzuri",
         "United States, Ghana, Burkina Faso, United Kingdom, Germany, Ethiopia",
         "2021-09-24 00:00:00",
         "1993",
         "TV-MA",
         "125 min",
         "Dramas, Independent Movies, International Movies",
         "On a photo shoot in Ghana, an American model slips back in time, becomes enslaved on a plantation and bears witness to the agony of her ancestral past.",
         "Ghana",
         "Independent Movies",
         "125",
         null,
         "111"
        ],
        [
         "21",
         "s8",
         "Movie",
         "Sankofa",
         "Haile Gerima",
         "Kofi Ghanaba, Oyafunmike Ogunlano, Alexandra Duah, Nick Medley, Mutabaruka, Afemo Omilami, Reggie Carter, Mzuri",
         "United States, Ghana, Burkina Faso, United Kingdom, Germany, Ethiopia",
         "2021-09-24 00:00:00",
         "1993",
         "TV-MA",
         "125 min",
         "Dramas, Independent Movies, International Movies",
         "On a photo shoot in Ghana, an American model slips back in time, becomes enslaved on a plantation and bears witness to the agony of her ancestral past.",
         "Ghana",
         "International Movies",
         "125",
         null,
         "111"
        ],
        [
         "22",
         "s8",
         "Movie",
         "Sankofa",
         "Haile Gerima",
         "Kofi Ghanaba, Oyafunmike Ogunlano, Alexandra Duah, Nick Medley, Mutabaruka, Afemo Omilami, Reggie Carter, Mzuri",
         "United States, Ghana, Burkina Faso, United Kingdom, Germany, Ethiopia",
         "2021-09-24 00:00:00",
         "1993",
         "TV-MA",
         "125 min",
         "Dramas, Independent Movies, International Movies",
         "On a photo shoot in Ghana, an American model slips back in time, becomes enslaved on a plantation and bears witness to the agony of her ancestral past.",
         "Burkina Faso",
         "Dramas",
         "125",
         null,
         "111"
        ],
        [
         "23",
         "s8",
         "Movie",
         "Sankofa",
         "Haile Gerima",
         "Kofi Ghanaba, Oyafunmike Ogunlano, Alexandra Duah, Nick Medley, Mutabaruka, Afemo Omilami, Reggie Carter, Mzuri",
         "United States, Ghana, Burkina Faso, United Kingdom, Germany, Ethiopia",
         "2021-09-24 00:00:00",
         "1993",
         "TV-MA",
         "125 min",
         "Dramas, Independent Movies, International Movies",
         "On a photo shoot in Ghana, an American model slips back in time, becomes enslaved on a plantation and bears witness to the agony of her ancestral past.",
         "Burkina Faso",
         "Independent Movies",
         "125",
         null,
         "111"
        ],
        [
         "24",
         "s8",
         "Movie",
         "Sankofa",
         "Haile Gerima",
         "Kofi Ghanaba, Oyafunmike Ogunlano, Alexandra Duah, Nick Medley, Mutabaruka, Afemo Omilami, Reggie Carter, Mzuri",
         "United States, Ghana, Burkina Faso, United Kingdom, Germany, Ethiopia",
         "2021-09-24 00:00:00",
         "1993",
         "TV-MA",
         "125 min",
         "Dramas, Independent Movies, International Movies",
         "On a photo shoot in Ghana, an American model slips back in time, becomes enslaved on a plantation and bears witness to the agony of her ancestral past.",
         "Burkina Faso",
         "International Movies",
         "125",
         null,
         "111"
        ],
        [
         "25",
         "s8",
         "Movie",
         "Sankofa",
         "Haile Gerima",
         "Kofi Ghanaba, Oyafunmike Ogunlano, Alexandra Duah, Nick Medley, Mutabaruka, Afemo Omilami, Reggie Carter, Mzuri",
         "United States, Ghana, Burkina Faso, United Kingdom, Germany, Ethiopia",
         "2021-09-24 00:00:00",
         "1993",
         "TV-MA",
         "125 min",
         "Dramas, Independent Movies, International Movies",
         "On a photo shoot in Ghana, an American model slips back in time, becomes enslaved on a plantation and bears witness to the agony of her ancestral past.",
         "United Kingdom",
         "Dramas",
         "125",
         null,
         "111"
        ],
        [
         "26",
         "s8",
         "Movie",
         "Sankofa",
         "Haile Gerima",
         "Kofi Ghanaba, Oyafunmike Ogunlano, Alexandra Duah, Nick Medley, Mutabaruka, Afemo Omilami, Reggie Carter, Mzuri",
         "United States, Ghana, Burkina Faso, United Kingdom, Germany, Ethiopia",
         "2021-09-24 00:00:00",
         "1993",
         "TV-MA",
         "125 min",
         "Dramas, Independent Movies, International Movies",
         "On a photo shoot in Ghana, an American model slips back in time, becomes enslaved on a plantation and bears witness to the agony of her ancestral past.",
         "United Kingdom",
         "Independent Movies",
         "125",
         null,
         "111"
        ],
        [
         "27",
         "s8",
         "Movie",
         "Sankofa",
         "Haile Gerima",
         "Kofi Ghanaba, Oyafunmike Ogunlano, Alexandra Duah, Nick Medley, Mutabaruka, Afemo Omilami, Reggie Carter, Mzuri",
         "United States, Ghana, Burkina Faso, United Kingdom, Germany, Ethiopia",
         "2021-09-24 00:00:00",
         "1993",
         "TV-MA",
         "125 min",
         "Dramas, Independent Movies, International Movies",
         "On a photo shoot in Ghana, an American model slips back in time, becomes enslaved on a plantation and bears witness to the agony of her ancestral past.",
         "United Kingdom",
         "International Movies",
         "125",
         null,
         "111"
        ],
        [
         "28",
         "s8",
         "Movie",
         "Sankofa",
         "Haile Gerima",
         "Kofi Ghanaba, Oyafunmike Ogunlano, Alexandra Duah, Nick Medley, Mutabaruka, Afemo Omilami, Reggie Carter, Mzuri",
         "United States, Ghana, Burkina Faso, United Kingdom, Germany, Ethiopia",
         "2021-09-24 00:00:00",
         "1993",
         "TV-MA",
         "125 min",
         "Dramas, Independent Movies, International Movies",
         "On a photo shoot in Ghana, an American model slips back in time, becomes enslaved on a plantation and bears witness to the agony of her ancestral past.",
         "Germany",
         "Dramas",
         "125",
         null,
         "111"
        ],
        [
         "29",
         "s8",
         "Movie",
         "Sankofa",
         "Haile Gerima",
         "Kofi Ghanaba, Oyafunmike Ogunlano, Alexandra Duah, Nick Medley, Mutabaruka, Afemo Omilami, Reggie Carter, Mzuri",
         "United States, Ghana, Burkina Faso, United Kingdom, Germany, Ethiopia",
         "2021-09-24 00:00:00",
         "1993",
         "TV-MA",
         "125 min",
         "Dramas, Independent Movies, International Movies",
         "On a photo shoot in Ghana, an American model slips back in time, becomes enslaved on a plantation and bears witness to the agony of her ancestral past.",
         "Germany",
         "Independent Movies",
         "125",
         null,
         "111"
        ],
        [
         "30",
         "s8",
         "Movie",
         "Sankofa",
         "Haile Gerima",
         "Kofi Ghanaba, Oyafunmike Ogunlano, Alexandra Duah, Nick Medley, Mutabaruka, Afemo Omilami, Reggie Carter, Mzuri",
         "United States, Ghana, Burkina Faso, United Kingdom, Germany, Ethiopia",
         "2021-09-24 00:00:00",
         "1993",
         "TV-MA",
         "125 min",
         "Dramas, Independent Movies, International Movies",
         "On a photo shoot in Ghana, an American model slips back in time, becomes enslaved on a plantation and bears witness to the agony of her ancestral past.",
         "Germany",
         "International Movies",
         "125",
         null,
         "111"
        ],
        [
         "31",
         "s8",
         "Movie",
         "Sankofa",
         "Haile Gerima",
         "Kofi Ghanaba, Oyafunmike Ogunlano, Alexandra Duah, Nick Medley, Mutabaruka, Afemo Omilami, Reggie Carter, Mzuri",
         "United States, Ghana, Burkina Faso, United Kingdom, Germany, Ethiopia",
         "2021-09-24 00:00:00",
         "1993",
         "TV-MA",
         "125 min",
         "Dramas, Independent Movies, International Movies",
         "On a photo shoot in Ghana, an American model slips back in time, becomes enslaved on a plantation and bears witness to the agony of her ancestral past.",
         "Ethiopia",
         "Dramas",
         "125",
         null,
         "111"
        ],
        [
         "32",
         "s8",
         "Movie",
         "Sankofa",
         "Haile Gerima",
         "Kofi Ghanaba, Oyafunmike Ogunlano, Alexandra Duah, Nick Medley, Mutabaruka, Afemo Omilami, Reggie Carter, Mzuri",
         "United States, Ghana, Burkina Faso, United Kingdom, Germany, Ethiopia",
         "2021-09-24 00:00:00",
         "1993",
         "TV-MA",
         "125 min",
         "Dramas, Independent Movies, International Movies",
         "On a photo shoot in Ghana, an American model slips back in time, becomes enslaved on a plantation and bears witness to the agony of her ancestral past.",
         "Ethiopia",
         "Independent Movies",
         "125",
         null,
         "111"
        ],
        [
         "33",
         "s8",
         "Movie",
         "Sankofa",
         "Haile Gerima",
         "Kofi Ghanaba, Oyafunmike Ogunlano, Alexandra Duah, Nick Medley, Mutabaruka, Afemo Omilami, Reggie Carter, Mzuri",
         "United States, Ghana, Burkina Faso, United Kingdom, Germany, Ethiopia",
         "2021-09-24 00:00:00",
         "1993",
         "TV-MA",
         "125 min",
         "Dramas, Independent Movies, International Movies",
         "On a photo shoot in Ghana, an American model slips back in time, becomes enslaved on a plantation and bears witness to the agony of her ancestral past.",
         "Ethiopia",
         "International Movies",
         "125",
         null,
         "111"
        ],
        [
         "34",
         "s9",
         "TV Show",
         "The Great British Baking Show",
         "Andy Devonshire",
         "Mel Giedroyc, Sue Perkins, Mary Berry, Paul Hollywood",
         "United Kingdom",
         "2021-09-24 00:00:00",
         "2021",
         "TV-14",
         "9 Seasons",
         "British TV Shows, Reality TV",
         "A talented batch of amateur bakers face off in a 10-week competition, whipping up their best dishes in the hopes of being named the U.K.'s best.",
         "United Kingdom",
         "British TV Shows",
         null,
         "9",
         "53"
        ],
        [
         "35",
         "s9",
         "TV Show",
         "The Great British Baking Show",
         "Andy Devonshire",
         "Mel Giedroyc, Sue Perkins, Mary Berry, Paul Hollywood",
         "United Kingdom",
         "2021-09-24 00:00:00",
         "2021",
         "TV-14",
         "9 Seasons",
         "British TV Shows, Reality TV",
         "A talented batch of amateur bakers face off in a 10-week competition, whipping up their best dishes in the hopes of being named the U.K.'s best.",
         "United Kingdom",
         "Reality TV",
         null,
         "9",
         "53"
        ],
        [
         "36",
         "s10",
         "Movie",
         "The Starling",
         "Theodore Melfi",
         "Melissa McCarthy, Chris O'Dowd, Kevin Kline, Timothy Olyphant, Daveed Diggs, Skyler Gisondo, Laura Harrier, Rosalind Chao, Kimberly Quinn, Loretta Devine, Ravi Kapoor",
         "United States",
         "2021-09-24 00:00:00",
         "2021",
         "PG-13",
         "104 min",
         "Comedies, Dramas",
         "A woman adjusting to life after a loss contends with a feisty bird that's taken over her garden — and a husband who's struggling to find a way forward.",
         "United States",
         "Comedies",
         "104",
         null,
         "166"
        ],
        [
         "37",
         "s10",
         "Movie",
         "The Starling",
         "Theodore Melfi",
         "Melissa McCarthy, Chris O'Dowd, Kevin Kline, Timothy Olyphant, Daveed Diggs, Skyler Gisondo, Laura Harrier, Rosalind Chao, Kimberly Quinn, Loretta Devine, Ravi Kapoor",
         "United States",
         "2021-09-24 00:00:00",
         "2021",
         "PG-13",
         "104 min",
         "Comedies, Dramas",
         "A woman adjusting to life after a loss contends with a feisty bird that's taken over her garden — and a husband who's struggling to find a way forward.",
         "United States",
         "Dramas",
         "104",
         null,
         "166"
        ],
        [
         "38",
         "s11",
         "TV Show",
         "Vendetta: Truth, Lies and The Mafia",
         "Not identified",
         "Not identified",
         "Not identified",
         "2021-09-24 00:00:00",
         "2021",
         "TV-MA",
         "1 Season",
         "Crime TV Shows, Docuseries, International TV Shows",
         "Sicily boasts a bold \"Anti-Mafia\" coalition. But what happens when those trying to bring down organized crime are accused of being criminals themselves?",
         "Not identified",
         "Crime TV Shows",
         null,
         "1",
         "0"
        ],
        [
         "39",
         "s11",
         "TV Show",
         "Vendetta: Truth, Lies and The Mafia",
         "Not identified",
         "Not identified",
         "Not identified",
         "2021-09-24 00:00:00",
         "2021",
         "TV-MA",
         "1 Season",
         "Crime TV Shows, Docuseries, International TV Shows",
         "Sicily boasts a bold \"Anti-Mafia\" coalition. But what happens when those trying to bring down organized crime are accused of being criminals themselves?",
         "Not identified",
         "Docuseries",
         null,
         "1",
         "0"
        ],
        [
         "40",
         "s11",
         "TV Show",
         "Vendetta: Truth, Lies and The Mafia",
         "Not identified",
         "Not identified",
         "Not identified",
         "2021-09-24 00:00:00",
         "2021",
         "TV-MA",
         "1 Season",
         "Crime TV Shows, Docuseries, International TV Shows",
         "Sicily boasts a bold \"Anti-Mafia\" coalition. But what happens when those trying to bring down organized crime are accused of being criminals themselves?",
         "Not identified",
         "International TV Shows",
         null,
         "1",
         "0"
        ],
        [
         "41",
         "s12",
         "TV Show",
         "Bangkok Breaking",
         "Kongkiat Komesiri",
         "Sukollawat Kanarot, Sushar Manaying, Pavarit Mongkolpisit, Sahajak Boonthanakit, Suthipongse Thatphithakkul, Bhasaworn Bawronkirati, Daweerit Chullasapya, Waratthaya Wongchayaporn, Kittiphoom Wongpentak, Abhicha Thanachanun, Nophand Boonyai, Kittipong Khamsat, Arisara Wongchalee, Jaytiya Naiwattanakul, Pantipa Arunwattanachai, Panupan Jantanawong, Kungtap Saelim, Phumphat Chartsuriyakiat, Issara Veranitinunt, Keerati Sivakuae, Panjai Sirisuwan, Supranee Charoenpol, Suda Chuenban, Visaka Banhansupavat, Pitchatorn Santinatornkul",
         "Not identified",
         "2021-09-23 00:00:00",
         "2021",
         "TV-MA",
         "1 Season",
         "Crime TV Shows, International TV Shows, TV Action & Adventure",
         "Struggling to earn a living in Bangkok, a man joins an emergency rescue service and realizes he must unravel a citywide conspiracy.",
         "Not identified",
         "Crime TV Shows",
         null,
         "1",
         "532"
        ],
        [
         "42",
         "s12",
         "TV Show",
         "Bangkok Breaking",
         "Kongkiat Komesiri",
         "Sukollawat Kanarot, Sushar Manaying, Pavarit Mongkolpisit, Sahajak Boonthanakit, Suthipongse Thatphithakkul, Bhasaworn Bawronkirati, Daweerit Chullasapya, Waratthaya Wongchayaporn, Kittiphoom Wongpentak, Abhicha Thanachanun, Nophand Boonyai, Kittipong Khamsat, Arisara Wongchalee, Jaytiya Naiwattanakul, Pantipa Arunwattanachai, Panupan Jantanawong, Kungtap Saelim, Phumphat Chartsuriyakiat, Issara Veranitinunt, Keerati Sivakuae, Panjai Sirisuwan, Supranee Charoenpol, Suda Chuenban, Visaka Banhansupavat, Pitchatorn Santinatornkul",
         "Not identified",
         "2021-09-23 00:00:00",
         "2021",
         "TV-MA",
         "1 Season",
         "Crime TV Shows, International TV Shows, TV Action & Adventure",
         "Struggling to earn a living in Bangkok, a man joins an emergency rescue service and realizes he must unravel a citywide conspiracy.",
         "Not identified",
         "International TV Shows",
         null,
         "1",
         "532"
        ],
        [
         "43",
         "s12",
         "TV Show",
         "Bangkok Breaking",
         "Kongkiat Komesiri",
         "Sukollawat Kanarot, Sushar Manaying, Pavarit Mongkolpisit, Sahajak Boonthanakit, Suthipongse Thatphithakkul, Bhasaworn Bawronkirati, Daweerit Chullasapya, Waratthaya Wongchayaporn, Kittiphoom Wongpentak, Abhicha Thanachanun, Nophand Boonyai, Kittipong Khamsat, Arisara Wongchalee, Jaytiya Naiwattanakul, Pantipa Arunwattanachai, Panupan Jantanawong, Kungtap Saelim, Phumphat Chartsuriyakiat, Issara Veranitinunt, Keerati Sivakuae, Panjai Sirisuwan, Supranee Charoenpol, Suda Chuenban, Visaka Banhansupavat, Pitchatorn Santinatornkul",
         "Not identified",
         "2021-09-23 00:00:00",
         "2021",
         "TV-MA",
         "1 Season",
         "Crime TV Shows, International TV Shows, TV Action & Adventure",
         "Struggling to earn a living in Bangkok, a man joins an emergency rescue service and realizes he must unravel a citywide conspiracy.",
         "Not identified",
         "TV Action & Adventure",
         null,
         "1",
         "532"
        ],
        [
         "44",
         "s13",
         "Movie",
         "Je Suis Karl",
         "Christian Schwochow",
         "Luna Wedler, Jannis Niewöhner, Milan Peschel, Edin Hasanović, Anna Fialová, Marlon Boess, Victor Boccard, Fleur Geffrier, Aziz Dyab, Mélanie Fouché, Elizaveta Maximová",
         "Germany, Czech Republic",
         "2021-09-23 00:00:00",
         "2021",
         "TV-MA",
         "127 min",
         "Dramas, International Movies",
         "After most of her family is murdered in a terrorist bombing, a young woman is unknowingly lured into joining the very group that killed them.",
         "Germany",
         "Dramas",
         "127",
         null,
         "167"
        ],
        [
         "45",
         "s13",
         "Movie",
         "Je Suis Karl",
         "Christian Schwochow",
         "Luna Wedler, Jannis Niewöhner, Milan Peschel, Edin Hasanović, Anna Fialová, Marlon Boess, Victor Boccard, Fleur Geffrier, Aziz Dyab, Mélanie Fouché, Elizaveta Maximová",
         "Germany, Czech Republic",
         "2021-09-23 00:00:00",
         "2021",
         "TV-MA",
         "127 min",
         "Dramas, International Movies",
         "After most of her family is murdered in a terrorist bombing, a young woman is unknowingly lured into joining the very group that killed them.",
         "Germany",
         "International Movies",
         "127",
         null,
         "167"
        ],
        [
         "46",
         "s13",
         "Movie",
         "Je Suis Karl",
         "Christian Schwochow",
         "Luna Wedler, Jannis Niewöhner, Milan Peschel, Edin Hasanović, Anna Fialová, Marlon Boess, Victor Boccard, Fleur Geffrier, Aziz Dyab, Mélanie Fouché, Elizaveta Maximová",
         "Germany, Czech Republic",
         "2021-09-23 00:00:00",
         "2021",
         "TV-MA",
         "127 min",
         "Dramas, International Movies",
         "After most of her family is murdered in a terrorist bombing, a young woman is unknowingly lured into joining the very group that killed them.",
         "Czech Republic",
         "Dramas",
         "127",
         null,
         "167"
        ],
        [
         "47",
         "s13",
         "Movie",
         "Je Suis Karl",
         "Christian Schwochow",
         "Luna Wedler, Jannis Niewöhner, Milan Peschel, Edin Hasanović, Anna Fialová, Marlon Boess, Victor Boccard, Fleur Geffrier, Aziz Dyab, Mélanie Fouché, Elizaveta Maximová",
         "Germany, Czech Republic",
         "2021-09-23 00:00:00",
         "2021",
         "TV-MA",
         "127 min",
         "Dramas, International Movies",
         "After most of her family is murdered in a terrorist bombing, a young woman is unknowingly lured into joining the very group that killed them.",
         "Czech Republic",
         "International Movies",
         "127",
         null,
         "167"
        ],
        [
         "48",
         "s14",
         "Movie",
         "Confessions of an Invisible Girl",
         "Bruno Garotti",
         "Klara Castanho, Lucca Picon, Júlia Gomes, Marcus Bessa, Kiria Malheiros, Fernanda Concon, Gabriel Lima, Caio Cabral, Leonardo Cidade, Jade Cardozo",
         "Not identified",
         "2021-09-22 00:00:00",
         "2021",
         "TV-PG",
         "91 min",
         "Children & Family Movies, Comedies",
         "When the clever but socially-awkward Tetê joins a new school, she'll do anything to fit in. But the queen bee among her classmates has other ideas.",
         "Not identified",
         "Children & Family Movies",
         "91",
         null,
         "146"
        ],
        [
         "49",
         "s14",
         "Movie",
         "Confessions of an Invisible Girl",
         "Bruno Garotti",
         "Klara Castanho, Lucca Picon, Júlia Gomes, Marcus Bessa, Kiria Malheiros, Fernanda Concon, Gabriel Lima, Caio Cabral, Leonardo Cidade, Jade Cardozo",
         "Not identified",
         "2021-09-22 00:00:00",
         "2021",
         "TV-PG",
         "91 min",
         "Children & Family Movies, Comedies",
         "When the clever but socially-awkward Tetê joins a new school, she'll do anything to fit in. But the queen bee among her classmates has other ideas.",
         "Not identified",
         "Comedies",
         "91",
         null,
         "146"
        ]
       ],
       "shape": {
        "columns": 17,
        "rows": 23735
       }
      },
      "text/html": [
       "<div>\n",
       "<style scoped>\n",
       "    .dataframe tbody tr th:only-of-type {\n",
       "        vertical-align: middle;\n",
       "    }\n",
       "\n",
       "    .dataframe tbody tr th {\n",
       "        vertical-align: top;\n",
       "    }\n",
       "\n",
       "    .dataframe thead th {\n",
       "        text-align: right;\n",
       "    }\n",
       "</style>\n",
       "<table border=\"1\" class=\"dataframe\">\n",
       "  <thead>\n",
       "    <tr style=\"text-align: right;\">\n",
       "      <th></th>\n",
       "      <th>show_id</th>\n",
       "      <th>type</th>\n",
       "      <th>title</th>\n",
       "      <th>director</th>\n",
       "      <th>cast</th>\n",
       "      <th>country</th>\n",
       "      <th>date_added</th>\n",
       "      <th>release_year</th>\n",
       "      <th>rating</th>\n",
       "      <th>duration</th>\n",
       "      <th>listed_in</th>\n",
       "      <th>description</th>\n",
       "      <th>new</th>\n",
       "      <th>category</th>\n",
       "      <th>movies_minutes</th>\n",
       "      <th>number_ofseasons</th>\n",
       "      <th>count_cast</th>\n",
       "    </tr>\n",
       "  </thead>\n",
       "  <tbody>\n",
       "    <tr>\n",
       "      <th>0</th>\n",
       "      <td>s1</td>\n",
       "      <td>Movie</td>\n",
       "      <td>Dick Johnson Is Dead</td>\n",
       "      <td>Kirsten Johnson</td>\n",
       "      <td>Not identified</td>\n",
       "      <td>United States</td>\n",
       "      <td>2021-09-25</td>\n",
       "      <td>2020</td>\n",
       "      <td>PG-13</td>\n",
       "      <td>90 min</td>\n",
       "      <td>Documentaries</td>\n",
       "      <td>As her father nears the end of his life, filmm...</td>\n",
       "      <td>United States</td>\n",
       "      <td>Documentaries</td>\n",
       "      <td>90</td>\n",
       "      <td>NaN</td>\n",
       "      <td>0</td>\n",
       "    </tr>\n",
       "    <tr>\n",
       "      <th>1</th>\n",
       "      <td>s2</td>\n",
       "      <td>TV Show</td>\n",
       "      <td>Blood &amp; Water</td>\n",
       "      <td>Not identified</td>\n",
       "      <td>Ama Qamata, Khosi Ngema, Gail Mabalane, Thaban...</td>\n",
       "      <td>South Africa</td>\n",
       "      <td>2021-09-24</td>\n",
       "      <td>2021</td>\n",
       "      <td>TV-MA</td>\n",
       "      <td>2 Seasons</td>\n",
       "      <td>International TV Shows, TV Dramas, TV Mysteries</td>\n",
       "      <td>After crossing paths at a party, a Cape Town t...</td>\n",
       "      <td>South Africa</td>\n",
       "      <td>International TV Shows</td>\n",
       "      <td>NaN</td>\n",
       "      <td>2</td>\n",
       "      <td>303</td>\n",
       "    </tr>\n",
       "    <tr>\n",
       "      <th>2</th>\n",
       "      <td>s2</td>\n",
       "      <td>TV Show</td>\n",
       "      <td>Blood &amp; Water</td>\n",
       "      <td>Not identified</td>\n",
       "      <td>Ama Qamata, Khosi Ngema, Gail Mabalane, Thaban...</td>\n",
       "      <td>South Africa</td>\n",
       "      <td>2021-09-24</td>\n",
       "      <td>2021</td>\n",
       "      <td>TV-MA</td>\n",
       "      <td>2 Seasons</td>\n",
       "      <td>International TV Shows, TV Dramas, TV Mysteries</td>\n",
       "      <td>After crossing paths at a party, a Cape Town t...</td>\n",
       "      <td>South Africa</td>\n",
       "      <td>TV Dramas</td>\n",
       "      <td>NaN</td>\n",
       "      <td>2</td>\n",
       "      <td>303</td>\n",
       "    </tr>\n",
       "    <tr>\n",
       "      <th>3</th>\n",
       "      <td>s2</td>\n",
       "      <td>TV Show</td>\n",
       "      <td>Blood &amp; Water</td>\n",
       "      <td>Not identified</td>\n",
       "      <td>Ama Qamata, Khosi Ngema, Gail Mabalane, Thaban...</td>\n",
       "      <td>South Africa</td>\n",
       "      <td>2021-09-24</td>\n",
       "      <td>2021</td>\n",
       "      <td>TV-MA</td>\n",
       "      <td>2 Seasons</td>\n",
       "      <td>International TV Shows, TV Dramas, TV Mysteries</td>\n",
       "      <td>After crossing paths at a party, a Cape Town t...</td>\n",
       "      <td>South Africa</td>\n",
       "      <td>TV Mysteries</td>\n",
       "      <td>NaN</td>\n",
       "      <td>2</td>\n",
       "      <td>303</td>\n",
       "    </tr>\n",
       "    <tr>\n",
       "      <th>4</th>\n",
       "      <td>s3</td>\n",
       "      <td>TV Show</td>\n",
       "      <td>Ganglands</td>\n",
       "      <td>Julien Leclercq</td>\n",
       "      <td>Sami Bouajila, Tracy Gotoas, Samuel Jouy, Nabi...</td>\n",
       "      <td>Not identified</td>\n",
       "      <td>2021-09-24</td>\n",
       "      <td>2021</td>\n",
       "      <td>TV-MA</td>\n",
       "      <td>1 Season</td>\n",
       "      <td>Crime TV Shows, International TV Shows, TV Act...</td>\n",
       "      <td>To protect his family from a powerful drug lor...</td>\n",
       "      <td>Not identified</td>\n",
       "      <td>Crime TV Shows</td>\n",
       "      <td>NaN</td>\n",
       "      <td>1</td>\n",
       "      <td>147</td>\n",
       "    </tr>\n",
       "    <tr>\n",
       "      <th>...</th>\n",
       "      <td>...</td>\n",
       "      <td>...</td>\n",
       "      <td>...</td>\n",
       "      <td>...</td>\n",
       "      <td>...</td>\n",
       "      <td>...</td>\n",
       "      <td>...</td>\n",
       "      <td>...</td>\n",
       "      <td>...</td>\n",
       "      <td>...</td>\n",
       "      <td>...</td>\n",
       "      <td>...</td>\n",
       "      <td>...</td>\n",
       "      <td>...</td>\n",
       "      <td>...</td>\n",
       "      <td>...</td>\n",
       "      <td>...</td>\n",
       "    </tr>\n",
       "    <tr>\n",
       "      <th>23730</th>\n",
       "      <td>s8806</td>\n",
       "      <td>Movie</td>\n",
       "      <td>Zoom</td>\n",
       "      <td>Peter Hewitt</td>\n",
       "      <td>Tim Allen, Courteney Cox, Chevy Chase, Kate Ma...</td>\n",
       "      <td>United States</td>\n",
       "      <td>2020-01-11</td>\n",
       "      <td>2006</td>\n",
       "      <td>PG</td>\n",
       "      <td>88 min</td>\n",
       "      <td>Children &amp; Family Movies, Comedies</td>\n",
       "      <td>Dragged from civilian life, a former superhero...</td>\n",
       "      <td>United States</td>\n",
       "      <td>Children &amp; Family Movies</td>\n",
       "      <td>88</td>\n",
       "      <td>NaN</td>\n",
       "      <td>119</td>\n",
       "    </tr>\n",
       "    <tr>\n",
       "      <th>23731</th>\n",
       "      <td>s8806</td>\n",
       "      <td>Movie</td>\n",
       "      <td>Zoom</td>\n",
       "      <td>Peter Hewitt</td>\n",
       "      <td>Tim Allen, Courteney Cox, Chevy Chase, Kate Ma...</td>\n",
       "      <td>United States</td>\n",
       "      <td>2020-01-11</td>\n",
       "      <td>2006</td>\n",
       "      <td>PG</td>\n",
       "      <td>88 min</td>\n",
       "      <td>Children &amp; Family Movies, Comedies</td>\n",
       "      <td>Dragged from civilian life, a former superhero...</td>\n",
       "      <td>United States</td>\n",
       "      <td>Comedies</td>\n",
       "      <td>88</td>\n",
       "      <td>NaN</td>\n",
       "      <td>119</td>\n",
       "    </tr>\n",
       "    <tr>\n",
       "      <th>23732</th>\n",
       "      <td>s8807</td>\n",
       "      <td>Movie</td>\n",
       "      <td>Zubaan</td>\n",
       "      <td>Mozez Singh</td>\n",
       "      <td>Vicky Kaushal, Sarah-Jane Dias, Raaghav Chanan...</td>\n",
       "      <td>India</td>\n",
       "      <td>2019-03-02</td>\n",
       "      <td>2015</td>\n",
       "      <td>TV-14</td>\n",
       "      <td>111 min</td>\n",
       "      <td>Dramas, International Movies, Music &amp; Musicals</td>\n",
       "      <td>A scrappy but poor boy worms his way into a ty...</td>\n",
       "      <td>India</td>\n",
       "      <td>Dramas</td>\n",
       "      <td>111</td>\n",
       "      <td>NaN</td>\n",
       "      <td>133</td>\n",
       "    </tr>\n",
       "    <tr>\n",
       "      <th>23733</th>\n",
       "      <td>s8807</td>\n",
       "      <td>Movie</td>\n",
       "      <td>Zubaan</td>\n",
       "      <td>Mozez Singh</td>\n",
       "      <td>Vicky Kaushal, Sarah-Jane Dias, Raaghav Chanan...</td>\n",
       "      <td>India</td>\n",
       "      <td>2019-03-02</td>\n",
       "      <td>2015</td>\n",
       "      <td>TV-14</td>\n",
       "      <td>111 min</td>\n",
       "      <td>Dramas, International Movies, Music &amp; Musicals</td>\n",
       "      <td>A scrappy but poor boy worms his way into a ty...</td>\n",
       "      <td>India</td>\n",
       "      <td>International Movies</td>\n",
       "      <td>111</td>\n",
       "      <td>NaN</td>\n",
       "      <td>133</td>\n",
       "    </tr>\n",
       "    <tr>\n",
       "      <th>23734</th>\n",
       "      <td>s8807</td>\n",
       "      <td>Movie</td>\n",
       "      <td>Zubaan</td>\n",
       "      <td>Mozez Singh</td>\n",
       "      <td>Vicky Kaushal, Sarah-Jane Dias, Raaghav Chanan...</td>\n",
       "      <td>India</td>\n",
       "      <td>2019-03-02</td>\n",
       "      <td>2015</td>\n",
       "      <td>TV-14</td>\n",
       "      <td>111 min</td>\n",
       "      <td>Dramas, International Movies, Music &amp; Musicals</td>\n",
       "      <td>A scrappy but poor boy worms his way into a ty...</td>\n",
       "      <td>India</td>\n",
       "      <td>Music &amp; Musicals</td>\n",
       "      <td>111</td>\n",
       "      <td>NaN</td>\n",
       "      <td>133</td>\n",
       "    </tr>\n",
       "  </tbody>\n",
       "</table>\n",
       "<p>23735 rows × 17 columns</p>\n",
       "</div>"
      ],
      "text/plain": [
       "      show_id     type                 title         director  \\\n",
       "0          s1    Movie  Dick Johnson Is Dead  Kirsten Johnson   \n",
       "1          s2  TV Show         Blood & Water   Not identified   \n",
       "2          s2  TV Show         Blood & Water   Not identified   \n",
       "3          s2  TV Show         Blood & Water   Not identified   \n",
       "4          s3  TV Show             Ganglands  Julien Leclercq   \n",
       "...       ...      ...                   ...              ...   \n",
       "23730   s8806    Movie                  Zoom     Peter Hewitt   \n",
       "23731   s8806    Movie                  Zoom     Peter Hewitt   \n",
       "23732   s8807    Movie                Zubaan      Mozez Singh   \n",
       "23733   s8807    Movie                Zubaan      Mozez Singh   \n",
       "23734   s8807    Movie                Zubaan      Mozez Singh   \n",
       "\n",
       "                                                    cast         country  \\\n",
       "0                                         Not identified   United States   \n",
       "1      Ama Qamata, Khosi Ngema, Gail Mabalane, Thaban...    South Africa   \n",
       "2      Ama Qamata, Khosi Ngema, Gail Mabalane, Thaban...    South Africa   \n",
       "3      Ama Qamata, Khosi Ngema, Gail Mabalane, Thaban...    South Africa   \n",
       "4      Sami Bouajila, Tracy Gotoas, Samuel Jouy, Nabi...  Not identified   \n",
       "...                                                  ...             ...   \n",
       "23730  Tim Allen, Courteney Cox, Chevy Chase, Kate Ma...   United States   \n",
       "23731  Tim Allen, Courteney Cox, Chevy Chase, Kate Ma...   United States   \n",
       "23732  Vicky Kaushal, Sarah-Jane Dias, Raaghav Chanan...           India   \n",
       "23733  Vicky Kaushal, Sarah-Jane Dias, Raaghav Chanan...           India   \n",
       "23734  Vicky Kaushal, Sarah-Jane Dias, Raaghav Chanan...           India   \n",
       "\n",
       "      date_added release_year rating   duration  \\\n",
       "0     2021-09-25         2020  PG-13     90 min   \n",
       "1     2021-09-24         2021  TV-MA  2 Seasons   \n",
       "2     2021-09-24         2021  TV-MA  2 Seasons   \n",
       "3     2021-09-24         2021  TV-MA  2 Seasons   \n",
       "4     2021-09-24         2021  TV-MA   1 Season   \n",
       "...          ...          ...    ...        ...   \n",
       "23730 2020-01-11         2006     PG     88 min   \n",
       "23731 2020-01-11         2006     PG     88 min   \n",
       "23732 2019-03-02         2015  TV-14    111 min   \n",
       "23733 2019-03-02         2015  TV-14    111 min   \n",
       "23734 2019-03-02         2015  TV-14    111 min   \n",
       "\n",
       "                                               listed_in  \\\n",
       "0                                          Documentaries   \n",
       "1        International TV Shows, TV Dramas, TV Mysteries   \n",
       "2        International TV Shows, TV Dramas, TV Mysteries   \n",
       "3        International TV Shows, TV Dramas, TV Mysteries   \n",
       "4      Crime TV Shows, International TV Shows, TV Act...   \n",
       "...                                                  ...   \n",
       "23730                 Children & Family Movies, Comedies   \n",
       "23731                 Children & Family Movies, Comedies   \n",
       "23732     Dramas, International Movies, Music & Musicals   \n",
       "23733     Dramas, International Movies, Music & Musicals   \n",
       "23734     Dramas, International Movies, Music & Musicals   \n",
       "\n",
       "                                             description             new  \\\n",
       "0      As her father nears the end of his life, filmm...   United States   \n",
       "1      After crossing paths at a party, a Cape Town t...    South Africa   \n",
       "2      After crossing paths at a party, a Cape Town t...    South Africa   \n",
       "3      After crossing paths at a party, a Cape Town t...    South Africa   \n",
       "4      To protect his family from a powerful drug lor...  Not identified   \n",
       "...                                                  ...             ...   \n",
       "23730  Dragged from civilian life, a former superhero...   United States   \n",
       "23731  Dragged from civilian life, a former superhero...   United States   \n",
       "23732  A scrappy but poor boy worms his way into a ty...           India   \n",
       "23733  A scrappy but poor boy worms his way into a ty...           India   \n",
       "23734  A scrappy but poor boy worms his way into a ty...           India   \n",
       "\n",
       "                       category movies_minutes number_ofseasons  count_cast  \n",
       "0                 Documentaries             90              NaN           0  \n",
       "1        International TV Shows            NaN                2         303  \n",
       "2                     TV Dramas            NaN                2         303  \n",
       "3                  TV Mysteries            NaN                2         303  \n",
       "4                Crime TV Shows            NaN                1         147  \n",
       "...                         ...            ...              ...         ...  \n",
       "23730  Children & Family Movies             88              NaN         119  \n",
       "23731                  Comedies             88              NaN         119  \n",
       "23732                    Dramas            111              NaN         133  \n",
       "23733      International Movies            111              NaN         133  \n",
       "23734          Music & Musicals            111              NaN         133  \n",
       "\n",
       "[23735 rows x 17 columns]"
      ]
     },
     "execution_count": 137,
     "metadata": {},
     "output_type": "execute_result"
    }
   ],
   "source": [
    "df"
   ]
  },
  {
   "cell_type": "markdown",
   "id": "7f8d1b0b",
   "metadata": {},
   "source": []
  },
  {
   "cell_type": "markdown",
   "id": "43fd5c06",
   "metadata": {},
   "source": [
    "#counting cast members"
   ]
  },
  {
   "cell_type": "markdown",
   "id": "affeaca0",
   "metadata": {},
   "source": [
    "### option\n",
    "df['cast_sep'] = df['cast'].str.split(',')\n",
    "\n",
    "df = df.explode('cast_sep')\n",
    "\n",
    "df['cast_sep'] = df['cast_sep'].str.strip()\n",
    "\n",
    "df = df.reset_index(drop=True)\n",
    "\n",
    "df.cast_sep.value_counts()"
   ]
  },
  {
   "cell_type": "code",
   "execution_count": 138,
   "id": "d1c05879",
   "metadata": {},
   "outputs": [],
   "source": [
    "def count_cast(row):\n",
    "    if row != 'Not identified' and isinstance(row, str):\n",
    "        members = row.split(',')\n",
    "        count = 0\n",
    "        for i in range(len(members)):\n",
    "            if members[i].strip() != 'Not identified':\n",
    "                count += 1\n",
    "        return count\n",
    "    else:\n",
    "        return 0\n",
    "df['count_cast'] = df['cast'].apply(count_cast)"
   ]
  },
  {
   "cell_type": "code",
   "execution_count": 139,
   "id": "95982b98",
   "metadata": {},
   "outputs": [
    {
     "data": {
      "text/plain": [
       "np.int64(63214)"
      ]
     },
     "execution_count": 139,
     "metadata": {},
     "output_type": "execute_result"
    }
   ],
   "source": [
    "dropped=df.drop_duplicates(subset=['cast'])\n",
    "checking=dropped.groupby('cast')['count_cast'].sum().reset_index()\n",
    "checking.count_cast.sum()"
   ]
  },
  {
   "cell_type": "code",
   "execution_count": 140,
   "id": "d8cfac8e",
   "metadata": {},
   "outputs": [
    {
     "data": {
      "application/vnd.microsoft.datawrangler.viewer.v0+json": {
       "columns": [
        {
         "name": "index",
         "rawType": "int64",
         "type": "integer"
        },
        {
         "name": "cast",
         "rawType": "object",
         "type": "string"
        }
       ],
       "ref": "6564b41f-b48b-47b6-a492-928f644b2137",
       "rows": [
        [
         "0",
         "Not identified"
        ],
        [
         "1",
         "Ama Qamata, Khosi Ngema, Gail Mabalane, Thabang Molaba, Dillon Windvogel, Natasha Thahane, Arno Greeff, Xolile Tshabalala, Getmore Sithole, Cindy Mahlangu, Ryle De Morny, Greteli Fincham, Sello Maake Ka-Ncube, Odwa Gwanya, Mekaila Mathys, Sandi Schultz, Duane Williams, Shamilla Miller, Patrick Mofokeng"
        ],
        [
         "4",
         "Sami Bouajila, Tracy Gotoas, Samuel Jouy, Nabiha Akkari, Sofia Lesaffre, Salim Kechiouche, Noureddine Farihi, Geert Van Rampelberg, Bakary Diombera"
        ],
        [
         "9",
         "Mayur More, Jitendra Kumar, Ranjan Raj, Alam Khan, Ahsaas Channa, Revathi Pillai, Urvi Singh, Arun Kumar"
        ],
        [
         "12",
         "Kate Siegel, Zach Gilford, Hamish Linklater, Henry Thomas, Kristin Lehman, Samantha Sloyan, Igby Rigney, Rahul Kohli, Annarah Cymone, Annabeth Gish, Alex Essoe, Rahul Abburi, Matt Biedel, Michael Trucco, Crystal Balint, Louis Oliver"
        ],
        [
         "15",
         "Vanessa Hudgens, Kimiko Glenn, James Marsden, Sofia Carson, Liza Koshy, Ken Jeong, Elizabeth Perkins, Jane Krakowski, Michael McKean, Phil LaMarr"
        ],
        [
         "16",
         "Kofi Ghanaba, Oyafunmike Ogunlano, Alexandra Duah, Nick Medley, Mutabaruka, Afemo Omilami, Reggie Carter, Mzuri"
        ],
        [
         "34",
         "Mel Giedroyc, Sue Perkins, Mary Berry, Paul Hollywood"
        ],
        [
         "36",
         "Melissa McCarthy, Chris O'Dowd, Kevin Kline, Timothy Olyphant, Daveed Diggs, Skyler Gisondo, Laura Harrier, Rosalind Chao, Kimberly Quinn, Loretta Devine, Ravi Kapoor"
        ],
        [
         "41",
         "Sukollawat Kanarot, Sushar Manaying, Pavarit Mongkolpisit, Sahajak Boonthanakit, Suthipongse Thatphithakkul, Bhasaworn Bawronkirati, Daweerit Chullasapya, Waratthaya Wongchayaporn, Kittiphoom Wongpentak, Abhicha Thanachanun, Nophand Boonyai, Kittipong Khamsat, Arisara Wongchalee, Jaytiya Naiwattanakul, Pantipa Arunwattanachai, Panupan Jantanawong, Kungtap Saelim, Phumphat Chartsuriyakiat, Issara Veranitinunt, Keerati Sivakuae, Panjai Sirisuwan, Supranee Charoenpol, Suda Chuenban, Visaka Banhansupavat, Pitchatorn Santinatornkul"
        ],
        [
         "44",
         "Luna Wedler, Jannis Niewöhner, Milan Peschel, Edin Hasanović, Anna Fialová, Marlon Boess, Victor Boccard, Fleur Geffrier, Aziz Dyab, Mélanie Fouché, Elizaveta Maximová"
        ],
        [
         "48",
         "Klara Castanho, Lucca Picon, Júlia Gomes, Marcus Bessa, Kiria Malheiros, Fernanda Concon, Gabriel Lima, Caio Cabral, Leonardo Cidade, Jade Cardozo"
        ],
        [
         "53",
         "Logan Browning, Brandon P. Bell, DeRon Horton, Antoinette Robertson, John Patrick Amedori, Ashley Blaine Featherson, Marque Richardson, Giancarlo Esposito"
        ],
        [
         "57",
         "Luis Ernesto Franco, Camila Sodi, Sergio Goyri, Samadhi Zendejas, Eduardo Yáñez, Sonya Smith, Alejandro Camacho, Azela Robinson, Uriel del Toro, Géraldine Bazán, Gabriela Roel, Marcus Ornellas"
        ],
        [
         "60",
         "Freida Pinto, Logan Marshall-Green, Robert John Burke, Megan Elisabeth Kelly, Sarah Minnich, Hayes Hargrove, Mark Sivertsen, Brandon Fierro, Antonio Valles, Clint Obenchain"
        ],
        [
         "61",
         "Blanca Suárez, Iván Marcos, Óscar Casas, Adrián Lastra, Francesc Garrido, Stefan Weinert, Julia Möller, Alicia Chojnowski"
        ],
        [
         "67",
         "Engin Altan Düzyatan, Serdar Gökhan, Hülya Darcan, Kaan Taşaner, Esra Bilgiç, Osman Soykut, Serdar Deniz, Cengiz Coşkun, Reshad Strik, Hande Subaşı"
        ],
        [
         "70",
         "Kamal Hassan, Meena, Gemini Ganesan, Heera Rajgopal, Nassar, S.P. Balasubrahmanyam"
        ],
        [
         "72",
         "Maisie Benson, Paul Killam, Kerry Gudjohnsen, AC Lim"
        ],
        [
         "73",
         "Prashanth, Aishwarya Rai Bachchan, Sri Lakshmi, Nassar"
        ],
        [
         "76",
         "Brooke Satchwell"
        ],
        [
         "79",
         "Arvind Swamy, Kajol, Prabhu Deva, Nassar, S.P. Balasubrahmanyam, Girish Karnad"
        ],
        [
         "82",
         "Adam Sandler, Kevin James, Chris Rock, David Spade, Rob Schneider, Salma Hayek, Maria Bello, Maya Rudolph, Colin Quinn, Tim Meadows, Joyce Van Patten"
        ],
        [
         "83",
         "Keri Russell, Josh Hamilton, J.K. Simmons, Dakota Goyo, Kadan Rockett, L.J. Benet, Rich Hutchman, Myndy Crist, Annie Thurman, Jake Brennan"
        ],
        [
         "85",
         "Liam Hemsworth, Gary Oldman, Amber Heard, Harrison Ford, Lucas Till, Embeth Davidtz, Julian McMahon, Josh Holloway, Richard Dreyfuss, Angela Sarafyan"
        ],
        [
         "88",
         "Abhishek Banerjee, Rinku Rajguru, Delzad Hiwale, Kunal Kapoor, Zoya Hussain, Nikhil Dwivedi, Palomi Ghosh"
        ],
        [
         "91",
         "Lauren Ash, Rory O'Malley, RuPaul Charles, Jill Talley, Ike Barinholtz, Jon Barinholtz, Matthew Craig, Bob Odenkirk, Mike Hagerty, Katie Rich, Chris Witaske"
        ],
        [
         "92",
         "Asa Butterfield, Gillian Anderson, Ncuti Gatwa, Emma Mackey, Connor Swindells, Kedar Williams-Stirling, Alistair Petrie"
        ],
        [
         "95",
         "Lee Jung-jae, Park Hae-soo, Wi Ha-jun, Oh Young-soo, Jung Ho-yeon, Heo Sung-tae, Kim Joo-ryoung, Tripathi Anupam, You Seong-joo, Lee You-mi"
        ],
        [
         "98",
         "Dami Lee, Jason Lee, Bommie Catherine Han, Jennifer Waescher, Nancy Kim"
        ],
        [
         "99",
         "Adrian Titieni, Elena Purea, Judith State, Valeriu Andriuță, Tudor Smoleanu, Virgil Aioanei, Radu Botar, Petronela Grigorescu, Bogdan Nechifor, Cristian Bota"
        ],
        [
         "102",
         "Gilles Lellouche, Karim Leklou, François Civil, Adèle Exarchopoulos, Kenza Fortas, Cyril Lecomte, Michaël Abiteboul, Idir Azougli, Vincent Darmuzey, Jean-Yves Berteloot"
        ],
        [
         "105",
         "Antti Pääkkönen, Heljä Heikkinen, Lynne Guaglione, Pasi Ruohonen, Rauno Ahonen"
        ],
        [
         "107",
         "Billy Magnussen, Ron Yuan, Qu Jingjing, Terry Chen, Vanness Wu, Jin Xing, Philip Ng, Xia Yu, Yu Xia"
        ],
        [
         "113",
         "Vatsal Dubey, Julie Tejwani, Rupa Bhimani, Jigna Bhardwaj, Rajesh Kava, Mousam, Swapnil"
        ],
        [
         "114",
         "Yuri Lowenthal, Kimberly Brooks, Antony Del Rio, Trevor Devall, Ben Diskin, Grey Griffin, David Kaye, Tom Kenny, Judy Alice Lee, Roger Craig Smith, Fred Tatasciore"
        ],
        [
         "116",
         "Roy Scheider, Robert Shaw, Richard Dreyfuss, Lorraine Gary, Murray Hamilton, Carl Gottlieb, Jeffrey Kramer, Susan Backlinie, Jonathan Filley, Ted Grossman"
        ],
        [
         "119",
         "Roy Scheider, Lorraine Gary, Murray Hamilton, Joseph Mascolo, Jeffrey Kramer, Collin Wilcox Paxton, Ann Dusenberry, Mark Gruner, Barry Coe, Susan French"
        ],
        [
         "122",
         "Dennis Quaid, Bess Armstrong, Simon MacCorkindale, Louis Gossett Jr., John Putch, Lea Thompson, P.H. Moriarty, Dan Blasko, Liz Morris, Lisa Maurer"
        ],
        [
         "125",
         "Lorraine Gary, Lance Guest, Mario Van Peebles, Karen Young, Michael Caine, Judith Barsi, Mitchell Anderson, Lynn Whitfield"
        ],
        [
         "129",
         "Denzel Washington, Ryan Reynolds, Vera Farmiga, Brendan Gleeson, Sam Shepard, Rubén Blades, Nora Arnezeder, Robert Patrick, Liam Cunningham, Joel Kinnaman"
        ],
        [
         "132",
         "Osas Ighodaro, Ini Dima-Okojie, Kemi Lala Akindoju, Toni Tones, Ebenezer Eno, Eso Okolocha DIke, Patrick Diabuah, Karibi Fubara, Temisan Emmanuel, Timini Egbuson"
        ],
        [
         "135",
         "Denzel Washington, Ethan Hawke, Scott Glenn, Tom Berenger, Harris Yulin, Raymond J. Barry, Cliff Curtis, Dr. Dre, Snoop Dogg, Macy Gray, Eva Mendes"
        ],
        [
         "137",
         "Richard Mofe-Damijo, Dakore Akande, Bimbo Manuel, Blossom Chukwujekwu, Deyemi Okanlawon, Etim Effiong, Denola Grey, Duke Akintola, Eku Edewor, Ade Laoye, Anee Icha, Kevin Ushi, Jude Chukwuka, Amanda Afolabi"
        ],
        [
         "139",
         "Kashmira Irani, Chandan Anand, Dinesh Mehta, Ankit Arora, Pushkar Goggiaa, Anjali Rana, Aarya DharmChand Kumar, Amit Behl, Maleeka Ghai"
        ],
        [
         "142",
         "Kappei Yamaguchi, Satsuki Yukino, Mieko Harada, Koji Tsujitani, Houko Kuwashima, Kumiko Watanabe, Noriko Hidaka, Kenichi Ogata, Toshiyuki Morikawa, Izumi Ogami"
        ],
        [
         "145",
         "Kappei Yamaguchi, Satsuki Yukino, Koji Tsujitani, Houko Kuwashima, Kumiko Watanabe, Ken Narita, Akio Otsuka, Kikuko Inoue"
        ],
        [
         "148",
         "Kappei Yamaguchi, Satsuki Yukino, Koji Tsujitani, Houko Kuwashima, Kumiko Watanabe, Noriko Hidaka, Ken Narita, Cho, Mamiko Noto, Nobutoshi Canna"
        ],
        [
         "151",
         "Kappei Yamaguchi, Satsuki Yukino, Koji Tsujitani, Houko Kuwashima, Kumiko Watanabe, Kenichi Ogata, Noriko Hidaka, Hisako Kyoda, Ken Narita, Tomokazu Seki"
        ],
        [
         "154",
         "Nicole Byer, Jacques Torres"
        ]
       ],
       "shape": {
        "columns": 1,
        "rows": 7679
       }
      },
      "text/plain": [
       "0                                           Not identified\n",
       "1        Ama Qamata, Khosi Ngema, Gail Mabalane, Thaban...\n",
       "4        Sami Bouajila, Tracy Gotoas, Samuel Jouy, Nabi...\n",
       "9        Mayur More, Jitendra Kumar, Ranjan Raj, Alam K...\n",
       "12       Kate Siegel, Zach Gilford, Hamish Linklater, H...\n",
       "                               ...                        \n",
       "23716    Ali Suliman, Saleh Bakri, Yasa, Ali Al-Jabri, ...\n",
       "23722    Mark Ruffalo, Jake Gyllenhaal, Robert Downey J...\n",
       "23728    Jesse Eisenberg, Woody Harrelson, Emma Stone, ...\n",
       "23730    Tim Allen, Courteney Cox, Chevy Chase, Kate Ma...\n",
       "23732    Vicky Kaushal, Sarah-Jane Dias, Raaghav Chanan...\n",
       "Name: cast, Length: 7679, dtype: object"
      ]
     },
     "execution_count": 140,
     "metadata": {},
     "output_type": "execute_result"
    }
   ],
   "source": [
    "import re\n",
    "\n",
    "actor_name = input(\"Add your favourite actor name: \")\n",
    "filtered_df = df[df['cast'].str.contains(actor_name, flags=re.IGNORECASE, na=False)]\n",
    "filtered_df.cast.drop_duplicates()\n"
   ]
  },
  {
   "cell_type": "code",
   "execution_count": 141,
   "id": "48d52992",
   "metadata": {},
   "outputs": [
    {
     "data": {
      "application/vnd.microsoft.datawrangler.viewer.v0+json": {
       "columns": [
        {
         "name": "index",
         "rawType": "int64",
         "type": "integer"
        },
        {
         "name": "title",
         "rawType": "object",
         "type": "string"
        }
       ],
       "ref": "b495a750-0f18-4b4f-a434-3f02e5ac9f8c",
       "rows": [
        [
         "0",
         "Dick Johnson Is Dead"
        ],
        [
         "1",
         "Blood & Water"
        ],
        [
         "4",
         "Ganglands"
        ],
        [
         "7",
         "Jailbirds New Orleans"
        ],
        [
         "9",
         "Kota Factory"
        ],
        [
         "12",
         "Midnight Mass"
        ],
        [
         "15",
         "My Little Pony: A New Generation"
        ],
        [
         "16",
         "Sankofa"
        ],
        [
         "34",
         "The Great British Baking Show"
        ],
        [
         "36",
         "The Starling"
        ],
        [
         "38",
         "Vendetta: Truth, Lies and The Mafia"
        ],
        [
         "41",
         "Bangkok Breaking"
        ],
        [
         "44",
         "Je Suis Karl"
        ],
        [
         "48",
         "Confessions of an Invisible Girl"
        ],
        [
         "50",
         "Crime Stories: India Detectives"
        ],
        [
         "53",
         "Dear White People"
        ],
        [
         "55",
         "Europe's Most Dangerous Man: Otto Skorzeny in Spain"
        ],
        [
         "57",
         "Falsa identidad"
        ],
        [
         "60",
         "Intrusion"
        ],
        [
         "61",
         "Jaguar"
        ],
        [
         "64",
         "Monsters Inside: The 24 Faces of Billy Milligan"
        ],
        [
         "67",
         "Resurrection: Ertugrul"
        ],
        [
         "70",
         "Avvai Shanmughi"
        ],
        [
         "72",
         "Go! Go! Cory Carson: Chrissy Takes the Wheel"
        ],
        [
         "73",
         "Jeans"
        ],
        [
         "76",
         "Love on the Spectrum"
        ],
        [
         "79",
         "Minsara Kanavu"
        ],
        [
         "82",
         "Grown Ups"
        ],
        [
         "83",
         "Dark Skies"
        ],
        [
         "85",
         "Paranoia"
        ],
        [
         "88",
         "Ankahi Kahaniya"
        ],
        [
         "91",
         "Chicago Party Aunt"
        ],
        [
         "92",
         "Sex Education"
        ],
        [
         "95",
         "Squid Game"
        ],
        [
         "98",
         "Tayo and Little Wizards"
        ],
        [
         "99",
         "The Father Who Moves Mountains"
        ],
        [
         "102",
         "The Stronghold"
        ],
        [
         "105",
         "Angry Birds"
        ],
        [
         "107",
         "Birth of the Dragon"
        ],
        [
         "113",
         "Chhota Bheem"
        ],
        [
         "114",
         "He-Man and the Masters of the Universe"
        ],
        [
         "116",
         "Jaws"
        ],
        [
         "119",
         "Jaws 2"
        ],
        [
         "122",
         "Jaws 3"
        ],
        [
         "125",
         "Jaws: The Revenge"
        ],
        [
         "128",
         "My Heroes Were Cowboys"
        ],
        [
         "129",
         "Safe House"
        ],
        [
         "132",
         "The Smart Money Woman"
        ],
        [
         "135",
         "Training Day"
        ],
        [
         "137",
         "Castle and Castle"
        ]
       ],
       "shape": {
        "columns": 1,
        "rows": 8790
       }
      },
      "text/plain": [
       "0         Dick Johnson Is Dead\n",
       "1                Blood & Water\n",
       "4                    Ganglands\n",
       "7        Jailbirds New Orleans\n",
       "9                 Kota Factory\n",
       "                 ...          \n",
       "23722                   Zodiac\n",
       "23725              Zombie Dumb\n",
       "23728               Zombieland\n",
       "23730                     Zoom\n",
       "23732                   Zubaan\n",
       "Name: title, Length: 8790, dtype: object"
      ]
     },
     "execution_count": 141,
     "metadata": {},
     "output_type": "execute_result"
    }
   ],
   "source": [
    "import re\n",
    "\n",
    "movie_name = input(\"Add your movie name: \")\n",
    "moviefind=df[df['title'].str.contains(movie_name, flags=re.IGNORECASE, na=False)]\n",
    "moviefind.title.drop_duplicates()\n"
   ]
  },
  {
   "cell_type": "code",
   "execution_count": 142,
   "id": "9384d7c8",
   "metadata": {},
   "outputs": [
    {
     "data": {
      "application/vnd.microsoft.datawrangler.viewer.v0+json": {
       "columns": [
        {
         "name": "index",
         "rawType": "int64",
         "type": "integer"
        },
        {
         "name": "show_id",
         "rawType": "object",
         "type": "string"
        },
        {
         "name": "type",
         "rawType": "object",
         "type": "string"
        },
        {
         "name": "title",
         "rawType": "object",
         "type": "string"
        },
        {
         "name": "director",
         "rawType": "object",
         "type": "string"
        },
        {
         "name": "cast",
         "rawType": "object",
         "type": "string"
        },
        {
         "name": "country",
         "rawType": "object",
         "type": "string"
        },
        {
         "name": "date_added",
         "rawType": "datetime64[ns]",
         "type": "datetime"
        },
        {
         "name": "release_year",
         "rawType": "object",
         "type": "unknown"
        },
        {
         "name": "rating",
         "rawType": "object",
         "type": "string"
        },
        {
         "name": "duration",
         "rawType": "object",
         "type": "string"
        },
        {
         "name": "listed_in",
         "rawType": "object",
         "type": "string"
        },
        {
         "name": "description",
         "rawType": "object",
         "type": "string"
        },
        {
         "name": "new",
         "rawType": "object",
         "type": "string"
        },
        {
         "name": "category",
         "rawType": "object",
         "type": "string"
        },
        {
         "name": "movies_minutes",
         "rawType": "object",
         "type": "unknown"
        },
        {
         "name": "number_ofseasons",
         "rawType": "object",
         "type": "unknown"
        },
        {
         "name": "count_cast",
         "rawType": "int64",
         "type": "integer"
        }
       ],
       "ref": "975d2848-0f5c-435d-8fa8-67130be8b5db",
       "rows": [
        [
         "0",
         "s1",
         "Movie",
         "Dick Johnson Is Dead",
         "Kirsten Johnson",
         "Not identified",
         "United States",
         "2021-09-25 00:00:00",
         "2020",
         "PG-13",
         "90 min",
         "Documentaries",
         "As her father nears the end of his life, filmmaker Kirsten Johnson stages his death in inventive and comical ways to help them both face the inevitable.",
         "United States",
         "Documentaries",
         "90",
         null,
         "0"
        ],
        [
         "1",
         "s2",
         "TV Show",
         "Blood & Water",
         "Not identified",
         "Ama Qamata, Khosi Ngema, Gail Mabalane, Thabang Molaba, Dillon Windvogel, Natasha Thahane, Arno Greeff, Xolile Tshabalala, Getmore Sithole, Cindy Mahlangu, Ryle De Morny, Greteli Fincham, Sello Maake Ka-Ncube, Odwa Gwanya, Mekaila Mathys, Sandi Schultz, Duane Williams, Shamilla Miller, Patrick Mofokeng",
         "South Africa",
         "2021-09-24 00:00:00",
         "2021",
         "TV-MA",
         "2 Seasons",
         "International TV Shows, TV Dramas, TV Mysteries",
         "After crossing paths at a party, a Cape Town teen sets out to prove whether a private-school swimming star is her sister who was abducted at birth.",
         "South Africa",
         "International TV Shows",
         null,
         "2",
         "19"
        ],
        [
         "2",
         "s2",
         "TV Show",
         "Blood & Water",
         "Not identified",
         "Ama Qamata, Khosi Ngema, Gail Mabalane, Thabang Molaba, Dillon Windvogel, Natasha Thahane, Arno Greeff, Xolile Tshabalala, Getmore Sithole, Cindy Mahlangu, Ryle De Morny, Greteli Fincham, Sello Maake Ka-Ncube, Odwa Gwanya, Mekaila Mathys, Sandi Schultz, Duane Williams, Shamilla Miller, Patrick Mofokeng",
         "South Africa",
         "2021-09-24 00:00:00",
         "2021",
         "TV-MA",
         "2 Seasons",
         "International TV Shows, TV Dramas, TV Mysteries",
         "After crossing paths at a party, a Cape Town teen sets out to prove whether a private-school swimming star is her sister who was abducted at birth.",
         "South Africa",
         "TV Dramas",
         null,
         "2",
         "19"
        ],
        [
         "3",
         "s2",
         "TV Show",
         "Blood & Water",
         "Not identified",
         "Ama Qamata, Khosi Ngema, Gail Mabalane, Thabang Molaba, Dillon Windvogel, Natasha Thahane, Arno Greeff, Xolile Tshabalala, Getmore Sithole, Cindy Mahlangu, Ryle De Morny, Greteli Fincham, Sello Maake Ka-Ncube, Odwa Gwanya, Mekaila Mathys, Sandi Schultz, Duane Williams, Shamilla Miller, Patrick Mofokeng",
         "South Africa",
         "2021-09-24 00:00:00",
         "2021",
         "TV-MA",
         "2 Seasons",
         "International TV Shows, TV Dramas, TV Mysteries",
         "After crossing paths at a party, a Cape Town teen sets out to prove whether a private-school swimming star is her sister who was abducted at birth.",
         "South Africa",
         "TV Mysteries",
         null,
         "2",
         "19"
        ],
        [
         "4",
         "s3",
         "TV Show",
         "Ganglands",
         "Julien Leclercq",
         "Sami Bouajila, Tracy Gotoas, Samuel Jouy, Nabiha Akkari, Sofia Lesaffre, Salim Kechiouche, Noureddine Farihi, Geert Van Rampelberg, Bakary Diombera",
         "Not identified",
         "2021-09-24 00:00:00",
         "2021",
         "TV-MA",
         "1 Season",
         "Crime TV Shows, International TV Shows, TV Action & Adventure",
         "To protect his family from a powerful drug lord, skilled thief Mehdi and his expert team of robbers are pulled into a violent and deadly turf war.",
         "Not identified",
         "Crime TV Shows",
         null,
         "1",
         "9"
        ]
       ],
       "shape": {
        "columns": 17,
        "rows": 5
       }
      },
      "text/html": [
       "<div>\n",
       "<style scoped>\n",
       "    .dataframe tbody tr th:only-of-type {\n",
       "        vertical-align: middle;\n",
       "    }\n",
       "\n",
       "    .dataframe tbody tr th {\n",
       "        vertical-align: top;\n",
       "    }\n",
       "\n",
       "    .dataframe thead th {\n",
       "        text-align: right;\n",
       "    }\n",
       "</style>\n",
       "<table border=\"1\" class=\"dataframe\">\n",
       "  <thead>\n",
       "    <tr style=\"text-align: right;\">\n",
       "      <th></th>\n",
       "      <th>show_id</th>\n",
       "      <th>type</th>\n",
       "      <th>title</th>\n",
       "      <th>director</th>\n",
       "      <th>cast</th>\n",
       "      <th>country</th>\n",
       "      <th>date_added</th>\n",
       "      <th>release_year</th>\n",
       "      <th>rating</th>\n",
       "      <th>duration</th>\n",
       "      <th>listed_in</th>\n",
       "      <th>description</th>\n",
       "      <th>new</th>\n",
       "      <th>category</th>\n",
       "      <th>movies_minutes</th>\n",
       "      <th>number_ofseasons</th>\n",
       "      <th>count_cast</th>\n",
       "    </tr>\n",
       "  </thead>\n",
       "  <tbody>\n",
       "    <tr>\n",
       "      <th>0</th>\n",
       "      <td>s1</td>\n",
       "      <td>Movie</td>\n",
       "      <td>Dick Johnson Is Dead</td>\n",
       "      <td>Kirsten Johnson</td>\n",
       "      <td>Not identified</td>\n",
       "      <td>United States</td>\n",
       "      <td>2021-09-25</td>\n",
       "      <td>2020</td>\n",
       "      <td>PG-13</td>\n",
       "      <td>90 min</td>\n",
       "      <td>Documentaries</td>\n",
       "      <td>As her father nears the end of his life, filmm...</td>\n",
       "      <td>United States</td>\n",
       "      <td>Documentaries</td>\n",
       "      <td>90</td>\n",
       "      <td>NaN</td>\n",
       "      <td>0</td>\n",
       "    </tr>\n",
       "    <tr>\n",
       "      <th>1</th>\n",
       "      <td>s2</td>\n",
       "      <td>TV Show</td>\n",
       "      <td>Blood &amp; Water</td>\n",
       "      <td>Not identified</td>\n",
       "      <td>Ama Qamata, Khosi Ngema, Gail Mabalane, Thaban...</td>\n",
       "      <td>South Africa</td>\n",
       "      <td>2021-09-24</td>\n",
       "      <td>2021</td>\n",
       "      <td>TV-MA</td>\n",
       "      <td>2 Seasons</td>\n",
       "      <td>International TV Shows, TV Dramas, TV Mysteries</td>\n",
       "      <td>After crossing paths at a party, a Cape Town t...</td>\n",
       "      <td>South Africa</td>\n",
       "      <td>International TV Shows</td>\n",
       "      <td>NaN</td>\n",
       "      <td>2</td>\n",
       "      <td>19</td>\n",
       "    </tr>\n",
       "    <tr>\n",
       "      <th>2</th>\n",
       "      <td>s2</td>\n",
       "      <td>TV Show</td>\n",
       "      <td>Blood &amp; Water</td>\n",
       "      <td>Not identified</td>\n",
       "      <td>Ama Qamata, Khosi Ngema, Gail Mabalane, Thaban...</td>\n",
       "      <td>South Africa</td>\n",
       "      <td>2021-09-24</td>\n",
       "      <td>2021</td>\n",
       "      <td>TV-MA</td>\n",
       "      <td>2 Seasons</td>\n",
       "      <td>International TV Shows, TV Dramas, TV Mysteries</td>\n",
       "      <td>After crossing paths at a party, a Cape Town t...</td>\n",
       "      <td>South Africa</td>\n",
       "      <td>TV Dramas</td>\n",
       "      <td>NaN</td>\n",
       "      <td>2</td>\n",
       "      <td>19</td>\n",
       "    </tr>\n",
       "    <tr>\n",
       "      <th>3</th>\n",
       "      <td>s2</td>\n",
       "      <td>TV Show</td>\n",
       "      <td>Blood &amp; Water</td>\n",
       "      <td>Not identified</td>\n",
       "      <td>Ama Qamata, Khosi Ngema, Gail Mabalane, Thaban...</td>\n",
       "      <td>South Africa</td>\n",
       "      <td>2021-09-24</td>\n",
       "      <td>2021</td>\n",
       "      <td>TV-MA</td>\n",
       "      <td>2 Seasons</td>\n",
       "      <td>International TV Shows, TV Dramas, TV Mysteries</td>\n",
       "      <td>After crossing paths at a party, a Cape Town t...</td>\n",
       "      <td>South Africa</td>\n",
       "      <td>TV Mysteries</td>\n",
       "      <td>NaN</td>\n",
       "      <td>2</td>\n",
       "      <td>19</td>\n",
       "    </tr>\n",
       "    <tr>\n",
       "      <th>4</th>\n",
       "      <td>s3</td>\n",
       "      <td>TV Show</td>\n",
       "      <td>Ganglands</td>\n",
       "      <td>Julien Leclercq</td>\n",
       "      <td>Sami Bouajila, Tracy Gotoas, Samuel Jouy, Nabi...</td>\n",
       "      <td>Not identified</td>\n",
       "      <td>2021-09-24</td>\n",
       "      <td>2021</td>\n",
       "      <td>TV-MA</td>\n",
       "      <td>1 Season</td>\n",
       "      <td>Crime TV Shows, International TV Shows, TV Act...</td>\n",
       "      <td>To protect his family from a powerful drug lor...</td>\n",
       "      <td>Not identified</td>\n",
       "      <td>Crime TV Shows</td>\n",
       "      <td>NaN</td>\n",
       "      <td>1</td>\n",
       "      <td>9</td>\n",
       "    </tr>\n",
       "  </tbody>\n",
       "</table>\n",
       "</div>"
      ],
      "text/plain": [
       "  show_id     type                 title         director  \\\n",
       "0      s1    Movie  Dick Johnson Is Dead  Kirsten Johnson   \n",
       "1      s2  TV Show         Blood & Water   Not identified   \n",
       "2      s2  TV Show         Blood & Water   Not identified   \n",
       "3      s2  TV Show         Blood & Water   Not identified   \n",
       "4      s3  TV Show             Ganglands  Julien Leclercq   \n",
       "\n",
       "                                                cast         country  \\\n",
       "0                                     Not identified   United States   \n",
       "1  Ama Qamata, Khosi Ngema, Gail Mabalane, Thaban...    South Africa   \n",
       "2  Ama Qamata, Khosi Ngema, Gail Mabalane, Thaban...    South Africa   \n",
       "3  Ama Qamata, Khosi Ngema, Gail Mabalane, Thaban...    South Africa   \n",
       "4  Sami Bouajila, Tracy Gotoas, Samuel Jouy, Nabi...  Not identified   \n",
       "\n",
       "  date_added release_year rating   duration  \\\n",
       "0 2021-09-25         2020  PG-13     90 min   \n",
       "1 2021-09-24         2021  TV-MA  2 Seasons   \n",
       "2 2021-09-24         2021  TV-MA  2 Seasons   \n",
       "3 2021-09-24         2021  TV-MA  2 Seasons   \n",
       "4 2021-09-24         2021  TV-MA   1 Season   \n",
       "\n",
       "                                           listed_in  \\\n",
       "0                                      Documentaries   \n",
       "1    International TV Shows, TV Dramas, TV Mysteries   \n",
       "2    International TV Shows, TV Dramas, TV Mysteries   \n",
       "3    International TV Shows, TV Dramas, TV Mysteries   \n",
       "4  Crime TV Shows, International TV Shows, TV Act...   \n",
       "\n",
       "                                         description             new  \\\n",
       "0  As her father nears the end of his life, filmm...   United States   \n",
       "1  After crossing paths at a party, a Cape Town t...    South Africa   \n",
       "2  After crossing paths at a party, a Cape Town t...    South Africa   \n",
       "3  After crossing paths at a party, a Cape Town t...    South Africa   \n",
       "4  To protect his family from a powerful drug lor...  Not identified   \n",
       "\n",
       "                 category movies_minutes number_ofseasons  count_cast  \n",
       "0           Documentaries             90              NaN           0  \n",
       "1  International TV Shows            NaN                2          19  \n",
       "2               TV Dramas            NaN                2          19  \n",
       "3            TV Mysteries            NaN                2          19  \n",
       "4          Crime TV Shows            NaN                1           9  "
      ]
     },
     "execution_count": 142,
     "metadata": {},
     "output_type": "execute_result"
    }
   ],
   "source": [
    "df.head()"
   ]
  },
  {
   "cell_type": "code",
   "execution_count": 143,
   "id": "4c5739cb",
   "metadata": {},
   "outputs": [],
   "source": [
    "df['number_ofseasons']=df.number_ofseasons.fillna(0)"
   ]
  },
  {
   "cell_type": "code",
   "execution_count": 144,
   "id": "01723644",
   "metadata": {},
   "outputs": [],
   "source": [
    "df['movies_minutes']=df.movies_minutes.fillna(0)"
   ]
  },
  {
   "cell_type": "code",
   "execution_count": 145,
   "id": "dce47814",
   "metadata": {},
   "outputs": [
    {
     "data": {
      "application/vnd.microsoft.datawrangler.viewer.v0+json": {
       "columns": [
        {
         "name": "index",
         "rawType": "int64",
         "type": "integer"
        },
        {
         "name": "show_id",
         "rawType": "object",
         "type": "string"
        },
        {
         "name": "type",
         "rawType": "object",
         "type": "string"
        },
        {
         "name": "title",
         "rawType": "object",
         "type": "string"
        },
        {
         "name": "director",
         "rawType": "object",
         "type": "string"
        },
        {
         "name": "cast",
         "rawType": "object",
         "type": "string"
        },
        {
         "name": "country",
         "rawType": "object",
         "type": "string"
        },
        {
         "name": "date_added",
         "rawType": "datetime64[ns]",
         "type": "datetime"
        },
        {
         "name": "release_year",
         "rawType": "object",
         "type": "unknown"
        },
        {
         "name": "rating",
         "rawType": "object",
         "type": "string"
        },
        {
         "name": "duration",
         "rawType": "object",
         "type": "string"
        },
        {
         "name": "listed_in",
         "rawType": "object",
         "type": "string"
        },
        {
         "name": "description",
         "rawType": "object",
         "type": "string"
        },
        {
         "name": "new",
         "rawType": "object",
         "type": "string"
        },
        {
         "name": "category",
         "rawType": "object",
         "type": "string"
        },
        {
         "name": "movies_minutes",
         "rawType": "object",
         "type": "unknown"
        },
        {
         "name": "number_ofseasons",
         "rawType": "object",
         "type": "unknown"
        },
        {
         "name": "count_cast",
         "rawType": "int64",
         "type": "integer"
        }
       ],
       "ref": "f8177648-a079-4703-a11c-7c1197c45c41",
       "rows": [
        [
         "0",
         "s1",
         "Movie",
         "Dick Johnson Is Dead",
         "Kirsten Johnson",
         "Not identified",
         "United States",
         "2021-09-25 00:00:00",
         "2020",
         "PG-13",
         "90 min",
         "Documentaries",
         "As her father nears the end of his life, filmmaker Kirsten Johnson stages his death in inventive and comical ways to help them both face the inevitable.",
         "United States",
         "Documentaries",
         "90",
         "0",
         "0"
        ],
        [
         "1",
         "s2",
         "TV Show",
         "Blood & Water",
         "Not identified",
         "Ama Qamata, Khosi Ngema, Gail Mabalane, Thabang Molaba, Dillon Windvogel, Natasha Thahane, Arno Greeff, Xolile Tshabalala, Getmore Sithole, Cindy Mahlangu, Ryle De Morny, Greteli Fincham, Sello Maake Ka-Ncube, Odwa Gwanya, Mekaila Mathys, Sandi Schultz, Duane Williams, Shamilla Miller, Patrick Mofokeng",
         "South Africa",
         "2021-09-24 00:00:00",
         "2021",
         "TV-MA",
         "2 Seasons",
         "International TV Shows, TV Dramas, TV Mysteries",
         "After crossing paths at a party, a Cape Town teen sets out to prove whether a private-school swimming star is her sister who was abducted at birth.",
         "South Africa",
         "International TV Shows",
         "0",
         "2",
         "19"
        ],
        [
         "2",
         "s2",
         "TV Show",
         "Blood & Water",
         "Not identified",
         "Ama Qamata, Khosi Ngema, Gail Mabalane, Thabang Molaba, Dillon Windvogel, Natasha Thahane, Arno Greeff, Xolile Tshabalala, Getmore Sithole, Cindy Mahlangu, Ryle De Morny, Greteli Fincham, Sello Maake Ka-Ncube, Odwa Gwanya, Mekaila Mathys, Sandi Schultz, Duane Williams, Shamilla Miller, Patrick Mofokeng",
         "South Africa",
         "2021-09-24 00:00:00",
         "2021",
         "TV-MA",
         "2 Seasons",
         "International TV Shows, TV Dramas, TV Mysteries",
         "After crossing paths at a party, a Cape Town teen sets out to prove whether a private-school swimming star is her sister who was abducted at birth.",
         "South Africa",
         "TV Dramas",
         "0",
         "2",
         "19"
        ],
        [
         "3",
         "s2",
         "TV Show",
         "Blood & Water",
         "Not identified",
         "Ama Qamata, Khosi Ngema, Gail Mabalane, Thabang Molaba, Dillon Windvogel, Natasha Thahane, Arno Greeff, Xolile Tshabalala, Getmore Sithole, Cindy Mahlangu, Ryle De Morny, Greteli Fincham, Sello Maake Ka-Ncube, Odwa Gwanya, Mekaila Mathys, Sandi Schultz, Duane Williams, Shamilla Miller, Patrick Mofokeng",
         "South Africa",
         "2021-09-24 00:00:00",
         "2021",
         "TV-MA",
         "2 Seasons",
         "International TV Shows, TV Dramas, TV Mysteries",
         "After crossing paths at a party, a Cape Town teen sets out to prove whether a private-school swimming star is her sister who was abducted at birth.",
         "South Africa",
         "TV Mysteries",
         "0",
         "2",
         "19"
        ],
        [
         "4",
         "s3",
         "TV Show",
         "Ganglands",
         "Julien Leclercq",
         "Sami Bouajila, Tracy Gotoas, Samuel Jouy, Nabiha Akkari, Sofia Lesaffre, Salim Kechiouche, Noureddine Farihi, Geert Van Rampelberg, Bakary Diombera",
         "Not identified",
         "2021-09-24 00:00:00",
         "2021",
         "TV-MA",
         "1 Season",
         "Crime TV Shows, International TV Shows, TV Action & Adventure",
         "To protect his family from a powerful drug lord, skilled thief Mehdi and his expert team of robbers are pulled into a violent and deadly turf war.",
         "Not identified",
         "Crime TV Shows",
         "0",
         "1",
         "9"
        ]
       ],
       "shape": {
        "columns": 17,
        "rows": 5
       }
      },
      "text/html": [
       "<div>\n",
       "<style scoped>\n",
       "    .dataframe tbody tr th:only-of-type {\n",
       "        vertical-align: middle;\n",
       "    }\n",
       "\n",
       "    .dataframe tbody tr th {\n",
       "        vertical-align: top;\n",
       "    }\n",
       "\n",
       "    .dataframe thead th {\n",
       "        text-align: right;\n",
       "    }\n",
       "</style>\n",
       "<table border=\"1\" class=\"dataframe\">\n",
       "  <thead>\n",
       "    <tr style=\"text-align: right;\">\n",
       "      <th></th>\n",
       "      <th>show_id</th>\n",
       "      <th>type</th>\n",
       "      <th>title</th>\n",
       "      <th>director</th>\n",
       "      <th>cast</th>\n",
       "      <th>country</th>\n",
       "      <th>date_added</th>\n",
       "      <th>release_year</th>\n",
       "      <th>rating</th>\n",
       "      <th>duration</th>\n",
       "      <th>listed_in</th>\n",
       "      <th>description</th>\n",
       "      <th>new</th>\n",
       "      <th>category</th>\n",
       "      <th>movies_minutes</th>\n",
       "      <th>number_ofseasons</th>\n",
       "      <th>count_cast</th>\n",
       "    </tr>\n",
       "  </thead>\n",
       "  <tbody>\n",
       "    <tr>\n",
       "      <th>0</th>\n",
       "      <td>s1</td>\n",
       "      <td>Movie</td>\n",
       "      <td>Dick Johnson Is Dead</td>\n",
       "      <td>Kirsten Johnson</td>\n",
       "      <td>Not identified</td>\n",
       "      <td>United States</td>\n",
       "      <td>2021-09-25</td>\n",
       "      <td>2020</td>\n",
       "      <td>PG-13</td>\n",
       "      <td>90 min</td>\n",
       "      <td>Documentaries</td>\n",
       "      <td>As her father nears the end of his life, filmm...</td>\n",
       "      <td>United States</td>\n",
       "      <td>Documentaries</td>\n",
       "      <td>90</td>\n",
       "      <td>0</td>\n",
       "      <td>0</td>\n",
       "    </tr>\n",
       "    <tr>\n",
       "      <th>1</th>\n",
       "      <td>s2</td>\n",
       "      <td>TV Show</td>\n",
       "      <td>Blood &amp; Water</td>\n",
       "      <td>Not identified</td>\n",
       "      <td>Ama Qamata, Khosi Ngema, Gail Mabalane, Thaban...</td>\n",
       "      <td>South Africa</td>\n",
       "      <td>2021-09-24</td>\n",
       "      <td>2021</td>\n",
       "      <td>TV-MA</td>\n",
       "      <td>2 Seasons</td>\n",
       "      <td>International TV Shows, TV Dramas, TV Mysteries</td>\n",
       "      <td>After crossing paths at a party, a Cape Town t...</td>\n",
       "      <td>South Africa</td>\n",
       "      <td>International TV Shows</td>\n",
       "      <td>0</td>\n",
       "      <td>2</td>\n",
       "      <td>19</td>\n",
       "    </tr>\n",
       "    <tr>\n",
       "      <th>2</th>\n",
       "      <td>s2</td>\n",
       "      <td>TV Show</td>\n",
       "      <td>Blood &amp; Water</td>\n",
       "      <td>Not identified</td>\n",
       "      <td>Ama Qamata, Khosi Ngema, Gail Mabalane, Thaban...</td>\n",
       "      <td>South Africa</td>\n",
       "      <td>2021-09-24</td>\n",
       "      <td>2021</td>\n",
       "      <td>TV-MA</td>\n",
       "      <td>2 Seasons</td>\n",
       "      <td>International TV Shows, TV Dramas, TV Mysteries</td>\n",
       "      <td>After crossing paths at a party, a Cape Town t...</td>\n",
       "      <td>South Africa</td>\n",
       "      <td>TV Dramas</td>\n",
       "      <td>0</td>\n",
       "      <td>2</td>\n",
       "      <td>19</td>\n",
       "    </tr>\n",
       "    <tr>\n",
       "      <th>3</th>\n",
       "      <td>s2</td>\n",
       "      <td>TV Show</td>\n",
       "      <td>Blood &amp; Water</td>\n",
       "      <td>Not identified</td>\n",
       "      <td>Ama Qamata, Khosi Ngema, Gail Mabalane, Thaban...</td>\n",
       "      <td>South Africa</td>\n",
       "      <td>2021-09-24</td>\n",
       "      <td>2021</td>\n",
       "      <td>TV-MA</td>\n",
       "      <td>2 Seasons</td>\n",
       "      <td>International TV Shows, TV Dramas, TV Mysteries</td>\n",
       "      <td>After crossing paths at a party, a Cape Town t...</td>\n",
       "      <td>South Africa</td>\n",
       "      <td>TV Mysteries</td>\n",
       "      <td>0</td>\n",
       "      <td>2</td>\n",
       "      <td>19</td>\n",
       "    </tr>\n",
       "    <tr>\n",
       "      <th>4</th>\n",
       "      <td>s3</td>\n",
       "      <td>TV Show</td>\n",
       "      <td>Ganglands</td>\n",
       "      <td>Julien Leclercq</td>\n",
       "      <td>Sami Bouajila, Tracy Gotoas, Samuel Jouy, Nabi...</td>\n",
       "      <td>Not identified</td>\n",
       "      <td>2021-09-24</td>\n",
       "      <td>2021</td>\n",
       "      <td>TV-MA</td>\n",
       "      <td>1 Season</td>\n",
       "      <td>Crime TV Shows, International TV Shows, TV Act...</td>\n",
       "      <td>To protect his family from a powerful drug lor...</td>\n",
       "      <td>Not identified</td>\n",
       "      <td>Crime TV Shows</td>\n",
       "      <td>0</td>\n",
       "      <td>1</td>\n",
       "      <td>9</td>\n",
       "    </tr>\n",
       "  </tbody>\n",
       "</table>\n",
       "</div>"
      ],
      "text/plain": [
       "  show_id     type                 title         director  \\\n",
       "0      s1    Movie  Dick Johnson Is Dead  Kirsten Johnson   \n",
       "1      s2  TV Show         Blood & Water   Not identified   \n",
       "2      s2  TV Show         Blood & Water   Not identified   \n",
       "3      s2  TV Show         Blood & Water   Not identified   \n",
       "4      s3  TV Show             Ganglands  Julien Leclercq   \n",
       "\n",
       "                                                cast         country  \\\n",
       "0                                     Not identified   United States   \n",
       "1  Ama Qamata, Khosi Ngema, Gail Mabalane, Thaban...    South Africa   \n",
       "2  Ama Qamata, Khosi Ngema, Gail Mabalane, Thaban...    South Africa   \n",
       "3  Ama Qamata, Khosi Ngema, Gail Mabalane, Thaban...    South Africa   \n",
       "4  Sami Bouajila, Tracy Gotoas, Samuel Jouy, Nabi...  Not identified   \n",
       "\n",
       "  date_added release_year rating   duration  \\\n",
       "0 2021-09-25         2020  PG-13     90 min   \n",
       "1 2021-09-24         2021  TV-MA  2 Seasons   \n",
       "2 2021-09-24         2021  TV-MA  2 Seasons   \n",
       "3 2021-09-24         2021  TV-MA  2 Seasons   \n",
       "4 2021-09-24         2021  TV-MA   1 Season   \n",
       "\n",
       "                                           listed_in  \\\n",
       "0                                      Documentaries   \n",
       "1    International TV Shows, TV Dramas, TV Mysteries   \n",
       "2    International TV Shows, TV Dramas, TV Mysteries   \n",
       "3    International TV Shows, TV Dramas, TV Mysteries   \n",
       "4  Crime TV Shows, International TV Shows, TV Act...   \n",
       "\n",
       "                                         description             new  \\\n",
       "0  As her father nears the end of his life, filmm...   United States   \n",
       "1  After crossing paths at a party, a Cape Town t...    South Africa   \n",
       "2  After crossing paths at a party, a Cape Town t...    South Africa   \n",
       "3  After crossing paths at a party, a Cape Town t...    South Africa   \n",
       "4  To protect his family from a powerful drug lor...  Not identified   \n",
       "\n",
       "                 category movies_minutes number_ofseasons  count_cast  \n",
       "0           Documentaries             90                0           0  \n",
       "1  International TV Shows              0                2          19  \n",
       "2               TV Dramas              0                2          19  \n",
       "3            TV Mysteries              0                2          19  \n",
       "4          Crime TV Shows              0                1           9  "
      ]
     },
     "execution_count": 145,
     "metadata": {},
     "output_type": "execute_result"
    }
   ],
   "source": [
    "df.head()"
   ]
  },
  {
   "cell_type": "code",
   "execution_count": 146,
   "id": "8589972a",
   "metadata": {},
   "outputs": [],
   "source": [
    "distrubuttion=df.groupby('type')['show_id'].count().reset_index()#could do it with value_counts as well !\n",
    "distrubuttion.type=distrubuttion.type.str.strip()\n"
   ]
  },
  {
   "cell_type": "code",
   "execution_count": 147,
   "id": "bdd46e03",
   "metadata": {},
   "outputs": [],
   "source": [
    "distrubuttion.type=distrubuttion.type.str.strip()\n"
   ]
  },
  {
   "cell_type": "code",
   "execution_count": 148,
   "id": "af161cee",
   "metadata": {},
   "outputs": [
    {
     "data": {
      "application/vnd.plotly.v1+json": {
       "config": {
        "plotlyServerURL": "https://plot.ly"
       },
       "data": [
        {
         "customdata": [
          [
           "Movie"
          ],
          [
           "TV Show"
          ]
         ],
         "domain": {
          "x": [
           0,
           1
          ],
          "y": [
           0,
           1
          ]
         },
         "hovertemplate": "type=%{customdata[0]}<br>show_id=%{value}<extra></extra>",
         "labels": [
          "Movie",
          "TV Show"
         ],
         "legendgroup": "",
         "marker": {
          "colors": [
           "red",
           "#000000"
          ]
         },
         "name": "",
         "showlegend": true,
         "textfont": {
          "color": "white",
          "family": "Arial",
          "size": 14
         },
         "textinfo": "label+percent+value",
         "type": "pie",
         "values": {
          "bdata": "7kHJGg==",
          "dtype": "i2"
         }
        }
       ],
       "layout": {
        "legend": {
         "tracegroupgap": 0
        },
        "template": {
         "data": {
          "bar": [
           {
            "error_x": {
             "color": "#2a3f5f"
            },
            "error_y": {
             "color": "#2a3f5f"
            },
            "marker": {
             "line": {
              "color": "#E5ECF6",
              "width": 0.5
             },
             "pattern": {
              "fillmode": "overlay",
              "size": 10,
              "solidity": 0.2
             }
            },
            "type": "bar"
           }
          ],
          "barpolar": [
           {
            "marker": {
             "line": {
              "color": "#E5ECF6",
              "width": 0.5
             },
             "pattern": {
              "fillmode": "overlay",
              "size": 10,
              "solidity": 0.2
             }
            },
            "type": "barpolar"
           }
          ],
          "carpet": [
           {
            "aaxis": {
             "endlinecolor": "#2a3f5f",
             "gridcolor": "white",
             "linecolor": "white",
             "minorgridcolor": "white",
             "startlinecolor": "#2a3f5f"
            },
            "baxis": {
             "endlinecolor": "#2a3f5f",
             "gridcolor": "white",
             "linecolor": "white",
             "minorgridcolor": "white",
             "startlinecolor": "#2a3f5f"
            },
            "type": "carpet"
           }
          ],
          "choropleth": [
           {
            "colorbar": {
             "outlinewidth": 0,
             "ticks": ""
            },
            "type": "choropleth"
           }
          ],
          "contour": [
           {
            "colorbar": {
             "outlinewidth": 0,
             "ticks": ""
            },
            "colorscale": [
             [
              0,
              "#0d0887"
             ],
             [
              0.1111111111111111,
              "#46039f"
             ],
             [
              0.2222222222222222,
              "#7201a8"
             ],
             [
              0.3333333333333333,
              "#9c179e"
             ],
             [
              0.4444444444444444,
              "#bd3786"
             ],
             [
              0.5555555555555556,
              "#d8576b"
             ],
             [
              0.6666666666666666,
              "#ed7953"
             ],
             [
              0.7777777777777778,
              "#fb9f3a"
             ],
             [
              0.8888888888888888,
              "#fdca26"
             ],
             [
              1,
              "#f0f921"
             ]
            ],
            "type": "contour"
           }
          ],
          "contourcarpet": [
           {
            "colorbar": {
             "outlinewidth": 0,
             "ticks": ""
            },
            "type": "contourcarpet"
           }
          ],
          "heatmap": [
           {
            "colorbar": {
             "outlinewidth": 0,
             "ticks": ""
            },
            "colorscale": [
             [
              0,
              "#0d0887"
             ],
             [
              0.1111111111111111,
              "#46039f"
             ],
             [
              0.2222222222222222,
              "#7201a8"
             ],
             [
              0.3333333333333333,
              "#9c179e"
             ],
             [
              0.4444444444444444,
              "#bd3786"
             ],
             [
              0.5555555555555556,
              "#d8576b"
             ],
             [
              0.6666666666666666,
              "#ed7953"
             ],
             [
              0.7777777777777778,
              "#fb9f3a"
             ],
             [
              0.8888888888888888,
              "#fdca26"
             ],
             [
              1,
              "#f0f921"
             ]
            ],
            "type": "heatmap"
           }
          ],
          "histogram": [
           {
            "marker": {
             "pattern": {
              "fillmode": "overlay",
              "size": 10,
              "solidity": 0.2
             }
            },
            "type": "histogram"
           }
          ],
          "histogram2d": [
           {
            "colorbar": {
             "outlinewidth": 0,
             "ticks": ""
            },
            "colorscale": [
             [
              0,
              "#0d0887"
             ],
             [
              0.1111111111111111,
              "#46039f"
             ],
             [
              0.2222222222222222,
              "#7201a8"
             ],
             [
              0.3333333333333333,
              "#9c179e"
             ],
             [
              0.4444444444444444,
              "#bd3786"
             ],
             [
              0.5555555555555556,
              "#d8576b"
             ],
             [
              0.6666666666666666,
              "#ed7953"
             ],
             [
              0.7777777777777778,
              "#fb9f3a"
             ],
             [
              0.8888888888888888,
              "#fdca26"
             ],
             [
              1,
              "#f0f921"
             ]
            ],
            "type": "histogram2d"
           }
          ],
          "histogram2dcontour": [
           {
            "colorbar": {
             "outlinewidth": 0,
             "ticks": ""
            },
            "colorscale": [
             [
              0,
              "#0d0887"
             ],
             [
              0.1111111111111111,
              "#46039f"
             ],
             [
              0.2222222222222222,
              "#7201a8"
             ],
             [
              0.3333333333333333,
              "#9c179e"
             ],
             [
              0.4444444444444444,
              "#bd3786"
             ],
             [
              0.5555555555555556,
              "#d8576b"
             ],
             [
              0.6666666666666666,
              "#ed7953"
             ],
             [
              0.7777777777777778,
              "#fb9f3a"
             ],
             [
              0.8888888888888888,
              "#fdca26"
             ],
             [
              1,
              "#f0f921"
             ]
            ],
            "type": "histogram2dcontour"
           }
          ],
          "mesh3d": [
           {
            "colorbar": {
             "outlinewidth": 0,
             "ticks": ""
            },
            "type": "mesh3d"
           }
          ],
          "parcoords": [
           {
            "line": {
             "colorbar": {
              "outlinewidth": 0,
              "ticks": ""
             }
            },
            "type": "parcoords"
           }
          ],
          "pie": [
           {
            "automargin": true,
            "type": "pie"
           }
          ],
          "scatter": [
           {
            "fillpattern": {
             "fillmode": "overlay",
             "size": 10,
             "solidity": 0.2
            },
            "type": "scatter"
           }
          ],
          "scatter3d": [
           {
            "line": {
             "colorbar": {
              "outlinewidth": 0,
              "ticks": ""
             }
            },
            "marker": {
             "colorbar": {
              "outlinewidth": 0,
              "ticks": ""
             }
            },
            "type": "scatter3d"
           }
          ],
          "scattercarpet": [
           {
            "marker": {
             "colorbar": {
              "outlinewidth": 0,
              "ticks": ""
             }
            },
            "type": "scattercarpet"
           }
          ],
          "scattergeo": [
           {
            "marker": {
             "colorbar": {
              "outlinewidth": 0,
              "ticks": ""
             }
            },
            "type": "scattergeo"
           }
          ],
          "scattergl": [
           {
            "marker": {
             "colorbar": {
              "outlinewidth": 0,
              "ticks": ""
             }
            },
            "type": "scattergl"
           }
          ],
          "scattermap": [
           {
            "marker": {
             "colorbar": {
              "outlinewidth": 0,
              "ticks": ""
             }
            },
            "type": "scattermap"
           }
          ],
          "scattermapbox": [
           {
            "marker": {
             "colorbar": {
              "outlinewidth": 0,
              "ticks": ""
             }
            },
            "type": "scattermapbox"
           }
          ],
          "scatterpolar": [
           {
            "marker": {
             "colorbar": {
              "outlinewidth": 0,
              "ticks": ""
             }
            },
            "type": "scatterpolar"
           }
          ],
          "scatterpolargl": [
           {
            "marker": {
             "colorbar": {
              "outlinewidth": 0,
              "ticks": ""
             }
            },
            "type": "scatterpolargl"
           }
          ],
          "scatterternary": [
           {
            "marker": {
             "colorbar": {
              "outlinewidth": 0,
              "ticks": ""
             }
            },
            "type": "scatterternary"
           }
          ],
          "surface": [
           {
            "colorbar": {
             "outlinewidth": 0,
             "ticks": ""
            },
            "colorscale": [
             [
              0,
              "#0d0887"
             ],
             [
              0.1111111111111111,
              "#46039f"
             ],
             [
              0.2222222222222222,
              "#7201a8"
             ],
             [
              0.3333333333333333,
              "#9c179e"
             ],
             [
              0.4444444444444444,
              "#bd3786"
             ],
             [
              0.5555555555555556,
              "#d8576b"
             ],
             [
              0.6666666666666666,
              "#ed7953"
             ],
             [
              0.7777777777777778,
              "#fb9f3a"
             ],
             [
              0.8888888888888888,
              "#fdca26"
             ],
             [
              1,
              "#f0f921"
             ]
            ],
            "type": "surface"
           }
          ],
          "table": [
           {
            "cells": {
             "fill": {
              "color": "#EBF0F8"
             },
             "line": {
              "color": "white"
             }
            },
            "header": {
             "fill": {
              "color": "#C8D4E3"
             },
             "line": {
              "color": "white"
             }
            },
            "type": "table"
           }
          ]
         },
         "layout": {
          "annotationdefaults": {
           "arrowcolor": "#2a3f5f",
           "arrowhead": 0,
           "arrowwidth": 1
          },
          "autotypenumbers": "strict",
          "coloraxis": {
           "colorbar": {
            "outlinewidth": 0,
            "ticks": ""
           }
          },
          "colorscale": {
           "diverging": [
            [
             0,
             "#8e0152"
            ],
            [
             0.1,
             "#c51b7d"
            ],
            [
             0.2,
             "#de77ae"
            ],
            [
             0.3,
             "#f1b6da"
            ],
            [
             0.4,
             "#fde0ef"
            ],
            [
             0.5,
             "#f7f7f7"
            ],
            [
             0.6,
             "#e6f5d0"
            ],
            [
             0.7,
             "#b8e186"
            ],
            [
             0.8,
             "#7fbc41"
            ],
            [
             0.9,
             "#4d9221"
            ],
            [
             1,
             "#276419"
            ]
           ],
           "sequential": [
            [
             0,
             "#0d0887"
            ],
            [
             0.1111111111111111,
             "#46039f"
            ],
            [
             0.2222222222222222,
             "#7201a8"
            ],
            [
             0.3333333333333333,
             "#9c179e"
            ],
            [
             0.4444444444444444,
             "#bd3786"
            ],
            [
             0.5555555555555556,
             "#d8576b"
            ],
            [
             0.6666666666666666,
             "#ed7953"
            ],
            [
             0.7777777777777778,
             "#fb9f3a"
            ],
            [
             0.8888888888888888,
             "#fdca26"
            ],
            [
             1,
             "#f0f921"
            ]
           ],
           "sequentialminus": [
            [
             0,
             "#0d0887"
            ],
            [
             0.1111111111111111,
             "#46039f"
            ],
            [
             0.2222222222222222,
             "#7201a8"
            ],
            [
             0.3333333333333333,
             "#9c179e"
            ],
            [
             0.4444444444444444,
             "#bd3786"
            ],
            [
             0.5555555555555556,
             "#d8576b"
            ],
            [
             0.6666666666666666,
             "#ed7953"
            ],
            [
             0.7777777777777778,
             "#fb9f3a"
            ],
            [
             0.8888888888888888,
             "#fdca26"
            ],
            [
             1,
             "#f0f921"
            ]
           ]
          },
          "colorway": [
           "#636efa",
           "#EF553B",
           "#00cc96",
           "#ab63fa",
           "#FFA15A",
           "#19d3f3",
           "#FF6692",
           "#B6E880",
           "#FF97FF",
           "#FECB52"
          ],
          "font": {
           "color": "#2a3f5f"
          },
          "geo": {
           "bgcolor": "white",
           "lakecolor": "white",
           "landcolor": "#E5ECF6",
           "showlakes": true,
           "showland": true,
           "subunitcolor": "white"
          },
          "hoverlabel": {
           "align": "left"
          },
          "hovermode": "closest",
          "mapbox": {
           "style": "light"
          },
          "paper_bgcolor": "white",
          "plot_bgcolor": "#E5ECF6",
          "polar": {
           "angularaxis": {
            "gridcolor": "white",
            "linecolor": "white",
            "ticks": ""
           },
           "bgcolor": "#E5ECF6",
           "radialaxis": {
            "gridcolor": "white",
            "linecolor": "white",
            "ticks": ""
           }
          },
          "scene": {
           "xaxis": {
            "backgroundcolor": "#E5ECF6",
            "gridcolor": "white",
            "gridwidth": 2,
            "linecolor": "white",
            "showbackground": true,
            "ticks": "",
            "zerolinecolor": "white"
           },
           "yaxis": {
            "backgroundcolor": "#E5ECF6",
            "gridcolor": "white",
            "gridwidth": 2,
            "linecolor": "white",
            "showbackground": true,
            "ticks": "",
            "zerolinecolor": "white"
           },
           "zaxis": {
            "backgroundcolor": "#E5ECF6",
            "gridcolor": "white",
            "gridwidth": 2,
            "linecolor": "white",
            "showbackground": true,
            "ticks": "",
            "zerolinecolor": "white"
           }
          },
          "shapedefaults": {
           "line": {
            "color": "#2a3f5f"
           }
          },
          "ternary": {
           "aaxis": {
            "gridcolor": "white",
            "linecolor": "white",
            "ticks": ""
           },
           "baxis": {
            "gridcolor": "white",
            "linecolor": "white",
            "ticks": ""
           },
           "bgcolor": "#E5ECF6",
           "caxis": {
            "gridcolor": "white",
            "linecolor": "white",
            "ticks": ""
           }
          },
          "title": {
           "x": 0.05
          },
          "xaxis": {
           "automargin": true,
           "gridcolor": "white",
           "linecolor": "white",
           "ticks": "",
           "title": {
            "standoff": 15
           },
           "zerolinecolor": "white",
           "zerolinewidth": 2
          },
          "yaxis": {
           "automargin": true,
           "gridcolor": "white",
           "linecolor": "white",
           "ticks": "",
           "title": {
            "standoff": 15
           },
           "zerolinecolor": "white",
           "zerolinewidth": 2
          }
         }
        },
        "title": {
         "font": {
          "color": "black",
          "family": "Arial",
          "size": 20,
          "weight": "bold"
         },
         "text": "Netflix Distribution: Movies vs Shows",
         "x": 0.5
        }
       }
      }
     },
     "metadata": {},
     "output_type": "display_data"
    }
   ],
   "source": [
    "fig_type = px.pie(distrubuttion, names='type', values='show_id', title='Netflix Distribution: Movies vs Shows',color_discrete_map = {'Movie': 'red', 'TV Show': '#000000'},color='type') # solid black\n",
    "fig_type.update_layout(title={'text': 'Netflix Distribution: Movies vs Shows', 'x': 0.5,'font': {'size': 20, 'color': 'black','family': 'Arial','weight': 'bold' }})\n",
    "fig_type.update_traces(textfont=dict(family='Arial', size=14, color='white'),textinfo='label+percent+value') \n",
    "fig_type.show()\n"
   ]
  },
  {
   "cell_type": "code",
   "execution_count": 149,
   "id": "ef44f1a2",
   "metadata": {},
   "outputs": [
    {
     "data": {
      "application/vnd.microsoft.datawrangler.viewer.v0+json": {
       "columns": [
        {
         "name": "index",
         "rawType": "int64",
         "type": "integer"
        },
        {
         "name": "category",
         "rawType": "object",
         "type": "string"
        },
        {
         "name": "show_id",
         "rawType": "int64",
         "type": "integer"
        }
       ],
       "ref": "9e626adf-707f-4a78-ad8f-4afac42c4654",
       "rows": [
        [
         "0",
         "Action & Adventure",
         "1182"
        ],
        [
         "1",
         "Anime Features",
         "78"
        ],
        [
         "2",
         "Anime Series",
         "190"
        ],
        [
         "3",
         "British TV Shows",
         "305"
        ],
        [
         "4",
         "Children & Family Movies",
         "845"
        ]
       ],
       "shape": {
        "columns": 2,
        "rows": 5
       }
      },
      "text/html": [
       "<div>\n",
       "<style scoped>\n",
       "    .dataframe tbody tr th:only-of-type {\n",
       "        vertical-align: middle;\n",
       "    }\n",
       "\n",
       "    .dataframe tbody tr th {\n",
       "        vertical-align: top;\n",
       "    }\n",
       "\n",
       "    .dataframe thead th {\n",
       "        text-align: right;\n",
       "    }\n",
       "</style>\n",
       "<table border=\"1\" class=\"dataframe\">\n",
       "  <thead>\n",
       "    <tr style=\"text-align: right;\">\n",
       "      <th></th>\n",
       "      <th>category</th>\n",
       "      <th>show_id</th>\n",
       "    </tr>\n",
       "  </thead>\n",
       "  <tbody>\n",
       "    <tr>\n",
       "      <th>0</th>\n",
       "      <td>Action &amp; Adventure</td>\n",
       "      <td>1182</td>\n",
       "    </tr>\n",
       "    <tr>\n",
       "      <th>1</th>\n",
       "      <td>Anime Features</td>\n",
       "      <td>78</td>\n",
       "    </tr>\n",
       "    <tr>\n",
       "      <th>2</th>\n",
       "      <td>Anime Series</td>\n",
       "      <td>190</td>\n",
       "    </tr>\n",
       "    <tr>\n",
       "      <th>3</th>\n",
       "      <td>British TV Shows</td>\n",
       "      <td>305</td>\n",
       "    </tr>\n",
       "    <tr>\n",
       "      <th>4</th>\n",
       "      <td>Children &amp; Family Movies</td>\n",
       "      <td>845</td>\n",
       "    </tr>\n",
       "  </tbody>\n",
       "</table>\n",
       "</div>"
      ],
      "text/plain": [
       "                   category  show_id\n",
       "0        Action & Adventure     1182\n",
       "1            Anime Features       78\n",
       "2              Anime Series      190\n",
       "3          British TV Shows      305\n",
       "4  Children & Family Movies      845"
      ]
     },
     "execution_count": 149,
     "metadata": {},
     "output_type": "execute_result"
    }
   ],
   "source": [
    "genres=df.groupby('category')['show_id'].count().reset_index().head()\n",
    "genres"
   ]
  },
  {
   "cell_type": "code",
   "execution_count": 150,
   "id": "626d4660",
   "metadata": {},
   "outputs": [
    {
     "data": {
      "application/vnd.plotly.v1+json": {
       "config": {
        "plotlyServerURL": "https://plot.ly"
       },
       "data": [
        {
         "hovertemplate": "category=%{x}<br>show_id=%{y}<extra></extra>",
         "legendgroup": "",
         "marker": {
          "color": "red",
          "pattern": {
           "shape": ""
          }
         },
         "name": "",
         "orientation": "v",
         "showlegend": false,
         "textposition": "auto",
         "texttemplate": "%{y}",
         "type": "bar",
         "x": [
          "Action & Adventure",
          "Children & Family Movies",
          "British TV Shows",
          "Anime Series",
          "Anime Features"
         ],
         "xaxis": "x",
         "y": {
          "bdata": "ngRNAzEBvgBOAA==",
          "dtype": "i2"
         },
         "yaxis": "y"
        }
       ],
       "layout": {
        "barmode": "relative",
        "legend": {
         "tracegroupgap": 0
        },
        "template": {
         "data": {
          "bar": [
           {
            "error_x": {
             "color": "#2a3f5f"
            },
            "error_y": {
             "color": "#2a3f5f"
            },
            "marker": {
             "line": {
              "color": "#E5ECF6",
              "width": 0.5
             },
             "pattern": {
              "fillmode": "overlay",
              "size": 10,
              "solidity": 0.2
             }
            },
            "type": "bar"
           }
          ],
          "barpolar": [
           {
            "marker": {
             "line": {
              "color": "#E5ECF6",
              "width": 0.5
             },
             "pattern": {
              "fillmode": "overlay",
              "size": 10,
              "solidity": 0.2
             }
            },
            "type": "barpolar"
           }
          ],
          "carpet": [
           {
            "aaxis": {
             "endlinecolor": "#2a3f5f",
             "gridcolor": "white",
             "linecolor": "white",
             "minorgridcolor": "white",
             "startlinecolor": "#2a3f5f"
            },
            "baxis": {
             "endlinecolor": "#2a3f5f",
             "gridcolor": "white",
             "linecolor": "white",
             "minorgridcolor": "white",
             "startlinecolor": "#2a3f5f"
            },
            "type": "carpet"
           }
          ],
          "choropleth": [
           {
            "colorbar": {
             "outlinewidth": 0,
             "ticks": ""
            },
            "type": "choropleth"
           }
          ],
          "contour": [
           {
            "colorbar": {
             "outlinewidth": 0,
             "ticks": ""
            },
            "colorscale": [
             [
              0,
              "#0d0887"
             ],
             [
              0.1111111111111111,
              "#46039f"
             ],
             [
              0.2222222222222222,
              "#7201a8"
             ],
             [
              0.3333333333333333,
              "#9c179e"
             ],
             [
              0.4444444444444444,
              "#bd3786"
             ],
             [
              0.5555555555555556,
              "#d8576b"
             ],
             [
              0.6666666666666666,
              "#ed7953"
             ],
             [
              0.7777777777777778,
              "#fb9f3a"
             ],
             [
              0.8888888888888888,
              "#fdca26"
             ],
             [
              1,
              "#f0f921"
             ]
            ],
            "type": "contour"
           }
          ],
          "contourcarpet": [
           {
            "colorbar": {
             "outlinewidth": 0,
             "ticks": ""
            },
            "type": "contourcarpet"
           }
          ],
          "heatmap": [
           {
            "colorbar": {
             "outlinewidth": 0,
             "ticks": ""
            },
            "colorscale": [
             [
              0,
              "#0d0887"
             ],
             [
              0.1111111111111111,
              "#46039f"
             ],
             [
              0.2222222222222222,
              "#7201a8"
             ],
             [
              0.3333333333333333,
              "#9c179e"
             ],
             [
              0.4444444444444444,
              "#bd3786"
             ],
             [
              0.5555555555555556,
              "#d8576b"
             ],
             [
              0.6666666666666666,
              "#ed7953"
             ],
             [
              0.7777777777777778,
              "#fb9f3a"
             ],
             [
              0.8888888888888888,
              "#fdca26"
             ],
             [
              1,
              "#f0f921"
             ]
            ],
            "type": "heatmap"
           }
          ],
          "histogram": [
           {
            "marker": {
             "pattern": {
              "fillmode": "overlay",
              "size": 10,
              "solidity": 0.2
             }
            },
            "type": "histogram"
           }
          ],
          "histogram2d": [
           {
            "colorbar": {
             "outlinewidth": 0,
             "ticks": ""
            },
            "colorscale": [
             [
              0,
              "#0d0887"
             ],
             [
              0.1111111111111111,
              "#46039f"
             ],
             [
              0.2222222222222222,
              "#7201a8"
             ],
             [
              0.3333333333333333,
              "#9c179e"
             ],
             [
              0.4444444444444444,
              "#bd3786"
             ],
             [
              0.5555555555555556,
              "#d8576b"
             ],
             [
              0.6666666666666666,
              "#ed7953"
             ],
             [
              0.7777777777777778,
              "#fb9f3a"
             ],
             [
              0.8888888888888888,
              "#fdca26"
             ],
             [
              1,
              "#f0f921"
             ]
            ],
            "type": "histogram2d"
           }
          ],
          "histogram2dcontour": [
           {
            "colorbar": {
             "outlinewidth": 0,
             "ticks": ""
            },
            "colorscale": [
             [
              0,
              "#0d0887"
             ],
             [
              0.1111111111111111,
              "#46039f"
             ],
             [
              0.2222222222222222,
              "#7201a8"
             ],
             [
              0.3333333333333333,
              "#9c179e"
             ],
             [
              0.4444444444444444,
              "#bd3786"
             ],
             [
              0.5555555555555556,
              "#d8576b"
             ],
             [
              0.6666666666666666,
              "#ed7953"
             ],
             [
              0.7777777777777778,
              "#fb9f3a"
             ],
             [
              0.8888888888888888,
              "#fdca26"
             ],
             [
              1,
              "#f0f921"
             ]
            ],
            "type": "histogram2dcontour"
           }
          ],
          "mesh3d": [
           {
            "colorbar": {
             "outlinewidth": 0,
             "ticks": ""
            },
            "type": "mesh3d"
           }
          ],
          "parcoords": [
           {
            "line": {
             "colorbar": {
              "outlinewidth": 0,
              "ticks": ""
             }
            },
            "type": "parcoords"
           }
          ],
          "pie": [
           {
            "automargin": true,
            "type": "pie"
           }
          ],
          "scatter": [
           {
            "fillpattern": {
             "fillmode": "overlay",
             "size": 10,
             "solidity": 0.2
            },
            "type": "scatter"
           }
          ],
          "scatter3d": [
           {
            "line": {
             "colorbar": {
              "outlinewidth": 0,
              "ticks": ""
             }
            },
            "marker": {
             "colorbar": {
              "outlinewidth": 0,
              "ticks": ""
             }
            },
            "type": "scatter3d"
           }
          ],
          "scattercarpet": [
           {
            "marker": {
             "colorbar": {
              "outlinewidth": 0,
              "ticks": ""
             }
            },
            "type": "scattercarpet"
           }
          ],
          "scattergeo": [
           {
            "marker": {
             "colorbar": {
              "outlinewidth": 0,
              "ticks": ""
             }
            },
            "type": "scattergeo"
           }
          ],
          "scattergl": [
           {
            "marker": {
             "colorbar": {
              "outlinewidth": 0,
              "ticks": ""
             }
            },
            "type": "scattergl"
           }
          ],
          "scattermap": [
           {
            "marker": {
             "colorbar": {
              "outlinewidth": 0,
              "ticks": ""
             }
            },
            "type": "scattermap"
           }
          ],
          "scattermapbox": [
           {
            "marker": {
             "colorbar": {
              "outlinewidth": 0,
              "ticks": ""
             }
            },
            "type": "scattermapbox"
           }
          ],
          "scatterpolar": [
           {
            "marker": {
             "colorbar": {
              "outlinewidth": 0,
              "ticks": ""
             }
            },
            "type": "scatterpolar"
           }
          ],
          "scatterpolargl": [
           {
            "marker": {
             "colorbar": {
              "outlinewidth": 0,
              "ticks": ""
             }
            },
            "type": "scatterpolargl"
           }
          ],
          "scatterternary": [
           {
            "marker": {
             "colorbar": {
              "outlinewidth": 0,
              "ticks": ""
             }
            },
            "type": "scatterternary"
           }
          ],
          "surface": [
           {
            "colorbar": {
             "outlinewidth": 0,
             "ticks": ""
            },
            "colorscale": [
             [
              0,
              "#0d0887"
             ],
             [
              0.1111111111111111,
              "#46039f"
             ],
             [
              0.2222222222222222,
              "#7201a8"
             ],
             [
              0.3333333333333333,
              "#9c179e"
             ],
             [
              0.4444444444444444,
              "#bd3786"
             ],
             [
              0.5555555555555556,
              "#d8576b"
             ],
             [
              0.6666666666666666,
              "#ed7953"
             ],
             [
              0.7777777777777778,
              "#fb9f3a"
             ],
             [
              0.8888888888888888,
              "#fdca26"
             ],
             [
              1,
              "#f0f921"
             ]
            ],
            "type": "surface"
           }
          ],
          "table": [
           {
            "cells": {
             "fill": {
              "color": "#EBF0F8"
             },
             "line": {
              "color": "white"
             }
            },
            "header": {
             "fill": {
              "color": "#C8D4E3"
             },
             "line": {
              "color": "white"
             }
            },
            "type": "table"
           }
          ]
         },
         "layout": {
          "annotationdefaults": {
           "arrowcolor": "#2a3f5f",
           "arrowhead": 0,
           "arrowwidth": 1
          },
          "autotypenumbers": "strict",
          "coloraxis": {
           "colorbar": {
            "outlinewidth": 0,
            "ticks": ""
           }
          },
          "colorscale": {
           "diverging": [
            [
             0,
             "#8e0152"
            ],
            [
             0.1,
             "#c51b7d"
            ],
            [
             0.2,
             "#de77ae"
            ],
            [
             0.3,
             "#f1b6da"
            ],
            [
             0.4,
             "#fde0ef"
            ],
            [
             0.5,
             "#f7f7f7"
            ],
            [
             0.6,
             "#e6f5d0"
            ],
            [
             0.7,
             "#b8e186"
            ],
            [
             0.8,
             "#7fbc41"
            ],
            [
             0.9,
             "#4d9221"
            ],
            [
             1,
             "#276419"
            ]
           ],
           "sequential": [
            [
             0,
             "#0d0887"
            ],
            [
             0.1111111111111111,
             "#46039f"
            ],
            [
             0.2222222222222222,
             "#7201a8"
            ],
            [
             0.3333333333333333,
             "#9c179e"
            ],
            [
             0.4444444444444444,
             "#bd3786"
            ],
            [
             0.5555555555555556,
             "#d8576b"
            ],
            [
             0.6666666666666666,
             "#ed7953"
            ],
            [
             0.7777777777777778,
             "#fb9f3a"
            ],
            [
             0.8888888888888888,
             "#fdca26"
            ],
            [
             1,
             "#f0f921"
            ]
           ],
           "sequentialminus": [
            [
             0,
             "#0d0887"
            ],
            [
             0.1111111111111111,
             "#46039f"
            ],
            [
             0.2222222222222222,
             "#7201a8"
            ],
            [
             0.3333333333333333,
             "#9c179e"
            ],
            [
             0.4444444444444444,
             "#bd3786"
            ],
            [
             0.5555555555555556,
             "#d8576b"
            ],
            [
             0.6666666666666666,
             "#ed7953"
            ],
            [
             0.7777777777777778,
             "#fb9f3a"
            ],
            [
             0.8888888888888888,
             "#fdca26"
            ],
            [
             1,
             "#f0f921"
            ]
           ]
          },
          "colorway": [
           "#636efa",
           "#EF553B",
           "#00cc96",
           "#ab63fa",
           "#FFA15A",
           "#19d3f3",
           "#FF6692",
           "#B6E880",
           "#FF97FF",
           "#FECB52"
          ],
          "font": {
           "color": "#2a3f5f"
          },
          "geo": {
           "bgcolor": "white",
           "lakecolor": "white",
           "landcolor": "#E5ECF6",
           "showlakes": true,
           "showland": true,
           "subunitcolor": "white"
          },
          "hoverlabel": {
           "align": "left"
          },
          "hovermode": "closest",
          "mapbox": {
           "style": "light"
          },
          "paper_bgcolor": "white",
          "plot_bgcolor": "#E5ECF6",
          "polar": {
           "angularaxis": {
            "gridcolor": "white",
            "linecolor": "white",
            "ticks": ""
           },
           "bgcolor": "#E5ECF6",
           "radialaxis": {
            "gridcolor": "white",
            "linecolor": "white",
            "ticks": ""
           }
          },
          "scene": {
           "xaxis": {
            "backgroundcolor": "#E5ECF6",
            "gridcolor": "white",
            "gridwidth": 2,
            "linecolor": "white",
            "showbackground": true,
            "ticks": "",
            "zerolinecolor": "white"
           },
           "yaxis": {
            "backgroundcolor": "#E5ECF6",
            "gridcolor": "white",
            "gridwidth": 2,
            "linecolor": "white",
            "showbackground": true,
            "ticks": "",
            "zerolinecolor": "white"
           },
           "zaxis": {
            "backgroundcolor": "#E5ECF6",
            "gridcolor": "white",
            "gridwidth": 2,
            "linecolor": "white",
            "showbackground": true,
            "ticks": "",
            "zerolinecolor": "white"
           }
          },
          "shapedefaults": {
           "line": {
            "color": "#2a3f5f"
           }
          },
          "ternary": {
           "aaxis": {
            "gridcolor": "white",
            "linecolor": "white",
            "ticks": ""
           },
           "baxis": {
            "gridcolor": "white",
            "linecolor": "white",
            "ticks": ""
           },
           "bgcolor": "#E5ECF6",
           "caxis": {
            "gridcolor": "white",
            "linecolor": "white",
            "ticks": ""
           }
          },
          "title": {
           "x": 0.05
          },
          "xaxis": {
           "automargin": true,
           "gridcolor": "white",
           "linecolor": "white",
           "ticks": "",
           "title": {
            "standoff": 15
           },
           "zerolinecolor": "white",
           "zerolinewidth": 2
          },
          "yaxis": {
           "automargin": true,
           "gridcolor": "white",
           "linecolor": "white",
           "ticks": "",
           "title": {
            "standoff": 15
           },
           "zerolinecolor": "white",
           "zerolinewidth": 2
          }
         }
        },
        "title": {
         "font": {
          "color": "black",
          "family": "Arial",
          "size": 20,
          "weight": "bold"
         },
         "text": "10 Top  Common  Genre",
         "x": 0.5
        },
        "xaxis": {
         "anchor": "y",
         "domain": [
          0,
          1
         ],
         "tickfont": {
          "family": "arial",
          "size": 14,
          "weight": "bold"
         },
         "title": {
          "font": {
           "color": "black",
           "family": "Arial",
           "size": 14,
           "weight": "bold"
          },
          "text": "categpry"
         }
        },
        "yaxis": {
         "anchor": "x",
         "domain": [
          0,
          1
         ],
         "tickfont": {
          "family": "arial",
          "size": 14,
          "weight": "bold"
         },
         "title": {
          "font": {
           "color": "black",
           "family": "Arial",
           "size": 14,
           "weight": "bold"
          },
          "text": "Count of genre"
         }
        }
       }
      }
     },
     "metadata": {},
     "output_type": "display_data"
    }
   ],
   "source": [
    "genres=df.groupby('category')['show_id'].count().reset_index().head()\n",
    "genres.sort_values(by='show_id',ascending=False,inplace=True)\n",
    "\n",
    "fig = px.bar(genres,x='category',y='show_id',title='10 Top  Common  Genre',text_auto=True, color_discrete_sequence=['red'])\n",
    "fig.update_layout(yaxis_title='Count of genre')\n",
    "fig.update_layout(title={'x': 0.5, 'font': {'size': 20, 'color': 'black', 'family': 'Arial','weight':'bold'}},)\n",
    "fig.update_layout(xaxis_title={'text': 'categpry','font': {'size': 14,'color': 'black','family': 'Arial','weight': 'bold'}})\n",
    "fig.update_layout(yaxis_title={'text': 'Count of genre','font': {'size': 14,'color': 'black','family': 'Arial','weight': 'bold'}})\n",
    "fig.update_yaxes(tickfont=dict(family='arial',weight='bold',size=14))\n",
    "fig.update_xaxes(tickfont=dict(family='arial',weight='bold',size=14))\n",
    "\n",
    "fig.show()"
   ]
  },
  {
   "cell_type": "code",
   "execution_count": 151,
   "id": "428b9082",
   "metadata": {},
   "outputs": [],
   "source": [
    "countries = df.groupby('new')['show_id'].count().reset_index()\n",
    "countries.sort_values(by='show_id', ascending=False, inplace=True)\n",
    "countries = countries.head(10)\n"
   ]
  },
  {
   "cell_type": "code",
   "execution_count": 152,
   "id": "5974f8df",
   "metadata": {},
   "outputs": [
    {
     "data": {
      "application/vnd.plotly.v1+json": {
       "config": {
        "plotlyServerURL": "https://plot.ly"
       },
       "data": [
        {
         "hovertemplate": "new=%{x}<br>show_id=%{y}<extra></extra>",
         "legendgroup": "",
         "marker": {
          "color": "red",
          "pattern": {
           "shape": ""
          }
         },
         "name": "",
         "orientation": "v",
         "showlegend": false,
         "textposition": "auto",
         "texttemplate": "%{y}",
         "type": "bar",
         "x": [
          "United States",
          "India",
          "United Kingdom",
          "Not identified",
          "France",
          "Canada",
          "Japan",
          "South Korea",
          "Spain",
          "Germany"
         ],
         "xaxis": "x",
         "y": {
          "bdata": "bRr0CvQGuAaUA20D2QJ4Ak8C/wE=",
          "dtype": "i2"
         },
         "yaxis": "y"
        }
       ],
       "layout": {
        "barmode": "relative",
        "legend": {
         "tracegroupgap": 0
        },
        "template": {
         "data": {
          "bar": [
           {
            "error_x": {
             "color": "#2a3f5f"
            },
            "error_y": {
             "color": "#2a3f5f"
            },
            "marker": {
             "line": {
              "color": "#E5ECF6",
              "width": 0.5
             },
             "pattern": {
              "fillmode": "overlay",
              "size": 10,
              "solidity": 0.2
             }
            },
            "type": "bar"
           }
          ],
          "barpolar": [
           {
            "marker": {
             "line": {
              "color": "#E5ECF6",
              "width": 0.5
             },
             "pattern": {
              "fillmode": "overlay",
              "size": 10,
              "solidity": 0.2
             }
            },
            "type": "barpolar"
           }
          ],
          "carpet": [
           {
            "aaxis": {
             "endlinecolor": "#2a3f5f",
             "gridcolor": "white",
             "linecolor": "white",
             "minorgridcolor": "white",
             "startlinecolor": "#2a3f5f"
            },
            "baxis": {
             "endlinecolor": "#2a3f5f",
             "gridcolor": "white",
             "linecolor": "white",
             "minorgridcolor": "white",
             "startlinecolor": "#2a3f5f"
            },
            "type": "carpet"
           }
          ],
          "choropleth": [
           {
            "colorbar": {
             "outlinewidth": 0,
             "ticks": ""
            },
            "type": "choropleth"
           }
          ],
          "contour": [
           {
            "colorbar": {
             "outlinewidth": 0,
             "ticks": ""
            },
            "colorscale": [
             [
              0,
              "#0d0887"
             ],
             [
              0.1111111111111111,
              "#46039f"
             ],
             [
              0.2222222222222222,
              "#7201a8"
             ],
             [
              0.3333333333333333,
              "#9c179e"
             ],
             [
              0.4444444444444444,
              "#bd3786"
             ],
             [
              0.5555555555555556,
              "#d8576b"
             ],
             [
              0.6666666666666666,
              "#ed7953"
             ],
             [
              0.7777777777777778,
              "#fb9f3a"
             ],
             [
              0.8888888888888888,
              "#fdca26"
             ],
             [
              1,
              "#f0f921"
             ]
            ],
            "type": "contour"
           }
          ],
          "contourcarpet": [
           {
            "colorbar": {
             "outlinewidth": 0,
             "ticks": ""
            },
            "type": "contourcarpet"
           }
          ],
          "heatmap": [
           {
            "colorbar": {
             "outlinewidth": 0,
             "ticks": ""
            },
            "colorscale": [
             [
              0,
              "#0d0887"
             ],
             [
              0.1111111111111111,
              "#46039f"
             ],
             [
              0.2222222222222222,
              "#7201a8"
             ],
             [
              0.3333333333333333,
              "#9c179e"
             ],
             [
              0.4444444444444444,
              "#bd3786"
             ],
             [
              0.5555555555555556,
              "#d8576b"
             ],
             [
              0.6666666666666666,
              "#ed7953"
             ],
             [
              0.7777777777777778,
              "#fb9f3a"
             ],
             [
              0.8888888888888888,
              "#fdca26"
             ],
             [
              1,
              "#f0f921"
             ]
            ],
            "type": "heatmap"
           }
          ],
          "histogram": [
           {
            "marker": {
             "pattern": {
              "fillmode": "overlay",
              "size": 10,
              "solidity": 0.2
             }
            },
            "type": "histogram"
           }
          ],
          "histogram2d": [
           {
            "colorbar": {
             "outlinewidth": 0,
             "ticks": ""
            },
            "colorscale": [
             [
              0,
              "#0d0887"
             ],
             [
              0.1111111111111111,
              "#46039f"
             ],
             [
              0.2222222222222222,
              "#7201a8"
             ],
             [
              0.3333333333333333,
              "#9c179e"
             ],
             [
              0.4444444444444444,
              "#bd3786"
             ],
             [
              0.5555555555555556,
              "#d8576b"
             ],
             [
              0.6666666666666666,
              "#ed7953"
             ],
             [
              0.7777777777777778,
              "#fb9f3a"
             ],
             [
              0.8888888888888888,
              "#fdca26"
             ],
             [
              1,
              "#f0f921"
             ]
            ],
            "type": "histogram2d"
           }
          ],
          "histogram2dcontour": [
           {
            "colorbar": {
             "outlinewidth": 0,
             "ticks": ""
            },
            "colorscale": [
             [
              0,
              "#0d0887"
             ],
             [
              0.1111111111111111,
              "#46039f"
             ],
             [
              0.2222222222222222,
              "#7201a8"
             ],
             [
              0.3333333333333333,
              "#9c179e"
             ],
             [
              0.4444444444444444,
              "#bd3786"
             ],
             [
              0.5555555555555556,
              "#d8576b"
             ],
             [
              0.6666666666666666,
              "#ed7953"
             ],
             [
              0.7777777777777778,
              "#fb9f3a"
             ],
             [
              0.8888888888888888,
              "#fdca26"
             ],
             [
              1,
              "#f0f921"
             ]
            ],
            "type": "histogram2dcontour"
           }
          ],
          "mesh3d": [
           {
            "colorbar": {
             "outlinewidth": 0,
             "ticks": ""
            },
            "type": "mesh3d"
           }
          ],
          "parcoords": [
           {
            "line": {
             "colorbar": {
              "outlinewidth": 0,
              "ticks": ""
             }
            },
            "type": "parcoords"
           }
          ],
          "pie": [
           {
            "automargin": true,
            "type": "pie"
           }
          ],
          "scatter": [
           {
            "fillpattern": {
             "fillmode": "overlay",
             "size": 10,
             "solidity": 0.2
            },
            "type": "scatter"
           }
          ],
          "scatter3d": [
           {
            "line": {
             "colorbar": {
              "outlinewidth": 0,
              "ticks": ""
             }
            },
            "marker": {
             "colorbar": {
              "outlinewidth": 0,
              "ticks": ""
             }
            },
            "type": "scatter3d"
           }
          ],
          "scattercarpet": [
           {
            "marker": {
             "colorbar": {
              "outlinewidth": 0,
              "ticks": ""
             }
            },
            "type": "scattercarpet"
           }
          ],
          "scattergeo": [
           {
            "marker": {
             "colorbar": {
              "outlinewidth": 0,
              "ticks": ""
             }
            },
            "type": "scattergeo"
           }
          ],
          "scattergl": [
           {
            "marker": {
             "colorbar": {
              "outlinewidth": 0,
              "ticks": ""
             }
            },
            "type": "scattergl"
           }
          ],
          "scattermap": [
           {
            "marker": {
             "colorbar": {
              "outlinewidth": 0,
              "ticks": ""
             }
            },
            "type": "scattermap"
           }
          ],
          "scattermapbox": [
           {
            "marker": {
             "colorbar": {
              "outlinewidth": 0,
              "ticks": ""
             }
            },
            "type": "scattermapbox"
           }
          ],
          "scatterpolar": [
           {
            "marker": {
             "colorbar": {
              "outlinewidth": 0,
              "ticks": ""
             }
            },
            "type": "scatterpolar"
           }
          ],
          "scatterpolargl": [
           {
            "marker": {
             "colorbar": {
              "outlinewidth": 0,
              "ticks": ""
             }
            },
            "type": "scatterpolargl"
           }
          ],
          "scatterternary": [
           {
            "marker": {
             "colorbar": {
              "outlinewidth": 0,
              "ticks": ""
             }
            },
            "type": "scatterternary"
           }
          ],
          "surface": [
           {
            "colorbar": {
             "outlinewidth": 0,
             "ticks": ""
            },
            "colorscale": [
             [
              0,
              "#0d0887"
             ],
             [
              0.1111111111111111,
              "#46039f"
             ],
             [
              0.2222222222222222,
              "#7201a8"
             ],
             [
              0.3333333333333333,
              "#9c179e"
             ],
             [
              0.4444444444444444,
              "#bd3786"
             ],
             [
              0.5555555555555556,
              "#d8576b"
             ],
             [
              0.6666666666666666,
              "#ed7953"
             ],
             [
              0.7777777777777778,
              "#fb9f3a"
             ],
             [
              0.8888888888888888,
              "#fdca26"
             ],
             [
              1,
              "#f0f921"
             ]
            ],
            "type": "surface"
           }
          ],
          "table": [
           {
            "cells": {
             "fill": {
              "color": "#EBF0F8"
             },
             "line": {
              "color": "white"
             }
            },
            "header": {
             "fill": {
              "color": "#C8D4E3"
             },
             "line": {
              "color": "white"
             }
            },
            "type": "table"
           }
          ]
         },
         "layout": {
          "annotationdefaults": {
           "arrowcolor": "#2a3f5f",
           "arrowhead": 0,
           "arrowwidth": 1
          },
          "autotypenumbers": "strict",
          "coloraxis": {
           "colorbar": {
            "outlinewidth": 0,
            "ticks": ""
           }
          },
          "colorscale": {
           "diverging": [
            [
             0,
             "#8e0152"
            ],
            [
             0.1,
             "#c51b7d"
            ],
            [
             0.2,
             "#de77ae"
            ],
            [
             0.3,
             "#f1b6da"
            ],
            [
             0.4,
             "#fde0ef"
            ],
            [
             0.5,
             "#f7f7f7"
            ],
            [
             0.6,
             "#e6f5d0"
            ],
            [
             0.7,
             "#b8e186"
            ],
            [
             0.8,
             "#7fbc41"
            ],
            [
             0.9,
             "#4d9221"
            ],
            [
             1,
             "#276419"
            ]
           ],
           "sequential": [
            [
             0,
             "#0d0887"
            ],
            [
             0.1111111111111111,
             "#46039f"
            ],
            [
             0.2222222222222222,
             "#7201a8"
            ],
            [
             0.3333333333333333,
             "#9c179e"
            ],
            [
             0.4444444444444444,
             "#bd3786"
            ],
            [
             0.5555555555555556,
             "#d8576b"
            ],
            [
             0.6666666666666666,
             "#ed7953"
            ],
            [
             0.7777777777777778,
             "#fb9f3a"
            ],
            [
             0.8888888888888888,
             "#fdca26"
            ],
            [
             1,
             "#f0f921"
            ]
           ],
           "sequentialminus": [
            [
             0,
             "#0d0887"
            ],
            [
             0.1111111111111111,
             "#46039f"
            ],
            [
             0.2222222222222222,
             "#7201a8"
            ],
            [
             0.3333333333333333,
             "#9c179e"
            ],
            [
             0.4444444444444444,
             "#bd3786"
            ],
            [
             0.5555555555555556,
             "#d8576b"
            ],
            [
             0.6666666666666666,
             "#ed7953"
            ],
            [
             0.7777777777777778,
             "#fb9f3a"
            ],
            [
             0.8888888888888888,
             "#fdca26"
            ],
            [
             1,
             "#f0f921"
            ]
           ]
          },
          "colorway": [
           "#636efa",
           "#EF553B",
           "#00cc96",
           "#ab63fa",
           "#FFA15A",
           "#19d3f3",
           "#FF6692",
           "#B6E880",
           "#FF97FF",
           "#FECB52"
          ],
          "font": {
           "color": "#2a3f5f"
          },
          "geo": {
           "bgcolor": "white",
           "lakecolor": "white",
           "landcolor": "#E5ECF6",
           "showlakes": true,
           "showland": true,
           "subunitcolor": "white"
          },
          "hoverlabel": {
           "align": "left"
          },
          "hovermode": "closest",
          "mapbox": {
           "style": "light"
          },
          "paper_bgcolor": "white",
          "plot_bgcolor": "#E5ECF6",
          "polar": {
           "angularaxis": {
            "gridcolor": "white",
            "linecolor": "white",
            "ticks": ""
           },
           "bgcolor": "#E5ECF6",
           "radialaxis": {
            "gridcolor": "white",
            "linecolor": "white",
            "ticks": ""
           }
          },
          "scene": {
           "xaxis": {
            "backgroundcolor": "#E5ECF6",
            "gridcolor": "white",
            "gridwidth": 2,
            "linecolor": "white",
            "showbackground": true,
            "ticks": "",
            "zerolinecolor": "white"
           },
           "yaxis": {
            "backgroundcolor": "#E5ECF6",
            "gridcolor": "white",
            "gridwidth": 2,
            "linecolor": "white",
            "showbackground": true,
            "ticks": "",
            "zerolinecolor": "white"
           },
           "zaxis": {
            "backgroundcolor": "#E5ECF6",
            "gridcolor": "white",
            "gridwidth": 2,
            "linecolor": "white",
            "showbackground": true,
            "ticks": "",
            "zerolinecolor": "white"
           }
          },
          "shapedefaults": {
           "line": {
            "color": "#2a3f5f"
           }
          },
          "ternary": {
           "aaxis": {
            "gridcolor": "white",
            "linecolor": "white",
            "ticks": ""
           },
           "baxis": {
            "gridcolor": "white",
            "linecolor": "white",
            "ticks": ""
           },
           "bgcolor": "#E5ECF6",
           "caxis": {
            "gridcolor": "white",
            "linecolor": "white",
            "ticks": ""
           }
          },
          "title": {
           "x": 0.05
          },
          "xaxis": {
           "automargin": true,
           "gridcolor": "white",
           "linecolor": "white",
           "ticks": "",
           "title": {
            "standoff": 15
           },
           "zerolinecolor": "white",
           "zerolinewidth": 2
          },
          "yaxis": {
           "automargin": true,
           "gridcolor": "white",
           "linecolor": "white",
           "ticks": "",
           "title": {
            "standoff": 15
           },
           "zerolinecolor": "white",
           "zerolinewidth": 2
          }
         }
        },
        "title": {
         "font": {
          "color": "black",
          "family": "Arial",
          "size": 20,
          "weight": "bold"
         },
         "text": "What are the top countries producing Netflix content?",
         "x": 0.5
        },
        "xaxis": {
         "anchor": "y",
         "domain": [
          0,
          1
         ],
         "tickfont": {
          "family": "arial",
          "size": 14,
          "weight": "bold"
         },
         "title": {
          "font": {
           "color": "black",
           "family": "Arial",
           "size": 14,
           "weight": "bold"
          },
          "text": "Country Name"
         }
        },
        "yaxis": {
         "anchor": "x",
         "domain": [
          0,
          1
         ],
         "tickfont": {
          "family": "arial",
          "size": 14,
          "weight": "bold"
         },
         "title": {
          "font": {
           "color": "black",
           "family": "Arial",
           "size": 14,
           "weight": "bold"
          },
          "text": "Count of country"
         }
        }
       }
      }
     },
     "metadata": {},
     "output_type": "display_data"
    }
   ],
   "source": [
    "\n",
    "fig = px.bar(data_frame=countries,x='new',y='show_id',title='What are the top countries producing Netflix content?',text_auto=True, color_discrete_sequence=['red'])\n",
    "fig.update_layout(yaxis_title='Count of country')\n",
    "fig.update_layout(xaxis_title='Country Name')\n",
    "\n",
    "fig.update_layout(title={'x': 0.5, 'font': {'size': 20, 'color': 'black', 'family': 'Arial','weight':'bold'}},)\n",
    "fig.update_layout(xaxis_title={'text': 'Country Name','font': {'size': 14,'color': 'black','family': 'Arial','weight': 'bold'}})\n",
    "fig.update_layout(yaxis_title={'text': 'Count of country','font': {'size': 14,'color': 'black','family': 'Arial','weight': 'bold'}})\n",
    "fig.update_yaxes(tickfont=dict(family='arial',weight='bold',size=14))\n",
    "fig.update_xaxes(tickfont=dict(family='arial',weight='bold',size=14))"
   ]
  },
  {
   "cell_type": "code",
   "execution_count": 153,
   "id": "fcbf5cc1",
   "metadata": {},
   "outputs": [],
   "source": [
    "df['year_added']=df.date_added.dt.year"
   ]
  },
  {
   "cell_type": "code",
   "execution_count": 154,
   "id": "5e7d7fb1",
   "metadata": {},
   "outputs": [
    {
     "data": {
      "application/vnd.microsoft.datawrangler.viewer.v0+json": {
       "columns": [
        {
         "name": "index",
         "rawType": "int64",
         "type": "integer"
        },
        {
         "name": "year_added",
         "rawType": "int32",
         "type": "integer"
        },
        {
         "name": "show_id",
         "rawType": "int64",
         "type": "integer"
        }
       ],
       "ref": "3610bfa2-2e2f-4aa0-9a0b-43ab3efc7dc4",
       "rows": [
        [
         "0",
         "2008",
         "4"
        ],
        [
         "1",
         "2009",
         "3"
        ],
        [
         "2",
         "2010",
         "2"
        ],
        [
         "3",
         "2011",
         "29"
        ],
        [
         "4",
         "2012",
         "5"
        ],
        [
         "5",
         "2013",
         "29"
        ],
        [
         "6",
         "2014",
         "55"
        ],
        [
         "7",
         "2015",
         "203"
        ],
        [
         "8",
         "2016",
         "1106"
        ],
        [
         "9",
         "2017",
         "3234"
        ],
        [
         "10",
         "2018",
         "4542"
        ],
        [
         "11",
         "2019",
         "5406"
        ],
        [
         "12",
         "2020",
         "5154"
        ],
        [
         "13",
         "2021",
         "3963"
        ]
       ],
       "shape": {
        "columns": 2,
        "rows": 14
       }
      },
      "text/html": [
       "<div>\n",
       "<style scoped>\n",
       "    .dataframe tbody tr th:only-of-type {\n",
       "        vertical-align: middle;\n",
       "    }\n",
       "\n",
       "    .dataframe tbody tr th {\n",
       "        vertical-align: top;\n",
       "    }\n",
       "\n",
       "    .dataframe thead th {\n",
       "        text-align: right;\n",
       "    }\n",
       "</style>\n",
       "<table border=\"1\" class=\"dataframe\">\n",
       "  <thead>\n",
       "    <tr style=\"text-align: right;\">\n",
       "      <th></th>\n",
       "      <th>year_added</th>\n",
       "      <th>show_id</th>\n",
       "    </tr>\n",
       "  </thead>\n",
       "  <tbody>\n",
       "    <tr>\n",
       "      <th>0</th>\n",
       "      <td>2008</td>\n",
       "      <td>4</td>\n",
       "    </tr>\n",
       "    <tr>\n",
       "      <th>1</th>\n",
       "      <td>2009</td>\n",
       "      <td>3</td>\n",
       "    </tr>\n",
       "    <tr>\n",
       "      <th>2</th>\n",
       "      <td>2010</td>\n",
       "      <td>2</td>\n",
       "    </tr>\n",
       "    <tr>\n",
       "      <th>3</th>\n",
       "      <td>2011</td>\n",
       "      <td>29</td>\n",
       "    </tr>\n",
       "    <tr>\n",
       "      <th>4</th>\n",
       "      <td>2012</td>\n",
       "      <td>5</td>\n",
       "    </tr>\n",
       "    <tr>\n",
       "      <th>5</th>\n",
       "      <td>2013</td>\n",
       "      <td>29</td>\n",
       "    </tr>\n",
       "    <tr>\n",
       "      <th>6</th>\n",
       "      <td>2014</td>\n",
       "      <td>55</td>\n",
       "    </tr>\n",
       "    <tr>\n",
       "      <th>7</th>\n",
       "      <td>2015</td>\n",
       "      <td>203</td>\n",
       "    </tr>\n",
       "    <tr>\n",
       "      <th>8</th>\n",
       "      <td>2016</td>\n",
       "      <td>1106</td>\n",
       "    </tr>\n",
       "    <tr>\n",
       "      <th>9</th>\n",
       "      <td>2017</td>\n",
       "      <td>3234</td>\n",
       "    </tr>\n",
       "    <tr>\n",
       "      <th>10</th>\n",
       "      <td>2018</td>\n",
       "      <td>4542</td>\n",
       "    </tr>\n",
       "    <tr>\n",
       "      <th>11</th>\n",
       "      <td>2019</td>\n",
       "      <td>5406</td>\n",
       "    </tr>\n",
       "    <tr>\n",
       "      <th>12</th>\n",
       "      <td>2020</td>\n",
       "      <td>5154</td>\n",
       "    </tr>\n",
       "    <tr>\n",
       "      <th>13</th>\n",
       "      <td>2021</td>\n",
       "      <td>3963</td>\n",
       "    </tr>\n",
       "  </tbody>\n",
       "</table>\n",
       "</div>"
      ],
      "text/plain": [
       "    year_added  show_id\n",
       "0         2008        4\n",
       "1         2009        3\n",
       "2         2010        2\n",
       "3         2011       29\n",
       "4         2012        5\n",
       "5         2013       29\n",
       "6         2014       55\n",
       "7         2015      203\n",
       "8         2016     1106\n",
       "9         2017     3234\n",
       "10        2018     4542\n",
       "11        2019     5406\n",
       "12        2020     5154\n",
       "13        2021     3963"
      ]
     },
     "execution_count": 154,
     "metadata": {},
     "output_type": "execute_result"
    }
   ],
   "source": [
    "yearadded=df.groupby('year_added')['show_id'].count().reset_index()\n",
    "yearadded"
   ]
  },
  {
   "cell_type": "code",
   "execution_count": 155,
   "id": "e31d3047",
   "metadata": {},
   "outputs": [
    {
     "data": {
      "application/vnd.plotly.v1+json": {
       "config": {
        "plotlyServerURL": "https://plot.ly"
       },
       "data": [
        {
         "hovertemplate": "year_added=%{x}<br>show_id=%{y}<extra></extra>",
         "legendgroup": "",
         "line": {
          "color": "red",
          "dash": "solid"
         },
         "marker": {
          "symbol": "circle"
         },
         "mode": "lines",
         "name": "",
         "orientation": "v",
         "showlegend": false,
         "type": "scatter",
         "x": {
          "bdata": "2AcAANkHAADaBwAA2wcAANwHAADdBwAA3gcAAN8HAADgBwAA4QcAAOIHAADjBwAA5AcAAOUHAAA=",
          "dtype": "i4"
         },
         "xaxis": "x",
         "y": {
          "bdata": "BAADAAIAHQAFAB0ANwDLAFIEogy+ER4VIhR7Dw==",
          "dtype": "i2"
         },
         "yaxis": "y"
        }
       ],
       "layout": {
        "legend": {
         "tracegroupgap": 0
        },
        "template": {
         "data": {
          "bar": [
           {
            "error_x": {
             "color": "#2a3f5f"
            },
            "error_y": {
             "color": "#2a3f5f"
            },
            "marker": {
             "line": {
              "color": "#E5ECF6",
              "width": 0.5
             },
             "pattern": {
              "fillmode": "overlay",
              "size": 10,
              "solidity": 0.2
             }
            },
            "type": "bar"
           }
          ],
          "barpolar": [
           {
            "marker": {
             "line": {
              "color": "#E5ECF6",
              "width": 0.5
             },
             "pattern": {
              "fillmode": "overlay",
              "size": 10,
              "solidity": 0.2
             }
            },
            "type": "barpolar"
           }
          ],
          "carpet": [
           {
            "aaxis": {
             "endlinecolor": "#2a3f5f",
             "gridcolor": "white",
             "linecolor": "white",
             "minorgridcolor": "white",
             "startlinecolor": "#2a3f5f"
            },
            "baxis": {
             "endlinecolor": "#2a3f5f",
             "gridcolor": "white",
             "linecolor": "white",
             "minorgridcolor": "white",
             "startlinecolor": "#2a3f5f"
            },
            "type": "carpet"
           }
          ],
          "choropleth": [
           {
            "colorbar": {
             "outlinewidth": 0,
             "ticks": ""
            },
            "type": "choropleth"
           }
          ],
          "contour": [
           {
            "colorbar": {
             "outlinewidth": 0,
             "ticks": ""
            },
            "colorscale": [
             [
              0,
              "#0d0887"
             ],
             [
              0.1111111111111111,
              "#46039f"
             ],
             [
              0.2222222222222222,
              "#7201a8"
             ],
             [
              0.3333333333333333,
              "#9c179e"
             ],
             [
              0.4444444444444444,
              "#bd3786"
             ],
             [
              0.5555555555555556,
              "#d8576b"
             ],
             [
              0.6666666666666666,
              "#ed7953"
             ],
             [
              0.7777777777777778,
              "#fb9f3a"
             ],
             [
              0.8888888888888888,
              "#fdca26"
             ],
             [
              1,
              "#f0f921"
             ]
            ],
            "type": "contour"
           }
          ],
          "contourcarpet": [
           {
            "colorbar": {
             "outlinewidth": 0,
             "ticks": ""
            },
            "type": "contourcarpet"
           }
          ],
          "heatmap": [
           {
            "colorbar": {
             "outlinewidth": 0,
             "ticks": ""
            },
            "colorscale": [
             [
              0,
              "#0d0887"
             ],
             [
              0.1111111111111111,
              "#46039f"
             ],
             [
              0.2222222222222222,
              "#7201a8"
             ],
             [
              0.3333333333333333,
              "#9c179e"
             ],
             [
              0.4444444444444444,
              "#bd3786"
             ],
             [
              0.5555555555555556,
              "#d8576b"
             ],
             [
              0.6666666666666666,
              "#ed7953"
             ],
             [
              0.7777777777777778,
              "#fb9f3a"
             ],
             [
              0.8888888888888888,
              "#fdca26"
             ],
             [
              1,
              "#f0f921"
             ]
            ],
            "type": "heatmap"
           }
          ],
          "histogram": [
           {
            "marker": {
             "pattern": {
              "fillmode": "overlay",
              "size": 10,
              "solidity": 0.2
             }
            },
            "type": "histogram"
           }
          ],
          "histogram2d": [
           {
            "colorbar": {
             "outlinewidth": 0,
             "ticks": ""
            },
            "colorscale": [
             [
              0,
              "#0d0887"
             ],
             [
              0.1111111111111111,
              "#46039f"
             ],
             [
              0.2222222222222222,
              "#7201a8"
             ],
             [
              0.3333333333333333,
              "#9c179e"
             ],
             [
              0.4444444444444444,
              "#bd3786"
             ],
             [
              0.5555555555555556,
              "#d8576b"
             ],
             [
              0.6666666666666666,
              "#ed7953"
             ],
             [
              0.7777777777777778,
              "#fb9f3a"
             ],
             [
              0.8888888888888888,
              "#fdca26"
             ],
             [
              1,
              "#f0f921"
             ]
            ],
            "type": "histogram2d"
           }
          ],
          "histogram2dcontour": [
           {
            "colorbar": {
             "outlinewidth": 0,
             "ticks": ""
            },
            "colorscale": [
             [
              0,
              "#0d0887"
             ],
             [
              0.1111111111111111,
              "#46039f"
             ],
             [
              0.2222222222222222,
              "#7201a8"
             ],
             [
              0.3333333333333333,
              "#9c179e"
             ],
             [
              0.4444444444444444,
              "#bd3786"
             ],
             [
              0.5555555555555556,
              "#d8576b"
             ],
             [
              0.6666666666666666,
              "#ed7953"
             ],
             [
              0.7777777777777778,
              "#fb9f3a"
             ],
             [
              0.8888888888888888,
              "#fdca26"
             ],
             [
              1,
              "#f0f921"
             ]
            ],
            "type": "histogram2dcontour"
           }
          ],
          "mesh3d": [
           {
            "colorbar": {
             "outlinewidth": 0,
             "ticks": ""
            },
            "type": "mesh3d"
           }
          ],
          "parcoords": [
           {
            "line": {
             "colorbar": {
              "outlinewidth": 0,
              "ticks": ""
             }
            },
            "type": "parcoords"
           }
          ],
          "pie": [
           {
            "automargin": true,
            "type": "pie"
           }
          ],
          "scatter": [
           {
            "fillpattern": {
             "fillmode": "overlay",
             "size": 10,
             "solidity": 0.2
            },
            "type": "scatter"
           }
          ],
          "scatter3d": [
           {
            "line": {
             "colorbar": {
              "outlinewidth": 0,
              "ticks": ""
             }
            },
            "marker": {
             "colorbar": {
              "outlinewidth": 0,
              "ticks": ""
             }
            },
            "type": "scatter3d"
           }
          ],
          "scattercarpet": [
           {
            "marker": {
             "colorbar": {
              "outlinewidth": 0,
              "ticks": ""
             }
            },
            "type": "scattercarpet"
           }
          ],
          "scattergeo": [
           {
            "marker": {
             "colorbar": {
              "outlinewidth": 0,
              "ticks": ""
             }
            },
            "type": "scattergeo"
           }
          ],
          "scattergl": [
           {
            "marker": {
             "colorbar": {
              "outlinewidth": 0,
              "ticks": ""
             }
            },
            "type": "scattergl"
           }
          ],
          "scattermap": [
           {
            "marker": {
             "colorbar": {
              "outlinewidth": 0,
              "ticks": ""
             }
            },
            "type": "scattermap"
           }
          ],
          "scattermapbox": [
           {
            "marker": {
             "colorbar": {
              "outlinewidth": 0,
              "ticks": ""
             }
            },
            "type": "scattermapbox"
           }
          ],
          "scatterpolar": [
           {
            "marker": {
             "colorbar": {
              "outlinewidth": 0,
              "ticks": ""
             }
            },
            "type": "scatterpolar"
           }
          ],
          "scatterpolargl": [
           {
            "marker": {
             "colorbar": {
              "outlinewidth": 0,
              "ticks": ""
             }
            },
            "type": "scatterpolargl"
           }
          ],
          "scatterternary": [
           {
            "marker": {
             "colorbar": {
              "outlinewidth": 0,
              "ticks": ""
             }
            },
            "type": "scatterternary"
           }
          ],
          "surface": [
           {
            "colorbar": {
             "outlinewidth": 0,
             "ticks": ""
            },
            "colorscale": [
             [
              0,
              "#0d0887"
             ],
             [
              0.1111111111111111,
              "#46039f"
             ],
             [
              0.2222222222222222,
              "#7201a8"
             ],
             [
              0.3333333333333333,
              "#9c179e"
             ],
             [
              0.4444444444444444,
              "#bd3786"
             ],
             [
              0.5555555555555556,
              "#d8576b"
             ],
             [
              0.6666666666666666,
              "#ed7953"
             ],
             [
              0.7777777777777778,
              "#fb9f3a"
             ],
             [
              0.8888888888888888,
              "#fdca26"
             ],
             [
              1,
              "#f0f921"
             ]
            ],
            "type": "surface"
           }
          ],
          "table": [
           {
            "cells": {
             "fill": {
              "color": "#EBF0F8"
             },
             "line": {
              "color": "white"
             }
            },
            "header": {
             "fill": {
              "color": "#C8D4E3"
             },
             "line": {
              "color": "white"
             }
            },
            "type": "table"
           }
          ]
         },
         "layout": {
          "annotationdefaults": {
           "arrowcolor": "#2a3f5f",
           "arrowhead": 0,
           "arrowwidth": 1
          },
          "autotypenumbers": "strict",
          "coloraxis": {
           "colorbar": {
            "outlinewidth": 0,
            "ticks": ""
           }
          },
          "colorscale": {
           "diverging": [
            [
             0,
             "#8e0152"
            ],
            [
             0.1,
             "#c51b7d"
            ],
            [
             0.2,
             "#de77ae"
            ],
            [
             0.3,
             "#f1b6da"
            ],
            [
             0.4,
             "#fde0ef"
            ],
            [
             0.5,
             "#f7f7f7"
            ],
            [
             0.6,
             "#e6f5d0"
            ],
            [
             0.7,
             "#b8e186"
            ],
            [
             0.8,
             "#7fbc41"
            ],
            [
             0.9,
             "#4d9221"
            ],
            [
             1,
             "#276419"
            ]
           ],
           "sequential": [
            [
             0,
             "#0d0887"
            ],
            [
             0.1111111111111111,
             "#46039f"
            ],
            [
             0.2222222222222222,
             "#7201a8"
            ],
            [
             0.3333333333333333,
             "#9c179e"
            ],
            [
             0.4444444444444444,
             "#bd3786"
            ],
            [
             0.5555555555555556,
             "#d8576b"
            ],
            [
             0.6666666666666666,
             "#ed7953"
            ],
            [
             0.7777777777777778,
             "#fb9f3a"
            ],
            [
             0.8888888888888888,
             "#fdca26"
            ],
            [
             1,
             "#f0f921"
            ]
           ],
           "sequentialminus": [
            [
             0,
             "#0d0887"
            ],
            [
             0.1111111111111111,
             "#46039f"
            ],
            [
             0.2222222222222222,
             "#7201a8"
            ],
            [
             0.3333333333333333,
             "#9c179e"
            ],
            [
             0.4444444444444444,
             "#bd3786"
            ],
            [
             0.5555555555555556,
             "#d8576b"
            ],
            [
             0.6666666666666666,
             "#ed7953"
            ],
            [
             0.7777777777777778,
             "#fb9f3a"
            ],
            [
             0.8888888888888888,
             "#fdca26"
            ],
            [
             1,
             "#f0f921"
            ]
           ]
          },
          "colorway": [
           "#636efa",
           "#EF553B",
           "#00cc96",
           "#ab63fa",
           "#FFA15A",
           "#19d3f3",
           "#FF6692",
           "#B6E880",
           "#FF97FF",
           "#FECB52"
          ],
          "font": {
           "color": "#2a3f5f"
          },
          "geo": {
           "bgcolor": "white",
           "lakecolor": "white",
           "landcolor": "#E5ECF6",
           "showlakes": true,
           "showland": true,
           "subunitcolor": "white"
          },
          "hoverlabel": {
           "align": "left"
          },
          "hovermode": "closest",
          "mapbox": {
           "style": "light"
          },
          "paper_bgcolor": "white",
          "plot_bgcolor": "#E5ECF6",
          "polar": {
           "angularaxis": {
            "gridcolor": "white",
            "linecolor": "white",
            "ticks": ""
           },
           "bgcolor": "#E5ECF6",
           "radialaxis": {
            "gridcolor": "white",
            "linecolor": "white",
            "ticks": ""
           }
          },
          "scene": {
           "xaxis": {
            "backgroundcolor": "#E5ECF6",
            "gridcolor": "white",
            "gridwidth": 2,
            "linecolor": "white",
            "showbackground": true,
            "ticks": "",
            "zerolinecolor": "white"
           },
           "yaxis": {
            "backgroundcolor": "#E5ECF6",
            "gridcolor": "white",
            "gridwidth": 2,
            "linecolor": "white",
            "showbackground": true,
            "ticks": "",
            "zerolinecolor": "white"
           },
           "zaxis": {
            "backgroundcolor": "#E5ECF6",
            "gridcolor": "white",
            "gridwidth": 2,
            "linecolor": "white",
            "showbackground": true,
            "ticks": "",
            "zerolinecolor": "white"
           }
          },
          "shapedefaults": {
           "line": {
            "color": "#2a3f5f"
           }
          },
          "ternary": {
           "aaxis": {
            "gridcolor": "white",
            "linecolor": "white",
            "ticks": ""
           },
           "baxis": {
            "gridcolor": "white",
            "linecolor": "white",
            "ticks": ""
           },
           "bgcolor": "#E5ECF6",
           "caxis": {
            "gridcolor": "white",
            "linecolor": "white",
            "ticks": ""
           }
          },
          "title": {
           "x": 0.05
          },
          "xaxis": {
           "automargin": true,
           "gridcolor": "white",
           "linecolor": "white",
           "ticks": "",
           "title": {
            "standoff": 15
           },
           "zerolinecolor": "white",
           "zerolinewidth": 2
          },
          "yaxis": {
           "automargin": true,
           "gridcolor": "white",
           "linecolor": "white",
           "ticks": "",
           "title": {
            "standoff": 15
           },
           "zerolinecolor": "white",
           "zerolinewidth": 2
          }
         }
        },
        "title": {
         "font": {
          "color": "black",
          "family": "Arial",
          "size": 20,
          "weight": "bold"
         },
         "text": "How has Netflix's content volume changed over time",
         "x": 0.5
        },
        "xaxis": {
         "anchor": "y",
         "domain": [
          0,
          1
         ],
         "tickfont": {
          "family": "arial",
          "size": 14,
          "weight": "bold"
         },
         "tickmode": "linear",
         "title": {
          "font": {
           "color": "black",
           "family": "Arial",
           "size": 14,
           "weight": "bold"
          },
          "text": "Years_added"
         }
        },
        "yaxis": {
         "anchor": "x",
         "domain": [
          0,
          1
         ],
         "tickfont": {
          "family": "arial",
          "size": 14,
          "weight": "bold"
         },
         "title": {
          "font": {
           "color": "black",
           "family": "Arial",
           "size": 14,
           "weight": "bold"
          },
          "text": "count of"
         }
        }
       }
      }
     },
     "metadata": {},
     "output_type": "display_data"
    }
   ],
   "source": [
    "fig=px.line(data_frame=yearadded,x='year_added',y='show_id',color_discrete_sequence=['red'],title=\"How has Netflix's content volume changed over time\")\n",
    "fig.update_xaxes(tickmode='linear')\n",
    "fig.update_layout(yaxis_title='Years_added')\n",
    "fig.update_layout(xaxis_title='count of content')\n",
    "\n",
    "fig.update_layout(title={'x': 0.5, 'font': {'size': 20, 'color': 'black', 'family': 'Arial','weight':'bold'}},)\n",
    "fig.update_layout(xaxis_title={'text': 'Years_added','font': {'size': 14,'color': 'black','family': 'Arial','weight': 'bold'}})\n",
    "fig.update_layout(yaxis_title={'text': 'count of','font': {'size': 14,'color': 'black','family': 'Arial','weight': 'bold'}})\n",
    "fig.update_yaxes(tickfont=dict(family='arial',weight='bold',size=14))\n",
    "fig.update_xaxes(tickfont=dict(family='arial',weight='bold',size=14))"
   ]
  },
  {
   "cell_type": "code",
   "execution_count": 156,
   "id": "fe908aeb",
   "metadata": {},
   "outputs": [
    {
     "data": {
      "application/vnd.plotly.v1+json": {
       "config": {
        "plotlyServerURL": "https://plot.ly"
       },
       "data": [
        {
         "hovertemplate": "year_added=%{x}<br>title=%{y}<extra></extra>",
         "legendgroup": "",
         "marker": {
          "color": "red",
          "pattern": {
           "shape": ""
          }
         },
         "name": "",
         "orientation": "v",
         "showlegend": false,
         "textposition": "auto",
         "texttemplate": "%{y}",
         "type": "bar",
         "x": [
          "2010",
          "2009",
          "2008",
          "2012",
          "2011",
          "2013",
          "2014",
          "2015",
          "2016",
          "2017",
          "2021",
          "2018",
          "2020",
          "2019"
         ],
         "xaxis": "x",
         "y": {
          "bdata": "AgADAAQABQAdAB0ANwDLAFIEogx7D74RIhQeFQ==",
          "dtype": "i2"
         },
         "yaxis": "y"
        }
       ],
       "layout": {
        "barmode": "relative",
        "legend": {
         "tracegroupgap": 0
        },
        "template": {
         "data": {
          "bar": [
           {
            "error_x": {
             "color": "#2a3f5f"
            },
            "error_y": {
             "color": "#2a3f5f"
            },
            "marker": {
             "line": {
              "color": "#E5ECF6",
              "width": 0.5
             },
             "pattern": {
              "fillmode": "overlay",
              "size": 10,
              "solidity": 0.2
             }
            },
            "type": "bar"
           }
          ],
          "barpolar": [
           {
            "marker": {
             "line": {
              "color": "#E5ECF6",
              "width": 0.5
             },
             "pattern": {
              "fillmode": "overlay",
              "size": 10,
              "solidity": 0.2
             }
            },
            "type": "barpolar"
           }
          ],
          "carpet": [
           {
            "aaxis": {
             "endlinecolor": "#2a3f5f",
             "gridcolor": "white",
             "linecolor": "white",
             "minorgridcolor": "white",
             "startlinecolor": "#2a3f5f"
            },
            "baxis": {
             "endlinecolor": "#2a3f5f",
             "gridcolor": "white",
             "linecolor": "white",
             "minorgridcolor": "white",
             "startlinecolor": "#2a3f5f"
            },
            "type": "carpet"
           }
          ],
          "choropleth": [
           {
            "colorbar": {
             "outlinewidth": 0,
             "ticks": ""
            },
            "type": "choropleth"
           }
          ],
          "contour": [
           {
            "colorbar": {
             "outlinewidth": 0,
             "ticks": ""
            },
            "colorscale": [
             [
              0,
              "#0d0887"
             ],
             [
              0.1111111111111111,
              "#46039f"
             ],
             [
              0.2222222222222222,
              "#7201a8"
             ],
             [
              0.3333333333333333,
              "#9c179e"
             ],
             [
              0.4444444444444444,
              "#bd3786"
             ],
             [
              0.5555555555555556,
              "#d8576b"
             ],
             [
              0.6666666666666666,
              "#ed7953"
             ],
             [
              0.7777777777777778,
              "#fb9f3a"
             ],
             [
              0.8888888888888888,
              "#fdca26"
             ],
             [
              1,
              "#f0f921"
             ]
            ],
            "type": "contour"
           }
          ],
          "contourcarpet": [
           {
            "colorbar": {
             "outlinewidth": 0,
             "ticks": ""
            },
            "type": "contourcarpet"
           }
          ],
          "heatmap": [
           {
            "colorbar": {
             "outlinewidth": 0,
             "ticks": ""
            },
            "colorscale": [
             [
              0,
              "#0d0887"
             ],
             [
              0.1111111111111111,
              "#46039f"
             ],
             [
              0.2222222222222222,
              "#7201a8"
             ],
             [
              0.3333333333333333,
              "#9c179e"
             ],
             [
              0.4444444444444444,
              "#bd3786"
             ],
             [
              0.5555555555555556,
              "#d8576b"
             ],
             [
              0.6666666666666666,
              "#ed7953"
             ],
             [
              0.7777777777777778,
              "#fb9f3a"
             ],
             [
              0.8888888888888888,
              "#fdca26"
             ],
             [
              1,
              "#f0f921"
             ]
            ],
            "type": "heatmap"
           }
          ],
          "histogram": [
           {
            "marker": {
             "pattern": {
              "fillmode": "overlay",
              "size": 10,
              "solidity": 0.2
             }
            },
            "type": "histogram"
           }
          ],
          "histogram2d": [
           {
            "colorbar": {
             "outlinewidth": 0,
             "ticks": ""
            },
            "colorscale": [
             [
              0,
              "#0d0887"
             ],
             [
              0.1111111111111111,
              "#46039f"
             ],
             [
              0.2222222222222222,
              "#7201a8"
             ],
             [
              0.3333333333333333,
              "#9c179e"
             ],
             [
              0.4444444444444444,
              "#bd3786"
             ],
             [
              0.5555555555555556,
              "#d8576b"
             ],
             [
              0.6666666666666666,
              "#ed7953"
             ],
             [
              0.7777777777777778,
              "#fb9f3a"
             ],
             [
              0.8888888888888888,
              "#fdca26"
             ],
             [
              1,
              "#f0f921"
             ]
            ],
            "type": "histogram2d"
           }
          ],
          "histogram2dcontour": [
           {
            "colorbar": {
             "outlinewidth": 0,
             "ticks": ""
            },
            "colorscale": [
             [
              0,
              "#0d0887"
             ],
             [
              0.1111111111111111,
              "#46039f"
             ],
             [
              0.2222222222222222,
              "#7201a8"
             ],
             [
              0.3333333333333333,
              "#9c179e"
             ],
             [
              0.4444444444444444,
              "#bd3786"
             ],
             [
              0.5555555555555556,
              "#d8576b"
             ],
             [
              0.6666666666666666,
              "#ed7953"
             ],
             [
              0.7777777777777778,
              "#fb9f3a"
             ],
             [
              0.8888888888888888,
              "#fdca26"
             ],
             [
              1,
              "#f0f921"
             ]
            ],
            "type": "histogram2dcontour"
           }
          ],
          "mesh3d": [
           {
            "colorbar": {
             "outlinewidth": 0,
             "ticks": ""
            },
            "type": "mesh3d"
           }
          ],
          "parcoords": [
           {
            "line": {
             "colorbar": {
              "outlinewidth": 0,
              "ticks": ""
             }
            },
            "type": "parcoords"
           }
          ],
          "pie": [
           {
            "automargin": true,
            "type": "pie"
           }
          ],
          "scatter": [
           {
            "fillpattern": {
             "fillmode": "overlay",
             "size": 10,
             "solidity": 0.2
            },
            "type": "scatter"
           }
          ],
          "scatter3d": [
           {
            "line": {
             "colorbar": {
              "outlinewidth": 0,
              "ticks": ""
             }
            },
            "marker": {
             "colorbar": {
              "outlinewidth": 0,
              "ticks": ""
             }
            },
            "type": "scatter3d"
           }
          ],
          "scattercarpet": [
           {
            "marker": {
             "colorbar": {
              "outlinewidth": 0,
              "ticks": ""
             }
            },
            "type": "scattercarpet"
           }
          ],
          "scattergeo": [
           {
            "marker": {
             "colorbar": {
              "outlinewidth": 0,
              "ticks": ""
             }
            },
            "type": "scattergeo"
           }
          ],
          "scattergl": [
           {
            "marker": {
             "colorbar": {
              "outlinewidth": 0,
              "ticks": ""
             }
            },
            "type": "scattergl"
           }
          ],
          "scattermap": [
           {
            "marker": {
             "colorbar": {
              "outlinewidth": 0,
              "ticks": ""
             }
            },
            "type": "scattermap"
           }
          ],
          "scattermapbox": [
           {
            "marker": {
             "colorbar": {
              "outlinewidth": 0,
              "ticks": ""
             }
            },
            "type": "scattermapbox"
           }
          ],
          "scatterpolar": [
           {
            "marker": {
             "colorbar": {
              "outlinewidth": 0,
              "ticks": ""
             }
            },
            "type": "scatterpolar"
           }
          ],
          "scatterpolargl": [
           {
            "marker": {
             "colorbar": {
              "outlinewidth": 0,
              "ticks": ""
             }
            },
            "type": "scatterpolargl"
           }
          ],
          "scatterternary": [
           {
            "marker": {
             "colorbar": {
              "outlinewidth": 0,
              "ticks": ""
             }
            },
            "type": "scatterternary"
           }
          ],
          "surface": [
           {
            "colorbar": {
             "outlinewidth": 0,
             "ticks": ""
            },
            "colorscale": [
             [
              0,
              "#0d0887"
             ],
             [
              0.1111111111111111,
              "#46039f"
             ],
             [
              0.2222222222222222,
              "#7201a8"
             ],
             [
              0.3333333333333333,
              "#9c179e"
             ],
             [
              0.4444444444444444,
              "#bd3786"
             ],
             [
              0.5555555555555556,
              "#d8576b"
             ],
             [
              0.6666666666666666,
              "#ed7953"
             ],
             [
              0.7777777777777778,
              "#fb9f3a"
             ],
             [
              0.8888888888888888,
              "#fdca26"
             ],
             [
              1,
              "#f0f921"
             ]
            ],
            "type": "surface"
           }
          ],
          "table": [
           {
            "cells": {
             "fill": {
              "color": "#EBF0F8"
             },
             "line": {
              "color": "white"
             }
            },
            "header": {
             "fill": {
              "color": "#C8D4E3"
             },
             "line": {
              "color": "white"
             }
            },
            "type": "table"
           }
          ]
         },
         "layout": {
          "annotationdefaults": {
           "arrowcolor": "#2a3f5f",
           "arrowhead": 0,
           "arrowwidth": 1
          },
          "autotypenumbers": "strict",
          "coloraxis": {
           "colorbar": {
            "outlinewidth": 0,
            "ticks": ""
           }
          },
          "colorscale": {
           "diverging": [
            [
             0,
             "#8e0152"
            ],
            [
             0.1,
             "#c51b7d"
            ],
            [
             0.2,
             "#de77ae"
            ],
            [
             0.3,
             "#f1b6da"
            ],
            [
             0.4,
             "#fde0ef"
            ],
            [
             0.5,
             "#f7f7f7"
            ],
            [
             0.6,
             "#e6f5d0"
            ],
            [
             0.7,
             "#b8e186"
            ],
            [
             0.8,
             "#7fbc41"
            ],
            [
             0.9,
             "#4d9221"
            ],
            [
             1,
             "#276419"
            ]
           ],
           "sequential": [
            [
             0,
             "#0d0887"
            ],
            [
             0.1111111111111111,
             "#46039f"
            ],
            [
             0.2222222222222222,
             "#7201a8"
            ],
            [
             0.3333333333333333,
             "#9c179e"
            ],
            [
             0.4444444444444444,
             "#bd3786"
            ],
            [
             0.5555555555555556,
             "#d8576b"
            ],
            [
             0.6666666666666666,
             "#ed7953"
            ],
            [
             0.7777777777777778,
             "#fb9f3a"
            ],
            [
             0.8888888888888888,
             "#fdca26"
            ],
            [
             1,
             "#f0f921"
            ]
           ],
           "sequentialminus": [
            [
             0,
             "#0d0887"
            ],
            [
             0.1111111111111111,
             "#46039f"
            ],
            [
             0.2222222222222222,
             "#7201a8"
            ],
            [
             0.3333333333333333,
             "#9c179e"
            ],
            [
             0.4444444444444444,
             "#bd3786"
            ],
            [
             0.5555555555555556,
             "#d8576b"
            ],
            [
             0.6666666666666666,
             "#ed7953"
            ],
            [
             0.7777777777777778,
             "#fb9f3a"
            ],
            [
             0.8888888888888888,
             "#fdca26"
            ],
            [
             1,
             "#f0f921"
            ]
           ]
          },
          "colorway": [
           "#636efa",
           "#EF553B",
           "#00cc96",
           "#ab63fa",
           "#FFA15A",
           "#19d3f3",
           "#FF6692",
           "#B6E880",
           "#FF97FF",
           "#FECB52"
          ],
          "font": {
           "color": "#2a3f5f"
          },
          "geo": {
           "bgcolor": "white",
           "lakecolor": "white",
           "landcolor": "#E5ECF6",
           "showlakes": true,
           "showland": true,
           "subunitcolor": "white"
          },
          "hoverlabel": {
           "align": "left"
          },
          "hovermode": "closest",
          "mapbox": {
           "style": "light"
          },
          "paper_bgcolor": "white",
          "plot_bgcolor": "#E5ECF6",
          "polar": {
           "angularaxis": {
            "gridcolor": "white",
            "linecolor": "white",
            "ticks": ""
           },
           "bgcolor": "#E5ECF6",
           "radialaxis": {
            "gridcolor": "white",
            "linecolor": "white",
            "ticks": ""
           }
          },
          "scene": {
           "xaxis": {
            "backgroundcolor": "#E5ECF6",
            "gridcolor": "white",
            "gridwidth": 2,
            "linecolor": "white",
            "showbackground": true,
            "ticks": "",
            "zerolinecolor": "white"
           },
           "yaxis": {
            "backgroundcolor": "#E5ECF6",
            "gridcolor": "white",
            "gridwidth": 2,
            "linecolor": "white",
            "showbackground": true,
            "ticks": "",
            "zerolinecolor": "white"
           },
           "zaxis": {
            "backgroundcolor": "#E5ECF6",
            "gridcolor": "white",
            "gridwidth": 2,
            "linecolor": "white",
            "showbackground": true,
            "ticks": "",
            "zerolinecolor": "white"
           }
          },
          "shapedefaults": {
           "line": {
            "color": "#2a3f5f"
           }
          },
          "ternary": {
           "aaxis": {
            "gridcolor": "white",
            "linecolor": "white",
            "ticks": ""
           },
           "baxis": {
            "gridcolor": "white",
            "linecolor": "white",
            "ticks": ""
           },
           "bgcolor": "#E5ECF6",
           "caxis": {
            "gridcolor": "white",
            "linecolor": "white",
            "ticks": ""
           }
          },
          "title": {
           "x": 0.05
          },
          "xaxis": {
           "automargin": true,
           "gridcolor": "white",
           "linecolor": "white",
           "ticks": "",
           "title": {
            "standoff": 15
           },
           "zerolinecolor": "white",
           "zerolinewidth": 2
          },
          "yaxis": {
           "automargin": true,
           "gridcolor": "white",
           "linecolor": "white",
           "ticks": "",
           "title": {
            "standoff": 15
           },
           "zerolinecolor": "white",
           "zerolinewidth": 2
          }
         }
        },
        "title": {
         "font": {
          "size": 14
         },
         "text": "<b>How many titles were added each year?</b>",
         "x": 0.5
        },
        "xaxis": {
         "anchor": "y",
         "categoryarray": [
          "2010",
          "2009",
          "2008",
          "2012",
          "2011",
          "2013",
          "2014",
          "2015",
          "2016",
          "2017",
          "2021",
          "2018",
          "2020",
          "2019"
         ],
         "categoryorder": "array",
         "domain": [
          0,
          1
         ],
         "title": {
          "text": "year_added"
         }
        },
        "yaxis": {
         "anchor": "x",
         "domain": [
          0,
          1
         ],
         "title": {
          "text": "title"
         }
        }
       }
      }
     },
     "metadata": {},
     "output_type": "display_data"
    }
   ],
   "source": [
    "\n",
    "pertitle = df.groupby('year_added')['title'].count().reset_index()\n",
    "pertitle = pertitle.sort_values(by='title', ascending=True)\n",
    "\n",
    "pertitle['year_added'] = pertitle['year_added'].astype(str)\n",
    "\n",
    "# Plot using sorted year order from the DataFrame\n",
    "fig_title = px.bar(  pertitle, title='<b>How many titles were added each year?</b>', x='year_added', y='title', text_auto=True,color_discrete_sequence=['red'], category_orders={'year_added': pertitle['year_added'].tolist()})\n",
    "fig_title.update_layout(title={'x':0.5,'font':{'size':14}})\n",
    "\n",
    "fig_title.show()\n"
   ]
  },
  {
   "cell_type": "code",
   "execution_count": 157,
   "id": "8b73c442",
   "metadata": {},
   "outputs": [
    {
     "data": {
      "application/vnd.microsoft.datawrangler.viewer.v0+json": {
       "columns": [
        {
         "name": "index",
         "rawType": "int64",
         "type": "integer"
        },
        {
         "name": "type",
         "rawType": "object",
         "type": "string"
        },
        {
         "name": "year_added",
         "rawType": "int32",
         "type": "integer"
        },
        {
         "name": "show_id",
         "rawType": "int64",
         "type": "integer"
        }
       ],
       "ref": "315d32e8-ae1c-47f3-929d-36384ce025ae",
       "rows": [
        [
         "0",
         "Movie",
         "2008",
         "3"
        ],
        [
         "1",
         "Movie",
         "2009",
         "3"
        ],
        [
         "2",
         "Movie",
         "2010",
         "2"
        ],
        [
         "3",
         "Movie",
         "2011",
         "29"
        ],
        [
         "4",
         "Movie",
         "2012",
         "5"
        ],
        [
         "5",
         "Movie",
         "2013",
         "10"
        ],
        [
         "6",
         "Movie",
         "2014",
         "38"
        ],
        [
         "7",
         "Movie",
         "2015",
         "135"
        ],
        [
         "8",
         "Movie",
         "2016",
         "618"
        ],
        [
         "9",
         "Movie",
         "2017",
         "2317"
        ],
        [
         "10",
         "Movie",
         "2018",
         "3488"
        ],
        [
         "11",
         "Movie",
         "2019",
         "3890"
        ],
        [
         "12",
         "Movie",
         "2020",
         "3607"
        ],
        [
         "13",
         "Movie",
         "2021",
         "2733"
        ],
        [
         "14",
         "TV Show",
         "2008",
         "1"
        ],
        [
         "15",
         "TV Show",
         "2013",
         "19"
        ],
        [
         "16",
         "TV Show",
         "2014",
         "17"
        ],
        [
         "17",
         "TV Show",
         "2015",
         "68"
        ],
        [
         "18",
         "TV Show",
         "2016",
         "488"
        ],
        [
         "19",
         "TV Show",
         "2017",
         "917"
        ],
        [
         "20",
         "TV Show",
         "2018",
         "1054"
        ],
        [
         "21",
         "TV Show",
         "2019",
         "1516"
        ],
        [
         "22",
         "TV Show",
         "2020",
         "1547"
        ],
        [
         "23",
         "TV Show",
         "2021",
         "1230"
        ]
       ],
       "shape": {
        "columns": 3,
        "rows": 24
       }
      },
      "text/html": [
       "<div>\n",
       "<style scoped>\n",
       "    .dataframe tbody tr th:only-of-type {\n",
       "        vertical-align: middle;\n",
       "    }\n",
       "\n",
       "    .dataframe tbody tr th {\n",
       "        vertical-align: top;\n",
       "    }\n",
       "\n",
       "    .dataframe thead th {\n",
       "        text-align: right;\n",
       "    }\n",
       "</style>\n",
       "<table border=\"1\" class=\"dataframe\">\n",
       "  <thead>\n",
       "    <tr style=\"text-align: right;\">\n",
       "      <th></th>\n",
       "      <th>type</th>\n",
       "      <th>year_added</th>\n",
       "      <th>show_id</th>\n",
       "    </tr>\n",
       "  </thead>\n",
       "  <tbody>\n",
       "    <tr>\n",
       "      <th>0</th>\n",
       "      <td>Movie</td>\n",
       "      <td>2008</td>\n",
       "      <td>3</td>\n",
       "    </tr>\n",
       "    <tr>\n",
       "      <th>1</th>\n",
       "      <td>Movie</td>\n",
       "      <td>2009</td>\n",
       "      <td>3</td>\n",
       "    </tr>\n",
       "    <tr>\n",
       "      <th>2</th>\n",
       "      <td>Movie</td>\n",
       "      <td>2010</td>\n",
       "      <td>2</td>\n",
       "    </tr>\n",
       "    <tr>\n",
       "      <th>3</th>\n",
       "      <td>Movie</td>\n",
       "      <td>2011</td>\n",
       "      <td>29</td>\n",
       "    </tr>\n",
       "    <tr>\n",
       "      <th>4</th>\n",
       "      <td>Movie</td>\n",
       "      <td>2012</td>\n",
       "      <td>5</td>\n",
       "    </tr>\n",
       "    <tr>\n",
       "      <th>5</th>\n",
       "      <td>Movie</td>\n",
       "      <td>2013</td>\n",
       "      <td>10</td>\n",
       "    </tr>\n",
       "    <tr>\n",
       "      <th>6</th>\n",
       "      <td>Movie</td>\n",
       "      <td>2014</td>\n",
       "      <td>38</td>\n",
       "    </tr>\n",
       "    <tr>\n",
       "      <th>7</th>\n",
       "      <td>Movie</td>\n",
       "      <td>2015</td>\n",
       "      <td>135</td>\n",
       "    </tr>\n",
       "    <tr>\n",
       "      <th>8</th>\n",
       "      <td>Movie</td>\n",
       "      <td>2016</td>\n",
       "      <td>618</td>\n",
       "    </tr>\n",
       "    <tr>\n",
       "      <th>9</th>\n",
       "      <td>Movie</td>\n",
       "      <td>2017</td>\n",
       "      <td>2317</td>\n",
       "    </tr>\n",
       "    <tr>\n",
       "      <th>10</th>\n",
       "      <td>Movie</td>\n",
       "      <td>2018</td>\n",
       "      <td>3488</td>\n",
       "    </tr>\n",
       "    <tr>\n",
       "      <th>11</th>\n",
       "      <td>Movie</td>\n",
       "      <td>2019</td>\n",
       "      <td>3890</td>\n",
       "    </tr>\n",
       "    <tr>\n",
       "      <th>12</th>\n",
       "      <td>Movie</td>\n",
       "      <td>2020</td>\n",
       "      <td>3607</td>\n",
       "    </tr>\n",
       "    <tr>\n",
       "      <th>13</th>\n",
       "      <td>Movie</td>\n",
       "      <td>2021</td>\n",
       "      <td>2733</td>\n",
       "    </tr>\n",
       "    <tr>\n",
       "      <th>14</th>\n",
       "      <td>TV Show</td>\n",
       "      <td>2008</td>\n",
       "      <td>1</td>\n",
       "    </tr>\n",
       "    <tr>\n",
       "      <th>15</th>\n",
       "      <td>TV Show</td>\n",
       "      <td>2013</td>\n",
       "      <td>19</td>\n",
       "    </tr>\n",
       "    <tr>\n",
       "      <th>16</th>\n",
       "      <td>TV Show</td>\n",
       "      <td>2014</td>\n",
       "      <td>17</td>\n",
       "    </tr>\n",
       "    <tr>\n",
       "      <th>17</th>\n",
       "      <td>TV Show</td>\n",
       "      <td>2015</td>\n",
       "      <td>68</td>\n",
       "    </tr>\n",
       "    <tr>\n",
       "      <th>18</th>\n",
       "      <td>TV Show</td>\n",
       "      <td>2016</td>\n",
       "      <td>488</td>\n",
       "    </tr>\n",
       "    <tr>\n",
       "      <th>19</th>\n",
       "      <td>TV Show</td>\n",
       "      <td>2017</td>\n",
       "      <td>917</td>\n",
       "    </tr>\n",
       "    <tr>\n",
       "      <th>20</th>\n",
       "      <td>TV Show</td>\n",
       "      <td>2018</td>\n",
       "      <td>1054</td>\n",
       "    </tr>\n",
       "    <tr>\n",
       "      <th>21</th>\n",
       "      <td>TV Show</td>\n",
       "      <td>2019</td>\n",
       "      <td>1516</td>\n",
       "    </tr>\n",
       "    <tr>\n",
       "      <th>22</th>\n",
       "      <td>TV Show</td>\n",
       "      <td>2020</td>\n",
       "      <td>1547</td>\n",
       "    </tr>\n",
       "    <tr>\n",
       "      <th>23</th>\n",
       "      <td>TV Show</td>\n",
       "      <td>2021</td>\n",
       "      <td>1230</td>\n",
       "    </tr>\n",
       "  </tbody>\n",
       "</table>\n",
       "</div>"
      ],
      "text/plain": [
       "       type  year_added  show_id\n",
       "0     Movie        2008        3\n",
       "1     Movie        2009        3\n",
       "2     Movie        2010        2\n",
       "3     Movie        2011       29\n",
       "4     Movie        2012        5\n",
       "5     Movie        2013       10\n",
       "6     Movie        2014       38\n",
       "7     Movie        2015      135\n",
       "8     Movie        2016      618\n",
       "9     Movie        2017     2317\n",
       "10    Movie        2018     3488\n",
       "11    Movie        2019     3890\n",
       "12    Movie        2020     3607\n",
       "13    Movie        2021     2733\n",
       "14  TV Show        2008        1\n",
       "15  TV Show        2013       19\n",
       "16  TV Show        2014       17\n",
       "17  TV Show        2015       68\n",
       "18  TV Show        2016      488\n",
       "19  TV Show        2017      917\n",
       "20  TV Show        2018     1054\n",
       "21  TV Show        2019     1516\n",
       "22  TV Show        2020     1547\n",
       "23  TV Show        2021     1230"
      ]
     },
     "execution_count": 157,
     "metadata": {},
     "output_type": "execute_result"
    }
   ],
   "source": [
    "typeandyear=df.groupby(['type','year_added'])['show_id'].count().reset_index()#could do it with value_counts as well !\n",
    "\n",
    "typeandyear"
   ]
  },
  {
   "cell_type": "code",
   "execution_count": 158,
   "id": "62d06800",
   "metadata": {},
   "outputs": [
    {
     "data": {
      "application/vnd.plotly.v1+json": {
       "config": {
        "plotlyServerURL": "https://plot.ly"
       },
       "data": [
        {
         "hovertemplate": "type=Movie<br>year_added=%{x}<br>show_id=%{y}<extra></extra>",
         "legendgroup": "Movie",
         "line": {
          "color": "red",
          "dash": "solid"
         },
         "marker": {
          "symbol": "circle"
         },
         "mode": "lines",
         "name": "Movie",
         "orientation": "v",
         "showlegend": true,
         "type": "scatter",
         "x": {
          "bdata": "2AcAANkHAADaBwAA2wcAANwHAADdBwAA3gcAAN8HAADgBwAA4QcAAOIHAADjBwAA5AcAAOUHAAA=",
          "dtype": "i4"
         },
         "xaxis": "x",
         "y": {
          "bdata": "AwADAAIAHQAFAAoAJgCHAGoCDQmgDTIPFw6tCg==",
          "dtype": "i2"
         },
         "yaxis": "y"
        },
        {
         "hovertemplate": "type=TV Show<br>year_added=%{x}<br>show_id=%{y}<extra></extra>",
         "legendgroup": "TV Show",
         "line": {
          "color": "black",
          "dash": "solid"
         },
         "marker": {
          "symbol": "circle"
         },
         "mode": "lines",
         "name": "TV Show",
         "orientation": "v",
         "showlegend": true,
         "type": "scatter",
         "x": {
          "bdata": "2AcAAN0HAADeBwAA3wcAAOAHAADhBwAA4gcAAOMHAADkBwAA5QcAAA==",
          "dtype": "i4"
         },
         "xaxis": "x",
         "y": {
          "bdata": "AQATABEARADoAZUDHgTsBQsGzgQ=",
          "dtype": "i2"
         },
         "yaxis": "y"
        }
       ],
       "layout": {
        "legend": {
         "font": {
          "size": 16
         },
         "title": {
          "text": "type"
         },
         "tracegroupgap": 0
        },
        "template": {
         "data": {
          "bar": [
           {
            "error_x": {
             "color": "#2a3f5f"
            },
            "error_y": {
             "color": "#2a3f5f"
            },
            "marker": {
             "line": {
              "color": "#E5ECF6",
              "width": 0.5
             },
             "pattern": {
              "fillmode": "overlay",
              "size": 10,
              "solidity": 0.2
             }
            },
            "type": "bar"
           }
          ],
          "barpolar": [
           {
            "marker": {
             "line": {
              "color": "#E5ECF6",
              "width": 0.5
             },
             "pattern": {
              "fillmode": "overlay",
              "size": 10,
              "solidity": 0.2
             }
            },
            "type": "barpolar"
           }
          ],
          "carpet": [
           {
            "aaxis": {
             "endlinecolor": "#2a3f5f",
             "gridcolor": "white",
             "linecolor": "white",
             "minorgridcolor": "white",
             "startlinecolor": "#2a3f5f"
            },
            "baxis": {
             "endlinecolor": "#2a3f5f",
             "gridcolor": "white",
             "linecolor": "white",
             "minorgridcolor": "white",
             "startlinecolor": "#2a3f5f"
            },
            "type": "carpet"
           }
          ],
          "choropleth": [
           {
            "colorbar": {
             "outlinewidth": 0,
             "ticks": ""
            },
            "type": "choropleth"
           }
          ],
          "contour": [
           {
            "colorbar": {
             "outlinewidth": 0,
             "ticks": ""
            },
            "colorscale": [
             [
              0,
              "#0d0887"
             ],
             [
              0.1111111111111111,
              "#46039f"
             ],
             [
              0.2222222222222222,
              "#7201a8"
             ],
             [
              0.3333333333333333,
              "#9c179e"
             ],
             [
              0.4444444444444444,
              "#bd3786"
             ],
             [
              0.5555555555555556,
              "#d8576b"
             ],
             [
              0.6666666666666666,
              "#ed7953"
             ],
             [
              0.7777777777777778,
              "#fb9f3a"
             ],
             [
              0.8888888888888888,
              "#fdca26"
             ],
             [
              1,
              "#f0f921"
             ]
            ],
            "type": "contour"
           }
          ],
          "contourcarpet": [
           {
            "colorbar": {
             "outlinewidth": 0,
             "ticks": ""
            },
            "type": "contourcarpet"
           }
          ],
          "heatmap": [
           {
            "colorbar": {
             "outlinewidth": 0,
             "ticks": ""
            },
            "colorscale": [
             [
              0,
              "#0d0887"
             ],
             [
              0.1111111111111111,
              "#46039f"
             ],
             [
              0.2222222222222222,
              "#7201a8"
             ],
             [
              0.3333333333333333,
              "#9c179e"
             ],
             [
              0.4444444444444444,
              "#bd3786"
             ],
             [
              0.5555555555555556,
              "#d8576b"
             ],
             [
              0.6666666666666666,
              "#ed7953"
             ],
             [
              0.7777777777777778,
              "#fb9f3a"
             ],
             [
              0.8888888888888888,
              "#fdca26"
             ],
             [
              1,
              "#f0f921"
             ]
            ],
            "type": "heatmap"
           }
          ],
          "histogram": [
           {
            "marker": {
             "pattern": {
              "fillmode": "overlay",
              "size": 10,
              "solidity": 0.2
             }
            },
            "type": "histogram"
           }
          ],
          "histogram2d": [
           {
            "colorbar": {
             "outlinewidth": 0,
             "ticks": ""
            },
            "colorscale": [
             [
              0,
              "#0d0887"
             ],
             [
              0.1111111111111111,
              "#46039f"
             ],
             [
              0.2222222222222222,
              "#7201a8"
             ],
             [
              0.3333333333333333,
              "#9c179e"
             ],
             [
              0.4444444444444444,
              "#bd3786"
             ],
             [
              0.5555555555555556,
              "#d8576b"
             ],
             [
              0.6666666666666666,
              "#ed7953"
             ],
             [
              0.7777777777777778,
              "#fb9f3a"
             ],
             [
              0.8888888888888888,
              "#fdca26"
             ],
             [
              1,
              "#f0f921"
             ]
            ],
            "type": "histogram2d"
           }
          ],
          "histogram2dcontour": [
           {
            "colorbar": {
             "outlinewidth": 0,
             "ticks": ""
            },
            "colorscale": [
             [
              0,
              "#0d0887"
             ],
             [
              0.1111111111111111,
              "#46039f"
             ],
             [
              0.2222222222222222,
              "#7201a8"
             ],
             [
              0.3333333333333333,
              "#9c179e"
             ],
             [
              0.4444444444444444,
              "#bd3786"
             ],
             [
              0.5555555555555556,
              "#d8576b"
             ],
             [
              0.6666666666666666,
              "#ed7953"
             ],
             [
              0.7777777777777778,
              "#fb9f3a"
             ],
             [
              0.8888888888888888,
              "#fdca26"
             ],
             [
              1,
              "#f0f921"
             ]
            ],
            "type": "histogram2dcontour"
           }
          ],
          "mesh3d": [
           {
            "colorbar": {
             "outlinewidth": 0,
             "ticks": ""
            },
            "type": "mesh3d"
           }
          ],
          "parcoords": [
           {
            "line": {
             "colorbar": {
              "outlinewidth": 0,
              "ticks": ""
             }
            },
            "type": "parcoords"
           }
          ],
          "pie": [
           {
            "automargin": true,
            "type": "pie"
           }
          ],
          "scatter": [
           {
            "fillpattern": {
             "fillmode": "overlay",
             "size": 10,
             "solidity": 0.2
            },
            "type": "scatter"
           }
          ],
          "scatter3d": [
           {
            "line": {
             "colorbar": {
              "outlinewidth": 0,
              "ticks": ""
             }
            },
            "marker": {
             "colorbar": {
              "outlinewidth": 0,
              "ticks": ""
             }
            },
            "type": "scatter3d"
           }
          ],
          "scattercarpet": [
           {
            "marker": {
             "colorbar": {
              "outlinewidth": 0,
              "ticks": ""
             }
            },
            "type": "scattercarpet"
           }
          ],
          "scattergeo": [
           {
            "marker": {
             "colorbar": {
              "outlinewidth": 0,
              "ticks": ""
             }
            },
            "type": "scattergeo"
           }
          ],
          "scattergl": [
           {
            "marker": {
             "colorbar": {
              "outlinewidth": 0,
              "ticks": ""
             }
            },
            "type": "scattergl"
           }
          ],
          "scattermap": [
           {
            "marker": {
             "colorbar": {
              "outlinewidth": 0,
              "ticks": ""
             }
            },
            "type": "scattermap"
           }
          ],
          "scattermapbox": [
           {
            "marker": {
             "colorbar": {
              "outlinewidth": 0,
              "ticks": ""
             }
            },
            "type": "scattermapbox"
           }
          ],
          "scatterpolar": [
           {
            "marker": {
             "colorbar": {
              "outlinewidth": 0,
              "ticks": ""
             }
            },
            "type": "scatterpolar"
           }
          ],
          "scatterpolargl": [
           {
            "marker": {
             "colorbar": {
              "outlinewidth": 0,
              "ticks": ""
             }
            },
            "type": "scatterpolargl"
           }
          ],
          "scatterternary": [
           {
            "marker": {
             "colorbar": {
              "outlinewidth": 0,
              "ticks": ""
             }
            },
            "type": "scatterternary"
           }
          ],
          "surface": [
           {
            "colorbar": {
             "outlinewidth": 0,
             "ticks": ""
            },
            "colorscale": [
             [
              0,
              "#0d0887"
             ],
             [
              0.1111111111111111,
              "#46039f"
             ],
             [
              0.2222222222222222,
              "#7201a8"
             ],
             [
              0.3333333333333333,
              "#9c179e"
             ],
             [
              0.4444444444444444,
              "#bd3786"
             ],
             [
              0.5555555555555556,
              "#d8576b"
             ],
             [
              0.6666666666666666,
              "#ed7953"
             ],
             [
              0.7777777777777778,
              "#fb9f3a"
             ],
             [
              0.8888888888888888,
              "#fdca26"
             ],
             [
              1,
              "#f0f921"
             ]
            ],
            "type": "surface"
           }
          ],
          "table": [
           {
            "cells": {
             "fill": {
              "color": "#EBF0F8"
             },
             "line": {
              "color": "white"
             }
            },
            "header": {
             "fill": {
              "color": "#C8D4E3"
             },
             "line": {
              "color": "white"
             }
            },
            "type": "table"
           }
          ]
         },
         "layout": {
          "annotationdefaults": {
           "arrowcolor": "#2a3f5f",
           "arrowhead": 0,
           "arrowwidth": 1
          },
          "autotypenumbers": "strict",
          "coloraxis": {
           "colorbar": {
            "outlinewidth": 0,
            "ticks": ""
           }
          },
          "colorscale": {
           "diverging": [
            [
             0,
             "#8e0152"
            ],
            [
             0.1,
             "#c51b7d"
            ],
            [
             0.2,
             "#de77ae"
            ],
            [
             0.3,
             "#f1b6da"
            ],
            [
             0.4,
             "#fde0ef"
            ],
            [
             0.5,
             "#f7f7f7"
            ],
            [
             0.6,
             "#e6f5d0"
            ],
            [
             0.7,
             "#b8e186"
            ],
            [
             0.8,
             "#7fbc41"
            ],
            [
             0.9,
             "#4d9221"
            ],
            [
             1,
             "#276419"
            ]
           ],
           "sequential": [
            [
             0,
             "#0d0887"
            ],
            [
             0.1111111111111111,
             "#46039f"
            ],
            [
             0.2222222222222222,
             "#7201a8"
            ],
            [
             0.3333333333333333,
             "#9c179e"
            ],
            [
             0.4444444444444444,
             "#bd3786"
            ],
            [
             0.5555555555555556,
             "#d8576b"
            ],
            [
             0.6666666666666666,
             "#ed7953"
            ],
            [
             0.7777777777777778,
             "#fb9f3a"
            ],
            [
             0.8888888888888888,
             "#fdca26"
            ],
            [
             1,
             "#f0f921"
            ]
           ],
           "sequentialminus": [
            [
             0,
             "#0d0887"
            ],
            [
             0.1111111111111111,
             "#46039f"
            ],
            [
             0.2222222222222222,
             "#7201a8"
            ],
            [
             0.3333333333333333,
             "#9c179e"
            ],
            [
             0.4444444444444444,
             "#bd3786"
            ],
            [
             0.5555555555555556,
             "#d8576b"
            ],
            [
             0.6666666666666666,
             "#ed7953"
            ],
            [
             0.7777777777777778,
             "#fb9f3a"
            ],
            [
             0.8888888888888888,
             "#fdca26"
            ],
            [
             1,
             "#f0f921"
            ]
           ]
          },
          "colorway": [
           "#636efa",
           "#EF553B",
           "#00cc96",
           "#ab63fa",
           "#FFA15A",
           "#19d3f3",
           "#FF6692",
           "#B6E880",
           "#FF97FF",
           "#FECB52"
          ],
          "font": {
           "color": "#2a3f5f"
          },
          "geo": {
           "bgcolor": "white",
           "lakecolor": "white",
           "landcolor": "#E5ECF6",
           "showlakes": true,
           "showland": true,
           "subunitcolor": "white"
          },
          "hoverlabel": {
           "align": "left"
          },
          "hovermode": "closest",
          "mapbox": {
           "style": "light"
          },
          "paper_bgcolor": "white",
          "plot_bgcolor": "#E5ECF6",
          "polar": {
           "angularaxis": {
            "gridcolor": "white",
            "linecolor": "white",
            "ticks": ""
           },
           "bgcolor": "#E5ECF6",
           "radialaxis": {
            "gridcolor": "white",
            "linecolor": "white",
            "ticks": ""
           }
          },
          "scene": {
           "xaxis": {
            "backgroundcolor": "#E5ECF6",
            "gridcolor": "white",
            "gridwidth": 2,
            "linecolor": "white",
            "showbackground": true,
            "ticks": "",
            "zerolinecolor": "white"
           },
           "yaxis": {
            "backgroundcolor": "#E5ECF6",
            "gridcolor": "white",
            "gridwidth": 2,
            "linecolor": "white",
            "showbackground": true,
            "ticks": "",
            "zerolinecolor": "white"
           },
           "zaxis": {
            "backgroundcolor": "#E5ECF6",
            "gridcolor": "white",
            "gridwidth": 2,
            "linecolor": "white",
            "showbackground": true,
            "ticks": "",
            "zerolinecolor": "white"
           }
          },
          "shapedefaults": {
           "line": {
            "color": "#2a3f5f"
           }
          },
          "ternary": {
           "aaxis": {
            "gridcolor": "white",
            "linecolor": "white",
            "ticks": ""
           },
           "baxis": {
            "gridcolor": "white",
            "linecolor": "white",
            "ticks": ""
           },
           "bgcolor": "#E5ECF6",
           "caxis": {
            "gridcolor": "white",
            "linecolor": "white",
            "ticks": ""
           }
          },
          "title": {
           "x": 0.05
          },
          "xaxis": {
           "automargin": true,
           "gridcolor": "white",
           "linecolor": "white",
           "ticks": "",
           "title": {
            "standoff": 15
           },
           "zerolinecolor": "white",
           "zerolinewidth": 2
          },
          "yaxis": {
           "automargin": true,
           "gridcolor": "white",
           "linecolor": "white",
           "ticks": "",
           "title": {
            "standoff": 15
           },
           "zerolinecolor": "white",
           "zerolinewidth": 2
          }
         }
        },
        "title": {
         "text": "<b>Are TV shows becoming more common than movies?</b>",
         "x": 0.5
        },
        "xaxis": {
         "anchor": "y",
         "domain": [
          0,
          1
         ],
         "title": {
          "text": "year_added"
         }
        },
        "yaxis": {
         "anchor": "x",
         "domain": [
          0,
          1
         ],
         "title": {
          "font": {
           "size": 16
          },
          "text": "Count of shows/movies"
         }
        }
       }
      }
     },
     "metadata": {},
     "output_type": "display_data"
    }
   ],
   "source": [
    "type_year=px.line(data_frame=typeandyear,y='show_id',x='year_added',color='type',line_group='type',title='Are TV shows becoming more common than movies?',color_discrete_map={'Movie':'red','TV Show':'black'})\n",
    "type_year.update_layout(yaxis=dict(title='Count of shows/movies',title_font=dict(size=16)))\n",
    "type_year.update_layout(legend=dict(font=dict( size=16)))\n",
    "type_year.update_layout(title={'text':'<b>Are TV shows becoming more common than movies?</b>','x': 0.5})\n",
    "\n"
   ]
  },
  {
   "cell_type": "code",
   "execution_count": 159,
   "id": "016f9cfe",
   "metadata": {},
   "outputs": [
    {
     "data": {
      "application/vnd.microsoft.datawrangler.viewer.v0+json": {
       "columns": [
        {
         "name": "index",
         "rawType": "int64",
         "type": "integer"
        },
        {
         "name": "category",
         "rawType": "object",
         "type": "string"
        },
        {
         "name": "new",
         "rawType": "object",
         "type": "string"
        },
        {
         "name": "show_id",
         "rawType": "int64",
         "type": "integer"
        }
       ],
       "ref": "a9febec8-0647-4533-9bf7-5b29e116b7ae",
       "rows": [
        [
         "678",
         "International Movies",
         "India",
         "864"
        ],
        [
         "498",
         "Dramas",
         "United States",
         "835"
        ],
        [
         "233",
         "Comedies",
         "United States",
         "680"
        ],
        [
         "440",
         "Dramas",
         "India",
         "662"
        ],
        [
         "373",
         "Documentaries",
         "United States",
         "512"
        ],
        [
         "58",
         "Action & Adventure",
         "United States",
         "404"
        ],
        [
         "140",
         "Children & Family Movies",
         "United States",
         "390"
        ],
        [
         "640",
         "Independent Movies",
         "United States",
         "390"
        ],
        [
         "193",
         "Comedies",
         "India",
         "323"
        ],
        [
         "1453",
         "Thrillers",
         "United States",
         "292"
        ]
       ],
       "shape": {
        "columns": 3,
        "rows": 10
       }
      },
      "text/html": [
       "<div>\n",
       "<style scoped>\n",
       "    .dataframe tbody tr th:only-of-type {\n",
       "        vertical-align: middle;\n",
       "    }\n",
       "\n",
       "    .dataframe tbody tr th {\n",
       "        vertical-align: top;\n",
       "    }\n",
       "\n",
       "    .dataframe thead th {\n",
       "        text-align: right;\n",
       "    }\n",
       "</style>\n",
       "<table border=\"1\" class=\"dataframe\">\n",
       "  <thead>\n",
       "    <tr style=\"text-align: right;\">\n",
       "      <th></th>\n",
       "      <th>category</th>\n",
       "      <th>new</th>\n",
       "      <th>show_id</th>\n",
       "    </tr>\n",
       "  </thead>\n",
       "  <tbody>\n",
       "    <tr>\n",
       "      <th>678</th>\n",
       "      <td>International Movies</td>\n",
       "      <td>India</td>\n",
       "      <td>864</td>\n",
       "    </tr>\n",
       "    <tr>\n",
       "      <th>498</th>\n",
       "      <td>Dramas</td>\n",
       "      <td>United States</td>\n",
       "      <td>835</td>\n",
       "    </tr>\n",
       "    <tr>\n",
       "      <th>233</th>\n",
       "      <td>Comedies</td>\n",
       "      <td>United States</td>\n",
       "      <td>680</td>\n",
       "    </tr>\n",
       "    <tr>\n",
       "      <th>440</th>\n",
       "      <td>Dramas</td>\n",
       "      <td>India</td>\n",
       "      <td>662</td>\n",
       "    </tr>\n",
       "    <tr>\n",
       "      <th>373</th>\n",
       "      <td>Documentaries</td>\n",
       "      <td>United States</td>\n",
       "      <td>512</td>\n",
       "    </tr>\n",
       "    <tr>\n",
       "      <th>58</th>\n",
       "      <td>Action &amp; Adventure</td>\n",
       "      <td>United States</td>\n",
       "      <td>404</td>\n",
       "    </tr>\n",
       "    <tr>\n",
       "      <th>140</th>\n",
       "      <td>Children &amp; Family Movies</td>\n",
       "      <td>United States</td>\n",
       "      <td>390</td>\n",
       "    </tr>\n",
       "    <tr>\n",
       "      <th>640</th>\n",
       "      <td>Independent Movies</td>\n",
       "      <td>United States</td>\n",
       "      <td>390</td>\n",
       "    </tr>\n",
       "    <tr>\n",
       "      <th>193</th>\n",
       "      <td>Comedies</td>\n",
       "      <td>India</td>\n",
       "      <td>323</td>\n",
       "    </tr>\n",
       "    <tr>\n",
       "      <th>1453</th>\n",
       "      <td>Thrillers</td>\n",
       "      <td>United States</td>\n",
       "      <td>292</td>\n",
       "    </tr>\n",
       "  </tbody>\n",
       "</table>\n",
       "</div>"
      ],
      "text/plain": [
       "                      category            new  show_id\n",
       "678       International Movies          India      864\n",
       "498                     Dramas  United States      835\n",
       "233                   Comedies  United States      680\n",
       "440                     Dramas          India      662\n",
       "373              Documentaries  United States      512\n",
       "58          Action & Adventure  United States      404\n",
       "140   Children & Family Movies  United States      390\n",
       "640         Independent Movies  United States      390\n",
       "193                   Comedies          India      323\n",
       "1453                 Thrillers  United States      292"
      ]
     },
     "execution_count": 159,
     "metadata": {},
     "output_type": "execute_result"
    }
   ],
   "source": [
    "categ_country = df.groupby(['category','new'])['show_id'].count().reset_index()\n",
    "categ_country.sort_values(by='show_id', ascending=False, inplace=True)\n",
    "categ_country=categ_country.head(10)\n",
    "categ_country"
   ]
  },
  {
   "cell_type": "code",
   "execution_count": 160,
   "id": "6a121442",
   "metadata": {},
   "outputs": [
    {
     "data": {
      "application/vnd.plotly.v1+json": {
       "config": {
        "plotlyServerURL": "https://plot.ly"
       },
       "data": [
        {
         "hovertemplate": "category=%{x}<br>count=%{y}<extra></extra>",
         "legendgroup": "",
         "marker": {
          "color": "red",
          "pattern": {
           "shape": ""
          }
         },
         "name": "",
         "orientation": "v",
         "showlegend": false,
         "textposition": "auto",
         "type": "bar",
         "x": [
          "International Movies",
          "Dramas",
          "Comedies",
          "Action & Adventure",
          "Documentaries",
          "Independent Movies",
          "Children & Family Movies",
          "Thrillers",
          "Romantic Movies",
          "Horror Movies"
         ],
         "xaxis": "x",
         "y": {
          "bdata": "uQ2BDL0HngReBBAETQMmA9ICygE=",
          "dtype": "i2"
         },
         "yaxis": "y"
        }
       ],
       "layout": {
        "barmode": "relative",
        "legend": {
         "tracegroupgap": 0
        },
        "template": {
         "data": {
          "bar": [
           {
            "error_x": {
             "color": "#2a3f5f"
            },
            "error_y": {
             "color": "#2a3f5f"
            },
            "marker": {
             "line": {
              "color": "#E5ECF6",
              "width": 0.5
             },
             "pattern": {
              "fillmode": "overlay",
              "size": 10,
              "solidity": 0.2
             }
            },
            "type": "bar"
           }
          ],
          "barpolar": [
           {
            "marker": {
             "line": {
              "color": "#E5ECF6",
              "width": 0.5
             },
             "pattern": {
              "fillmode": "overlay",
              "size": 10,
              "solidity": 0.2
             }
            },
            "type": "barpolar"
           }
          ],
          "carpet": [
           {
            "aaxis": {
             "endlinecolor": "#2a3f5f",
             "gridcolor": "white",
             "linecolor": "white",
             "minorgridcolor": "white",
             "startlinecolor": "#2a3f5f"
            },
            "baxis": {
             "endlinecolor": "#2a3f5f",
             "gridcolor": "white",
             "linecolor": "white",
             "minorgridcolor": "white",
             "startlinecolor": "#2a3f5f"
            },
            "type": "carpet"
           }
          ],
          "choropleth": [
           {
            "colorbar": {
             "outlinewidth": 0,
             "ticks": ""
            },
            "type": "choropleth"
           }
          ],
          "contour": [
           {
            "colorbar": {
             "outlinewidth": 0,
             "ticks": ""
            },
            "colorscale": [
             [
              0,
              "#0d0887"
             ],
             [
              0.1111111111111111,
              "#46039f"
             ],
             [
              0.2222222222222222,
              "#7201a8"
             ],
             [
              0.3333333333333333,
              "#9c179e"
             ],
             [
              0.4444444444444444,
              "#bd3786"
             ],
             [
              0.5555555555555556,
              "#d8576b"
             ],
             [
              0.6666666666666666,
              "#ed7953"
             ],
             [
              0.7777777777777778,
              "#fb9f3a"
             ],
             [
              0.8888888888888888,
              "#fdca26"
             ],
             [
              1,
              "#f0f921"
             ]
            ],
            "type": "contour"
           }
          ],
          "contourcarpet": [
           {
            "colorbar": {
             "outlinewidth": 0,
             "ticks": ""
            },
            "type": "contourcarpet"
           }
          ],
          "heatmap": [
           {
            "colorbar": {
             "outlinewidth": 0,
             "ticks": ""
            },
            "colorscale": [
             [
              0,
              "#0d0887"
             ],
             [
              0.1111111111111111,
              "#46039f"
             ],
             [
              0.2222222222222222,
              "#7201a8"
             ],
             [
              0.3333333333333333,
              "#9c179e"
             ],
             [
              0.4444444444444444,
              "#bd3786"
             ],
             [
              0.5555555555555556,
              "#d8576b"
             ],
             [
              0.6666666666666666,
              "#ed7953"
             ],
             [
              0.7777777777777778,
              "#fb9f3a"
             ],
             [
              0.8888888888888888,
              "#fdca26"
             ],
             [
              1,
              "#f0f921"
             ]
            ],
            "type": "heatmap"
           }
          ],
          "histogram": [
           {
            "marker": {
             "pattern": {
              "fillmode": "overlay",
              "size": 10,
              "solidity": 0.2
             }
            },
            "type": "histogram"
           }
          ],
          "histogram2d": [
           {
            "colorbar": {
             "outlinewidth": 0,
             "ticks": ""
            },
            "colorscale": [
             [
              0,
              "#0d0887"
             ],
             [
              0.1111111111111111,
              "#46039f"
             ],
             [
              0.2222222222222222,
              "#7201a8"
             ],
             [
              0.3333333333333333,
              "#9c179e"
             ],
             [
              0.4444444444444444,
              "#bd3786"
             ],
             [
              0.5555555555555556,
              "#d8576b"
             ],
             [
              0.6666666666666666,
              "#ed7953"
             ],
             [
              0.7777777777777778,
              "#fb9f3a"
             ],
             [
              0.8888888888888888,
              "#fdca26"
             ],
             [
              1,
              "#f0f921"
             ]
            ],
            "type": "histogram2d"
           }
          ],
          "histogram2dcontour": [
           {
            "colorbar": {
             "outlinewidth": 0,
             "ticks": ""
            },
            "colorscale": [
             [
              0,
              "#0d0887"
             ],
             [
              0.1111111111111111,
              "#46039f"
             ],
             [
              0.2222222222222222,
              "#7201a8"
             ],
             [
              0.3333333333333333,
              "#9c179e"
             ],
             [
              0.4444444444444444,
              "#bd3786"
             ],
             [
              0.5555555555555556,
              "#d8576b"
             ],
             [
              0.6666666666666666,
              "#ed7953"
             ],
             [
              0.7777777777777778,
              "#fb9f3a"
             ],
             [
              0.8888888888888888,
              "#fdca26"
             ],
             [
              1,
              "#f0f921"
             ]
            ],
            "type": "histogram2dcontour"
           }
          ],
          "mesh3d": [
           {
            "colorbar": {
             "outlinewidth": 0,
             "ticks": ""
            },
            "type": "mesh3d"
           }
          ],
          "parcoords": [
           {
            "line": {
             "colorbar": {
              "outlinewidth": 0,
              "ticks": ""
             }
            },
            "type": "parcoords"
           }
          ],
          "pie": [
           {
            "automargin": true,
            "type": "pie"
           }
          ],
          "scatter": [
           {
            "fillpattern": {
             "fillmode": "overlay",
             "size": 10,
             "solidity": 0.2
            },
            "type": "scatter"
           }
          ],
          "scatter3d": [
           {
            "line": {
             "colorbar": {
              "outlinewidth": 0,
              "ticks": ""
             }
            },
            "marker": {
             "colorbar": {
              "outlinewidth": 0,
              "ticks": ""
             }
            },
            "type": "scatter3d"
           }
          ],
          "scattercarpet": [
           {
            "marker": {
             "colorbar": {
              "outlinewidth": 0,
              "ticks": ""
             }
            },
            "type": "scattercarpet"
           }
          ],
          "scattergeo": [
           {
            "marker": {
             "colorbar": {
              "outlinewidth": 0,
              "ticks": ""
             }
            },
            "type": "scattergeo"
           }
          ],
          "scattergl": [
           {
            "marker": {
             "colorbar": {
              "outlinewidth": 0,
              "ticks": ""
             }
            },
            "type": "scattergl"
           }
          ],
          "scattermap": [
           {
            "marker": {
             "colorbar": {
              "outlinewidth": 0,
              "ticks": ""
             }
            },
            "type": "scattermap"
           }
          ],
          "scattermapbox": [
           {
            "marker": {
             "colorbar": {
              "outlinewidth": 0,
              "ticks": ""
             }
            },
            "type": "scattermapbox"
           }
          ],
          "scatterpolar": [
           {
            "marker": {
             "colorbar": {
              "outlinewidth": 0,
              "ticks": ""
             }
            },
            "type": "scatterpolar"
           }
          ],
          "scatterpolargl": [
           {
            "marker": {
             "colorbar": {
              "outlinewidth": 0,
              "ticks": ""
             }
            },
            "type": "scatterpolargl"
           }
          ],
          "scatterternary": [
           {
            "marker": {
             "colorbar": {
              "outlinewidth": 0,
              "ticks": ""
             }
            },
            "type": "scatterternary"
           }
          ],
          "surface": [
           {
            "colorbar": {
             "outlinewidth": 0,
             "ticks": ""
            },
            "colorscale": [
             [
              0,
              "#0d0887"
             ],
             [
              0.1111111111111111,
              "#46039f"
             ],
             [
              0.2222222222222222,
              "#7201a8"
             ],
             [
              0.3333333333333333,
              "#9c179e"
             ],
             [
              0.4444444444444444,
              "#bd3786"
             ],
             [
              0.5555555555555556,
              "#d8576b"
             ],
             [
              0.6666666666666666,
              "#ed7953"
             ],
             [
              0.7777777777777778,
              "#fb9f3a"
             ],
             [
              0.8888888888888888,
              "#fdca26"
             ],
             [
              1,
              "#f0f921"
             ]
            ],
            "type": "surface"
           }
          ],
          "table": [
           {
            "cells": {
             "fill": {
              "color": "#EBF0F8"
             },
             "line": {
              "color": "white"
             }
            },
            "header": {
             "fill": {
              "color": "#C8D4E3"
             },
             "line": {
              "color": "white"
             }
            },
            "type": "table"
           }
          ]
         },
         "layout": {
          "annotationdefaults": {
           "arrowcolor": "#2a3f5f",
           "arrowhead": 0,
           "arrowwidth": 1
          },
          "autotypenumbers": "strict",
          "coloraxis": {
           "colorbar": {
            "outlinewidth": 0,
            "ticks": ""
           }
          },
          "colorscale": {
           "diverging": [
            [
             0,
             "#8e0152"
            ],
            [
             0.1,
             "#c51b7d"
            ],
            [
             0.2,
             "#de77ae"
            ],
            [
             0.3,
             "#f1b6da"
            ],
            [
             0.4,
             "#fde0ef"
            ],
            [
             0.5,
             "#f7f7f7"
            ],
            [
             0.6,
             "#e6f5d0"
            ],
            [
             0.7,
             "#b8e186"
            ],
            [
             0.8,
             "#7fbc41"
            ],
            [
             0.9,
             "#4d9221"
            ],
            [
             1,
             "#276419"
            ]
           ],
           "sequential": [
            [
             0,
             "#0d0887"
            ],
            [
             0.1111111111111111,
             "#46039f"
            ],
            [
             0.2222222222222222,
             "#7201a8"
            ],
            [
             0.3333333333333333,
             "#9c179e"
            ],
            [
             0.4444444444444444,
             "#bd3786"
            ],
            [
             0.5555555555555556,
             "#d8576b"
            ],
            [
             0.6666666666666666,
             "#ed7953"
            ],
            [
             0.7777777777777778,
             "#fb9f3a"
            ],
            [
             0.8888888888888888,
             "#fdca26"
            ],
            [
             1,
             "#f0f921"
            ]
           ],
           "sequentialminus": [
            [
             0,
             "#0d0887"
            ],
            [
             0.1111111111111111,
             "#46039f"
            ],
            [
             0.2222222222222222,
             "#7201a8"
            ],
            [
             0.3333333333333333,
             "#9c179e"
            ],
            [
             0.4444444444444444,
             "#bd3786"
            ],
            [
             0.5555555555555556,
             "#d8576b"
            ],
            [
             0.6666666666666666,
             "#ed7953"
            ],
            [
             0.7777777777777778,
             "#fb9f3a"
            ],
            [
             0.8888888888888888,
             "#fdca26"
            ],
            [
             1,
             "#f0f921"
            ]
           ]
          },
          "colorway": [
           "#636efa",
           "#EF553B",
           "#00cc96",
           "#ab63fa",
           "#FFA15A",
           "#19d3f3",
           "#FF6692",
           "#B6E880",
           "#FF97FF",
           "#FECB52"
          ],
          "font": {
           "color": "#2a3f5f"
          },
          "geo": {
           "bgcolor": "white",
           "lakecolor": "white",
           "landcolor": "#E5ECF6",
           "showlakes": true,
           "showland": true,
           "subunitcolor": "white"
          },
          "hoverlabel": {
           "align": "left"
          },
          "hovermode": "closest",
          "mapbox": {
           "style": "light"
          },
          "paper_bgcolor": "white",
          "plot_bgcolor": "#E5ECF6",
          "polar": {
           "angularaxis": {
            "gridcolor": "white",
            "linecolor": "white",
            "ticks": ""
           },
           "bgcolor": "#E5ECF6",
           "radialaxis": {
            "gridcolor": "white",
            "linecolor": "white",
            "ticks": ""
           }
          },
          "scene": {
           "xaxis": {
            "backgroundcolor": "#E5ECF6",
            "gridcolor": "white",
            "gridwidth": 2,
            "linecolor": "white",
            "showbackground": true,
            "ticks": "",
            "zerolinecolor": "white"
           },
           "yaxis": {
            "backgroundcolor": "#E5ECF6",
            "gridcolor": "white",
            "gridwidth": 2,
            "linecolor": "white",
            "showbackground": true,
            "ticks": "",
            "zerolinecolor": "white"
           },
           "zaxis": {
            "backgroundcolor": "#E5ECF6",
            "gridcolor": "white",
            "gridwidth": 2,
            "linecolor": "white",
            "showbackground": true,
            "ticks": "",
            "zerolinecolor": "white"
           }
          },
          "shapedefaults": {
           "line": {
            "color": "#2a3f5f"
           }
          },
          "ternary": {
           "aaxis": {
            "gridcolor": "white",
            "linecolor": "white",
            "ticks": ""
           },
           "baxis": {
            "gridcolor": "white",
            "linecolor": "white",
            "ticks": ""
           },
           "bgcolor": "#E5ECF6",
           "caxis": {
            "gridcolor": "white",
            "linecolor": "white",
            "ticks": ""
           }
          },
          "title": {
           "x": 0.05
          },
          "xaxis": {
           "automargin": true,
           "gridcolor": "white",
           "linecolor": "white",
           "ticks": "",
           "title": {
            "standoff": 15
           },
           "zerolinecolor": "white",
           "zerolinewidth": 2
          },
          "yaxis": {
           "automargin": true,
           "gridcolor": "white",
           "linecolor": "white",
           "ticks": "",
           "title": {
            "standoff": 15
           },
           "zerolinecolor": "white",
           "zerolinewidth": 2
          }
         }
        },
        "title": {
         "text": "<b>Top 10 Movie Genres</b>",
         "x": 0.5
        },
        "xaxis": {
         "anchor": "y",
         "domain": [
          0,
          1
         ],
         "title": {
          "text": "category"
         }
        },
        "yaxis": {
         "anchor": "x",
         "domain": [
          0,
          1
         ],
         "title": {
          "text": "count"
         }
        }
       }
      }
     },
     "metadata": {},
     "output_type": "display_data"
    }
   ],
   "source": [
    "moviefilter=df[df.type=='Movie'].drop_duplicates()\n",
    "genre_count = moviefilter['category'].value_counts().reset_index().head(10)\n",
    "fig = px.bar(genre_count, x='category', y='count', title='<b>Top 10 Movie Genres</b>', color_discrete_sequence=['red']).update_layout(title={'x':0.5})\n",
    "fig\n"
   ]
  },
  {
   "cell_type": "code",
   "execution_count": 161,
   "id": "51f43bac",
   "metadata": {},
   "outputs": [
    {
     "data": {
      "text/plain": [
       "np.int64(6126)"
      ]
     },
     "execution_count": 161,
     "metadata": {},
     "output_type": "execute_result"
    }
   ],
   "source": [
    "moviefilter.show_id.drop_duplicates().count()"
   ]
  },
  {
   "cell_type": "code",
   "execution_count": 162,
   "id": "01447345",
   "metadata": {},
   "outputs": [],
   "source": [
    "moviefilter['movies_minutes'] = moviefilter['movies_minutes'].astype('int64')\n"
   ]
  },
  {
   "cell_type": "code",
   "execution_count": 163,
   "id": "0db2b0d5",
   "metadata": {},
   "outputs": [
    {
     "data": {
      "application/vnd.plotly.v1+json": {
       "config": {
        "plotlyServerURL": "https://plot.ly"
       },
       "data": [
        {
         "bingroup": "x",
         "hovertemplate": "movies_minutes=%{x}<br>count=%{y}<extra></extra>",
         "legendgroup": "",
         "marker": {
          "color": "red",
          "pattern": {
           "shape": ""
          }
         },
         "name": "",
         "nbinsx": 30,
         "orientation": "v",
         "showlegend": false,
         "type": "histogram",
         "x": {
          "bdata": "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",
          "dtype": "i2"
         },
         "xaxis": "x",
         "yaxis": "y"
        }
       ],
       "layout": {
        "barmode": "relative",
        "legend": {
         "tracegroupgap": 0
        },
        "template": {
         "data": {
          "bar": [
           {
            "error_x": {
             "color": "#2a3f5f"
            },
            "error_y": {
             "color": "#2a3f5f"
            },
            "marker": {
             "line": {
              "color": "#E5ECF6",
              "width": 0.5
             },
             "pattern": {
              "fillmode": "overlay",
              "size": 10,
              "solidity": 0.2
             }
            },
            "type": "bar"
           }
          ],
          "barpolar": [
           {
            "marker": {
             "line": {
              "color": "#E5ECF6",
              "width": 0.5
             },
             "pattern": {
              "fillmode": "overlay",
              "size": 10,
              "solidity": 0.2
             }
            },
            "type": "barpolar"
           }
          ],
          "carpet": [
           {
            "aaxis": {
             "endlinecolor": "#2a3f5f",
             "gridcolor": "white",
             "linecolor": "white",
             "minorgridcolor": "white",
             "startlinecolor": "#2a3f5f"
            },
            "baxis": {
             "endlinecolor": "#2a3f5f",
             "gridcolor": "white",
             "linecolor": "white",
             "minorgridcolor": "white",
             "startlinecolor": "#2a3f5f"
            },
            "type": "carpet"
           }
          ],
          "choropleth": [
           {
            "colorbar": {
             "outlinewidth": 0,
             "ticks": ""
            },
            "type": "choropleth"
           }
          ],
          "contour": [
           {
            "colorbar": {
             "outlinewidth": 0,
             "ticks": ""
            },
            "colorscale": [
             [
              0,
              "#0d0887"
             ],
             [
              0.1111111111111111,
              "#46039f"
             ],
             [
              0.2222222222222222,
              "#7201a8"
             ],
             [
              0.3333333333333333,
              "#9c179e"
             ],
             [
              0.4444444444444444,
              "#bd3786"
             ],
             [
              0.5555555555555556,
              "#d8576b"
             ],
             [
              0.6666666666666666,
              "#ed7953"
             ],
             [
              0.7777777777777778,
              "#fb9f3a"
             ],
             [
              0.8888888888888888,
              "#fdca26"
             ],
             [
              1,
              "#f0f921"
             ]
            ],
            "type": "contour"
           }
          ],
          "contourcarpet": [
           {
            "colorbar": {
             "outlinewidth": 0,
             "ticks": ""
            },
            "type": "contourcarpet"
           }
          ],
          "heatmap": [
           {
            "colorbar": {
             "outlinewidth": 0,
             "ticks": ""
            },
            "colorscale": [
             [
              0,
              "#0d0887"
             ],
             [
              0.1111111111111111,
              "#46039f"
             ],
             [
              0.2222222222222222,
              "#7201a8"
             ],
             [
              0.3333333333333333,
              "#9c179e"
             ],
             [
              0.4444444444444444,
              "#bd3786"
             ],
             [
              0.5555555555555556,
              "#d8576b"
             ],
             [
              0.6666666666666666,
              "#ed7953"
             ],
             [
              0.7777777777777778,
              "#fb9f3a"
             ],
             [
              0.8888888888888888,
              "#fdca26"
             ],
             [
              1,
              "#f0f921"
             ]
            ],
            "type": "heatmap"
           }
          ],
          "histogram": [
           {
            "marker": {
             "pattern": {
              "fillmode": "overlay",
              "size": 10,
              "solidity": 0.2
             }
            },
            "type": "histogram"
           }
          ],
          "histogram2d": [
           {
            "colorbar": {
             "outlinewidth": 0,
             "ticks": ""
            },
            "colorscale": [
             [
              0,
              "#0d0887"
             ],
             [
              0.1111111111111111,
              "#46039f"
             ],
             [
              0.2222222222222222,
              "#7201a8"
             ],
             [
              0.3333333333333333,
              "#9c179e"
             ],
             [
              0.4444444444444444,
              "#bd3786"
             ],
             [
              0.5555555555555556,
              "#d8576b"
             ],
             [
              0.6666666666666666,
              "#ed7953"
             ],
             [
              0.7777777777777778,
              "#fb9f3a"
             ],
             [
              0.8888888888888888,
              "#fdca26"
             ],
             [
              1,
              "#f0f921"
             ]
            ],
            "type": "histogram2d"
           }
          ],
          "histogram2dcontour": [
           {
            "colorbar": {
             "outlinewidth": 0,
             "ticks": ""
            },
            "colorscale": [
             [
              0,
              "#0d0887"
             ],
             [
              0.1111111111111111,
              "#46039f"
             ],
             [
              0.2222222222222222,
              "#7201a8"
             ],
             [
              0.3333333333333333,
              "#9c179e"
             ],
             [
              0.4444444444444444,
              "#bd3786"
             ],
             [
              0.5555555555555556,
              "#d8576b"
             ],
             [
              0.6666666666666666,
              "#ed7953"
             ],
             [
              0.7777777777777778,
              "#fb9f3a"
             ],
             [
              0.8888888888888888,
              "#fdca26"
             ],
             [
              1,
              "#f0f921"
             ]
            ],
            "type": "histogram2dcontour"
           }
          ],
          "mesh3d": [
           {
            "colorbar": {
             "outlinewidth": 0,
             "ticks": ""
            },
            "type": "mesh3d"
           }
          ],
          "parcoords": [
           {
            "line": {
             "colorbar": {
              "outlinewidth": 0,
              "ticks": ""
             }
            },
            "type": "parcoords"
           }
          ],
          "pie": [
           {
            "automargin": true,
            "type": "pie"
           }
          ],
          "scatter": [
           {
            "fillpattern": {
             "fillmode": "overlay",
             "size": 10,
             "solidity": 0.2
            },
            "type": "scatter"
           }
          ],
          "scatter3d": [
           {
            "line": {
             "colorbar": {
              "outlinewidth": 0,
              "ticks": ""
             }
            },
            "marker": {
             "colorbar": {
              "outlinewidth": 0,
              "ticks": ""
             }
            },
            "type": "scatter3d"
           }
          ],
          "scattercarpet": [
           {
            "marker": {
             "colorbar": {
              "outlinewidth": 0,
              "ticks": ""
             }
            },
            "type": "scattercarpet"
           }
          ],
          "scattergeo": [
           {
            "marker": {
             "colorbar": {
              "outlinewidth": 0,
              "ticks": ""
             }
            },
            "type": "scattergeo"
           }
          ],
          "scattergl": [
           {
            "marker": {
             "colorbar": {
              "outlinewidth": 0,
              "ticks": ""
             }
            },
            "type": "scattergl"
           }
          ],
          "scattermap": [
           {
            "marker": {
             "colorbar": {
              "outlinewidth": 0,
              "ticks": ""
             }
            },
            "type": "scattermap"
           }
          ],
          "scattermapbox": [
           {
            "marker": {
             "colorbar": {
              "outlinewidth": 0,
              "ticks": ""
             }
            },
            "type": "scattermapbox"
           }
          ],
          "scatterpolar": [
           {
            "marker": {
             "colorbar": {
              "outlinewidth": 0,
              "ticks": ""
             }
            },
            "type": "scatterpolar"
           }
          ],
          "scatterpolargl": [
           {
            "marker": {
             "colorbar": {
              "outlinewidth": 0,
              "ticks": ""
             }
            },
            "type": "scatterpolargl"
           }
          ],
          "scatterternary": [
           {
            "marker": {
             "colorbar": {
              "outlinewidth": 0,
              "ticks": ""
             }
            },
            "type": "scatterternary"
           }
          ],
          "surface": [
           {
            "colorbar": {
             "outlinewidth": 0,
             "ticks": ""
            },
            "colorscale": [
             [
              0,
              "#0d0887"
             ],
             [
              0.1111111111111111,
              "#46039f"
             ],
             [
              0.2222222222222222,
              "#7201a8"
             ],
             [
              0.3333333333333333,
              "#9c179e"
             ],
             [
              0.4444444444444444,
              "#bd3786"
             ],
             [
              0.5555555555555556,
              "#d8576b"
             ],
             [
              0.6666666666666666,
              "#ed7953"
             ],
             [
              0.7777777777777778,
              "#fb9f3a"
             ],
             [
              0.8888888888888888,
              "#fdca26"
             ],
             [
              1,
              "#f0f921"
             ]
            ],
            "type": "surface"
           }
          ],
          "table": [
           {
            "cells": {
             "fill": {
              "color": "#EBF0F8"
             },
             "line": {
              "color": "white"
             }
            },
            "header": {
             "fill": {
              "color": "#C8D4E3"
             },
             "line": {
              "color": "white"
             }
            },
            "type": "table"
           }
          ]
         },
         "layout": {
          "annotationdefaults": {
           "arrowcolor": "#2a3f5f",
           "arrowhead": 0,
           "arrowwidth": 1
          },
          "autotypenumbers": "strict",
          "coloraxis": {
           "colorbar": {
            "outlinewidth": 0,
            "ticks": ""
           }
          },
          "colorscale": {
           "diverging": [
            [
             0,
             "#8e0152"
            ],
            [
             0.1,
             "#c51b7d"
            ],
            [
             0.2,
             "#de77ae"
            ],
            [
             0.3,
             "#f1b6da"
            ],
            [
             0.4,
             "#fde0ef"
            ],
            [
             0.5,
             "#f7f7f7"
            ],
            [
             0.6,
             "#e6f5d0"
            ],
            [
             0.7,
             "#b8e186"
            ],
            [
             0.8,
             "#7fbc41"
            ],
            [
             0.9,
             "#4d9221"
            ],
            [
             1,
             "#276419"
            ]
           ],
           "sequential": [
            [
             0,
             "#0d0887"
            ],
            [
             0.1111111111111111,
             "#46039f"
            ],
            [
             0.2222222222222222,
             "#7201a8"
            ],
            [
             0.3333333333333333,
             "#9c179e"
            ],
            [
             0.4444444444444444,
             "#bd3786"
            ],
            [
             0.5555555555555556,
             "#d8576b"
            ],
            [
             0.6666666666666666,
             "#ed7953"
            ],
            [
             0.7777777777777778,
             "#fb9f3a"
            ],
            [
             0.8888888888888888,
             "#fdca26"
            ],
            [
             1,
             "#f0f921"
            ]
           ],
           "sequentialminus": [
            [
             0,
             "#0d0887"
            ],
            [
             0.1111111111111111,
             "#46039f"
            ],
            [
             0.2222222222222222,
             "#7201a8"
            ],
            [
             0.3333333333333333,
             "#9c179e"
            ],
            [
             0.4444444444444444,
             "#bd3786"
            ],
            [
             0.5555555555555556,
             "#d8576b"
            ],
            [
             0.6666666666666666,
             "#ed7953"
            ],
            [
             0.7777777777777778,
             "#fb9f3a"
            ],
            [
             0.8888888888888888,
             "#fdca26"
            ],
            [
             1,
             "#f0f921"
            ]
           ]
          },
          "colorway": [
           "#636efa",
           "#EF553B",
           "#00cc96",
           "#ab63fa",
           "#FFA15A",
           "#19d3f3",
           "#FF6692",
           "#B6E880",
           "#FF97FF",
           "#FECB52"
          ],
          "font": {
           "color": "#2a3f5f"
          },
          "geo": {
           "bgcolor": "white",
           "lakecolor": "white",
           "landcolor": "#E5ECF6",
           "showlakes": true,
           "showland": true,
           "subunitcolor": "white"
          },
          "hoverlabel": {
           "align": "left"
          },
          "hovermode": "closest",
          "mapbox": {
           "style": "light"
          },
          "paper_bgcolor": "white",
          "plot_bgcolor": "#E5ECF6",
          "polar": {
           "angularaxis": {
            "gridcolor": "white",
            "linecolor": "white",
            "ticks": ""
           },
           "bgcolor": "#E5ECF6",
           "radialaxis": {
            "gridcolor": "white",
            "linecolor": "white",
            "ticks": ""
           }
          },
          "scene": {
           "xaxis": {
            "backgroundcolor": "#E5ECF6",
            "gridcolor": "white",
            "gridwidth": 2,
            "linecolor": "white",
            "showbackground": true,
            "ticks": "",
            "zerolinecolor": "white"
           },
           "yaxis": {
            "backgroundcolor": "#E5ECF6",
            "gridcolor": "white",
            "gridwidth": 2,
            "linecolor": "white",
            "showbackground": true,
            "ticks": "",
            "zerolinecolor": "white"
           },
           "zaxis": {
            "backgroundcolor": "#E5ECF6",
            "gridcolor": "white",
            "gridwidth": 2,
            "linecolor": "white",
            "showbackground": true,
            "ticks": "",
            "zerolinecolor": "white"
           }
          },
          "shapedefaults": {
           "line": {
            "color": "#2a3f5f"
           }
          },
          "ternary": {
           "aaxis": {
            "gridcolor": "white",
            "linecolor": "white",
            "ticks": ""
           },
           "baxis": {
            "gridcolor": "white",
            "linecolor": "white",
            "ticks": ""
           },
           "bgcolor": "#E5ECF6",
           "caxis": {
            "gridcolor": "white",
            "linecolor": "white",
            "ticks": ""
           }
          },
          "title": {
           "x": 0.05
          },
          "xaxis": {
           "automargin": true,
           "gridcolor": "white",
           "linecolor": "white",
           "ticks": "",
           "title": {
            "standoff": 15
           },
           "zerolinecolor": "white",
           "zerolinewidth": 2
          },
          "yaxis": {
           "automargin": true,
           "gridcolor": "white",
           "linecolor": "white",
           "ticks": "",
           "title": {
            "standoff": 15
           },
           "zerolinecolor": "white",
           "zerolinewidth": 2
          }
         }
        },
        "title": {
         "text": "Movie Duration Distribution (minutes)"
        },
        "xaxis": {
         "anchor": "y",
         "domain": [
          0,
          1
         ],
         "title": {
          "text": "movies_minutes"
         }
        },
        "yaxis": {
         "anchor": "x",
         "domain": [
          0,
          1
         ],
         "title": {
          "text": "count"
         }
        }
       }
      }
     },
     "metadata": {},
     "output_type": "display_data"
    }
   ],
   "source": [
    "fig = px.histogram(moviefilter, x='movies_minutes', nbins=30, title='Movie Duration Distribution (minutes)', color_discrete_sequence=['red'])\n",
    "fig"
   ]
  },
  {
   "cell_type": "code",
   "execution_count": 164,
   "id": "84bb302f",
   "metadata": {},
   "outputs": [
    {
     "data": {
      "application/vnd.plotly.v1+json": {
       "config": {
        "plotlyServerURL": "https://plot.ly"
       },
       "data": [
        {
         "hovertemplate": "director=%{x}<br>count=%{y}<extra></extra>",
         "legendgroup": "",
         "marker": {
          "color": "red",
          "pattern": {
           "shape": ""
          }
         },
         "name": "",
         "orientation": "v",
         "showlegend": false,
         "textposition": "auto",
         "type": "bar",
         "x": [
          "Youssef Chahine",
          "Cathy Garcia-Molina",
          "Martin Scorsese",
          "Lars von Trier",
          "Steven Spielberg",
          "Olivier Assayas",
          "Tom Hooper",
          "Don Michael Paul",
          "Suhas Kadav",
          "Johnnie To"
         ],
         "xaxis": "x",
         "y": {
          "bdata": "LiUkISAeHh0dHA==",
          "dtype": "i1"
         },
         "yaxis": "y"
        }
       ],
       "layout": {
        "barmode": "relative",
        "legend": {
         "tracegroupgap": 0
        },
        "template": {
         "data": {
          "bar": [
           {
            "error_x": {
             "color": "#2a3f5f"
            },
            "error_y": {
             "color": "#2a3f5f"
            },
            "marker": {
             "line": {
              "color": "#E5ECF6",
              "width": 0.5
             },
             "pattern": {
              "fillmode": "overlay",
              "size": 10,
              "solidity": 0.2
             }
            },
            "type": "bar"
           }
          ],
          "barpolar": [
           {
            "marker": {
             "line": {
              "color": "#E5ECF6",
              "width": 0.5
             },
             "pattern": {
              "fillmode": "overlay",
              "size": 10,
              "solidity": 0.2
             }
            },
            "type": "barpolar"
           }
          ],
          "carpet": [
           {
            "aaxis": {
             "endlinecolor": "#2a3f5f",
             "gridcolor": "white",
             "linecolor": "white",
             "minorgridcolor": "white",
             "startlinecolor": "#2a3f5f"
            },
            "baxis": {
             "endlinecolor": "#2a3f5f",
             "gridcolor": "white",
             "linecolor": "white",
             "minorgridcolor": "white",
             "startlinecolor": "#2a3f5f"
            },
            "type": "carpet"
           }
          ],
          "choropleth": [
           {
            "colorbar": {
             "outlinewidth": 0,
             "ticks": ""
            },
            "type": "choropleth"
           }
          ],
          "contour": [
           {
            "colorbar": {
             "outlinewidth": 0,
             "ticks": ""
            },
            "colorscale": [
             [
              0,
              "#0d0887"
             ],
             [
              0.1111111111111111,
              "#46039f"
             ],
             [
              0.2222222222222222,
              "#7201a8"
             ],
             [
              0.3333333333333333,
              "#9c179e"
             ],
             [
              0.4444444444444444,
              "#bd3786"
             ],
             [
              0.5555555555555556,
              "#d8576b"
             ],
             [
              0.6666666666666666,
              "#ed7953"
             ],
             [
              0.7777777777777778,
              "#fb9f3a"
             ],
             [
              0.8888888888888888,
              "#fdca26"
             ],
             [
              1,
              "#f0f921"
             ]
            ],
            "type": "contour"
           }
          ],
          "contourcarpet": [
           {
            "colorbar": {
             "outlinewidth": 0,
             "ticks": ""
            },
            "type": "contourcarpet"
           }
          ],
          "heatmap": [
           {
            "colorbar": {
             "outlinewidth": 0,
             "ticks": ""
            },
            "colorscale": [
             [
              0,
              "#0d0887"
             ],
             [
              0.1111111111111111,
              "#46039f"
             ],
             [
              0.2222222222222222,
              "#7201a8"
             ],
             [
              0.3333333333333333,
              "#9c179e"
             ],
             [
              0.4444444444444444,
              "#bd3786"
             ],
             [
              0.5555555555555556,
              "#d8576b"
             ],
             [
              0.6666666666666666,
              "#ed7953"
             ],
             [
              0.7777777777777778,
              "#fb9f3a"
             ],
             [
              0.8888888888888888,
              "#fdca26"
             ],
             [
              1,
              "#f0f921"
             ]
            ],
            "type": "heatmap"
           }
          ],
          "histogram": [
           {
            "marker": {
             "pattern": {
              "fillmode": "overlay",
              "size": 10,
              "solidity": 0.2
             }
            },
            "type": "histogram"
           }
          ],
          "histogram2d": [
           {
            "colorbar": {
             "outlinewidth": 0,
             "ticks": ""
            },
            "colorscale": [
             [
              0,
              "#0d0887"
             ],
             [
              0.1111111111111111,
              "#46039f"
             ],
             [
              0.2222222222222222,
              "#7201a8"
             ],
             [
              0.3333333333333333,
              "#9c179e"
             ],
             [
              0.4444444444444444,
              "#bd3786"
             ],
             [
              0.5555555555555556,
              "#d8576b"
             ],
             [
              0.6666666666666666,
              "#ed7953"
             ],
             [
              0.7777777777777778,
              "#fb9f3a"
             ],
             [
              0.8888888888888888,
              "#fdca26"
             ],
             [
              1,
              "#f0f921"
             ]
            ],
            "type": "histogram2d"
           }
          ],
          "histogram2dcontour": [
           {
            "colorbar": {
             "outlinewidth": 0,
             "ticks": ""
            },
            "colorscale": [
             [
              0,
              "#0d0887"
             ],
             [
              0.1111111111111111,
              "#46039f"
             ],
             [
              0.2222222222222222,
              "#7201a8"
             ],
             [
              0.3333333333333333,
              "#9c179e"
             ],
             [
              0.4444444444444444,
              "#bd3786"
             ],
             [
              0.5555555555555556,
              "#d8576b"
             ],
             [
              0.6666666666666666,
              "#ed7953"
             ],
             [
              0.7777777777777778,
              "#fb9f3a"
             ],
             [
              0.8888888888888888,
              "#fdca26"
             ],
             [
              1,
              "#f0f921"
             ]
            ],
            "type": "histogram2dcontour"
           }
          ],
          "mesh3d": [
           {
            "colorbar": {
             "outlinewidth": 0,
             "ticks": ""
            },
            "type": "mesh3d"
           }
          ],
          "parcoords": [
           {
            "line": {
             "colorbar": {
              "outlinewidth": 0,
              "ticks": ""
             }
            },
            "type": "parcoords"
           }
          ],
          "pie": [
           {
            "automargin": true,
            "type": "pie"
           }
          ],
          "scatter": [
           {
            "fillpattern": {
             "fillmode": "overlay",
             "size": 10,
             "solidity": 0.2
            },
            "type": "scatter"
           }
          ],
          "scatter3d": [
           {
            "line": {
             "colorbar": {
              "outlinewidth": 0,
              "ticks": ""
             }
            },
            "marker": {
             "colorbar": {
              "outlinewidth": 0,
              "ticks": ""
             }
            },
            "type": "scatter3d"
           }
          ],
          "scattercarpet": [
           {
            "marker": {
             "colorbar": {
              "outlinewidth": 0,
              "ticks": ""
             }
            },
            "type": "scattercarpet"
           }
          ],
          "scattergeo": [
           {
            "marker": {
             "colorbar": {
              "outlinewidth": 0,
              "ticks": ""
             }
            },
            "type": "scattergeo"
           }
          ],
          "scattergl": [
           {
            "marker": {
             "colorbar": {
              "outlinewidth": 0,
              "ticks": ""
             }
            },
            "type": "scattergl"
           }
          ],
          "scattermap": [
           {
            "marker": {
             "colorbar": {
              "outlinewidth": 0,
              "ticks": ""
             }
            },
            "type": "scattermap"
           }
          ],
          "scattermapbox": [
           {
            "marker": {
             "colorbar": {
              "outlinewidth": 0,
              "ticks": ""
             }
            },
            "type": "scattermapbox"
           }
          ],
          "scatterpolar": [
           {
            "marker": {
             "colorbar": {
              "outlinewidth": 0,
              "ticks": ""
             }
            },
            "type": "scatterpolar"
           }
          ],
          "scatterpolargl": [
           {
            "marker": {
             "colorbar": {
              "outlinewidth": 0,
              "ticks": ""
             }
            },
            "type": "scatterpolargl"
           }
          ],
          "scatterternary": [
           {
            "marker": {
             "colorbar": {
              "outlinewidth": 0,
              "ticks": ""
             }
            },
            "type": "scatterternary"
           }
          ],
          "surface": [
           {
            "colorbar": {
             "outlinewidth": 0,
             "ticks": ""
            },
            "colorscale": [
             [
              0,
              "#0d0887"
             ],
             [
              0.1111111111111111,
              "#46039f"
             ],
             [
              0.2222222222222222,
              "#7201a8"
             ],
             [
              0.3333333333333333,
              "#9c179e"
             ],
             [
              0.4444444444444444,
              "#bd3786"
             ],
             [
              0.5555555555555556,
              "#d8576b"
             ],
             [
              0.6666666666666666,
              "#ed7953"
             ],
             [
              0.7777777777777778,
              "#fb9f3a"
             ],
             [
              0.8888888888888888,
              "#fdca26"
             ],
             [
              1,
              "#f0f921"
             ]
            ],
            "type": "surface"
           }
          ],
          "table": [
           {
            "cells": {
             "fill": {
              "color": "#EBF0F8"
             },
             "line": {
              "color": "white"
             }
            },
            "header": {
             "fill": {
              "color": "#C8D4E3"
             },
             "line": {
              "color": "white"
             }
            },
            "type": "table"
           }
          ]
         },
         "layout": {
          "annotationdefaults": {
           "arrowcolor": "#2a3f5f",
           "arrowhead": 0,
           "arrowwidth": 1
          },
          "autotypenumbers": "strict",
          "coloraxis": {
           "colorbar": {
            "outlinewidth": 0,
            "ticks": ""
           }
          },
          "colorscale": {
           "diverging": [
            [
             0,
             "#8e0152"
            ],
            [
             0.1,
             "#c51b7d"
            ],
            [
             0.2,
             "#de77ae"
            ],
            [
             0.3,
             "#f1b6da"
            ],
            [
             0.4,
             "#fde0ef"
            ],
            [
             0.5,
             "#f7f7f7"
            ],
            [
             0.6,
             "#e6f5d0"
            ],
            [
             0.7,
             "#b8e186"
            ],
            [
             0.8,
             "#7fbc41"
            ],
            [
             0.9,
             "#4d9221"
            ],
            [
             1,
             "#276419"
            ]
           ],
           "sequential": [
            [
             0,
             "#0d0887"
            ],
            [
             0.1111111111111111,
             "#46039f"
            ],
            [
             0.2222222222222222,
             "#7201a8"
            ],
            [
             0.3333333333333333,
             "#9c179e"
            ],
            [
             0.4444444444444444,
             "#bd3786"
            ],
            [
             0.5555555555555556,
             "#d8576b"
            ],
            [
             0.6666666666666666,
             "#ed7953"
            ],
            [
             0.7777777777777778,
             "#fb9f3a"
            ],
            [
             0.8888888888888888,
             "#fdca26"
            ],
            [
             1,
             "#f0f921"
            ]
           ],
           "sequentialminus": [
            [
             0,
             "#0d0887"
            ],
            [
             0.1111111111111111,
             "#46039f"
            ],
            [
             0.2222222222222222,
             "#7201a8"
            ],
            [
             0.3333333333333333,
             "#9c179e"
            ],
            [
             0.4444444444444444,
             "#bd3786"
            ],
            [
             0.5555555555555556,
             "#d8576b"
            ],
            [
             0.6666666666666666,
             "#ed7953"
            ],
            [
             0.7777777777777778,
             "#fb9f3a"
            ],
            [
             0.8888888888888888,
             "#fdca26"
            ],
            [
             1,
             "#f0f921"
            ]
           ]
          },
          "colorway": [
           "#636efa",
           "#EF553B",
           "#00cc96",
           "#ab63fa",
           "#FFA15A",
           "#19d3f3",
           "#FF6692",
           "#B6E880",
           "#FF97FF",
           "#FECB52"
          ],
          "font": {
           "color": "#2a3f5f"
          },
          "geo": {
           "bgcolor": "white",
           "lakecolor": "white",
           "landcolor": "#E5ECF6",
           "showlakes": true,
           "showland": true,
           "subunitcolor": "white"
          },
          "hoverlabel": {
           "align": "left"
          },
          "hovermode": "closest",
          "mapbox": {
           "style": "light"
          },
          "paper_bgcolor": "white",
          "plot_bgcolor": "#E5ECF6",
          "polar": {
           "angularaxis": {
            "gridcolor": "white",
            "linecolor": "white",
            "ticks": ""
           },
           "bgcolor": "#E5ECF6",
           "radialaxis": {
            "gridcolor": "white",
            "linecolor": "white",
            "ticks": ""
           }
          },
          "scene": {
           "xaxis": {
            "backgroundcolor": "#E5ECF6",
            "gridcolor": "white",
            "gridwidth": 2,
            "linecolor": "white",
            "showbackground": true,
            "ticks": "",
            "zerolinecolor": "white"
           },
           "yaxis": {
            "backgroundcolor": "#E5ECF6",
            "gridcolor": "white",
            "gridwidth": 2,
            "linecolor": "white",
            "showbackground": true,
            "ticks": "",
            "zerolinecolor": "white"
           },
           "zaxis": {
            "backgroundcolor": "#E5ECF6",
            "gridcolor": "white",
            "gridwidth": 2,
            "linecolor": "white",
            "showbackground": true,
            "ticks": "",
            "zerolinecolor": "white"
           }
          },
          "shapedefaults": {
           "line": {
            "color": "#2a3f5f"
           }
          },
          "ternary": {
           "aaxis": {
            "gridcolor": "white",
            "linecolor": "white",
            "ticks": ""
           },
           "baxis": {
            "gridcolor": "white",
            "linecolor": "white",
            "ticks": ""
           },
           "bgcolor": "#E5ECF6",
           "caxis": {
            "gridcolor": "white",
            "linecolor": "white",
            "ticks": ""
           }
          },
          "title": {
           "x": 0.05
          },
          "xaxis": {
           "automargin": true,
           "gridcolor": "white",
           "linecolor": "white",
           "ticks": "",
           "title": {
            "standoff": 15
           },
           "zerolinecolor": "white",
           "zerolinewidth": 2
          },
          "yaxis": {
           "automargin": true,
           "gridcolor": "white",
           "linecolor": "white",
           "ticks": "",
           "title": {
            "standoff": 15
           },
           "zerolinecolor": "white",
           "zerolinewidth": 2
          }
         }
        },
        "title": {
         "text": "<b>Top 10 Movie Directors</b>",
         "x": 0.2
        },
        "xaxis": {
         "anchor": "y",
         "domain": [
          0,
          1
         ],
         "title": {
          "text": "director"
         }
        },
        "yaxis": {
         "anchor": "x",
         "domain": [
          0,
          1
         ],
         "title": {
          "text": "count"
         }
        }
       }
      }
     },
     "metadata": {},
     "output_type": "display_data"
    }
   ],
   "source": [
    "top_directors = moviefilter[moviefilter['director']!='Not identified']\n",
    "top_directors=top_directors.director.value_counts().reset_index().head(10).sort_values(by='count',ascending=False)\n",
    "figd = px.bar(top_directors, x='director', y='count', title='<b>Top 10 Movie Directors</b>', color_discrete_sequence=['red']).update_layout(title={'x':0.2})\n",
    "figd"
   ]
  },
  {
   "cell_type": "code",
   "execution_count": 165,
   "id": "18d73a54",
   "metadata": {},
   "outputs": [
    {
     "data": {
      "application/vnd.microsoft.datawrangler.viewer.v0+json": {
       "columns": [
        {
         "name": "index",
         "rawType": "int64",
         "type": "integer"
        },
        {
         "name": "director",
         "rawType": "object",
         "type": "string"
        },
        {
         "name": "count",
         "rawType": "int64",
         "type": "integer"
        }
       ],
       "ref": "a8b208da-b5c4-4d58-a455-22deed976bfe",
       "rows": [
        [
         "0",
         "Youssef Chahine",
         "46"
        ],
        [
         "1",
         "Cathy Garcia-Molina",
         "37"
        ],
        [
         "2",
         "Martin Scorsese",
         "36"
        ],
        [
         "3",
         "Lars von Trier",
         "33"
        ],
        [
         "4",
         "Steven Spielberg",
         "32"
        ],
        [
         "5",
         "Olivier Assayas",
         "30"
        ],
        [
         "6",
         "Tom Hooper",
         "30"
        ],
        [
         "7",
         "Don Michael Paul",
         "29"
        ],
        [
         "8",
         "Suhas Kadav",
         "29"
        ],
        [
         "9",
         "Johnnie To",
         "28"
        ]
       ],
       "shape": {
        "columns": 2,
        "rows": 10
       }
      },
      "text/html": [
       "<div>\n",
       "<style scoped>\n",
       "    .dataframe tbody tr th:only-of-type {\n",
       "        vertical-align: middle;\n",
       "    }\n",
       "\n",
       "    .dataframe tbody tr th {\n",
       "        vertical-align: top;\n",
       "    }\n",
       "\n",
       "    .dataframe thead th {\n",
       "        text-align: right;\n",
       "    }\n",
       "</style>\n",
       "<table border=\"1\" class=\"dataframe\">\n",
       "  <thead>\n",
       "    <tr style=\"text-align: right;\">\n",
       "      <th></th>\n",
       "      <th>director</th>\n",
       "      <th>count</th>\n",
       "    </tr>\n",
       "  </thead>\n",
       "  <tbody>\n",
       "    <tr>\n",
       "      <th>0</th>\n",
       "      <td>Youssef Chahine</td>\n",
       "      <td>46</td>\n",
       "    </tr>\n",
       "    <tr>\n",
       "      <th>1</th>\n",
       "      <td>Cathy Garcia-Molina</td>\n",
       "      <td>37</td>\n",
       "    </tr>\n",
       "    <tr>\n",
       "      <th>2</th>\n",
       "      <td>Martin Scorsese</td>\n",
       "      <td>36</td>\n",
       "    </tr>\n",
       "    <tr>\n",
       "      <th>3</th>\n",
       "      <td>Lars von Trier</td>\n",
       "      <td>33</td>\n",
       "    </tr>\n",
       "    <tr>\n",
       "      <th>4</th>\n",
       "      <td>Steven Spielberg</td>\n",
       "      <td>32</td>\n",
       "    </tr>\n",
       "    <tr>\n",
       "      <th>5</th>\n",
       "      <td>Olivier Assayas</td>\n",
       "      <td>30</td>\n",
       "    </tr>\n",
       "    <tr>\n",
       "      <th>6</th>\n",
       "      <td>Tom Hooper</td>\n",
       "      <td>30</td>\n",
       "    </tr>\n",
       "    <tr>\n",
       "      <th>7</th>\n",
       "      <td>Don Michael Paul</td>\n",
       "      <td>29</td>\n",
       "    </tr>\n",
       "    <tr>\n",
       "      <th>8</th>\n",
       "      <td>Suhas Kadav</td>\n",
       "      <td>29</td>\n",
       "    </tr>\n",
       "    <tr>\n",
       "      <th>9</th>\n",
       "      <td>Johnnie To</td>\n",
       "      <td>28</td>\n",
       "    </tr>\n",
       "  </tbody>\n",
       "</table>\n",
       "</div>"
      ],
      "text/plain": [
       "              director  count\n",
       "0      Youssef Chahine     46\n",
       "1  Cathy Garcia-Molina     37\n",
       "2      Martin Scorsese     36\n",
       "3       Lars von Trier     33\n",
       "4     Steven Spielberg     32\n",
       "5      Olivier Assayas     30\n",
       "6           Tom Hooper     30\n",
       "7     Don Michael Paul     29\n",
       "8          Suhas Kadav     29\n",
       "9           Johnnie To     28"
      ]
     },
     "execution_count": 165,
     "metadata": {},
     "output_type": "execute_result"
    }
   ],
   "source": [
    "top_directors"
   ]
  },
  {
   "cell_type": "code",
   "execution_count": 166,
   "id": "fcf6dc99",
   "metadata": {},
   "outputs": [
    {
     "data": {
      "application/vnd.plotly.v1+json": {
       "config": {
        "plotlyServerURL": "https://plot.ly"
       },
       "data": [
        {
         "bingroup": "x",
         "hovertemplate": "number_ofseasons=%{x}<br>count=%{y}<extra></extra>",
         "legendgroup": "",
         "marker": {
          "color": "red",
          "pattern": {
           "shape": ""
          }
         },
         "name": "",
         "nbinsx": 10,
         "orientation": "v",
         "showlegend": false,
         "type": "histogram",
         "x": {
          "bdata": "AgICAQEBAQECAgIBAQEJCQEBAQEBAQEBAQQEAgICAQEBAQEBBQUFAgICAQMDAwEBAQEBAQMBAQEBAQICAQEBBgYBAQkJAQEBAQEFBQUCAQEGBgYBAQECAgQCAgIDAwICAgEBAQEBAQIBAQICBQUBAQEFBQUBAQEBAQEBAQEBAQMDAQEBAQEBAQECAwMDBAEBAQEBAQEBAQECAgEBAQEBAQEBAQEBAQICAwMBAQEBBAQBAQEBAQEBAQEBAQEBAQMBAQMDAwEBAQEBAQEBAQUBAQECAQEBAQECAQEBBQEBAQcHAQEBAgICAQEBAQIBAQEBAQEBAQEBAQEBAQEBAQEDAQECAgIBAQEBAQEBAQEBAQEBAQEBAQcDAQEBBQUGBgMDAQEDAwMBAQEBAQICAgEBBwcHAQEBAwMDAwMEBAEBCgoKBAQEBAQEAQEBAQEBAQICAgIFAQEBAQEBAQEBAQEBAwMBAQEBAQICAQEBAgICAQEBAQQEBAICAgEBAQEDAwEBAQEBAQEBAQECAgICAQEBAwICAgICBAQDAwMFBQUCAgICAgICAgICAgICBQUDAwMDAwMCAggIBwcCAgICAgMDAwMDAgIDAwMGBgICAgICAgICAgQEBAQCAgICAgIFBQMDAQEBARERAQECAgIBAQEBAQEBAQEBAQEBAQEDAwEBAQEBAQEBAQEBAQEBAQEEBQUBAQEBAQEBAQECAgEBAgIBAQICAgEBAQEBAQQEBAQEBAEBAQICAgICAgIBAQEGBgYDAwUFBQEBAQIBAQEEBAQGBgEBAQEBAQEBAQEBBAQEAgICAQEBAQECAgICAgIBAQEBAQEBAQMDAwEBAQEBAQMDAwEBAQEBAQEBAQEBAgEBAQEBAgICAgICAgICAQEBAQEBAQEBAQEBAQICAgICAQEBAgICAQEBAQEBAQECAgIBAQIDBgYGAwEBAQEBAQEBAwMDAgICAwMCAgIBAQEBAQEBAQICAgICAgEDAwEBAQMDAwMDAgICAgEBAgICAQEBAQMDAwMDAwICAgEBAQEBBAQEAQEBAQEBAQEBAgIBAQECAgMDAgICAgEBAQEBAgICAQEBAQEBAQEBAQEBAQEBAQEBAQEBAQEBAQICAgIDAwEBAQEBAQEBAQEBBwcHAQEBAQEBAwMBAQEBAgIBAQEBAQEBAQEGBgEBAQEBAQEBAQEBAQEBAwMDAQEBAQEBAQEBAQEBAQEBAQQEAQEBAQEBAQICAgEBAQEBAQECAgICAgICAgICAgICAgIBAQEBAQEBAQICAQEBBAEBAQEBAQEBBgYGAQEEBAICAQMCAgIBAQEBAQEBAQEBAQEBAQEBAgICAwEBAQEBAQEBAQEBAQEBAQEBAQEEBAQBAQEBBQEBAQEBAQEBAQEBAwMDAwMDAQEBAQEBAQEBAgIBAQEBAQEBAQEBAQEBAQEBAQEBAQEBBAQEAwMDBAQBAQIBAQEBAQEBAQEBAQECAgMDAwICAgEBAQEBAQEBAgICDQEBAQEBAQEBAQcHBwcHBwICAgICAQEBAQICBAQEAQECAgMDAwEBAQEBAQEEAQQEAwMDAwMFBQUFAQEEBAQFBQUBAQECAgIBAQEBAwMDAwMDAQEBAwMDAgEBAQECAgIBAQEBAQICAgQEBAEBAQEBAQEBAQEBAQEJCQkBAQEBAQEBAgIBAQEBAQECAgICAgICAgICAgICAgICAgICAgICAgIBAQEBAQICAgEBAgIBAQEBAQEBAQEBAQEBAQEBAQEBAQECAgICAgICAgIBAQEBAQECAgEBAQEBAQEBAQQEAQEBAgIDAwMBAQEBAQMDAQEBAQEBAQEBAQEBAQEBBAEBAQMDAQEBAgICAgEBAgQEBAQEBAQEAQEBAQoKCgoKCgEBAQEBAQEBAQEBAQEHBwcBAQECAgICAQEBAQEBAQEBAwMBAQEBAQEBAQQEAQECAQECAgICBAQEBAQECQkJAQEBAQEBAQEBAQEBAQEBAQEBAQEBAQEBAQEBAQEBAQEBAQEBAQEBAQICAgEGBgYBAwEBAgoKCgoBAQEBAQEEBAQEAQEBAgICAQEBAQICBwcEBAMDAwEEAQEBAQEBAQEBAQEBAwICAQEBAQEBAQEBAQEBAQEDAwQEBAUFAgEBAQEDAwEBAQEBAQEBAQEHBwcHBwcBAQEBAQEBAQEBAQEBAwMBAQEBAgICAQEBAQEBAQEBAQEBAwMFAQEBAQEDAwQICAEEBAQEAQEBAwMBAQEBBAEBAQEBAQEHBwcBAQEBAQMDAwEBAgICAgICAgICAgICAgICAQkJCQICAgICAgICAgIIAQEBAQEBBQEBAQEBAQEBAQIBAQEBAQEBAQEBAQECAQEBAQEBAQICAQMDAQEBAQEEBAEBAQYGAQEBAgICAQEBAQEBAQEBAwMBAQEBAQICAQEBAQEBAwMBAQEBAQECAgICAQEBBQUFAgIEBAQBAQEBAQEEBAQBAQEBAQICAQEDAwMDAQEBAQEBAQEBBQMDAwMDAwEBAQEBAQEGBgEBAQEBAQEBAQECAQEBAwICAgICAgEBAQEFCgoBAQEBAQEDAwEBAQEBAQEBAQEBAQEBAgIBAQEBAQEBAQICAgEBAQEBAQEBAQEBAQEBAQQEBAEBAQEBAQEBAgIGBgYBAQEBAQEBAQEBAQEBAQEBAQEBAQEBAQEBAwMDAwMDAQEBAQEBAQEBAQICAgEBAQICAQICAgICAgICAgIEBAYGBgICBAQEAQEEAQEBAQEBAQEBAQEBBQUBAQEBAQEBAQEEBAQEBAQEBAQEBAQEBAQFDw8PDw8PAwMBAgIBAQEBAQMDAQEBAQEBAQICAQEEBAUFAQEBAwEBAQIBAQEBAQEBAQEBAQEBAQEBBgYBAQEBAQEDAwMBAQEGAwMBAQEFBQUBAQEBAQECAQEBAQEBAQMDAwMDAwEBAgICAgEBAQEBAQEBAgICAgIBAQEBAQEBAQEEAwMDAwMDAQEBAQEBAQEBAQEBBwcHBwcHBwcHBQUFBQEBAQEBAQEBAQEBAQICAQEEBAQBAQEBAQICAgEBAQEBAQEBAQEBAwMDAQEBAQEBBQUBAQEBAQEBAQEBAQEBAQEBAQICAgEBAQICAgMDAwEBAQEBAQICAgEBAgICAgICBgEBAwMDAwMGAgICAQMDAwICAgEBAQEBAQEBAgICAQEBAwMDAQEBAgIBAQEBAQEBAQEBAQECAgICAgICBAQEAQEBAQEBAQEBAQEBAQEBAQEBAQEBAQEBAQEBAQEBAQEBAQEBAgICAgICAQEBAgIDAwMBAQEBAgEBBAQEAQEBAwMDAQICAgEBAQEBAQEBAQICAgEBAQEBAQEBAQEBAQEBAQEBAQEBAQEBAQEBAQEBAQEBAQEBAQEBAgICAgICAQEBAQEBAgIEBAQCAgICAgEBAQEBAQEBAQEBAQEICAEBAwMBAQEBAQUFBQUFBQUFAQEBAQECAgIBAQECAgIBAQEBAQEBAQEBAQEBAQEBAQECAgEICAEBAQICAQEBAQEBAQEBAQEBAQEBAQEEBAEBAgEBAQEBAQEBAQEBAQEBAQEEBAEBAQEBAQICAQEBAQEBAQEBAwMDAQEBAQEBAQEBAQEBAQEBAQEBAQICAgIBAQEBAQEBAQEBAQEBAQEBAQEBAQEBAQEDAwMDAwMBAQEBAQECAgICAQEBAQEBAQICAgICAgICAgYGAQEBAQEBAQEBAQEBAQICAgEBAQEBAQEBAQICAQEBAQEBAQICAwMBBQEBAQICAgEBAQEBAQEBAQEBAgEBAQEBAQEBAQQEAgICAQEBAgICAgICAgICAgICAgIBAQEBAQEBAQEBAQECAgIBAQEBAQEBAgEBAQEBAQEBAQMDAwMDAwgIAQEBAQEBAQEBAQEBAQEBAQEBAQECAgEBAgEBAQEBAQEBAQEBAQMDAgICAQEBAQEBAQEBAQEBAgICAQEBAwMDAQEBAQEBAQEBAQEBAgICAQEBAgICAgIDAwMBAQEBAwMBAQEBAQEEBAQCAgICAgICAgEBAgIBAQEBAgMDAQEBAQEBAQEBAgICAgEBAQEBAQEBAQEBAQEBAQEBAQEBAQEBBgEBAQEBAQEBAQEBAQEBAQEBAQEBAQEBAQECAgEBAQECAgICAgIBAQEBAQEBAQEBAQEBAQICAgICAgEBAQEBAQEBAQECAgICAgIFBQUBAQECAgMBAQEBAQEBAQEBAQEBAQEBAQEBAQEBAQEBAQEFBQUBAQEDAwMBAQECAwMDAQEBAQEBAQEBAQEBAgEBAQEBAQEBAQEBAQEBAQEBAQEBAQEBAQEBAQEBAQMDCQkBAQEBAQEBAQEBAQEBAQEBAQMDAgICAwMCAgIBAQEBAQEBAQEBAQEBAQECAgIBAQEBAQEBAQEBAgICAgICAQEBAQECAQMDBQUFAQEBAQEBAQEBBQUFAQEBAQEBAQEBAQEBAQEBAQEBAQEBAQEBAQECAgIBAQEBAQICAgECAgIBAQEDAwEBAQYGAwMBAQEBAQEDAwEBAQEBAQEBAQEBAQICAgMDAQEBAQEBAQEBAwMDAQEBAgICAwMDAQECAgEBAQEBAQEBAQEBAQIBAQEBAQICAgMDAQEBAgICAgICAwMDAQEBAgIBAQECAgICAgICAQEDAwMCAgICAgIBAQEBAQEBAQEBAQEBAQICAgICAgICAgUFAQEBAgMDAwEBAQEBAQEDAwMBAQUFBQMBAQEBAQEBAQICAgICAQEBAQEBAQEBAgICAQECAgICAgEBAQECAgIBAQEBAQEBAQEBAQEBAQEBAwMBAQICAgEBAQEBAQEBAQEBAQEBAQEBAQEBAQEBAQEBAQEBAQEBAQEBAQEBAQEBAQEBAgICAgEBAgIBAQEBAQEBAQEBAQEBAQEBAQEBAQEDAwMFBQUFBQUBAQEBAQEBAQEBAQEBAQEBAgIEBAEHBwEBAQEBAQEDAwMCAgIBAQEBAQEBAQMDCAEBAQEBAQEBAQEBAQEBAQEBAQEBAQEBAwMDAQEBAQEDAwMDAgICAQEBAQEBAQEBAQEBAgICAQEBAQEBAQEBAQEBAQEBAQECAgEBAQEBAQEBAQEBAQEBAQEDAQEBAQEBAQEBAQEBAQICAgEBAQEBAgICAQEDAwMBAQYGAgICAgEBAQEBAQEBAQEBAwMCAgIBAQECAgIDAQEBAQEBAQEBAQEBAQEBAQEBAQIBAQEBAQEBAQEBBQUFAQEBBAQEAQEBAQEBAQEBAQECAgIBAQEDAwMBAQEBAQEBAQEBAgIEAgICBAQEBAEBAQEBAQEBAQMDAw0NAgIBAQEBAQEBAQEBAQEBAQEBAQEBAQEBAQEBAQEBAQEFBQEBAQEBAQECAgEBAQEBAQEBAQEBAQEBAQICAQEBAQEBAQICAgEBAQEBAQEBAQEBAQMDAwMDAwgBAQEBAQICAgEBAgICAQEBAQEBAQEBAQEBAQEBAgIBAQEBAwMDAQEBAgICAgIBAQEBAQEBAQEBAQEBAQICAQEBAQEBAQEBAQEBAQEBAQEBAQEBAQEBAgICAgEBAQEBAQEBAQcHAQICAwEBAgIBAQEBAQEBAQIBAQEDAQEBAQEBAQECAgMDBAQEAQEBAgIFBQUBAQECAgEBAQEBAQEBAQEBAQEEAQEBAQEBAQEBAQEBAQEBAQEBAQEEBAQBAQEBAQEBAQEBAQEBAgMDAwMBAQEBAQEBAQEBAQEBAQEBAQECAgIBAQECAgIBAQEBAQEBAQEBAQEBAQICAQEBAgICAgEBAQMDAwEBAQEBAQEBAQEBAQEBAQICAwMDAwMDAwMBAQEBAQEBAQEBAQEBAQEBAQEBAQEFBQUBAQEBAQEBAQEDAQEBAQEBAQECAgICBgMDAwMDAwEBAQEBAQEBAQEBBAQBAQECAgEBAQICAQEBAgICAgICAgIBAQECAg8PDwEBAQEBAQEBAQEBAQEBAQEBAQECAgIBAQEBAQEBAQQCAgEBAQQFAQEBAQEDAwMDAwMBAQEBBAQEBAQEBAQEAQEDAQEBAQEBAQICAgEBAQEBAQEBAQEBAQEBAgICAQEBAQEBAQEBAQEBAQECAQEBAQEBAQEBAQEBAQEDBwcBAQEBAQECAgIBDAwMAQEBAQEBAQICAQEBAQEBAQEBAQEBAQEBAQEBAQEBAQEBAQEBAQEBAQEBAQEBAQEBAQEBAQECAgIBAQEBAQICAgYGAQEBAQEBAQEBAQgICAEBAQYGAQEBAgICAgICAQEBAQEBAQIBAQEFBQUFAQEBAQEFBQMDAwEBAQEBAQEBAQEBAQEBAQEBAQEBAQEBAQEBAQEBAQEBAgICAQEBAQEEAQEFBQEBAQEBAQEBAQQEBAQDAwMBAQEBAQEBAQEBBgYDAQEBAQEBAQEBAQICAgICBgEBAQEBAQEBAQEBAQEBAQEBAQEBAQEBAQEDAwICAQEBAQEBAQEBAQYGAQECAQEBAQEBAQECAgIEBAQHBwEBAQEBAQEBAQEBAQEBAQEBAgEBBAQEBAMDAgcHAQEBAQEBAQEEAQEBCAgIAQEBAQEBAQEBAQEBAQMDAwMDAwMDAwUBAQEBAQEBAQEBAQEBAQEBAQEBAQEBAQEBAQEBAQEBAQEBAQEBAQUFBQICAgEBAQEBBAQEBAEBAQEBAQEBAQEBAQEBAQEBAQEBAQEDAwMBAQEBAQEBAQEBAQEBAQEBAgICAQEBAQEBAQwMDAwMDAEBAgIFAgICAgICAgICAgEBAQEBAQEBAQEBAQEBAQEBAQEBAQEBAQICAQEBAQEDAQEBAQMDAwEBAQEBAQEBAwEBAQEBAQEBAQICAgEBAQEEBAEBAQIBAQECAgICAgICAgEBAQEBAQMBAQEBAQEBAQEBAQEBAQEBAQEDAwMBAQEBAQEBAQEBAQEBAQEBBwcBAQECAgEBAgICAQEBAQEBAQEBAQEBAQEBAQEBAQEBAgIBAQEFBQUBAQEBAQEBAQEBAQEBAQEBAQEBAQEDAwMCAgIBAQEBAQEBAQEBAQEBAQEBAQEBAQEBAQICAQEBAQEBAQEBAQEBAQEBAQEBAQEBAQEBAQEBAQEBAQICAgEBAQEBAQEBAQEBAQEBAQEBAQEBAQEBAQEBAQQBAQEBAQEBCQkJAQEBAQEBAgIBAQMDAwEBAQEBAQEBAQIDAwICAgIBAQEBAQEBAQEBAQEBAgICAQEBAQECAwEBAQEBAQEBAwMDAQECAgICCgoKAQMDAwMDAwUFAwMDAwQEBAQEBAUFBQEBAQEBAQEBAQEBAQEBAQEBAQEBAQEBAQEBAQICAgEBAQEBAQECAgIBAQEBAQEFAQMDAQEBAQEBAQEBAQEBAQECAgEBAQEBAQEBAQMDAQEBAQEBAQEBBQUFAQEBAQEBAQEBAQEEBAQCAgIBAQEBAQEEBAEBAQEBAQEBAgICAgICAwMDAwMDAQEBAQEBAQEBAQEBAQEBAgIBAQEDAwEBAQEBAQEBAgEBAQEBAQICAQEBAQEBAQEBAQEBAQEBAQEBAQEBAQEBAQEBAQEBAgICAQELCwICAgEBAgICAQEBAQEBAQEBAQEBAQkJCQcHBwgICAEBAQEBAQEBAQEBAQEFBQEBAQEBAQEBAQEBCgoKAQEBAQEBAgIBAQEBAQECAgMDAQEBAQgICAEBAQEBAQEBAQEBAQEBAQEBAQEBAQEBAQEBAQEBAQEBAQEDAwMBAQEBAQEBAQEBAQECAgIBAQEBAQEBAQEBAQEBAQEBAQEBAgICAgEBAQEBAQEBAQEBBgYGAQEBAgICAgIDAQEBAQEBAQEBAQEBAQEBAQEBBAQBAQEBAQEBAQEBAQEBAQEBAQEBAQICAQEBAQEBAQEBAQEBAQEBAQEBAQEBAQEBAQEBAgICAgICAgEBAQYGAgICAwMDAgICAQECAgMDAwEBAQICAgEBAQEBAQEEBAEBAQUFBQUFBQICAQEBAQEBBQUFBQICAQEBAwUDAwMBAQEBAQEDAwMBAQEBAQEBAQEBAQEBAQICAgICAQEBAgEBAQEBAQEBAQEBAQEBAQECAgICAgICAQEBAQEBAQEBAQEBAQECAgICAQEBAQEBAQEBAQEBAgEBAQEBAQEBAQEBAQEBAQEBAQEBAQEBAQEBAQEBAgIBAQEBAQEBAQEBAQEBAQEBAQEBAQEBAQEBAQMDAwEBAQEBAQMBAQMDAwEBAQEBAQECAgQEAQEBAQEBAgIBAQEBAQEBAQEFBQUBAQEBAQEBAQEBAQEBAQEHAQEBAQEBAQEBAQEBAQEBAQEBAQEBAQEBAgICAQEBAQEBAQEBAQEBAQEBAQEBAQEBAQIBAQEBAQEBAQEBAQEBAQEBAgEBAQEBAQICAwMCAgEBAQEBAQEBAQEBAQEBAQEBAQEBAQEBAQEBAQEBAQMDAwMCAgIBAQEBAQEBAQEBAQEBAQEBAQEBAQcHAQEBAQEBAQEBAgICAQEBAQEBAQEBAQEBAwEBAQEBAgcBAQEBAQEBBQUFAwMDAwMDAwMDBQUFAQEBAQEBAQgBAQEBAQEBAQEBAQEBAQEBAQEBAQEBAQEBAQEBAQEBAQEBAQEBAQEBAQEBAQEBAgICAwMDAQEBAQEBAQEBAQEBAQEBAQEBAQEBAQEBAQQEBAICAgYGBgEBAQEBBAQEBQUFBQUFAQEBAQEDAwMICAEBAQMDAQEBAQEBAQEHBwEBAQEBAQEBAQEBAQEBBAQEBAQEAQICAgEBAQEBAQEBAQMDAwMDAwMBAQEBAQEEBAIBAQEBAQEBAQEBAQEBAQEBAQEBAQEBAQEDAwMDAwMBAQEBAQEBAQICAgICAgEBAQEBAQEBCAECAggIAgIBAQEBAQEBAQEBAQEBAQEBAQEBAQEBAQECAgIBAQICAgIBAQEBAQEBAQEBBQICAgIBAQEBAQQEAQEBAQEBAQMDAQEBAwMCAgIBAQEBAQEBAQEGBgYGAQEBAQEBAQEBAQEBAQEBAQEBAQEBAQEBAQEBAQEBBQICAwMDAQEBAQEBAQEBAQkBAQEBAQEBAQEBAQEDAwMCAQEBAQEEBAQEBAQBAQEBAQEBBwEBAQEBAQEBAQEBAQEBAQEBAQEBAQEBAwMDAgIBAQEBAQEBAQEDAQEBAQICAgICBAQEAgIDAwICAQEICAICAgEBAQEBAQUBAQEBAQEBAQEBAQEBAwMBAQEBAQEBAQICAgICAgMDAwMBAQECAgI=",
          "dtype": "i1"
         },
         "xaxis": "x",
         "yaxis": "y"
        }
       ],
       "layout": {
        "barmode": "relative",
        "legend": {
         "tracegroupgap": 0
        },
        "template": {
         "data": {
          "bar": [
           {
            "error_x": {
             "color": "#2a3f5f"
            },
            "error_y": {
             "color": "#2a3f5f"
            },
            "marker": {
             "line": {
              "color": "#E5ECF6",
              "width": 0.5
             },
             "pattern": {
              "fillmode": "overlay",
              "size": 10,
              "solidity": 0.2
             }
            },
            "type": "bar"
           }
          ],
          "barpolar": [
           {
            "marker": {
             "line": {
              "color": "#E5ECF6",
              "width": 0.5
             },
             "pattern": {
              "fillmode": "overlay",
              "size": 10,
              "solidity": 0.2
             }
            },
            "type": "barpolar"
           }
          ],
          "carpet": [
           {
            "aaxis": {
             "endlinecolor": "#2a3f5f",
             "gridcolor": "white",
             "linecolor": "white",
             "minorgridcolor": "white",
             "startlinecolor": "#2a3f5f"
            },
            "baxis": {
             "endlinecolor": "#2a3f5f",
             "gridcolor": "white",
             "linecolor": "white",
             "minorgridcolor": "white",
             "startlinecolor": "#2a3f5f"
            },
            "type": "carpet"
           }
          ],
          "choropleth": [
           {
            "colorbar": {
             "outlinewidth": 0,
             "ticks": ""
            },
            "type": "choropleth"
           }
          ],
          "contour": [
           {
            "colorbar": {
             "outlinewidth": 0,
             "ticks": ""
            },
            "colorscale": [
             [
              0,
              "#0d0887"
             ],
             [
              0.1111111111111111,
              "#46039f"
             ],
             [
              0.2222222222222222,
              "#7201a8"
             ],
             [
              0.3333333333333333,
              "#9c179e"
             ],
             [
              0.4444444444444444,
              "#bd3786"
             ],
             [
              0.5555555555555556,
              "#d8576b"
             ],
             [
              0.6666666666666666,
              "#ed7953"
             ],
             [
              0.7777777777777778,
              "#fb9f3a"
             ],
             [
              0.8888888888888888,
              "#fdca26"
             ],
             [
              1,
              "#f0f921"
             ]
            ],
            "type": "contour"
           }
          ],
          "contourcarpet": [
           {
            "colorbar": {
             "outlinewidth": 0,
             "ticks": ""
            },
            "type": "contourcarpet"
           }
          ],
          "heatmap": [
           {
            "colorbar": {
             "outlinewidth": 0,
             "ticks": ""
            },
            "colorscale": [
             [
              0,
              "#0d0887"
             ],
             [
              0.1111111111111111,
              "#46039f"
             ],
             [
              0.2222222222222222,
              "#7201a8"
             ],
             [
              0.3333333333333333,
              "#9c179e"
             ],
             [
              0.4444444444444444,
              "#bd3786"
             ],
             [
              0.5555555555555556,
              "#d8576b"
             ],
             [
              0.6666666666666666,
              "#ed7953"
             ],
             [
              0.7777777777777778,
              "#fb9f3a"
             ],
             [
              0.8888888888888888,
              "#fdca26"
             ],
             [
              1,
              "#f0f921"
             ]
            ],
            "type": "heatmap"
           }
          ],
          "histogram": [
           {
            "marker": {
             "pattern": {
              "fillmode": "overlay",
              "size": 10,
              "solidity": 0.2
             }
            },
            "type": "histogram"
           }
          ],
          "histogram2d": [
           {
            "colorbar": {
             "outlinewidth": 0,
             "ticks": ""
            },
            "colorscale": [
             [
              0,
              "#0d0887"
             ],
             [
              0.1111111111111111,
              "#46039f"
             ],
             [
              0.2222222222222222,
              "#7201a8"
             ],
             [
              0.3333333333333333,
              "#9c179e"
             ],
             [
              0.4444444444444444,
              "#bd3786"
             ],
             [
              0.5555555555555556,
              "#d8576b"
             ],
             [
              0.6666666666666666,
              "#ed7953"
             ],
             [
              0.7777777777777778,
              "#fb9f3a"
             ],
             [
              0.8888888888888888,
              "#fdca26"
             ],
             [
              1,
              "#f0f921"
             ]
            ],
            "type": "histogram2d"
           }
          ],
          "histogram2dcontour": [
           {
            "colorbar": {
             "outlinewidth": 0,
             "ticks": ""
            },
            "colorscale": [
             [
              0,
              "#0d0887"
             ],
             [
              0.1111111111111111,
              "#46039f"
             ],
             [
              0.2222222222222222,
              "#7201a8"
             ],
             [
              0.3333333333333333,
              "#9c179e"
             ],
             [
              0.4444444444444444,
              "#bd3786"
             ],
             [
              0.5555555555555556,
              "#d8576b"
             ],
             [
              0.6666666666666666,
              "#ed7953"
             ],
             [
              0.7777777777777778,
              "#fb9f3a"
             ],
             [
              0.8888888888888888,
              "#fdca26"
             ],
             [
              1,
              "#f0f921"
             ]
            ],
            "type": "histogram2dcontour"
           }
          ],
          "mesh3d": [
           {
            "colorbar": {
             "outlinewidth": 0,
             "ticks": ""
            },
            "type": "mesh3d"
           }
          ],
          "parcoords": [
           {
            "line": {
             "colorbar": {
              "outlinewidth": 0,
              "ticks": ""
             }
            },
            "type": "parcoords"
           }
          ],
          "pie": [
           {
            "automargin": true,
            "type": "pie"
           }
          ],
          "scatter": [
           {
            "fillpattern": {
             "fillmode": "overlay",
             "size": 10,
             "solidity": 0.2
            },
            "type": "scatter"
           }
          ],
          "scatter3d": [
           {
            "line": {
             "colorbar": {
              "outlinewidth": 0,
              "ticks": ""
             }
            },
            "marker": {
             "colorbar": {
              "outlinewidth": 0,
              "ticks": ""
             }
            },
            "type": "scatter3d"
           }
          ],
          "scattercarpet": [
           {
            "marker": {
             "colorbar": {
              "outlinewidth": 0,
              "ticks": ""
             }
            },
            "type": "scattercarpet"
           }
          ],
          "scattergeo": [
           {
            "marker": {
             "colorbar": {
              "outlinewidth": 0,
              "ticks": ""
             }
            },
            "type": "scattergeo"
           }
          ],
          "scattergl": [
           {
            "marker": {
             "colorbar": {
              "outlinewidth": 0,
              "ticks": ""
             }
            },
            "type": "scattergl"
           }
          ],
          "scattermap": [
           {
            "marker": {
             "colorbar": {
              "outlinewidth": 0,
              "ticks": ""
             }
            },
            "type": "scattermap"
           }
          ],
          "scattermapbox": [
           {
            "marker": {
             "colorbar": {
              "outlinewidth": 0,
              "ticks": ""
             }
            },
            "type": "scattermapbox"
           }
          ],
          "scatterpolar": [
           {
            "marker": {
             "colorbar": {
              "outlinewidth": 0,
              "ticks": ""
             }
            },
            "type": "scatterpolar"
           }
          ],
          "scatterpolargl": [
           {
            "marker": {
             "colorbar": {
              "outlinewidth": 0,
              "ticks": ""
             }
            },
            "type": "scatterpolargl"
           }
          ],
          "scatterternary": [
           {
            "marker": {
             "colorbar": {
              "outlinewidth": 0,
              "ticks": ""
             }
            },
            "type": "scatterternary"
           }
          ],
          "surface": [
           {
            "colorbar": {
             "outlinewidth": 0,
             "ticks": ""
            },
            "colorscale": [
             [
              0,
              "#0d0887"
             ],
             [
              0.1111111111111111,
              "#46039f"
             ],
             [
              0.2222222222222222,
              "#7201a8"
             ],
             [
              0.3333333333333333,
              "#9c179e"
             ],
             [
              0.4444444444444444,
              "#bd3786"
             ],
             [
              0.5555555555555556,
              "#d8576b"
             ],
             [
              0.6666666666666666,
              "#ed7953"
             ],
             [
              0.7777777777777778,
              "#fb9f3a"
             ],
             [
              0.8888888888888888,
              "#fdca26"
             ],
             [
              1,
              "#f0f921"
             ]
            ],
            "type": "surface"
           }
          ],
          "table": [
           {
            "cells": {
             "fill": {
              "color": "#EBF0F8"
             },
             "line": {
              "color": "white"
             }
            },
            "header": {
             "fill": {
              "color": "#C8D4E3"
             },
             "line": {
              "color": "white"
             }
            },
            "type": "table"
           }
          ]
         },
         "layout": {
          "annotationdefaults": {
           "arrowcolor": "#2a3f5f",
           "arrowhead": 0,
           "arrowwidth": 1
          },
          "autotypenumbers": "strict",
          "coloraxis": {
           "colorbar": {
            "outlinewidth": 0,
            "ticks": ""
           }
          },
          "colorscale": {
           "diverging": [
            [
             0,
             "#8e0152"
            ],
            [
             0.1,
             "#c51b7d"
            ],
            [
             0.2,
             "#de77ae"
            ],
            [
             0.3,
             "#f1b6da"
            ],
            [
             0.4,
             "#fde0ef"
            ],
            [
             0.5,
             "#f7f7f7"
            ],
            [
             0.6,
             "#e6f5d0"
            ],
            [
             0.7,
             "#b8e186"
            ],
            [
             0.8,
             "#7fbc41"
            ],
            [
             0.9,
             "#4d9221"
            ],
            [
             1,
             "#276419"
            ]
           ],
           "sequential": [
            [
             0,
             "#0d0887"
            ],
            [
             0.1111111111111111,
             "#46039f"
            ],
            [
             0.2222222222222222,
             "#7201a8"
            ],
            [
             0.3333333333333333,
             "#9c179e"
            ],
            [
             0.4444444444444444,
             "#bd3786"
            ],
            [
             0.5555555555555556,
             "#d8576b"
            ],
            [
             0.6666666666666666,
             "#ed7953"
            ],
            [
             0.7777777777777778,
             "#fb9f3a"
            ],
            [
             0.8888888888888888,
             "#fdca26"
            ],
            [
             1,
             "#f0f921"
            ]
           ],
           "sequentialminus": [
            [
             0,
             "#0d0887"
            ],
            [
             0.1111111111111111,
             "#46039f"
            ],
            [
             0.2222222222222222,
             "#7201a8"
            ],
            [
             0.3333333333333333,
             "#9c179e"
            ],
            [
             0.4444444444444444,
             "#bd3786"
            ],
            [
             0.5555555555555556,
             "#d8576b"
            ],
            [
             0.6666666666666666,
             "#ed7953"
            ],
            [
             0.7777777777777778,
             "#fb9f3a"
            ],
            [
             0.8888888888888888,
             "#fdca26"
            ],
            [
             1,
             "#f0f921"
            ]
           ]
          },
          "colorway": [
           "#636efa",
           "#EF553B",
           "#00cc96",
           "#ab63fa",
           "#FFA15A",
           "#19d3f3",
           "#FF6692",
           "#B6E880",
           "#FF97FF",
           "#FECB52"
          ],
          "font": {
           "color": "#2a3f5f"
          },
          "geo": {
           "bgcolor": "white",
           "lakecolor": "white",
           "landcolor": "#E5ECF6",
           "showlakes": true,
           "showland": true,
           "subunitcolor": "white"
          },
          "hoverlabel": {
           "align": "left"
          },
          "hovermode": "closest",
          "mapbox": {
           "style": "light"
          },
          "paper_bgcolor": "white",
          "plot_bgcolor": "#E5ECF6",
          "polar": {
           "angularaxis": {
            "gridcolor": "white",
            "linecolor": "white",
            "ticks": ""
           },
           "bgcolor": "#E5ECF6",
           "radialaxis": {
            "gridcolor": "white",
            "linecolor": "white",
            "ticks": ""
           }
          },
          "scene": {
           "xaxis": {
            "backgroundcolor": "#E5ECF6",
            "gridcolor": "white",
            "gridwidth": 2,
            "linecolor": "white",
            "showbackground": true,
            "ticks": "",
            "zerolinecolor": "white"
           },
           "yaxis": {
            "backgroundcolor": "#E5ECF6",
            "gridcolor": "white",
            "gridwidth": 2,
            "linecolor": "white",
            "showbackground": true,
            "ticks": "",
            "zerolinecolor": "white"
           },
           "zaxis": {
            "backgroundcolor": "#E5ECF6",
            "gridcolor": "white",
            "gridwidth": 2,
            "linecolor": "white",
            "showbackground": true,
            "ticks": "",
            "zerolinecolor": "white"
           }
          },
          "shapedefaults": {
           "line": {
            "color": "#2a3f5f"
           }
          },
          "ternary": {
           "aaxis": {
            "gridcolor": "white",
            "linecolor": "white",
            "ticks": ""
           },
           "baxis": {
            "gridcolor": "white",
            "linecolor": "white",
            "ticks": ""
           },
           "bgcolor": "#E5ECF6",
           "caxis": {
            "gridcolor": "white",
            "linecolor": "white",
            "ticks": ""
           }
          },
          "title": {
           "x": 0.05
          },
          "xaxis": {
           "automargin": true,
           "gridcolor": "white",
           "linecolor": "white",
           "ticks": "",
           "title": {
            "standoff": 15
           },
           "zerolinecolor": "white",
           "zerolinewidth": 2
          },
          "yaxis": {
           "automargin": true,
           "gridcolor": "white",
           "linecolor": "white",
           "ticks": "",
           "title": {
            "standoff": 15
           },
           "zerolinecolor": "white",
           "zerolinewidth": 2
          }
         }
        },
        "title": {
         "text": "<b>Number of Seasons Distribution</b>",
         "x": 0.2
        },
        "xaxis": {
         "anchor": "y",
         "domain": [
          0,
          1
         ],
         "title": {
          "text": "number_ofseasons"
         }
        },
        "yaxis": {
         "anchor": "x",
         "domain": [
          0,
          1
         ],
         "title": {
          "text": "count"
         }
        }
       }
      }
     },
     "metadata": {},
     "output_type": "display_data"
    }
   ],
   "source": [
    "show=df[df.type==\"TV Show\"].copy()\n",
    "show.number_ofseasons=show.number_ofseasons.astype('int64')\n",
    "figsh = px.histogram(show, x='number_ofseasons', nbins=10, title='<b>Number of Seasons Distribution</b>', color_discrete_sequence=['red']).update_layout(title={'x':0.2})\n",
    "figsh\n"
   ]
  },
  {
   "cell_type": "code",
   "execution_count": 167,
   "id": "3a9b1c8b",
   "metadata": {},
   "outputs": [
    {
     "data": {
      "text/plain": [
       "np.int64(184323)"
      ]
     },
     "execution_count": 167,
     "metadata": {},
     "output_type": "execute_result"
    }
   ],
   "source": [
    "totalnumberofcast=df.groupby('cast')['count_cast'].sum().reset_index().drop_duplicates()\n",
    "actorscount=totalnumberofcast.count_cast.sum()\n",
    "actorscount"
   ]
  },
  {
   "cell_type": "code",
   "execution_count": 174,
   "id": "b8836ddc",
   "metadata": {},
   "outputs": [
    {
     "data": {
      "application/vnd.microsoft.datawrangler.viewer.v0+json": {
       "columns": [
        {
         "name": "index",
         "rawType": "int64",
         "type": "integer"
        },
        {
         "name": "rating",
         "rawType": "object",
         "type": "string"
        },
        {
         "name": "show_id",
         "rawType": "int64",
         "type": "integer"
        }
       ],
       "ref": "0f314986-b29b-49d7-a482-133a2b6d18c6",
       "rows": [
        [
         "0",
         "G",
         "16"
        ],
        [
         "1",
         "NC-17",
         "5"
        ],
        [
         "2",
         "NR",
         "26"
        ],
        [
         "3",
         "PG",
         "33"
        ],
        [
         "4",
         "PG-13",
         "50"
        ],
        [
         "5",
         "R",
         "52"
        ],
        [
         "6",
         "TV-14",
         "77"
        ],
        [
         "7",
         "TV-G",
         "33"
        ],
        [
         "8",
         "TV-MA",
         "97"
        ],
        [
         "9",
         "TV-PG",
         "62"
        ],
        [
         "10",
         "TV-Y",
         "25"
        ],
        [
         "11",
         "TV-Y7",
         "28"
        ],
        [
         "12",
         "TV-Y7-FV",
         "6"
        ],
        [
         "13",
         "UR",
         "3"
        ]
       ],
       "shape": {
        "columns": 2,
        "rows": 14
       }
      },
      "text/html": [
       "<div>\n",
       "<style scoped>\n",
       "    .dataframe tbody tr th:only-of-type {\n",
       "        vertical-align: middle;\n",
       "    }\n",
       "\n",
       "    .dataframe tbody tr th {\n",
       "        vertical-align: top;\n",
       "    }\n",
       "\n",
       "    .dataframe thead th {\n",
       "        text-align: right;\n",
       "    }\n",
       "</style>\n",
       "<table border=\"1\" class=\"dataframe\">\n",
       "  <thead>\n",
       "    <tr style=\"text-align: right;\">\n",
       "      <th></th>\n",
       "      <th>rating</th>\n",
       "      <th>show_id</th>\n",
       "    </tr>\n",
       "  </thead>\n",
       "  <tbody>\n",
       "    <tr>\n",
       "      <th>0</th>\n",
       "      <td>G</td>\n",
       "      <td>16</td>\n",
       "    </tr>\n",
       "    <tr>\n",
       "      <th>1</th>\n",
       "      <td>NC-17</td>\n",
       "      <td>5</td>\n",
       "    </tr>\n",
       "    <tr>\n",
       "      <th>2</th>\n",
       "      <td>NR</td>\n",
       "      <td>26</td>\n",
       "    </tr>\n",
       "    <tr>\n",
       "      <th>3</th>\n",
       "      <td>PG</td>\n",
       "      <td>33</td>\n",
       "    </tr>\n",
       "    <tr>\n",
       "      <th>4</th>\n",
       "      <td>PG-13</td>\n",
       "      <td>50</td>\n",
       "    </tr>\n",
       "    <tr>\n",
       "      <th>5</th>\n",
       "      <td>R</td>\n",
       "      <td>52</td>\n",
       "    </tr>\n",
       "    <tr>\n",
       "      <th>6</th>\n",
       "      <td>TV-14</td>\n",
       "      <td>77</td>\n",
       "    </tr>\n",
       "    <tr>\n",
       "      <th>7</th>\n",
       "      <td>TV-G</td>\n",
       "      <td>33</td>\n",
       "    </tr>\n",
       "    <tr>\n",
       "      <th>8</th>\n",
       "      <td>TV-MA</td>\n",
       "      <td>97</td>\n",
       "    </tr>\n",
       "    <tr>\n",
       "      <th>9</th>\n",
       "      <td>TV-PG</td>\n",
       "      <td>62</td>\n",
       "    </tr>\n",
       "    <tr>\n",
       "      <th>10</th>\n",
       "      <td>TV-Y</td>\n",
       "      <td>25</td>\n",
       "    </tr>\n",
       "    <tr>\n",
       "      <th>11</th>\n",
       "      <td>TV-Y7</td>\n",
       "      <td>28</td>\n",
       "    </tr>\n",
       "    <tr>\n",
       "      <th>12</th>\n",
       "      <td>TV-Y7-FV</td>\n",
       "      <td>6</td>\n",
       "    </tr>\n",
       "    <tr>\n",
       "      <th>13</th>\n",
       "      <td>UR</td>\n",
       "      <td>3</td>\n",
       "    </tr>\n",
       "  </tbody>\n",
       "</table>\n",
       "</div>"
      ],
      "text/plain": [
       "      rating  show_id\n",
       "0          G       16\n",
       "1      NC-17        5\n",
       "2         NR       26\n",
       "3         PG       33\n",
       "4      PG-13       50\n",
       "5          R       52\n",
       "6      TV-14       77\n",
       "7       TV-G       33\n",
       "8      TV-MA       97\n",
       "9      TV-PG       62\n",
       "10      TV-Y       25\n",
       "11     TV-Y7       28\n",
       "12  TV-Y7-FV        6\n",
       "13        UR        3"
      ]
     },
     "execution_count": 174,
     "metadata": {},
     "output_type": "execute_result"
    }
   ],
   "source": [
    "ratingdf=df.groupby(['new','rating'])['show_id'].count().reset_index().sort_values(by=['rating','show_id'],ascending=[True,False])\n",
    "ratingdf=ratingdf[(ratingdf['new']!='Not identified')&(ratingdf['show_id']!=0)]\n",
    "\n",
    "ratingdf.groupby(['rating'])['show_id'].count().reset_index()"
   ]
  },
  {
   "cell_type": "markdown",
   "id": "be6a4d92",
   "metadata": {},
   "source": []
  },
  {
   "cell_type": "code",
   "execution_count": 179,
   "id": "da0cc55c",
   "metadata": {},
   "outputs": [
    {
     "data": {
      "application/vnd.plotly.v1+json": {
       "config": {
        "plotlyServerURL": "https://plot.ly"
       },
       "data": [
        {
         "hovertemplate": "rating=TV-MA<br>new=%{x}<br>show_id=%{y}<extra></extra>",
         "legendgroup": "",
         "marker": {
          "color": "red",
          "pattern": {
           "shape": ""
          }
         },
         "name": "",
         "orientation": "v",
         "showlegend": false,
         "textposition": "auto",
         "texttemplate": "%{y}",
         "type": "bar",
         "x": [
          "United States",
          "India",
          "United Kingdom",
          "Spain"
         ],
         "xaxis": "x",
         "y": {
          "bdata": "6AfNAkACxQE=",
          "dtype": "i2"
         },
         "yaxis": "y"
        },
        {
         "hovertemplate": "rating=TV-14<br>new=%{x}<br>show_id=%{y}<extra></extra>",
         "legendgroup": "",
         "marker": {
          "color": "red",
          "pattern": {
           "shape": ""
          }
         },
         "name": "",
         "orientation": "v",
         "showlegend": false,
         "textposition": "auto",
         "texttemplate": "%{y}",
         "type": "bar",
         "x": [
          "India",
          "United States"
         ],
         "xaxis": "x2",
         "y": {
          "bdata": "IQZ1Aw==",
          "dtype": "i2"
         },
         "yaxis": "y2"
        },
        {
         "hovertemplate": "rating=R<br>new=%{x}<br>show_id=%{y}<extra></extra>",
         "legendgroup": "",
         "marker": {
          "color": "red",
          "pattern": {
           "shape": ""
          }
         },
         "name": "",
         "orientation": "v",
         "showlegend": false,
         "textposition": "auto",
         "texttemplate": "%{y}",
         "type": "bar",
         "x": [
          "United States"
         ],
         "xaxis": "x3",
         "y": {
          "bdata": "9AQ=",
          "dtype": "i2"
         },
         "yaxis": "y3"
        },
        {
         "hovertemplate": "rating=PG-13<br>new=%{x}<br>show_id=%{y}<extra></extra>",
         "legendgroup": "",
         "marker": {
          "color": "red",
          "pattern": {
           "shape": ""
          }
         },
         "name": "",
         "orientation": "v",
         "showlegend": false,
         "textposition": "auto",
         "texttemplate": "%{y}",
         "type": "bar",
         "x": [
          "United States"
         ],
         "xaxis": "x4",
         "y": {
          "bdata": "VgM=",
          "dtype": "i2"
         },
         "yaxis": "y4"
        },
        {
         "hovertemplate": "rating=TV-PG<br>new=%{x}<br>show_id=%{y}<extra></extra>",
         "legendgroup": "",
         "marker": {
          "color": "red",
          "pattern": {
           "shape": ""
          }
         },
         "name": "",
         "orientation": "v",
         "showlegend": false,
         "textposition": "auto",
         "texttemplate": "%{y}",
         "type": "bar",
         "x": [
          "United States"
         ],
         "xaxis": "x5",
         "y": {
          "bdata": "CQI=",
          "dtype": "i2"
         },
         "yaxis": "y5"
        },
        {
         "hovertemplate": "rating=PG<br>new=%{x}<br>show_id=%{y}<extra></extra>",
         "legendgroup": "",
         "marker": {
          "color": "red",
          "pattern": {
           "shape": ""
          }
         },
         "name": "",
         "orientation": "v",
         "showlegend": false,
         "textposition": "auto",
         "texttemplate": "%{y}",
         "type": "bar",
         "x": [
          "United States"
         ],
         "xaxis": "x6",
         "y": {
          "bdata": "AwI=",
          "dtype": "i2"
         },
         "yaxis": "y6"
        }
       ],
       "layout": {
        "annotations": [
         {
          "font": {},
          "showarrow": false,
          "text": "rating=TV-MA",
          "x": 0.075,
          "xanchor": "center",
          "xref": "paper",
          "y": 1,
          "yanchor": "bottom",
          "yref": "paper"
         },
         {
          "font": {},
          "showarrow": false,
          "text": "rating=TV-14",
          "x": 0.24499999999999997,
          "xanchor": "center",
          "xref": "paper",
          "y": 1,
          "yanchor": "bottom",
          "yref": "paper"
         },
         {
          "font": {},
          "showarrow": false,
          "text": "rating=R",
          "x": 0.415,
          "xanchor": "center",
          "xref": "paper",
          "y": 1,
          "yanchor": "bottom",
          "yref": "paper"
         },
         {
          "font": {},
          "showarrow": false,
          "text": "rating=PG-13",
          "x": 0.585,
          "xanchor": "center",
          "xref": "paper",
          "y": 1,
          "yanchor": "bottom",
          "yref": "paper"
         },
         {
          "font": {},
          "showarrow": false,
          "text": "rating=TV-PG",
          "x": 0.7549999999999999,
          "xanchor": "center",
          "xref": "paper",
          "y": 1,
          "yanchor": "bottom",
          "yref": "paper"
         },
         {
          "font": {},
          "showarrow": false,
          "text": "rating=PG",
          "x": 0.925,
          "xanchor": "center",
          "xref": "paper",
          "y": 1,
          "yanchor": "bottom",
          "yref": "paper"
         }
        ],
        "barmode": "relative",
        "legend": {
         "tracegroupgap": 0
        },
        "template": {
         "data": {
          "bar": [
           {
            "error_x": {
             "color": "#2a3f5f"
            },
            "error_y": {
             "color": "#2a3f5f"
            },
            "marker": {
             "line": {
              "color": "#E5ECF6",
              "width": 0.5
             },
             "pattern": {
              "fillmode": "overlay",
              "size": 10,
              "solidity": 0.2
             }
            },
            "type": "bar"
           }
          ],
          "barpolar": [
           {
            "marker": {
             "line": {
              "color": "#E5ECF6",
              "width": 0.5
             },
             "pattern": {
              "fillmode": "overlay",
              "size": 10,
              "solidity": 0.2
             }
            },
            "type": "barpolar"
           }
          ],
          "carpet": [
           {
            "aaxis": {
             "endlinecolor": "#2a3f5f",
             "gridcolor": "white",
             "linecolor": "white",
             "minorgridcolor": "white",
             "startlinecolor": "#2a3f5f"
            },
            "baxis": {
             "endlinecolor": "#2a3f5f",
             "gridcolor": "white",
             "linecolor": "white",
             "minorgridcolor": "white",
             "startlinecolor": "#2a3f5f"
            },
            "type": "carpet"
           }
          ],
          "choropleth": [
           {
            "colorbar": {
             "outlinewidth": 0,
             "ticks": ""
            },
            "type": "choropleth"
           }
          ],
          "contour": [
           {
            "colorbar": {
             "outlinewidth": 0,
             "ticks": ""
            },
            "colorscale": [
             [
              0,
              "#0d0887"
             ],
             [
              0.1111111111111111,
              "#46039f"
             ],
             [
              0.2222222222222222,
              "#7201a8"
             ],
             [
              0.3333333333333333,
              "#9c179e"
             ],
             [
              0.4444444444444444,
              "#bd3786"
             ],
             [
              0.5555555555555556,
              "#d8576b"
             ],
             [
              0.6666666666666666,
              "#ed7953"
             ],
             [
              0.7777777777777778,
              "#fb9f3a"
             ],
             [
              0.8888888888888888,
              "#fdca26"
             ],
             [
              1,
              "#f0f921"
             ]
            ],
            "type": "contour"
           }
          ],
          "contourcarpet": [
           {
            "colorbar": {
             "outlinewidth": 0,
             "ticks": ""
            },
            "type": "contourcarpet"
           }
          ],
          "heatmap": [
           {
            "colorbar": {
             "outlinewidth": 0,
             "ticks": ""
            },
            "colorscale": [
             [
              0,
              "#0d0887"
             ],
             [
              0.1111111111111111,
              "#46039f"
             ],
             [
              0.2222222222222222,
              "#7201a8"
             ],
             [
              0.3333333333333333,
              "#9c179e"
             ],
             [
              0.4444444444444444,
              "#bd3786"
             ],
             [
              0.5555555555555556,
              "#d8576b"
             ],
             [
              0.6666666666666666,
              "#ed7953"
             ],
             [
              0.7777777777777778,
              "#fb9f3a"
             ],
             [
              0.8888888888888888,
              "#fdca26"
             ],
             [
              1,
              "#f0f921"
             ]
            ],
            "type": "heatmap"
           }
          ],
          "histogram": [
           {
            "marker": {
             "pattern": {
              "fillmode": "overlay",
              "size": 10,
              "solidity": 0.2
             }
            },
            "type": "histogram"
           }
          ],
          "histogram2d": [
           {
            "colorbar": {
             "outlinewidth": 0,
             "ticks": ""
            },
            "colorscale": [
             [
              0,
              "#0d0887"
             ],
             [
              0.1111111111111111,
              "#46039f"
             ],
             [
              0.2222222222222222,
              "#7201a8"
             ],
             [
              0.3333333333333333,
              "#9c179e"
             ],
             [
              0.4444444444444444,
              "#bd3786"
             ],
             [
              0.5555555555555556,
              "#d8576b"
             ],
             [
              0.6666666666666666,
              "#ed7953"
             ],
             [
              0.7777777777777778,
              "#fb9f3a"
             ],
             [
              0.8888888888888888,
              "#fdca26"
             ],
             [
              1,
              "#f0f921"
             ]
            ],
            "type": "histogram2d"
           }
          ],
          "histogram2dcontour": [
           {
            "colorbar": {
             "outlinewidth": 0,
             "ticks": ""
            },
            "colorscale": [
             [
              0,
              "#0d0887"
             ],
             [
              0.1111111111111111,
              "#46039f"
             ],
             [
              0.2222222222222222,
              "#7201a8"
             ],
             [
              0.3333333333333333,
              "#9c179e"
             ],
             [
              0.4444444444444444,
              "#bd3786"
             ],
             [
              0.5555555555555556,
              "#d8576b"
             ],
             [
              0.6666666666666666,
              "#ed7953"
             ],
             [
              0.7777777777777778,
              "#fb9f3a"
             ],
             [
              0.8888888888888888,
              "#fdca26"
             ],
             [
              1,
              "#f0f921"
             ]
            ],
            "type": "histogram2dcontour"
           }
          ],
          "mesh3d": [
           {
            "colorbar": {
             "outlinewidth": 0,
             "ticks": ""
            },
            "type": "mesh3d"
           }
          ],
          "parcoords": [
           {
            "line": {
             "colorbar": {
              "outlinewidth": 0,
              "ticks": ""
             }
            },
            "type": "parcoords"
           }
          ],
          "pie": [
           {
            "automargin": true,
            "type": "pie"
           }
          ],
          "scatter": [
           {
            "fillpattern": {
             "fillmode": "overlay",
             "size": 10,
             "solidity": 0.2
            },
            "type": "scatter"
           }
          ],
          "scatter3d": [
           {
            "line": {
             "colorbar": {
              "outlinewidth": 0,
              "ticks": ""
             }
            },
            "marker": {
             "colorbar": {
              "outlinewidth": 0,
              "ticks": ""
             }
            },
            "type": "scatter3d"
           }
          ],
          "scattercarpet": [
           {
            "marker": {
             "colorbar": {
              "outlinewidth": 0,
              "ticks": ""
             }
            },
            "type": "scattercarpet"
           }
          ],
          "scattergeo": [
           {
            "marker": {
             "colorbar": {
              "outlinewidth": 0,
              "ticks": ""
             }
            },
            "type": "scattergeo"
           }
          ],
          "scattergl": [
           {
            "marker": {
             "colorbar": {
              "outlinewidth": 0,
              "ticks": ""
             }
            },
            "type": "scattergl"
           }
          ],
          "scattermap": [
           {
            "marker": {
             "colorbar": {
              "outlinewidth": 0,
              "ticks": ""
             }
            },
            "type": "scattermap"
           }
          ],
          "scattermapbox": [
           {
            "marker": {
             "colorbar": {
              "outlinewidth": 0,
              "ticks": ""
             }
            },
            "type": "scattermapbox"
           }
          ],
          "scatterpolar": [
           {
            "marker": {
             "colorbar": {
              "outlinewidth": 0,
              "ticks": ""
             }
            },
            "type": "scatterpolar"
           }
          ],
          "scatterpolargl": [
           {
            "marker": {
             "colorbar": {
              "outlinewidth": 0,
              "ticks": ""
             }
            },
            "type": "scatterpolargl"
           }
          ],
          "scatterternary": [
           {
            "marker": {
             "colorbar": {
              "outlinewidth": 0,
              "ticks": ""
             }
            },
            "type": "scatterternary"
           }
          ],
          "surface": [
           {
            "colorbar": {
             "outlinewidth": 0,
             "ticks": ""
            },
            "colorscale": [
             [
              0,
              "#0d0887"
             ],
             [
              0.1111111111111111,
              "#46039f"
             ],
             [
              0.2222222222222222,
              "#7201a8"
             ],
             [
              0.3333333333333333,
              "#9c179e"
             ],
             [
              0.4444444444444444,
              "#bd3786"
             ],
             [
              0.5555555555555556,
              "#d8576b"
             ],
             [
              0.6666666666666666,
              "#ed7953"
             ],
             [
              0.7777777777777778,
              "#fb9f3a"
             ],
             [
              0.8888888888888888,
              "#fdca26"
             ],
             [
              1,
              "#f0f921"
             ]
            ],
            "type": "surface"
           }
          ],
          "table": [
           {
            "cells": {
             "fill": {
              "color": "#EBF0F8"
             },
             "line": {
              "color": "white"
             }
            },
            "header": {
             "fill": {
              "color": "#C8D4E3"
             },
             "line": {
              "color": "white"
             }
            },
            "type": "table"
           }
          ]
         },
         "layout": {
          "annotationdefaults": {
           "arrowcolor": "#2a3f5f",
           "arrowhead": 0,
           "arrowwidth": 1
          },
          "autotypenumbers": "strict",
          "coloraxis": {
           "colorbar": {
            "outlinewidth": 0,
            "ticks": ""
           }
          },
          "colorscale": {
           "diverging": [
            [
             0,
             "#8e0152"
            ],
            [
             0.1,
             "#c51b7d"
            ],
            [
             0.2,
             "#de77ae"
            ],
            [
             0.3,
             "#f1b6da"
            ],
            [
             0.4,
             "#fde0ef"
            ],
            [
             0.5,
             "#f7f7f7"
            ],
            [
             0.6,
             "#e6f5d0"
            ],
            [
             0.7,
             "#b8e186"
            ],
            [
             0.8,
             "#7fbc41"
            ],
            [
             0.9,
             "#4d9221"
            ],
            [
             1,
             "#276419"
            ]
           ],
           "sequential": [
            [
             0,
             "#0d0887"
            ],
            [
             0.1111111111111111,
             "#46039f"
            ],
            [
             0.2222222222222222,
             "#7201a8"
            ],
            [
             0.3333333333333333,
             "#9c179e"
            ],
            [
             0.4444444444444444,
             "#bd3786"
            ],
            [
             0.5555555555555556,
             "#d8576b"
            ],
            [
             0.6666666666666666,
             "#ed7953"
            ],
            [
             0.7777777777777778,
             "#fb9f3a"
            ],
            [
             0.8888888888888888,
             "#fdca26"
            ],
            [
             1,
             "#f0f921"
            ]
           ],
           "sequentialminus": [
            [
             0,
             "#0d0887"
            ],
            [
             0.1111111111111111,
             "#46039f"
            ],
            [
             0.2222222222222222,
             "#7201a8"
            ],
            [
             0.3333333333333333,
             "#9c179e"
            ],
            [
             0.4444444444444444,
             "#bd3786"
            ],
            [
             0.5555555555555556,
             "#d8576b"
            ],
            [
             0.6666666666666666,
             "#ed7953"
            ],
            [
             0.7777777777777778,
             "#fb9f3a"
            ],
            [
             0.8888888888888888,
             "#fdca26"
            ],
            [
             1,
             "#f0f921"
            ]
           ]
          },
          "colorway": [
           "#636efa",
           "#EF553B",
           "#00cc96",
           "#ab63fa",
           "#FFA15A",
           "#19d3f3",
           "#FF6692",
           "#B6E880",
           "#FF97FF",
           "#FECB52"
          ],
          "font": {
           "color": "#2a3f5f"
          },
          "geo": {
           "bgcolor": "white",
           "lakecolor": "white",
           "landcolor": "#E5ECF6",
           "showlakes": true,
           "showland": true,
           "subunitcolor": "white"
          },
          "hoverlabel": {
           "align": "left"
          },
          "hovermode": "closest",
          "mapbox": {
           "style": "light"
          },
          "paper_bgcolor": "white",
          "plot_bgcolor": "#E5ECF6",
          "polar": {
           "angularaxis": {
            "gridcolor": "white",
            "linecolor": "white",
            "ticks": ""
           },
           "bgcolor": "#E5ECF6",
           "radialaxis": {
            "gridcolor": "white",
            "linecolor": "white",
            "ticks": ""
           }
          },
          "scene": {
           "xaxis": {
            "backgroundcolor": "#E5ECF6",
            "gridcolor": "white",
            "gridwidth": 2,
            "linecolor": "white",
            "showbackground": true,
            "ticks": "",
            "zerolinecolor": "white"
           },
           "yaxis": {
            "backgroundcolor": "#E5ECF6",
            "gridcolor": "white",
            "gridwidth": 2,
            "linecolor": "white",
            "showbackground": true,
            "ticks": "",
            "zerolinecolor": "white"
           },
           "zaxis": {
            "backgroundcolor": "#E5ECF6",
            "gridcolor": "white",
            "gridwidth": 2,
            "linecolor": "white",
            "showbackground": true,
            "ticks": "",
            "zerolinecolor": "white"
           }
          },
          "shapedefaults": {
           "line": {
            "color": "#2a3f5f"
           }
          },
          "ternary": {
           "aaxis": {
            "gridcolor": "white",
            "linecolor": "white",
            "ticks": ""
           },
           "baxis": {
            "gridcolor": "white",
            "linecolor": "white",
            "ticks": ""
           },
           "bgcolor": "#E5ECF6",
           "caxis": {
            "gridcolor": "white",
            "linecolor": "white",
            "ticks": ""
           }
          },
          "title": {
           "x": 0.05
          },
          "xaxis": {
           "automargin": true,
           "gridcolor": "white",
           "linecolor": "white",
           "ticks": "",
           "title": {
            "standoff": 15
           },
           "zerolinecolor": "white",
           "zerolinewidth": 2
          },
          "yaxis": {
           "automargin": true,
           "gridcolor": "white",
           "linecolor": "white",
           "ticks": "",
           "title": {
            "standoff": 15
           },
           "zerolinecolor": "white",
           "zerolinewidth": 2
          }
         }
        },
        "title": {
         "text": "<b>Rating Per country top 10</b>",
         "x": 0.2
        },
        "xaxis": {
         "anchor": "y",
         "domain": [
          0,
          0.15
         ],
         "title": {
          "text": "Country"
         }
        },
        "xaxis2": {
         "anchor": "y2",
         "domain": [
          0.16999999999999998,
          0.31999999999999995
         ],
         "matches": "x",
         "title": {
          "text": "Country"
         }
        },
        "xaxis3": {
         "anchor": "y3",
         "domain": [
          0.33999999999999997,
          0.49
         ],
         "matches": "x",
         "title": {
          "text": "Country"
         }
        },
        "xaxis4": {
         "anchor": "y4",
         "domain": [
          0.51,
          0.66
         ],
         "matches": "x",
         "title": {
          "text": "Country"
         }
        },
        "xaxis5": {
         "anchor": "y5",
         "domain": [
          0.6799999999999999,
          0.83
         ],
         "matches": "x",
         "title": {
          "text": "Country"
         }
        },
        "xaxis6": {
         "anchor": "y6",
         "domain": [
          0.85,
          1
         ],
         "matches": "x",
         "title": {
          "text": "Country"
         }
        },
        "yaxis": {
         "anchor": "x",
         "domain": [
          0,
          1
         ],
         "title": {
          "text": "count"
         }
        },
        "yaxis2": {
         "anchor": "x2",
         "domain": [
          0,
          1
         ],
         "matches": "y",
         "showticklabels": false,
         "title": {
          "text": "count"
         }
        },
        "yaxis3": {
         "anchor": "x3",
         "domain": [
          0,
          1
         ],
         "matches": "y",
         "showticklabels": false,
         "title": {
          "text": "count"
         }
        },
        "yaxis4": {
         "anchor": "x4",
         "domain": [
          0,
          1
         ],
         "matches": "y",
         "showticklabels": false,
         "title": {
          "text": "count"
         }
        },
        "yaxis5": {
         "anchor": "x5",
         "domain": [
          0,
          1
         ],
         "matches": "y",
         "showticklabels": false,
         "title": {
          "text": "count"
         }
        },
        "yaxis6": {
         "anchor": "x6",
         "domain": [
          0,
          1
         ],
         "matches": "y",
         "showticklabels": false,
         "title": {
          "text": "count"
         }
        }
       }
      }
     },
     "metadata": {},
     "output_type": "display_data"
    }
   ],
   "source": [
    "ratingdf=df.groupby(['new','rating'])['show_id'].count().reset_index().sort_values(by=['rating','show_id'],ascending=[True,False])\n",
    "ratingdf=ratingdf[ratingdf['new']!='Not identified'].sort_values(by='show_id',ascending=False).head(10)\n",
    "\n",
    "ratingchartt=px.bar(data_frame=ratingdf,x='new',y='show_id',facet_col='rating',title='<b>Rating Per country top 10</b>',text_auto=True,color_discrete_sequence=['red']).update_layout(title={'x':0.2})\n",
    "ratingchartt.update_xaxes(title='Country')\n",
    "ratingchartt.update_yaxes(title='count')\n",
    "\n",
    "\n",
    "\n"
   ]
  },
  {
   "cell_type": "code",
   "execution_count": 187,
   "id": "856e57d5",
   "metadata": {},
   "outputs": [
    {
     "name": "stdout",
     "output_type": "stream",
     "text": [
      "Overwriting app.py\n"
     ]
    }
   ],
   "source": [
    "%%writefile app.py\n",
    "import pandas as pd\n",
    "import streamlit as st\n",
    "import plotly.express as px\n",
    "import re\n",
    "import base64\n",
    "\n",
    "## Reading files\n",
    "df=pd.read_csv('netflix_titles.csv')\n",
    "with open(\"channels4_profile.jpg\", \"rb\") as image_file:\n",
    "    encoded = base64.b64encode(image_file.read()).decode()\n",
    "## Adding picture\n",
    "st.markdown(\n",
    "    f\"\"\"<div style=\"margin-left: 9px;\">\n",
    "            <img src=\"data:image/png;base64,{encoded}\" width=\"150\" />\n",
    "        </div>\"\"\",\n",
    "    unsafe_allow_html=True\n",
    ")\n",
    "#Adding title name \n",
    "st.markdown(\"<h1 style='text-align: center;color: red;'>Netflix Content Anaylsis</h1>\",unsafe_allow_html=True)\n",
    "# Date cleaning\n",
    "df.date_added=df.date_added.str.strip()\n",
    "df['date_added']=pd.to_datetime(df['date_added'],format=\"%B %d, %Y\")\n",
    "df['year_added']=df.date_added.dt.year\n",
    "# adding Date to side bar\n",
    "min_date = df['date_added'].min()\n",
    "max_date = df['date_added'].max()\n",
    "start_date=st.sidebar.date_input(\"DateAdded\", value=min_date,min_value=min_date,max_value=max_date)\n",
    "end_Date=st.sidebar.date_input(\"EndDate\", value=max_date,min_value=min_date,max_value=max_date)\n",
    "# setting different pages\n",
    "page=st.sidebar.radio('Pages',['HomePage','Movies','Series'])\n",
    "rating_list = df['rating'].dropna().unique()\n",
    "selected_ratings = st.sidebar.multiselect(\"Select Rating(s)\", sorted(rating_list), default=rating_list)\n",
    "\n",
    "# Data cleaning and feature engineering\n",
    "\n",
    "df.release_year=df.release_year.astype(object)\n",
    "df['director']=df['director'].fillna(\"Not identified\") \n",
    "df['cast']=df['cast'].fillna(\"Not identified\") \n",
    "df['country'] = df['country'].fillna(\"Not identified\")\n",
    "df['new'] = df['country'].str.split(',')\n",
    "df = df.explode('new')\n",
    "df['new'] = df['new'].str.strip()\n",
    "df = df.reset_index(drop=True)\n",
    "df['category'] = df['listed_in'].str.split(',')\n",
    "df = df.explode('category')\n",
    "df['category'] = df['category'].str.strip()\n",
    "df = df.reset_index(drop=True)\n",
    "series = df[df['duration'].str.contains(r'Season[s]?', case=False, na=False)].copy()\n",
    "movies=df[df['type']=='Movie'].copy()\n",
    "keywords = ['season', 'seasons']\n",
    "pattern = r'(\\d+)\\s+(season|seasons)'\n",
    "series[['number_ofseasons','season_type']]= series['duration'].str.extract(pattern, flags=re.IGNORECASE)\n",
    "pattern=r'(\\d+)'\n",
    "movies['movies_minutes']=movies['duration'].str.extract(pattern,flags=re.IGNORECASE,expand=True)\n",
    "df.loc[movies.index, 'movies_minutes'] = movies['movies_minutes']\n",
    "df.loc[series.index, 'number_ofseasons'] = series['number_ofseasons']\n",
    "list=df['cast'].to_list()\n",
    "def count_cast(row):\n",
    "    if row != 'Not identified' and isinstance(row, str):\n",
    "        members = row.split(',')\n",
    "        count = 0\n",
    "        for i in range(len(members)):\n",
    "            if members[i].strip() != 'Not identified':\n",
    "                count += 1\n",
    "        return count\n",
    "    else:\n",
    "        return 0\n",
    "df['count_cast'] = df['cast'].apply(count_cast)\n",
    "\n",
    "  #series\n",
    "\n",
    "df['number_ofseasons']=df.number_ofseasons.fillna(0)\n",
    "df['movies_minutes']=df.movies_minutes.fillna(0)\n",
    "df_filtered=df[(df.date_added>=str(start_date))&(df.date_added<=str(end_Date))]\n",
    "df_filtered= df_filtered[df_filtered['rating'].isin(selected_ratings)]\n",
    "distrubuttion=df_filtered.groupby('type')['show_id'].count().reset_index()#could do it with value_counts as well !\n",
    "distrubuttion.type=distrubuttion.type.str.strip()\n",
    "# creating Pages \n",
    "if page=='HomePage':\n",
    "    dropped=df_filtered.drop_duplicates(subset=['cast'])\n",
    "    countofcontent = dropped['show_id'].drop_duplicates().count() # calculating measure for cards\n",
    "    totalnumberofyears= int(max(df_filtered['year_added'])-min(df_filtered['year_added']))\n",
    "    totalnumberofcast=dropped.groupby('cast')['count_cast'].sum().reset_index()\n",
    "    actorscount=totalnumberofcast.count_cast.sum()\n",
    "    # Display dynamic cards\n",
    "    col1, col2,col3 = st.columns(3)\n",
    "    col1.metric(\"Total Number of Shows/movies🎬📺\", f\"{countofcontent}\")\n",
    "    col2.metric(\"Total Number of Years⏳\", f\"{totalnumberofyears}\")\n",
    "    col3.metric(\"Total Number of Actors🎭\", f\"{actorscount}\")\n",
    "\n",
    "\n",
    "     # Actor name engine Search\n",
    "\n",
    "    df['count_cast']=df['cast'].apply(count_cast)\n",
    "    actor_name = st.text_input(\"Add your favourite actor name: \",key=\"actor_inputt\")\n",
    "    filtered_df = df_filtered[df_filtered['cast'].str.contains(actor_name, flags=re.IGNORECASE, na=False)]\n",
    "    if actor_name:\n",
    "        if not filtered_df.empty:\n",
    "             st.subheader(f\"Titles with {actor_name}\")\n",
    "             st.dataframe(filtered_df.drop_duplicates(subset=['description']))\n",
    "        else:\n",
    "            st.info('Not found')\n",
    "    # Movie Name engine Search\n",
    "    movie_name = st.text_input(\"Add your movie name: \",key=\"movie_inputt\")\n",
    "    moviefind=movies[movies['title'].str.contains(movie_name, flags=re.IGNORECASE, na=False)]\n",
    "    if movie_name :\n",
    "        if not moviefind.empty:\n",
    "            st.subheader(f\"Search result for '{movie_name}'\")\n",
    "            st.dataframe(moviefind.drop_duplicates(subset=['description']))\n",
    "        else:\n",
    "                st.info(\"Not Found\")\n",
    "    # Series Name Search\n",
    "    show_name = st.text_input(\"Add your series name: \",key=\"series_inputt\")\n",
    "    show_find=series[series['title'].str.contains(show_name, flags=re.IGNORECASE, na=False)]\n",
    "    if show_name:\n",
    "        if not show_find.empty:\n",
    "            st.subheader(f\"Search result for '{show_name}'\")\n",
    "            st.dataframe(show_find.drop_duplicates(subset=['title']))\n",
    "        else:\n",
    "             st.info('not found')\n",
    "    # showing DF for all DATA\n",
    "    st.subheader('Whole Data')\n",
    "    st.dataframe(df_filtered)\n",
    "    df_filtered['year_added'] = df_filtered.date_added.dt.year\n",
    "    yearadded = df_filtered.groupby('year_added')['show_id'].count().reset_index()\n",
    "    user_theme = st.get_option(\"theme.base\")\n",
    "    if user_theme == 'light':\n",
    "        font_color = 'black'\n",
    "        bg_color = 'white'\n",
    "        bar_color = 'red'\n",
    "        line_color = 'red'\n",
    "        pie_colors = {'Movie': 'red', 'TV Show': '#000000'}  # black for TV Show\n",
    "        grid_color = '#ddd'\n",
    "        type_colors = {'Movie': 'red', 'TV Show': 'black'}\n",
    "        legend_style = dict(\n",
    "            font=dict(color=font_color, family='Arial', size=14),\n",
    "            bgcolor=bg_color,\n",
    "            bordercolor=font_color,\n",
    "            borderwidth=1)\n",
    "        title_fonnt = dict(size=20, color=font_color, family='Arial', weight='bold')\n",
    "\n",
    "    else:\n",
    "        font_color = 'white'\n",
    "        bg_color = '#111111'\n",
    "        line_color = 'red'\n",
    "        bar_color = 'red'\n",
    "        pie_colors = {'Movie': 'red', 'TV Show': 'white'}\n",
    "        grid_color = '#444'\n",
    "        type_colors = {'Movie': 'red', 'TV Show': 'white'}\n",
    "        legend_style = dict(\n",
    "            font=dict(color=font_color, family='Arial', size=14),\n",
    "            bgcolor=bg_color,\n",
    "            bordercolor=font_color,\n",
    "            borderwidth=1)\n",
    "        title_fonnt= dict(size=20, color=font_color, family='Arial', weight='bold')\n",
    "\n",
    "    # Pie chart showing Distrubution\n",
    "    fig_type = px.pie(distrubuttion,names='type',values='show_id',title='Netflix Distribution: Movies vs Shows',color_discrete_map=pie_colors,color='type')\n",
    "    fig_type.update_layout(plot_bgcolor=bg_color,paper_bgcolor=bg_color,title={'text': 'Netflix Distribution: Movies vs Shows','x': 0.2,'font': {'size': 20, 'color': font_color, 'family': 'Arial'}},    font=dict(color=font_color, family='Arial'),legend=legend_style)\n",
    "    fig_type.update_traces(textfont=dict(family='Arial', size=14, color='black'), textinfo='label+percent+value')\n",
    "    st.plotly_chart(fig_type, use_container_width=True)\n",
    "\n",
    "    # Top 10 common genres bar chart\n",
    "    genres = df.groupby('category')['show_id'].count().reset_index()\n",
    "    genres.sort_values(by='show_id', ascending=False, inplace=True)\n",
    "    top_genres = genres.head(10)\n",
    "    fig_genres = px.bar(top_genres,x='category',y='show_id',title='10 Top Common Genres',text_auto=True,color_discrete_sequence=[bar_color])\n",
    "    fig_genres.update_layout(plot_bgcolor=bg_color,paper_bgcolor=bg_color,yaxis_title='Count of genre',xaxis_title='Category',title={'x': 0.3, 'font': {'size': 20, 'color': font_color, 'family': 'Arial'}},font=dict(color=font_color, family='Arial'))\n",
    "    fig_genres.update_xaxes(tickfont=dict(family='Arial', size=14, color=font_color))\n",
    "    fig_genres.update_yaxes(tickfont=dict(family='Arial', size=14, color=font_color))\n",
    "    st.plotly_chart(fig_genres, use_container_width=True)\n",
    "\n",
    "    # Top countries producing Netflix content bar chart\n",
    "    countries = df.groupby('new')['show_id'].count().reset_index()\n",
    "    countries.sort_values(by='show_id', ascending=False, inplace=True)\n",
    "    top_countries = countries.head(10)\n",
    "    fig_countries = px.bar(top_countries,x='new',y='show_id',title='What are the top countries producing Netflix content?',text_auto=True,color_discrete_sequence=[bar_color])\n",
    "    fig_countries.update_layout(plot_bgcolor=bg_color,paper_bgcolor=bg_color,yaxis_title='Count of content',xaxis_title='Country Name',title={'x': 0.2, 'font': {'size': 20, 'color': font_color, 'family': 'Arial'}},font=dict(color=font_color, family='Arial'),xaxis=dict(tickfont=dict(family='Arial', size=14, color=font_color)),yaxis=dict(tickfont=dict(family='Arial', size=14, color=font_color)))\n",
    "    st.plotly_chart(fig_countries, use_container_width=True)\n",
    "    # total content volume over years\n",
    "\n",
    "    figy = px.line(data_frame=yearadded,x='year_added',y='show_id',title=\"How has Netflix's content volume changed over time?\",color_discrete_sequence=[line_color])\n",
    "    figy.update_layout(plot_bgcolor=bg_color,paper_bgcolor=bg_color,font=dict(color=font_color, family='Arial', size=14),title=dict(font=dict(size=20, color=font_color, family='Arial',), x=0.2),xaxis=dict(title='Year Added',tickmode='linear',tickfont=dict(family='Arial', size=14, color=font_color),gridcolor=grid_color),yaxis=dict(title='Count of Content',tickfont=dict(family='Arial', size=14, color=font_color),gridcolor=grid_color))\n",
    "    st.plotly_chart(figy, use_container_width=True)\n",
    "    # content count by type over years\n",
    "\n",
    "    typeandyear = df_filtered.groupby(['type', 'year_added'])['show_id'].count().reset_index()\n",
    "    type_year = px.line(data_frame=typeandyear,x='year_added',y='show_id',color='type',title='Are TV shows becoming more common than movies?',color_discrete_map=type_colors)\n",
    "\n",
    "    type_year.update_layout(\n",
    "        width=1000,\n",
    "        plot_bgcolor=bg_color,\n",
    "        paper_bgcolor=bg_color,\n",
    "        font=dict(color=font_color, family='Arial', size=14),\n",
    "        title=dict(text='Are TV shows becoming more common than movies?', x=0.3, font=dict(color=font_color, family='Arial', size=18)),\n",
    "        legend=legend_style,\n",
    "        xaxis=dict(\n",
    "            title='Year Added',\n",
    "            tickfont=dict(color=font_color, family='Arial', size=14),\n",
    "            title_font=title_fonnt,\n",
    "            gridcolor=grid_color,\n",
    "            tickmode='linear'),yaxis=dict(title='Count of Content',\n",
    "            tickfont=dict(color=font_color, family='Arial', size=14),\n",
    "            title_font=title_fonnt,\n",
    "            gridcolor=grid_color ))\n",
    "\n",
    "    st.plotly_chart(type_year, use_container_width=True)\n",
    "    ratingdf=df_filtered.groupby(['new','rating'])['show_id'].count().reset_index().sort_values(by=['rating','show_id'],ascending=[True,False])\n",
    "    ratingdf=ratingdf[ratingdf['new']!='Not identified'].sort_values(by='show_id',ascending=False).head(10)\n",
    "    ratingchartt=px.bar(data_frame=ratingdf,x='new',y='show_id',facet_col='rating',title='<b>Rating Per country top 10</b>',text_auto=True,color_discrete_sequence=['red']).update_layout(title={'x':0.2})\n",
    "    ratingchartt.update_xaxes(title='Country')\n",
    "    ratingchartt.update_yaxes(title='count')\n",
    "    st.plotly_chart(ratingchartt,use_container_width=True)\n",
    "\n",
    "\n",
    "    #creating second page movies \n",
    "if page == 'Movies':\n",
    "    #creating base DF\n",
    "    base_moviefilter = df_filtered[df_filtered.type == 'Movie'].drop_duplicates(subset=['cast'])\n",
    "    base_moviefilter['count_cast']=df['cast'].apply(count_cast)           \n",
    "\n",
    "    numberofmovies = base_moviefilter['show_id'].nunique() # count of unique shows\n",
    "    totalnumberofcast=base_moviefilter.groupby('cast')['count_cast'].sum().reset_index()\n",
    "    actorscount=totalnumberofcast.count_cast.sum()\n",
    "    col1, col2 = st.columns(2) # creating variables for cards\n",
    "    col1.metric(\"🎬 Total Number of Movies\", numberofmovies) # creating card meteric for total number of movies\n",
    "    col2.metric(\"Total Number of Actors🎭\", f\"{actorscount}\")\n",
    "\n",
    "\n",
    "    # User inputs with keys to avoid conflicts\n",
    "    actor_name = st.text_input(\"Add your favourite actor name: \", key=\"actor_input\")\n",
    "    movie_name = st.text_input(\"Add your movie name: \", key=\"movie_input\")\n",
    "\n",
    "    # Apply filters\n",
    "    moviefilter = base_moviefilter.copy()\n",
    "    if actor_name:\n",
    "        moviefilter = moviefilter[moviefilter['cast'].str.contains(actor_name, flags=re.IGNORECASE, na=False)]\n",
    "    if movie_name:\n",
    "        moviefilter = moviefilter[moviefilter['title'].str.contains(movie_name, flags=re.IGNORECASE, na=False)]\n",
    "# Here we do conditinal if based on several conditions to result in changing charts in both conditions not just one\n",
    "    # Display filtered results\n",
    "    if actor_name and moviefilter.empty:\n",
    "        st.info(f\"No results for actor: {actor_name}\")\n",
    "    elif actor_name:\n",
    "        st.subheader(f\"Titles with {actor_name}\")\n",
    "        st.dataframe(moviefilter.drop_duplicates(subset=['description']))\n",
    "\n",
    "    if movie_name and moviefilter.empty:\n",
    "        st.info(f\"No results for movie: {movie_name}\")\n",
    "    elif movie_name:\n",
    "        st.subheader(f\"Search result for '{movie_name}'\")\n",
    "        st.dataframe(moviefilter.drop_duplicates(subset=['description']))\n",
    "\n",
    "    # Chart 1: Top 10 Genres\n",
    "    genre_count = moviefilter['category'].value_counts().reset_index().head(10)\n",
    "    figm = px.bar(genre_count, x='category', y='count', title='<b>Top 10 Movie Genres</b>',\n",
    "                  color_discrete_sequence=['red']).update_layout(title={'x': 0.5})\n",
    "    st.plotly_chart(figm)\n",
    "\n",
    "    # Chart 2: Movie duration distribution\n",
    "    moviefilter['movies_minutes'] = moviefilter['movies_minutes'].astype('int64')\n",
    "    figmin = px.histogram(moviefilter, x='movies_minutes', nbins=30,\n",
    "                          title='Movie Duration Distribution (minutes)',\n",
    "                          color_discrete_sequence=['red'])\n",
    "    st.plotly_chart(figmin)\n",
    "\n",
    "    # Chart 3: Top 10 Directors\n",
    "    top_directors = moviefilter[moviefilter['director'] != 'Not identified']\n",
    "    top_directors = top_directors['director'].value_counts().reset_index().head(10)\n",
    "    figd = px.bar(top_directors, x='director', y='count', title='<b>Top 10 Movie Directors</b>',\n",
    "                  color_discrete_sequence=['red']).update_layout(title={'x': 0.2})\n",
    "    st.plotly_chart(figd)\n",
    "\n",
    "# creating Series page\n",
    "\n",
    "if page ==\"Series\":\n",
    "    base_show=df_filtered[df_filtered.type==\"TV Show\"].drop_duplicates(subset=['cast'])\n",
    "    numberofshows=base_show.show_id.nunique()\n",
    "    totalnumberofcast=base_show.groupby('cast')['count_cast'].sum().reset_index()\n",
    "    actorscount=totalnumberofcast.count_cast.sum()\n",
    "    col1,col2=st.columns(2)\n",
    "    col1.metric(\" 📺  total number of shows\",numberofshows)\n",
    "    col2.metric(\"Total Number of Actors🎭\", f\"{actorscount}\")\n",
    "\n",
    "    df_filtered['count_cast']=df['cast'].apply(count_cast)\n",
    "    actor_name = st.text_input(\"Add your favourite actor name: \",key=\"actor_input\")\n",
    "    show_name = st.text_input(\"Add your series name: \",key=\"series_inputt\")\n",
    "    showfilter=base_show.copy()\n",
    "    if actor_name:\n",
    "        showfilter = showfilter[showfilter['cast'].str.contains(actor_name, flags=re.IGNORECASE, na=False)]\n",
    "    if show_name:\n",
    "        showfilter=showfilter[showfilter['title'].str.contains(show_name, flags=re.IGNORECASE, na=False)]\n",
    "\n",
    "    if actor_name and showfilter.empty:\n",
    "        st.info(f\"No results for actor: {actor_name}\")\n",
    "\n",
    "    elif actor_name:\n",
    "        st.subheader(f\"Titles with {actor_name}\")\n",
    "        st.dataframe(showfilter.drop_duplicates(subset=['description']))\n",
    "\n",
    "    if show_name and showfilter.empty:\n",
    "        st.info(f\"No results for show: {show_name}\")\n",
    "\n",
    "    elif show_name:\n",
    "        st.subheader(f\"Search result for '{show_name}'\")\n",
    "        st.dataframe(showfilter.drop_duplicates(subset=['description']))\n",
    "\n",
    "    # number of seasons distrubution\n",
    "\n",
    "    showfilter.number_ofseasons=showfilter.number_ofseasons.astype('int64')\n",
    "    figsh = px.histogram(showfilter, x='number_ofseasons', nbins=10, title='<b>Number of Seasons Distribution</b>', color_discrete_sequence=['red']).update_layout(title={'x':0.2})\n",
    "    st.plotly_chart(figsh)\n",
    "    # top 10 series genres\n",
    "    genre_count = showfilter['category'].value_counts().reset_index().head(10)\n",
    "    figs= px.bar(genre_count, x='category', y='count', title='<b>Top 10 series Genres</b>', color_discrete_sequence=['red']).update_layout(title={'x':0.5})\n",
    "    st.plotly_chart(figs)\n",
    "\n",
    "    # 10 series directors \n",
    "    top_directors = showfilter[showfilter['director']!='Not identified']\n",
    "    top_directors=top_directors.director.value_counts().reset_index().head(10).sort_values(by='count',ascending=False)\n",
    "    figsd = px.bar(top_directors, x='director', y='count', title='<b>Top 10 Series Directors</b>', color_discrete_sequence=['red']).update_layout(title={'x':0.5})\n",
    "    st.plotly_chart(figsd)\n",
    "\n",
    "   \n",
    "\n",
    "\n"
   ]
  },
  {
   "cell_type": "code",
   "execution_count": 181,
   "id": "10f38b7c",
   "metadata": {},
   "outputs": [
    {
     "name": "stdout",
     "output_type": "stream",
     "text": [
      "^C\n"
     ]
    }
   ],
   "source": [
    "! streamlit run app.py"
   ]
  },
  {
   "cell_type": "code",
   "execution_count": null,
   "id": "6a119119",
   "metadata": {},
   "outputs": [],
   "source": []
  }
 ],
 "metadata": {
  "kernelspec": {
   "display_name": "machinelearnin",
   "language": "python",
   "name": "python3"
  },
  "language_info": {
   "codemirror_mode": {
    "name": "ipython",
    "version": 3
   },
   "file_extension": ".py",
   "mimetype": "text/x-python",
   "name": "python",
   "nbconvert_exporter": "python",
   "pygments_lexer": "ipython3",
   "version": "3.12.9"
  }
 },
 "nbformat": 4,
 "nbformat_minor": 5
}
