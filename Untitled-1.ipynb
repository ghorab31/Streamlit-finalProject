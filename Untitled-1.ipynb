{
 "cells": [
  {
   "cell_type": "markdown",
   "id": "632bfe4c",
   "metadata": {},
   "source": [
    "# Data Loading and libary"
   ]
  },
  {
   "cell_type": "code",
   "execution_count": 1,
   "id": "81b8ccb5",
   "metadata": {},
   "outputs": [],
   "source": [
    "import pandas as pd "
   ]
  },
  {
   "cell_type": "code",
   "execution_count": 4,
   "id": "d99bd69f",
   "metadata": {},
   "outputs": [],
   "source": [
    "data=pd.read_csv('garments_worker_productivity.csv')\n",
    "df=pd.DataFrame(data)"
   ]
  },
  {
   "cell_type": "markdown",
   "id": "1fddd6ee",
   "metadata": {},
   "source": [
    "##1 date : Date in MM-DD-YYYY\n",
    "02 day : Day of the Week\n",
    "03 quarter : A portion of the month. A month was divided into four quarters\n",
    "04 department : Associated department with the instance\n",
    "05 team_no : Associated team number with the instance\n",
    "06 no_of_workers : Number of workers in each team\n",
    "07 no_of_style_change : Number of changes in the style of a particular product\n",
    "08 targeted_productivity : Targeted productivity set by the Authority for each team for each day.\n",
    "09 smv : Standard Minute Value, it is the allocated time for a task\n",
    "10 wip : Work in progress. Includes the number of unfinished items for products\n",
    "11 over_time : Represents the amount of overtime by each team in minutes\n",
    "12 incentive : Represents the amount of financial incentive (in BDT) that enables or motivates a particular course of action.\n",
    "13 idle_time : The amount of time when the production was interrupted due to several reasons\n",
    "14 idle_men : The number of workers who were idle due to production interruption\n",
    "15 actual_productivity : The actual % of productivity that was delivered by the workers. It ranges from 0-1."
   ]
  },
  {
   "cell_type": "markdown",
   "id": "d73ff55f",
   "metadata": {},
   "source": [
    "## describing data and data aexploration\""
   ]
  },
  {
   "cell_type": "code",
   "execution_count": 5,
   "id": "40e39df3",
   "metadata": {},
   "outputs": [
    {
     "data": {
      "application/vnd.microsoft.datawrangler.viewer.v0+json": {
       "columns": [
        {
         "name": "index",
         "rawType": "int64",
         "type": "integer"
        },
        {
         "name": "date",
         "rawType": "object",
         "type": "string"
        },
        {
         "name": "quarter",
         "rawType": "object",
         "type": "string"
        },
        {
         "name": "department",
         "rawType": "object",
         "type": "string"
        },
        {
         "name": "day",
         "rawType": "object",
         "type": "string"
        },
        {
         "name": "team",
         "rawType": "int64",
         "type": "integer"
        },
        {
         "name": "targeted_productivity",
         "rawType": "float64",
         "type": "float"
        },
        {
         "name": "smv",
         "rawType": "float64",
         "type": "float"
        },
        {
         "name": "wip",
         "rawType": "float64",
         "type": "float"
        },
        {
         "name": "over_time",
         "rawType": "int64",
         "type": "integer"
        },
        {
         "name": "incentive",
         "rawType": "int64",
         "type": "integer"
        },
        {
         "name": "idle_time",
         "rawType": "float64",
         "type": "float"
        },
        {
         "name": "idle_men",
         "rawType": "int64",
         "type": "integer"
        },
        {
         "name": "no_of_style_change",
         "rawType": "int64",
         "type": "integer"
        },
        {
         "name": "no_of_workers",
         "rawType": "float64",
         "type": "float"
        },
        {
         "name": "actual_productivity",
         "rawType": "float64",
         "type": "float"
        }
       ],
       "ref": "12cf057b-6485-49e8-83df-98f76e95ba01",
       "rows": [
        [
         "0",
         "1/1/2015",
         "Quarter1",
         "sweing",
         "Thursday",
         "8",
         "0.8",
         "26.16",
         "1108.0",
         "7080",
         "98",
         "0.0",
         "0",
         "0",
         "59.0",
         "0.940725424"
        ],
        [
         "1",
         "1/1/2015",
         "Quarter1",
         "finishing ",
         "Thursday",
         "1",
         "0.75",
         "3.94",
         null,
         "960",
         "0",
         "0.0",
         "0",
         "0",
         "8.0",
         "0.8865"
        ],
        [
         "2",
         "1/1/2015",
         "Quarter1",
         "sweing",
         "Thursday",
         "11",
         "0.8",
         "11.41",
         "968.0",
         "3660",
         "50",
         "0.0",
         "0",
         "0",
         "30.5",
         "0.800570492"
        ],
        [
         "3",
         "1/1/2015",
         "Quarter1",
         "sweing",
         "Thursday",
         "12",
         "0.8",
         "11.41",
         "968.0",
         "3660",
         "50",
         "0.0",
         "0",
         "0",
         "30.5",
         "0.800570492"
        ],
        [
         "4",
         "1/1/2015",
         "Quarter1",
         "sweing",
         "Thursday",
         "6",
         "0.8",
         "25.9",
         "1170.0",
         "1920",
         "50",
         "0.0",
         "0",
         "0",
         "56.0",
         "0.800381944"
        ]
       ],
       "shape": {
        "columns": 15,
        "rows": 5
       }
      },
      "text/html": [
       "<div>\n",
       "<style scoped>\n",
       "    .dataframe tbody tr th:only-of-type {\n",
       "        vertical-align: middle;\n",
       "    }\n",
       "\n",
       "    .dataframe tbody tr th {\n",
       "        vertical-align: top;\n",
       "    }\n",
       "\n",
       "    .dataframe thead th {\n",
       "        text-align: right;\n",
       "    }\n",
       "</style>\n",
       "<table border=\"1\" class=\"dataframe\">\n",
       "  <thead>\n",
       "    <tr style=\"text-align: right;\">\n",
       "      <th></th>\n",
       "      <th>date</th>\n",
       "      <th>quarter</th>\n",
       "      <th>department</th>\n",
       "      <th>day</th>\n",
       "      <th>team</th>\n",
       "      <th>targeted_productivity</th>\n",
       "      <th>smv</th>\n",
       "      <th>wip</th>\n",
       "      <th>over_time</th>\n",
       "      <th>incentive</th>\n",
       "      <th>idle_time</th>\n",
       "      <th>idle_men</th>\n",
       "      <th>no_of_style_change</th>\n",
       "      <th>no_of_workers</th>\n",
       "      <th>actual_productivity</th>\n",
       "    </tr>\n",
       "  </thead>\n",
       "  <tbody>\n",
       "    <tr>\n",
       "      <th>0</th>\n",
       "      <td>1/1/2015</td>\n",
       "      <td>Quarter1</td>\n",
       "      <td>sweing</td>\n",
       "      <td>Thursday</td>\n",
       "      <td>8</td>\n",
       "      <td>0.80</td>\n",
       "      <td>26.16</td>\n",
       "      <td>1108.0</td>\n",
       "      <td>7080</td>\n",
       "      <td>98</td>\n",
       "      <td>0.0</td>\n",
       "      <td>0</td>\n",
       "      <td>0</td>\n",
       "      <td>59.0</td>\n",
       "      <td>0.940725</td>\n",
       "    </tr>\n",
       "    <tr>\n",
       "      <th>1</th>\n",
       "      <td>1/1/2015</td>\n",
       "      <td>Quarter1</td>\n",
       "      <td>finishing</td>\n",
       "      <td>Thursday</td>\n",
       "      <td>1</td>\n",
       "      <td>0.75</td>\n",
       "      <td>3.94</td>\n",
       "      <td>NaN</td>\n",
       "      <td>960</td>\n",
       "      <td>0</td>\n",
       "      <td>0.0</td>\n",
       "      <td>0</td>\n",
       "      <td>0</td>\n",
       "      <td>8.0</td>\n",
       "      <td>0.886500</td>\n",
       "    </tr>\n",
       "    <tr>\n",
       "      <th>2</th>\n",
       "      <td>1/1/2015</td>\n",
       "      <td>Quarter1</td>\n",
       "      <td>sweing</td>\n",
       "      <td>Thursday</td>\n",
       "      <td>11</td>\n",
       "      <td>0.80</td>\n",
       "      <td>11.41</td>\n",
       "      <td>968.0</td>\n",
       "      <td>3660</td>\n",
       "      <td>50</td>\n",
       "      <td>0.0</td>\n",
       "      <td>0</td>\n",
       "      <td>0</td>\n",
       "      <td>30.5</td>\n",
       "      <td>0.800570</td>\n",
       "    </tr>\n",
       "    <tr>\n",
       "      <th>3</th>\n",
       "      <td>1/1/2015</td>\n",
       "      <td>Quarter1</td>\n",
       "      <td>sweing</td>\n",
       "      <td>Thursday</td>\n",
       "      <td>12</td>\n",
       "      <td>0.80</td>\n",
       "      <td>11.41</td>\n",
       "      <td>968.0</td>\n",
       "      <td>3660</td>\n",
       "      <td>50</td>\n",
       "      <td>0.0</td>\n",
       "      <td>0</td>\n",
       "      <td>0</td>\n",
       "      <td>30.5</td>\n",
       "      <td>0.800570</td>\n",
       "    </tr>\n",
       "    <tr>\n",
       "      <th>4</th>\n",
       "      <td>1/1/2015</td>\n",
       "      <td>Quarter1</td>\n",
       "      <td>sweing</td>\n",
       "      <td>Thursday</td>\n",
       "      <td>6</td>\n",
       "      <td>0.80</td>\n",
       "      <td>25.90</td>\n",
       "      <td>1170.0</td>\n",
       "      <td>1920</td>\n",
       "      <td>50</td>\n",
       "      <td>0.0</td>\n",
       "      <td>0</td>\n",
       "      <td>0</td>\n",
       "      <td>56.0</td>\n",
       "      <td>0.800382</td>\n",
       "    </tr>\n",
       "  </tbody>\n",
       "</table>\n",
       "</div>"
      ],
      "text/plain": [
       "       date   quarter  department       day  team  targeted_productivity  \\\n",
       "0  1/1/2015  Quarter1      sweing  Thursday     8                   0.80   \n",
       "1  1/1/2015  Quarter1  finishing   Thursday     1                   0.75   \n",
       "2  1/1/2015  Quarter1      sweing  Thursday    11                   0.80   \n",
       "3  1/1/2015  Quarter1      sweing  Thursday    12                   0.80   \n",
       "4  1/1/2015  Quarter1      sweing  Thursday     6                   0.80   \n",
       "\n",
       "     smv     wip  over_time  incentive  idle_time  idle_men  \\\n",
       "0  26.16  1108.0       7080         98        0.0         0   \n",
       "1   3.94     NaN        960          0        0.0         0   \n",
       "2  11.41   968.0       3660         50        0.0         0   \n",
       "3  11.41   968.0       3660         50        0.0         0   \n",
       "4  25.90  1170.0       1920         50        0.0         0   \n",
       "\n",
       "   no_of_style_change  no_of_workers  actual_productivity  \n",
       "0                   0           59.0             0.940725  \n",
       "1                   0            8.0             0.886500  \n",
       "2                   0           30.5             0.800570  \n",
       "3                   0           30.5             0.800570  \n",
       "4                   0           56.0             0.800382  "
      ]
     },
     "execution_count": 5,
     "metadata": {},
     "output_type": "execute_result"
    }
   ],
   "source": [
    "df.head()"
   ]
  },
  {
   "cell_type": "code",
   "execution_count": 6,
   "id": "3a70e8a1",
   "metadata": {},
   "outputs": [
    {
     "name": "stdout",
     "output_type": "stream",
     "text": [
      "<class 'pandas.core.frame.DataFrame'>\n",
      "RangeIndex: 1197 entries, 0 to 1196\n",
      "Data columns (total 15 columns):\n",
      " #   Column                 Non-Null Count  Dtype  \n",
      "---  ------                 --------------  -----  \n",
      " 0   date                   1197 non-null   object \n",
      " 1   quarter                1197 non-null   object \n",
      " 2   department             1197 non-null   object \n",
      " 3   day                    1197 non-null   object \n",
      " 4   team                   1197 non-null   int64  \n",
      " 5   targeted_productivity  1197 non-null   float64\n",
      " 6   smv                    1197 non-null   float64\n",
      " 7   wip                    691 non-null    float64\n",
      " 8   over_time              1197 non-null   int64  \n",
      " 9   incentive              1197 non-null   int64  \n",
      " 10  idle_time              1197 non-null   float64\n",
      " 11  idle_men               1197 non-null   int64  \n",
      " 12  no_of_style_change     1197 non-null   int64  \n",
      " 13  no_of_workers          1197 non-null   float64\n",
      " 14  actual_productivity    1197 non-null   float64\n",
      "dtypes: float64(6), int64(5), object(4)\n",
      "memory usage: 140.4+ KB\n"
     ]
    }
   ],
   "source": [
    "df.info()"
   ]
  },
  {
   "cell_type": "code",
   "execution_count": 12,
   "id": "ae403635",
   "metadata": {},
   "outputs": [
    {
     "data": {
      "application/vnd.microsoft.datawrangler.viewer.v0+json": {
       "columns": [
        {
         "name": "index",
         "rawType": "object",
         "type": "string"
        },
        {
         "name": "team",
         "rawType": "float64",
         "type": "float"
        },
        {
         "name": "targeted_productivity",
         "rawType": "float64",
         "type": "float"
        },
        {
         "name": "smv",
         "rawType": "float64",
         "type": "float"
        },
        {
         "name": "wip",
         "rawType": "float64",
         "type": "float"
        },
        {
         "name": "over_time",
         "rawType": "float64",
         "type": "float"
        },
        {
         "name": "incentive",
         "rawType": "float64",
         "type": "float"
        },
        {
         "name": "idle_time",
         "rawType": "float64",
         "type": "float"
        },
        {
         "name": "idle_men",
         "rawType": "float64",
         "type": "float"
        },
        {
         "name": "no_of_style_change",
         "rawType": "float64",
         "type": "float"
        },
        {
         "name": "no_of_workers",
         "rawType": "float64",
         "type": "float"
        },
        {
         "name": "actual_productivity",
         "rawType": "float64",
         "type": "float"
        }
       ],
       "ref": "c91b15a6-7d9e-4080-ba4b-c130c911de4f",
       "rows": [
        [
         "count",
         "1197.0",
         "1197.0",
         "1197.0",
         "691.0",
         "1197.0",
         "1197.0",
         "1197.0",
         "1197.0",
         "1197.0",
         "1197.0",
         "1197.0"
        ],
        [
         "mean",
         "6.43",
         "0.73",
         "15.06",
         "1190.47",
         "4567.46",
         "38.21",
         "0.73",
         "0.37",
         "0.15",
         "34.61",
         "0.74"
        ],
        [
         "std",
         "3.46",
         "0.1",
         "10.94",
         "1837.46",
         "3348.82",
         "160.18",
         "12.71",
         "3.27",
         "0.43",
         "22.2",
         "0.17"
        ],
        [
         "min",
         "1.0",
         "0.07",
         "2.9",
         "7.0",
         "0.0",
         "0.0",
         "0.0",
         "0.0",
         "0.0",
         "2.0",
         "0.23"
        ],
        [
         "25%",
         "3.0",
         "0.7",
         "3.94",
         "774.5",
         "1440.0",
         "0.0",
         "0.0",
         "0.0",
         "0.0",
         "9.0",
         "0.65"
        ],
        [
         "50%",
         "6.0",
         "0.75",
         "15.26",
         "1039.0",
         "3960.0",
         "0.0",
         "0.0",
         "0.0",
         "0.0",
         "34.0",
         "0.77"
        ],
        [
         "75%",
         "9.0",
         "0.8",
         "24.26",
         "1252.5",
         "6960.0",
         "50.0",
         "0.0",
         "0.0",
         "0.0",
         "57.0",
         "0.85"
        ],
        [
         "max",
         "12.0",
         "0.8",
         "54.56",
         "23122.0",
         "25920.0",
         "3600.0",
         "300.0",
         "45.0",
         "2.0",
         "89.0",
         "1.12"
        ]
       ],
       "shape": {
        "columns": 11,
        "rows": 8
       }
      },
      "text/html": [
       "<div>\n",
       "<style scoped>\n",
       "    .dataframe tbody tr th:only-of-type {\n",
       "        vertical-align: middle;\n",
       "    }\n",
       "\n",
       "    .dataframe tbody tr th {\n",
       "        vertical-align: top;\n",
       "    }\n",
       "\n",
       "    .dataframe thead th {\n",
       "        text-align: right;\n",
       "    }\n",
       "</style>\n",
       "<table border=\"1\" class=\"dataframe\">\n",
       "  <thead>\n",
       "    <tr style=\"text-align: right;\">\n",
       "      <th></th>\n",
       "      <th>team</th>\n",
       "      <th>targeted_productivity</th>\n",
       "      <th>smv</th>\n",
       "      <th>wip</th>\n",
       "      <th>over_time</th>\n",
       "      <th>incentive</th>\n",
       "      <th>idle_time</th>\n",
       "      <th>idle_men</th>\n",
       "      <th>no_of_style_change</th>\n",
       "      <th>no_of_workers</th>\n",
       "      <th>actual_productivity</th>\n",
       "    </tr>\n",
       "  </thead>\n",
       "  <tbody>\n",
       "    <tr>\n",
       "      <th>count</th>\n",
       "      <td>1197.00</td>\n",
       "      <td>1197.00</td>\n",
       "      <td>1197.00</td>\n",
       "      <td>691.00</td>\n",
       "      <td>1197.00</td>\n",
       "      <td>1197.00</td>\n",
       "      <td>1197.00</td>\n",
       "      <td>1197.00</td>\n",
       "      <td>1197.00</td>\n",
       "      <td>1197.00</td>\n",
       "      <td>1197.00</td>\n",
       "    </tr>\n",
       "    <tr>\n",
       "      <th>mean</th>\n",
       "      <td>6.43</td>\n",
       "      <td>0.73</td>\n",
       "      <td>15.06</td>\n",
       "      <td>1190.47</td>\n",
       "      <td>4567.46</td>\n",
       "      <td>38.21</td>\n",
       "      <td>0.73</td>\n",
       "      <td>0.37</td>\n",
       "      <td>0.15</td>\n",
       "      <td>34.61</td>\n",
       "      <td>0.74</td>\n",
       "    </tr>\n",
       "    <tr>\n",
       "      <th>std</th>\n",
       "      <td>3.46</td>\n",
       "      <td>0.10</td>\n",
       "      <td>10.94</td>\n",
       "      <td>1837.46</td>\n",
       "      <td>3348.82</td>\n",
       "      <td>160.18</td>\n",
       "      <td>12.71</td>\n",
       "      <td>3.27</td>\n",
       "      <td>0.43</td>\n",
       "      <td>22.20</td>\n",
       "      <td>0.17</td>\n",
       "    </tr>\n",
       "    <tr>\n",
       "      <th>min</th>\n",
       "      <td>1.00</td>\n",
       "      <td>0.07</td>\n",
       "      <td>2.90</td>\n",
       "      <td>7.00</td>\n",
       "      <td>0.00</td>\n",
       "      <td>0.00</td>\n",
       "      <td>0.00</td>\n",
       "      <td>0.00</td>\n",
       "      <td>0.00</td>\n",
       "      <td>2.00</td>\n",
       "      <td>0.23</td>\n",
       "    </tr>\n",
       "    <tr>\n",
       "      <th>25%</th>\n",
       "      <td>3.00</td>\n",
       "      <td>0.70</td>\n",
       "      <td>3.94</td>\n",
       "      <td>774.50</td>\n",
       "      <td>1440.00</td>\n",
       "      <td>0.00</td>\n",
       "      <td>0.00</td>\n",
       "      <td>0.00</td>\n",
       "      <td>0.00</td>\n",
       "      <td>9.00</td>\n",
       "      <td>0.65</td>\n",
       "    </tr>\n",
       "    <tr>\n",
       "      <th>50%</th>\n",
       "      <td>6.00</td>\n",
       "      <td>0.75</td>\n",
       "      <td>15.26</td>\n",
       "      <td>1039.00</td>\n",
       "      <td>3960.00</td>\n",
       "      <td>0.00</td>\n",
       "      <td>0.00</td>\n",
       "      <td>0.00</td>\n",
       "      <td>0.00</td>\n",
       "      <td>34.00</td>\n",
       "      <td>0.77</td>\n",
       "    </tr>\n",
       "    <tr>\n",
       "      <th>75%</th>\n",
       "      <td>9.00</td>\n",
       "      <td>0.80</td>\n",
       "      <td>24.26</td>\n",
       "      <td>1252.50</td>\n",
       "      <td>6960.00</td>\n",
       "      <td>50.00</td>\n",
       "      <td>0.00</td>\n",
       "      <td>0.00</td>\n",
       "      <td>0.00</td>\n",
       "      <td>57.00</td>\n",
       "      <td>0.85</td>\n",
       "    </tr>\n",
       "    <tr>\n",
       "      <th>max</th>\n",
       "      <td>12.00</td>\n",
       "      <td>0.80</td>\n",
       "      <td>54.56</td>\n",
       "      <td>23122.00</td>\n",
       "      <td>25920.00</td>\n",
       "      <td>3600.00</td>\n",
       "      <td>300.00</td>\n",
       "      <td>45.00</td>\n",
       "      <td>2.00</td>\n",
       "      <td>89.00</td>\n",
       "      <td>1.12</td>\n",
       "    </tr>\n",
       "  </tbody>\n",
       "</table>\n",
       "</div>"
      ],
      "text/plain": [
       "          team  targeted_productivity      smv       wip  over_time  \\\n",
       "count  1197.00                1197.00  1197.00    691.00    1197.00   \n",
       "mean      6.43                   0.73    15.06   1190.47    4567.46   \n",
       "std       3.46                   0.10    10.94   1837.46    3348.82   \n",
       "min       1.00                   0.07     2.90      7.00       0.00   \n",
       "25%       3.00                   0.70     3.94    774.50    1440.00   \n",
       "50%       6.00                   0.75    15.26   1039.00    3960.00   \n",
       "75%       9.00                   0.80    24.26   1252.50    6960.00   \n",
       "max      12.00                   0.80    54.56  23122.00   25920.00   \n",
       "\n",
       "       incentive  idle_time  idle_men  no_of_style_change  no_of_workers  \\\n",
       "count    1197.00    1197.00   1197.00             1197.00        1197.00   \n",
       "mean       38.21       0.73      0.37                0.15          34.61   \n",
       "std       160.18      12.71      3.27                0.43          22.20   \n",
       "min         0.00       0.00      0.00                0.00           2.00   \n",
       "25%         0.00       0.00      0.00                0.00           9.00   \n",
       "50%         0.00       0.00      0.00                0.00          34.00   \n",
       "75%        50.00       0.00      0.00                0.00          57.00   \n",
       "max      3600.00     300.00     45.00                2.00          89.00   \n",
       "\n",
       "       actual_productivity  \n",
       "count              1197.00  \n",
       "mean                  0.74  \n",
       "std                   0.17  \n",
       "min                   0.23  \n",
       "25%                   0.65  \n",
       "50%                   0.77  \n",
       "75%                   0.85  \n",
       "max                   1.12  "
      ]
     },
     "execution_count": 12,
     "metadata": {},
     "output_type": "execute_result"
    }
   ],
   "source": [
    "    df.describe().round(2)"
   ]
  },
  {
   "cell_type": "code",
   "execution_count": 10,
   "id": "ae6156d9",
   "metadata": {},
   "outputs": [
    {
     "data": {
      "application/vnd.microsoft.datawrangler.viewer.v0+json": {
       "columns": [
        {
         "name": "index",
         "rawType": "object",
         "type": "string"
        },
        {
         "name": "date",
         "rawType": "object",
         "type": "unknown"
        },
        {
         "name": "quarter",
         "rawType": "object",
         "type": "unknown"
        },
        {
         "name": "department",
         "rawType": "object",
         "type": "unknown"
        },
        {
         "name": "day",
         "rawType": "object",
         "type": "unknown"
        }
       ],
       "ref": "60196f16-35e8-49ff-9c2f-1bb54b9051bf",
       "rows": [
        [
         "count",
         "1197",
         "1197",
         "1197",
         "1197"
        ],
        [
         "unique",
         "59",
         "5",
         "3",
         "6"
        ],
        [
         "top",
         "1/31/2015",
         "Quarter1",
         "sweing",
         "Wednesday"
        ],
        [
         "freq",
         "24",
         "360",
         "691",
         "208"
        ]
       ],
       "shape": {
        "columns": 4,
        "rows": 4
       }
      },
      "text/html": [
       "<div>\n",
       "<style scoped>\n",
       "    .dataframe tbody tr th:only-of-type {\n",
       "        vertical-align: middle;\n",
       "    }\n",
       "\n",
       "    .dataframe tbody tr th {\n",
       "        vertical-align: top;\n",
       "    }\n",
       "\n",
       "    .dataframe thead th {\n",
       "        text-align: right;\n",
       "    }\n",
       "</style>\n",
       "<table border=\"1\" class=\"dataframe\">\n",
       "  <thead>\n",
       "    <tr style=\"text-align: right;\">\n",
       "      <th></th>\n",
       "      <th>date</th>\n",
       "      <th>quarter</th>\n",
       "      <th>department</th>\n",
       "      <th>day</th>\n",
       "    </tr>\n",
       "  </thead>\n",
       "  <tbody>\n",
       "    <tr>\n",
       "      <th>count</th>\n",
       "      <td>1197</td>\n",
       "      <td>1197</td>\n",
       "      <td>1197</td>\n",
       "      <td>1197</td>\n",
       "    </tr>\n",
       "    <tr>\n",
       "      <th>unique</th>\n",
       "      <td>59</td>\n",
       "      <td>5</td>\n",
       "      <td>3</td>\n",
       "      <td>6</td>\n",
       "    </tr>\n",
       "    <tr>\n",
       "      <th>top</th>\n",
       "      <td>1/31/2015</td>\n",
       "      <td>Quarter1</td>\n",
       "      <td>sweing</td>\n",
       "      <td>Wednesday</td>\n",
       "    </tr>\n",
       "    <tr>\n",
       "      <th>freq</th>\n",
       "      <td>24</td>\n",
       "      <td>360</td>\n",
       "      <td>691</td>\n",
       "      <td>208</td>\n",
       "    </tr>\n",
       "  </tbody>\n",
       "</table>\n",
       "</div>"
      ],
      "text/plain": [
       "             date   quarter department        day\n",
       "count        1197      1197       1197       1197\n",
       "unique         59         5          3          6\n",
       "top     1/31/2015  Quarter1     sweing  Wednesday\n",
       "freq           24       360        691        208"
      ]
     },
     "execution_count": 10,
     "metadata": {},
     "output_type": "execute_result"
    }
   ],
   "source": [
    "df.describe(include=object)"
   ]
  },
  {
   "cell_type": "code",
   "execution_count": 13,
   "id": "33fc1abb",
   "metadata": {},
   "outputs": [
    {
     "data": {
      "text/plain": [
       "np.int64(0)"
      ]
     },
     "execution_count": 13,
     "metadata": {},
     "output_type": "execute_result"
    }
   ],
   "source": [
    "df.duplicated().sum()"
   ]
  },
  {
   "cell_type": "code",
   "execution_count": 16,
   "id": "4a2e2eff",
   "metadata": {},
   "outputs": [
    {
     "data": {
      "application/vnd.microsoft.datawrangler.viewer.v0+json": {
       "columns": [
        {
         "name": "index",
         "rawType": "object",
         "type": "string"
        },
        {
         "name": "0",
         "rawType": "float64",
         "type": "float"
        }
       ],
       "ref": "1230cc55-ce97-4a0c-8cee-ac2699a4e6ff",
       "rows": [
        [
         "date",
         "0.0"
        ],
        [
         "quarter",
         "0.0"
        ],
        [
         "department",
         "0.0"
        ],
        [
         "day",
         "0.0"
        ],
        [
         "team",
         "0.0"
        ],
        [
         "targeted_productivity",
         "0.0"
        ],
        [
         "smv",
         "0.0"
        ],
        [
         "wip",
         "42.27"
        ],
        [
         "over_time",
         "0.0"
        ],
        [
         "incentive",
         "0.0"
        ],
        [
         "idle_time",
         "0.0"
        ],
        [
         "idle_men",
         "0.0"
        ],
        [
         "no_of_style_change",
         "0.0"
        ],
        [
         "no_of_workers",
         "0.0"
        ],
        [
         "actual_productivity",
         "0.0"
        ]
       ],
       "shape": {
        "columns": 1,
        "rows": 15
       }
      },
      "text/plain": [
       "date                      0.00\n",
       "quarter                   0.00\n",
       "department                0.00\n",
       "day                       0.00\n",
       "team                      0.00\n",
       "targeted_productivity     0.00\n",
       "smv                       0.00\n",
       "wip                      42.27\n",
       "over_time                 0.00\n",
       "incentive                 0.00\n",
       "idle_time                 0.00\n",
       "idle_men                  0.00\n",
       "no_of_style_change        0.00\n",
       "no_of_workers             0.00\n",
       "actual_productivity       0.00\n",
       "dtype: float64"
      ]
     },
     "execution_count": 16,
     "metadata": {},
     "output_type": "execute_result"
    }
   ],
   "source": [
    "df.isna().mean().round(4)*100"
   ]
  },
  {
   "cell_type": "code",
   "execution_count": null,
   "id": "920bfc60",
   "metadata": {},
   "outputs": [],
   "source": []
  }
 ],
 "metadata": {
  "kernelspec": {
   "display_name": "machinelearnin",
   "language": "python",
   "name": "python3"
  },
  "language_info": {
   "codemirror_mode": {
    "name": "ipython",
    "version": 3
   },
   "file_extension": ".py",
   "mimetype": "text/x-python",
   "name": "python",
   "nbconvert_exporter": "python",
   "pygments_lexer": "ipython3",
   "version": "3.12.9"
  }
 },
 "nbformat": 4,
 "nbformat_minor": 5
}
